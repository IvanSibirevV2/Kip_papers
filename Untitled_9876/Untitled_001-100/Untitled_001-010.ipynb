{
 "cells": [
  {
   "cell_type": "code",
   "execution_count": 2,
   "id": "35982aa0",
   "metadata": {},
   "outputs": [
    {
     "name": "stdout",
     "output_type": "stream",
     "text": [
      "\\Untitled_001-010.ipynb : 0.0056247711181640625  мегобайт  2024-09-27 17:18:14.520355\n"
     ]
    }
   ],
   "source": [
    "import os;import math;import sys;import datetime;\n",
    "var='\\\\Untitled_001-010.ipynb'\n",
    "print (var,':',os.path.getsize(os.path.abspath(os.curdir)+var)/math.pow(2, 20),' мегобайт ',datetime.datetime.now())"
   ]
  },
  {
   "cell_type": "markdown",
   "id": "5c3cfe3c",
   "metadata": {},
   "source": []
  },
  {
   "cell_type": "markdown",
   "id": "99467ca3",
   "metadata": {},
   "source": []
  },
  {
   "cell_type": "markdown",
   "id": "d86e93d2",
   "metadata": {},
   "source": []
  },
  {
   "cell_type": "markdown",
   "id": "05de6f92",
   "metadata": {},
   "source": []
  },
  {
   "cell_type": "markdown",
   "id": "aab5b162",
   "metadata": {},
   "source": []
  },
  {
   "cell_type": "markdown",
   "id": "88b72da2",
   "metadata": {},
   "source": []
  },
  {
   "cell_type": "markdown",
   "id": "948ea894",
   "metadata": {},
   "source": []
  },
  {
   "cell_type": "markdown",
   "id": "9d7abea9",
   "metadata": {},
   "source": []
  },
  {
   "cell_type": "markdown",
   "id": "b193e39d",
   "metadata": {},
   "source": []
  },
  {
   "cell_type": "markdown",
   "id": "2cdd9439",
   "metadata": {},
   "source": []
  },
  {
   "cell_type": "markdown",
   "id": "98bdfc3d",
   "metadata": {},
   "source": []
  },
  {
   "cell_type": "markdown",
   "id": "3f9ce903",
   "metadata": {},
   "source": []
  },
  {
   "cell_type": "markdown",
   "id": "99dcb836",
   "metadata": {},
   "source": []
  },
  {
   "cell_type": "markdown",
   "id": "8e207668",
   "metadata": {},
   "source": []
  },
  {
   "cell_type": "markdown",
   "id": "ae0bdb97",
   "metadata": {},
   "source": []
  },
  {
   "cell_type": "markdown",
   "id": "dba77bc7",
   "metadata": {},
   "source": []
  },
  {
   "cell_type": "markdown",
   "id": "e19f359f",
   "metadata": {},
   "source": []
  },
  {
   "cell_type": "markdown",
   "id": "b684c33e",
   "metadata": {},
   "source": []
  },
  {
   "cell_type": "markdown",
   "id": "82d777d5",
   "metadata": {},
   "source": []
  },
  {
   "cell_type": "markdown",
   "id": "87268946",
   "metadata": {},
   "source": []
  },
  {
   "cell_type": "markdown",
   "id": "55e8e9cd",
   "metadata": {},
   "source": []
  },
  {
   "cell_type": "markdown",
   "id": "dbbcc16c",
   "metadata": {},
   "source": []
  },
  {
   "cell_type": "markdown",
   "id": "9c139fd6",
   "metadata": {},
   "source": []
  },
  {
   "cell_type": "markdown",
   "id": "f5de410d",
   "metadata": {},
   "source": []
  },
  {
   "cell_type": "markdown",
   "id": "021b0fe8",
   "metadata": {},
   "source": []
  },
  {
   "cell_type": "markdown",
   "id": "f9e33d05",
   "metadata": {},
   "source": []
  },
  {
   "cell_type": "markdown",
   "id": "680446cf",
   "metadata": {},
   "source": []
  },
  {
   "cell_type": "markdown",
   "id": "eeb3e9e7",
   "metadata": {},
   "source": []
  },
  {
   "cell_type": "markdown",
   "id": "2f0ebf44",
   "metadata": {},
   "source": []
  },
  {
   "cell_type": "markdown",
   "id": "650eb5eb",
   "metadata": {},
   "source": []
  },
  {
   "cell_type": "markdown",
   "id": "0736934f",
   "metadata": {},
   "source": []
  },
  {
   "cell_type": "markdown",
   "id": "9b2dfc7c",
   "metadata": {},
   "source": []
  },
  {
   "cell_type": "markdown",
   "id": "32450d1e",
   "metadata": {},
   "source": []
  },
  {
   "cell_type": "markdown",
   "id": "d3f88530",
   "metadata": {},
   "source": []
  },
  {
   "cell_type": "markdown",
   "id": "6216aa8d",
   "metadata": {},
   "source": []
  },
  {
   "cell_type": "markdown",
   "id": "44e5fc72",
   "metadata": {},
   "source": []
  },
  {
   "cell_type": "markdown",
   "id": "e2eb2a85",
   "metadata": {},
   "source": []
  },
  {
   "cell_type": "markdown",
   "id": "cfb5a870",
   "metadata": {},
   "source": []
  },
  {
   "cell_type": "markdown",
   "id": "1c2651a4",
   "metadata": {},
   "source": []
  },
  {
   "cell_type": "markdown",
   "id": "81c6ac5f",
   "metadata": {},
   "source": []
  },
  {
   "cell_type": "markdown",
   "id": "da1f1c25",
   "metadata": {},
   "source": []
  },
  {
   "cell_type": "markdown",
   "id": "35483757",
   "metadata": {},
   "source": []
  },
  {
   "cell_type": "markdown",
   "id": "7a825744",
   "metadata": {},
   "source": []
  },
  {
   "cell_type": "markdown",
   "id": "ffbd6e0b",
   "metadata": {},
   "source": []
  },
  {
   "cell_type": "markdown",
   "id": "64a49236",
   "metadata": {},
   "source": []
  },
  {
   "cell_type": "markdown",
   "id": "32a01fdb",
   "metadata": {},
   "source": []
  },
  {
   "cell_type": "markdown",
   "id": "6e6c57e2",
   "metadata": {},
   "source": []
  },
  {
   "cell_type": "markdown",
   "id": "418d8bbb",
   "metadata": {},
   "source": []
  },
  {
   "cell_type": "markdown",
   "id": "33c7b8eb",
   "metadata": {},
   "source": []
  }
 ],
 "metadata": {
  "kernelspec": {
   "display_name": "Python 3 (ipykernel)",
   "language": "python",
   "name": "python3"
  },
  "language_info": {
   "codemirror_mode": {
    "name": "ipython",
    "version": 3
   },
   "file_extension": ".py",
   "mimetype": "text/x-python",
   "name": "python",
   "nbconvert_exporter": "python",
   "pygments_lexer": "ipython3",
   "version": "3.11.4"
  }
 },
 "nbformat": 4,
 "nbformat_minor": 5
}
