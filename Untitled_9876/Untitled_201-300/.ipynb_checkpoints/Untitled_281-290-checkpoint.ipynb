{
 "cells": [
  {
   "cell_type": "code",
   "execution_count": 3,
   "id": "35982aa0",
   "metadata": {},
   "outputs": [
    {
     "name": "stdout",
     "output_type": "stream",
     "text": [
      "\\Untitled.ipynb : 0.0009527206420898438  мегобайт  2024-06-20 12:00:39.102205\n"
     ]
    }
   ],
   "source": [
    "import os;import math;import sys;import datetime;\n",
    "var='\\\\Untitled.ipynb'\n",
    "print (var,':',os.path.getsize(os.path.abspath(os.curdir)+var)/math.pow(2, 20),' мегобайт ',datetime.datetime.now())"
   ]
  },
  {
   "cell_type": "markdown",
   "id": "0b405b47",
   "metadata": {},
   "source": [
    "компилятору о том, что данный метод производного класса переопределяет метод базового класса.\n",
    "В данной главе в листинге 9.9 введена еще одна аннотация: @Suppress Warnings. Она приказывает компилятору не сообщать о том, что программа содержит некий сомнительный код. В листинге 9.9 строка @Suppress Warnings (\"serial\") приказывает Java не напоминать вам о том, что в объекте опущено поле serialVersionUID. Иными словами, это избавляет вас от получения предупреждений, подобных тому, которое показано на рис. 9.4."
   ]
  },
  {
   "cell_type": "markdown",
   "id": "80531033",
   "metadata": {},
   "source": [
    "    EmploeejavarimeWt…Temperaure…TempSaljavUsTemperat…import java.awt. FlowLayout;\n",
    "    //...\n",
    "    //Suppresskarnings(\"serial\")\n",
    "    //>The serialzable class SimpleFrame does not declare a static final serialVersionUID field of type long\n",
    "    public SimpleFrame()\n",
    "    {\n",
    "        setTitle(\"Не щелкайте на кнопке!\");\n",
    "        setLayout(new FlowLayout());\n",
    "        setDefaultCloseOperation(EXIT_ON_CLOSE);\n",
    "        add(new JButton(\"Щелкните на мне!\"));\n",
    "        setSize(300, 100);\n",
    "        setVisible(true);\n",
    "    }\n",
    "    //...\n",
    "    Рuc. 9.4. Предупреждение о том, что опущено поле serialVersionUID"
   ]
  },
  {
   "cell_type": "markdown",
   "id": "5a2807c8",
   "metadata": {},
   "source": [
    "Вы спросите: \"А что это за поле serialVersionUID?\" Оно имеет отношение к расширению класса JFrame, что для вас интереса не представляет. В отсутствие этого поля генерируется предупреждение, а не сообщение об ошибке. Поэтому беспокоиться вам не о чем! Подавите вывод предупреждения (с помощью аннотации, как в листинге 9.9) и забудьте о полях serialVersionUID. В среде JShell введите следующую последовательность объявлений и инструкций. Что произошло? Почему?\n",
    "\n",
    "    jshell> import javax.swing.JFrame\n",
    "    jshell> JFrame frame\n",
    "    jshell> frame.setSize (100, 100)\n",
    "    jshell> frame = new JFrame()\n",
    "    jshell> frame.setSize(100, 100)\n",
    "    jshell> frame.setVisible (true)    \n",
    "В листинге 9.9 поменяйте вызов\n",
    "\n",
    "    setLayout (new FlowLayout ());\n",
    "на вызов\n",
    "\n",
    "    setLayout (new BorderLayout ());\n",
    "Каким образом это изменение сказалось на работе программы?\n",
    "\n",
    "Стр. 281-282\n",
    "\n",
    "---------"
   ]
  },
  {
   "cell_type": "markdown",
   "id": "2cd51ab6",
   "metadata": {},
   "source": [
    "# Часть 4 Продвинутые методики программирования\n",
    "В ЭТОЙ ЧАСТИ…\n",
    "- Где размещать объявления в программах на Java\n",
    "- Работа с группами однотипных объектов\n",
    "- Использование объектно-ориентированных возможностей Java на 100%\n",
    "- Создание оконных приложений и реагирование на щелчки мышью\n",
    "- Обмен информацией с базами данных\n",
    "# Глава 10 Размещение переменных и методов в нужных местах\n",
    "В ЭТОЙ ГЛАВЕ…\n",
    "- Указание на принадлежность элемента всему классу\n",
    "- Размещение переменных в пределах и за пределами методов\n",
    "- Работа с переменными\n",
    "\n",
    "B качестве примера этой главы, иллюстрирующего основные концепции, используется выдуманный мною бейсбольный матч между командами Соксов и Ханков."
   ]
  },
  {
   "cell_type": "markdown",
   "id": "ab8346a3",
   "metadata": {},
   "source": [
    "# Определение класса\n",
    "Что значит быть игроком в бейсбол? Сейчас для нас это значит обладать именем (name) и иметь средний показатель отбитых мячей (average). Такой упрощенный взгляд на бейсбол выражен на языке Java в листинге 10.1.\n",
    "\n",
    "    Листинг 10.1. Класс Player (Игрок)\n",
    "    import java.text. DecimalFormat;\n",
    "    public class Player\n",
    "    {\n",
    "        private String name;\n",
    "        private double average;\n",
    "        public Player(String name, double average) { this.name = name; this.average = average; }\n",
    "        public String getName() { return name; }\n",
    "        public double getAverage() { return average; }\n",
    "        public String getAverageString()\n",
    "        {\n",
    "            DecimalFormat decFormat = new DecimalFormat();\n",
    "            decFormat.setMaximumIntegerDigits(0);\n",
    "            decFormat.setMaximumFractionDigits(3);\n",
    "            decFormat.set MinimumFractionDigits(3);\n",
    "            return decFormat.format(average);\n",
    "        }\n",
    "    }"
   ]
  },
  {
   "cell_type": "markdown",
   "id": "830ebc16",
   "metadata": {},
   "source": [
    "Итак, приступим к анализу листинга 10.1. К счастью, в предыдущих главах мы уже многое узнали о классах. В данном коде приведено определение класса Player, которое состоит из следующих компонентов.\n",
    "- Объявление полей name и average, содержащих имя и средний показатель игрока. Правила объявления полей рассмативались в главе 7.\n",
    "- Конструктор объекта типа Player. Конструкторы рассматривались в главе 9.\n",
    "- Методы доступа к полям name и average. Использование методов доступа рассматривалось в главе 7.\n",
    "- Метод, возвращающий средний показатель игрока в формате строки. Методы и возвращаемые значения рассматривались в главе 7.\n",
    "\n",
    "Стр. 286\n",
    "\n",
    "-----------"
   ]
  },
  {
   "cell_type": "markdown",
   "id": "c4b62b41",
   "metadata": {},
   "source": [
    "# Еще один способ красивого вывода чисел\n",
    "Метод getAverageString получает значение из поля average (средний показатель игрока) типа double, преобразует его в объект типа String и возвращает этот объект вызывающей программе. Тип DecimalFormat определен в Java API и предназначен для форматирования чисел в виде строк. Благодаря методам decFormat.setMaximumxxx и decFormat.setMinimumxxx результирующее значение типа String имеет ровно три цифры справа от десятичного разделителя и не имеет цифр слева от него.\n",
    "Библиотечный класс DecimalFormat очень удобен во многих случаях. Нa- пример, для отображения значений 345 и -345 в формате, к которому привыкли бухгалтеры, можно использовать следующий код.\n",
    "\n",
    "    DecimalFormat decFormat = new DecimalFormat();\n",
    "    decFormat.setMinimumFractionDigits(2);\n",
    "    decFormat.setNegativePrefix(\"(\");\n",
    "    decFormat.setNegativeSuffix(\")\");\n",
    "    System.out.println(decFormat.format(345));\n",
    "    System.out.println(decFormat.format(-345));"
   ]
  },
  {
   "cell_type": "markdown",
   "id": "4843dde1",
   "metadata": {},
   "source": [
    "Первая инструкция, выделенная полужирным шрифтом, определяет вывод положительных чисел. Вторая и третья инструкции, выделенные полужирным шрифтом, определяют вывод отрицательных чисел. Числа 345 и -345 будут отображены на консоли следующим образом.\n",
    "\n",
    "    345.00\n",
    "    (345.00)\n",
    "    \n",
    "Богатые возможности, предоставляемые классом DecimalFormat, описаны на странице DecimalFormat документации Java API:\n",
    "    \n",
    "    https://docs.oracle.com/javase/8/docs/api/java/text/DecimalFormat.html\n",
    "    \n",
    "Стр. 287\n",
    "\n",
    "----------"
   ]
  },
  {
   "cell_type": "markdown",
   "id": "9c30693d",
   "metadata": {},
   "source": [
    "# Использование класса Player\n",
    "В листингах 10.2 и 10.3 приведены классы, в которых используется класс Player, определенный в листинге 10.1.\n",
    "\n",
    "    Листинг 10.2. Использование класса Player\n",
    "    import java.util.Scanner;\n",
    "    import java.io.File;\n",
    "    import java.io.IOException;\n",
    "    import javax. swing.JFrame;\n",
    "    import javax.swing.JLabel;\n",
    "    import java.awt.GridLayout;"
   ]
  },
  {
   "cell_type": "markdown",
   "id": "957c8262",
   "metadata": {},
   "source": [
    "    @SuppressWarnings(\"serial\")\n",
    "    public class TeamFrame extends JFrame\n",
    "    {\n",
    "        public TeamFrame() throws IOException\n",
    "        {\n",
    "            Player player;\n",
    "            Scanner hankeesData = new Scanner(new File(\"Hankees.txt\"));\n",
    "            for (int num = 1; num <= 9; num++)\n",
    "            {\n",
    "                player = new Player (hankeesData.nextLine(),hankeesData.nextDouble());\n",
    "                hankeesData.nextLine();\n",
    "                addPlayerInfo(player);\n",
    "            }\n",
    "            setTitle(\"Средние бэттинги Ханков\");\n",
    "            setLayout(new GridLayout (9, 2, 20, 3));\n",
    "            setDefaultCloseOperation(EXIT ON CLOSE);\n",
    "            pack();\n",
    "            setVisible (true);\n",
    "            hankeesData.close();\n",
    "        }\n",
    "        void addPlayerInfo(Player player)\n",
    "        {\n",
    "            add(new JLabel(\"\" + player.getName()));\n",
    "            add(new JLabel (player.getAverageString()));\n",
    "        }\n",
    "    }"
   ]
  },
  {
   "cell_type": "markdown",
   "id": "d45a12f4",
   "metadata": {},
   "source": [
    "    Листинг 10.3. Отображение фрейма\n",
    "    import java.io.IOException;\n",
    "    class ShowTeamFrame\n",
    "    {\n",
    "        public static void main(String args[]) throws IOException { new TeamFrame ();}\n",
    "    }\n",
    "Результат выполнения листингов 10.1-10.3 показан на рис. 10.1.\n",
    "\n",
    "Стр. 288\n",
    "\n",
    "----------"
   ]
  },
  {
   "cell_type": "markdown",
   "id": "f1a9e9f3",
   "metadata": {},
   "source": [
    "    Средние бэттинги Ханков\n",
    "    Barry Burd 101\n",
    "    Harriet Ritter 200\n",
    "    Weelie J. Katz 030\n",
    "    Harry \"The Crazyman\" Spoonswagler 124\n",
    "    Felicia \"Fishy\" Katz .075\n",
    "    Mia, Just \"Mia\" 111\n",
    "    Jeremy Floafiong Jones 102\n",
    "    I. M. D'Arthur 001\n",
    "    Hugh R. DaReader 212\n",
    "Рис. 10.1. Вы поставили бы на них деньги?\n",
    "\n",
    "Данные для программы находятся в файле Hankees.txt (рис. 10.2). Чтобы программа нормально выполнилась, она должна найти этот файл и прочитать из него данные."
   ]
  },
  {
   "cell_type": "markdown",
   "id": "02fc29cc",
   "metadata": {},
   "source": [
    "    //Hankees.xt - Блокнот \n",
    "    //Файл - Правка - Формат - Вид - Справла\n",
    "    Barry Burd, 101\n",
    "    Harriet Ritter,200\n",
    "    Weelie J. Katz, 030\n",
    "    Harry \"The Crazyman\" Spoonswagler, 124\n",
    "    Felicia \"Fishy\" Katz, 075\n",
    "    Mia, Just \"Mia\", 111\n",
    "    Jeremy Flooflong Jones, 102\n",
    "    I. M. D'Arthur, 001\n",
    "    Hugh R. DaReader, 212\n",
    "Рис. 10.2. Файл Hankees. txt"
   ]
  },
  {
   "cell_type": "markdown",
   "id": "938885e5",
   "metadata": {},
   "source": [
    "- в интернете - Вовсе не обязательно самому создавать файл Hankees.txt. Этот файл включен в архив примеров, загруженный вами с сайта книги, адрес которого указан во введении.\n",
    "- внимание - В одних странах дробные числа, например т, записываются в виде 3,14159 (с разделителем-запятой), в других же странах - в виде 3.14159 (с разделителем-точкой). Если изменить используемый разделитель, файл, показанный на рис. 10.2, можетоказаться неподходящим для программы. В результате программа аварийно завершит выполнение с генерированием исключения InputMismatchException. Чтобы избежать появления подобного сообщения и благополучно выполнить примеры из этой главы, нужно в файле Hankees.txt заменить разделители-точки разделителями-запятыми или наоборот. Существует и альтернативное решение, заключающееся в добавлении в код оператора Locale.set Default (Locale.US). Дополнительные сведения по этой теме приведены в главе 8.\n",
    "\n",
    "Файл Hankees.txt должен находиться в определенном расположении на жестком диске. Если вы работаете в Eclipse, этим расположением является папка проекта в рабочем пространстве Eclipse. Если же вы запускаете Java из командной строки, файл Hankees.txt должен находиться в одном каталоге с листингом 10.3. В любом случае выполнить программу без этого файла невозможно. Если программа не найдет файл Hankees.txt, она сгенерирует исключение FileNotFoundException.\n",
    "\n",
    "Стр. 289\n",
    "\n",
    "--------"
   ]
  },
  {
   "cell_type": "markdown",
   "id": "ccb5fe19",
   "metadata": {},
   "source": [
    "- в интернете - В процессе загрузки архива примеров с сайта книги вы получаете инструкции относительно процедуры импортирования загружаемого материала в распространенные интегрированные среды разработки (Eclipse, NetBeans и IntelliJ IDEA). После открытия проекта этой главы (10 01) файл Hankees.txt будет помещен именно туда, куда требуется, что избавляет вас от забот по выбору его местонахождения.\n",
    "\n",
    "Если вы создаете пример, описанный в этом разделе, что называется, \"с нуля\", подумайте, в каком месте следует сохранить файл Hankees.txt. В таком случае ваше решение будет зависеть от установок компьютера. Для получения более подробной информации по этому вопросу посетите сайт книги, адрес которого указан во введении.\n",
    "\n",
    "- запомни - Чтобы код данной программы работал правильно, после строки , 212 (это последняя строка в файле) должен быть символ новой строки (см. рис. 10.2). Дополнительные сведения о символах новых строк приведены в главе 8."
   ]
  },
  {
   "cell_type": "markdown",
   "id": "6888a2b9",
   "metadata": {},
   "source": [
    "# Считаем до девяти\n",
    "В листинге 10.2 конструктор класса Player вызывается девять раз. Это означает, что код создает девять экземпляров класса Player. На первой итерации цикла создается экземпляр Barry Burd. На второй итерации код уничтожает экземпляр Barry Burd и создает экземпляр Harriet Ritter. Третья итерация кода приводит к уничтожению экземпляра Harriet Ritter и созданию экземпляра Weelie J. Katz. В каждый момент времени существует только один экземпляр, но всего код создает девять экземпляров.\n",
    "\n",
    "Стр. 290\n",
    "\n",
    "-----------"
   ]
  }
 ],
 "metadata": {
  "kernelspec": {
   "display_name": "Python 3 (ipykernel)",
   "language": "python",
   "name": "python3"
  },
  "language_info": {
   "codemirror_mode": {
    "name": "ipython",
    "version": 3
   },
   "file_extension": ".py",
   "mimetype": "text/x-python",
   "name": "python",
   "nbconvert_exporter": "python",
   "pygments_lexer": "ipython3",
   "version": "3.11.4"
  }
 },
 "nbformat": 4,
 "nbformat_minor": 5
}
