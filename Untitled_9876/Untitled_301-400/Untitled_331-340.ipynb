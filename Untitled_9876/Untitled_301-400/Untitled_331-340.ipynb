{
 "cells": [
  {
   "cell_type": "code",
   "execution_count": 3,
   "id": "35982aa0",
   "metadata": {},
   "outputs": [
    {
     "name": "stdout",
     "output_type": "stream",
     "text": [
      "\\Untitled.ipynb : 0.0009527206420898438  мегобайт  2024-06-20 12:00:39.102205\n"
     ]
    }
   ],
   "source": [
    "import os;import math;import sys;import datetime;\n",
    "var='\\\\Untitled.ipynb'\n",
    "print (var,':',os.path.getsize(os.path.abspath(os.curdir)+var)/math.pow(2, 20),' мегобайт ',datetime.datetime.now())"
   ]
  },
  {
   "cell_type": "markdown",
   "id": "7a308806",
   "metadata": {},
   "source": [
    "- внимание - При каждом запуске программа перезаписывает файл GuestList. txt. Следует учитывать, что в разных интегрированных средах разработки (IDE) отображение файла GuestList.txt может осуществляться по-разному. В некоторых IDE изменения содержимого этого файла не будут автоматически отображаться на экране, и тогда, выполнив код, приведенный в листинге 11.4, вы не заметите, что файл изменился. Даже если вы не видите каких-либо изменений, последовательно выполняйте код из листинга 11.4. чтобы изменить содержимое файла GuestList.txt. Выберите свою любимую интегрированную среду разработки и узнайте из документации, как добиться автоматического обновления экранного изображения файла GuestList.txt.\n",
    "- в интернете - В листинге 11.4 используется условие roomNum < 10 && guests $[$roomNum$]$ ! = 0. Кажущееся на первый взгляд безобидным, на самом деле оно весьма коварное. Если поменять выражения местами и записать условие в виде guests $[$roomNum$]$ != 0 && roomNum < 10, то в некоторых случаях программа может завершаться аварийно. Дело в том, что по правилам Java сначала вычисляется первое выражение. Если оно ложное, второе не вычисляется. (Зачем зря тратить время?) Рассмотрим, что произойдет, если переменная roomNum будет иметь значение 10. В первом случае выражение roomNum < 10 оказывается ложным и второе выражение не вычисляется. Однако во втором случае сначала вычисляется выражение guests $[$roomNum$]$ ! = 0. Элемента с номером 10 не существует, и поэтому программа завершится аварийно. Более подробно об этом вы сможете прочитать на сайте книги, адрес которого указан во введении."
   ]
  },
  {
   "cell_type": "markdown",
   "id": "1a327125",
   "metadata": {},
   "source": [
    "# Запись в файл\n",
    "В листинге 11.4 используются приемы и трюки, описанные в других разделах и главах книги. Единственное новое для вас средство в этом листинге - класс PrintStream, предназначенный для записи данных в файл. Обратите внимание на примеры из книги, которые вызывают методы System.out. print, out.println либо их варианты. Что происходит в случае вызова любого из этих методов? Tо, что называется System.out, - это на самом деле объект, определенный в Java API. Фактически System.out является экземпляром классa java. io. PrintStream (для близких друзей -- просто PrintStream). Каждый объект, созданный на основе классa PrintStream, содержит методы print и println. Подобно тому, как каждый объект Account в листинге 7.3 имеет метод display, а объект DecimalFormat в листинге 10.1 включает метод format, объект PrintStream под именем out включает методы print и println. В случае вызова System.out.println вы вызываете метод, который относится к экземпляру класса PrintStream. Объект System. out визуально выглядит как некоторая текстовая область, отображаемая на экране компьютера. Если вы создаете собственный объект PrintStream, который ссылается на дисковый файл, весь вывод направляется в этот файл. В случае вызова метода print данного объекта вы фактически записываете текст в файл, находящийся на жестком диске.\n",
    "Рассмотрим следующие инструкции, использовавшиеся в листинге 11.4.\n",
    "\n",
    "    PrintStream listOut = new PrintStream(\"GuestList.txt\");\n",
    "    listOut.print (guests[roomNum]);\n",
    "    listOut.print(\" \");\n",
    "\n",
    "Стр. 331\n",
    "\n",
    "-------------------------"
   ]
  },
  {
   "cell_type": "markdown",
   "id": "e51a06c6",
   "metadata": {},
   "source": [
    "Эти инструкции выполняют запись текста в файл, который находится на жестком диске и называется GuestList.txt.\n",
    "Вот как обновляется количество постояльцев, остановившихся в отеле. При вызове метода listOut.print для подсчета количества постояльцев в комнате 3 будет получено число 5. Итак, между рис. 11.5 и 11.6 число, находящееся в файле GuestList.txt, изменяется от 0 до 5. Результат второго запуска программы показан на рис. 11.6. После того как программа получит данные из только что записанного файла GuestList.txt, комната 3 будет занята. Поэтому программа предлагает постояльцам комнату 8.\n",
    "- совет - Это, скорее, важное замечание, чем совет. Предположим, вам нужно прочитать данные из файла Employees.txt. Для этого вы создаете объект типа Scanner с помощью конструктора new Scanner (new File (\"Employees.txt\") ). Если вы ошибочно опустите конструктор File, то конструктор Scanner не свяжет файл Employee.txt с объектом чтения данных. Теперь для сравнения предположим, что нужно записывать данные в файл. Для этого вы создаете объект типа PrintStream с помощью конструктора new PrintStream(\"GuestList. txt\"). Заметьте, что на этот раз конструктор new File не нужен. Если вставить его, компилятор сообщит об ошибке и откажется запускать программу на выполнение."
   ]
  },
  {
   "cell_type": "markdown",
   "id": "cb3f0a08",
   "metadata": {},
   "source": [
    "# Закрытие файла\n",
    "Обратите внимание на вызовы new Scanner, new PrintStream и close в листинге 11.4. Как и во всех других примерах, каждому вызову new Scanner соответствует вызов close. Точно так же вызову new PrintStream соответствует свой вызов close -- listOut.close. Я также проследил за тем, чтобы эти вызовы располагались как можно ближе к соответствующим вызовам nextInt и print. Например, объект DiskScanner создается не в самом начале программы, при этом соответствующий вызов close не отложен до завершения работы программы. Вместо этого все связанные с объектом diskScanner задачи выполняются одна за другой.\n",
    "\n",
    "    Scanner diskScanner = new Scanner (new File(\"GuestList.txt\")); // вызов конструктора\n",
    "    for (roomNum = 0; roomNum < 10; roomNum++) guests[roomNum] = diskScanner.nextInt(); // чтение\n",
    "    diskScanner.close(); // закрытие\n",
    "\n",
    "Те же самые принципы соблюдаются и в отношении объектов keyboard и listOut. Эта карусель с вводом и выводом обусловлена тем, что файл GuestList.txt используется в моей программе дважды: первый раз - для чтения, а второй для записи чисел. Если не проявить внимательность, то оба эти обращения к файлу могут конфликтовать между собой. Рассмотрим следующую программу.\n",
    "\n",
    "Стр. 332\n",
    "\n",
    "-----------------------"
   ]
  },
  {
   "cell_type": "markdown",
   "id": "e3165691",
   "metadata": {},
   "source": [
    "    // ЭТО НЕУДАЧНЫЙ КОД\n",
    "    import java.io.File;\n",
    "    import java.io.IOException;\n",
    "    import java.io. PrintStream;\n",
    "    import java.util.Scanner;"
   ]
  },
  {
   "cell_type": "markdown",
   "id": "68b8d3d8",
   "metadata": {},
   "source": [
    "    public class BadCode\n",
    "    {\n",
    "        public static void main(String args[]) throws IOException \n",
    "        {\n",
    "            int guests[] = new int [10];\n",
    "            Scanner diskScanner = new Scanner(new File(\"GuestList.txt\"));\n",
    "            PrintStream listOut = new PrintStream(\"GuestList.txt\");\n",
    "            guests[0] = diskScanner.nextInt();\n",
    "            listOut.print (5);\n",
    "            diskScanner.close ();\n",
    "            listOut.close();\n",
    "        }\n",
    "    }\n",
    "Стр. 333\n",
    "\n",
    "-------------"
   ]
  },
  {
   "cell_type": "markdown",
   "id": "24fbefdb",
   "metadata": {},
   "source": [
    "Как и многие другие методы и конструкторы подобного рода, конструктор PrintStream не мудрствует с файлами. Если он не сможет найти файл GuestList.txt, он его создаст и подготовит для записи значений. А если файл уже существует, то конструктор уничтожит его и подготовится для записи значений в новый, пустой файл GuestList.txt. Поэтому вызов конструктора PrintStream в класcе BadCode приведет к удалению любого существующего файла GuestList.txt. Такое удаление происходит до вызова метода diskScanner.nextInt. Следовательно, этот вызов не сможет обеспечить чтение того, что первоначально было файлом GuestList.txt. Конечно, это недопустимо!\n",
    "Чтобы избежать подобной катастрофы, я тщательно разделяю два случая использования файла GuestList.txt в листинге 11.4. В верхней части листинга я создаю объект DiskScanner, затем выполняю чтение значений из исходного файла GuestList.txt, после чего закрываю объект DiskScanner. Позже, ближе к концу листинга, я создаю объект listOut, затем выполняю запись значений в новый файл GuestList.txt, после чего закрываю объект listOut. Когда запись и чтение значений полностью разделены, все работает безукоризненно.\n",
    "- технические подробности - Переменная keyboard в листинге 11.4 не ссылается на файл GuestList.txt и потому не конфликтует с другими переменными ввода-вывода. Таким образом, мой обычный подход, когда я помещаю строку keyboard = new Scanner (System.in) в начало программы, а строку keyboard.close() - в конец, не принесет никакого вреда. Но для того чтобы облегчить чтение листинга 11.4 и сделать его стиль более однородным, я расположил конструктор keyboard и соответствующий вызов close вблизи вызова keyboard.nextInt."
   ]
  },
  {
   "cell_type": "markdown",
   "id": "8d8f8d87",
   "metadata": {},
   "source": [
    "# Массивы объектов\n",
    "Бизнес успешно развивается, и нам нужно подумать об усовершенствовании программного обеспечения для мотеля Java. В конце концов, программа должна уметь делать еще что-нибудь, кроме сохранения в файле количества постояльцев. Не забывайте, что мы работаем с объектно-ориентированным языком программирования и должны использовать объекты. Поэтому введем в рассмотрение класс Room (Комната). Реальная комната мотеля имеет три свойства: количество постояльцев, тариф и допустимость курения (комната может быть предназначена для курящих или некурящих). Соответственно, определим три поля, которые могут иметь разные значения для каждого экземпляра класса: поле guests (количество постояльцев) типа int, поле rate (тариф) типа double и поле smoking (курение) типа boolean. Kроме того, определим статическое поле currency (валюта), которое будет общим для всех экземпляров класса Room. Описанная выше структура класса Room показана на рис. 11.8."
   ]
  },
  {
   "cell_type": "markdown",
   "id": "a5751850",
   "metadata": {},
   "source": [
    "- 0 - 1 - 60.00 - курит -\n",
    "- 1 - 4 - 60.00 - курит -\n",
    "- 2 - 2 - 60.00 - не курит -\n",
    "- 3 - 0 - 60.00 - не курит -\n",
    "- 4 - 2 - 80.00 - курит -\n",
    "- 5 - 1 - 80.00 - не курит -\n",
    "- 6 - 4 - 80.00 - не курит -\n",
    "- 7 - 3 - 80.00 - не курит -\n",
    "- 8 - 0 - 100.00 - курит -\n",
    "- 9 - 2 - 100.00 - не курит -\n",
    "\n",
    "Рис. 11.8. С каждой комнатой ассоциированы три ее свойства\n",
    "\n",
    "Стр. 334\n",
    "\n",
    "-----------"
   ]
  },
  {
   "cell_type": "markdown",
   "id": "e71bcf49",
   "metadata": {},
   "source": [
    "Код класса Room приведен в листинге 11.5. Как и обещано, каждый экземпляр клаcca имеeт три поля: guests, rate и smoking. Значение false поля smoking означает, что данная комната предназначена для некурящих. Поле currency, имеющее тип NumberFormat и модификатор static, определяет форматирование чисел. - перекрестная ссылка - Статические поля рассматривались в главе 10.\n",
    "\n",
    "    Листинг 11. 5. Класс Room\n",
    "    import static java.lang.System.out;\n",
    "    import java.util.Locale;\n",
    "    import java.util.Scanner;\n",
    "    import java.text.NumberFormat;"
   ]
  },
  {
   "cell_type": "markdown",
   "id": "a6b492f6",
   "metadata": {},
   "source": [
    "    public class Room\n",
    "    {\n",
    "        private int guests;\n",
    "        private double rate;\n",
    "        private boolean smoking;\n",
    "        private static NumberFormat currency = NumberFormat.getCurrencyInstance ();\n",
    "        public void readRoom (Scanner diskScanner)\n",
    "        {\n",
    "            guests = diskScanner.nextInt();\n",
    "            rate = diskScanner.nextDouble();\n",
    "            smoking = diskScanner.nextBoolean();\n",
    "        }\n",
    "        public void writeRoom()\n",
    "        {\n",
    "            out.print (guests);\n",
    "            out.print (\"\\t\");\n",
    "            out.print (currency.format (rate));\n",
    "            out.print(\"\\t\\t\");\n",
    "            out.println(smoking ? \"да\" : \"нет\");\n",
    "        }\n",
    "    }\n",
    "Стр. 335\n",
    "\n",
    "----------"
   ]
  },
  {
   "cell_type": "markdown",
   "id": "4a5a63b6",
   "metadata": {},
   "source": [
    "В листинге 11.5 есть несколько интересных особенностей, но мы рассмотрим их позже, когда увидим весь код в действии. Сейчас у нас есть класс Room, и мы можем создать массив объектов типа Room.\n",
    "- внимание - Это предупреждение уже неоднократно встречалось в главах 4, 7 и других, но ввиду его важности не лишним будет повторить его еще раз. Будьте очень внимательны при сохранении денежных значений в переменных с плавающей точкой (типа double или float). В этом случае результаты вычислений могут быть неточными (см. главы 4 и 7)."
   ]
  },
  {
   "cell_type": "markdown",
   "id": "97afcc04",
   "metadata": {},
   "source": [
    "# Использование класса Room\n",
    "Код, создающий массив комнат, приведен в листинге 11.6. Программа читает данные из файла RoomList.txt, содержимое которого показано на рис. 11.9. Результат выполнения программы показан на рис. 11.10.\n",
    "\n",
    "    Листинг 11.6. Использование класса Room\n",
    "    import static java.lang.System.out;\n",
    "    import java.util.Scanner;\n",
    "    import java.io.File;\n",
    "    import java.io. IOException;"
   ]
  },
  {
   "cell_type": "markdown",
   "id": "d9f6c625",
   "metadata": {},
   "source": [
    "    public class ShowRooms\n",
    "    {\n",
    "        public static void main(String args[]) throws IOException\n",
    "        {\n",
    "            Room rooms[];\n",
    "            rooms = new Room[10];\n",
    "            Scanner diskScanner = new Scanner(new File(\"RoomList.txt\"));\n",
    "            for (int roomNum = 0; roomNum < 10; roomNum++)\n",
    "            {\n",
    "                rooms[roomNum] = new Room();\n",
    "                rooms[roomNum] .readRoom(diskScanner);\n",
    "            }\n",
    "            out.println(\"Комната\\tКолич.\\tТариф\\t\\t\" + \"Для курящих\");\n",
    "            for (int roomNum = 0; roomNum < 10; roomNum++)\n",
    "            {\n",
    "                out.print (roomNum);\n",
    "                out.print (\"\\t\");\n",
    "                rooms[roomNum].writeRoom();\n",
    "            }\n",
    "            diskScanner.close();\n",
    "        }\n",
    "    }\n",
    "Стр. 336\n",
    "\n",
    "--------------------"
   ]
  },
  {
   "cell_type": "markdown",
   "id": "1314bb63",
   "metadata": {},
   "source": [
    "    Файл Правка\n",
    "    1 60,00 true\n",
    "    4 60,00 true\n",
    "    2 60,00 false\n",
    "    0 60,00 false\n",
    "    2 80,00 true\n",
    "    1 80,00 false\n",
    "    4 80,00 false\n",
    "    3 80,00 false\n",
    "    0 100,00 true\n",
    "    2 100,00 false\n",
    "Рис. 11.9. Фрагмент файла RoomList.txt с данными о комнатах. Рис. 11.10. Результат выполнения листинга 11.6. Рис. 11.11. Этапы создания массива объектов. ( три одинаковых рисунка)\n",
    "\n",
    "\n",
    "Стр. 337\n",
    "\n",
    "----------------"
   ]
  },
  {
   "cell_type": "markdown",
   "id": "f8e5450f",
   "metadata": {},
   "source": [
    "В листинге 11.6 наибольший интерес для нас представляет то, как создается массив объектов. Мы уже создавали массивы переменных примитивного типа. Создать массив объектов немного сложнее. Для этого нужно выполнить три операции: объявить переменную массива, создать массив (пока что пустой) и отдельный объект для каждого элемента массива. При создании массива значений примитивного типа (например, типа int) нужно выполнить только первые две операции. Чтобы понять приведенное ниже объяснение, посматривайте на листинг 11.6 и рис. 11.11, иллюстрирующий процесс создания массива объектов.\n",
    "\n",
    "- Room rooms $[]$ ;. Это объявление создает переменную rooms, которая предназначена для хранения ссылки на массив (но пока что ни на что не ссылается).\n",
    "- rooms = new Room$[$10$]$;.Эта инструкция резервирует десять ячеек в памяти компьютера и помещает в переменную rooms ссылку на эту группу ячеек. Каждая ячейка предназначена для хранения ссылки на объект типа Room (но пока что ни на что не ссылается).\n",
    "- rooms$[$roomNum$]$ = new Room() ;. Эта инструкция находится в цикле for. Она выполняется по одному разу для каждого из десяти номеров комнат. Например, при первом прохождении цикла она превращается в инструкцию rooms$[$0$]$ = new Room () и присваивает нулевому элементу массива объект типа Room. Таким образом, в элементе массива room$[$0$]$ остается ссылка на экземпляр класса Room. Всего данная инструкция создает десять объектов Room.\n",
    "\n",
    "Стр. 338\n",
    "\n",
    "-------------------"
   ]
  },
  {
   "cell_type": "markdown",
   "id": "45fa6ed1",
   "metadata": {},
   "source": [
    "Несмотря на то что с технической точки зрения эта операция не считается одной из стадий создания массива, нам еще остается заполнить поля каждого объекта некоторыми значениями. Например, на первом проходе цикла вызывается метод rooms [0] . readRoom (diskScanner), который читает первую порцию данных из файла RoomList.txt и записывает их в поля guests, rate и smoking первого объекта типа Room. На каждой итерации программа создает новый объект Room и записывает данные в его поля.\n",
    "Как и в случае массива примитивных типов, первый и второй этапы можно совместить в одной инструкции:\n",
    "\n",
    "    Room rooms[] = new Room[10];\n",
    "    \n",
    "Можно также применить инициализатор массива (см. раздел \"Инициализация массива\")."
   ]
  },
  {
   "cell_type": "markdown",
   "id": "bd198842",
   "metadata": {},
   "source": [
    "# Еще один способ форматирования чисел\n",
    "Существует много способов форматирования чисел с плавающей точкой. Некоторые из них уже рассматривались в предыдущих главах. В листинге 7.7 для форматирования чисел использовался метод printf, а в листинге 10.1 - класс DecimalFormat. Рассмотрим еще один способ форматирования. В листинге 11.5 для вывода денежного значения используются класс NumberFormat и его метод getCurrencyInstance.\n",
    "Сравнив инструкции форматирования в листингах 10.1 и 11.5, вы не найдете между ними больших различий.\n",
    "\n",
    "- В первом листинге используется конструктор, а во втором - метод getCurrencyInstance. Этот метод может служить типичным примером метода фабрики объектов. Фабрика объектов - удобный инструмент создания часто используемых объектов. Во многих программах необходим код, отображающий сумму в долларах. Метод getCurrencyInstance создает нужный для этого формат, позволяя избежать спецификации формата вида new Decimal Format (\"$###0.00; ($###0.00)\"). Как и конструктор, фабричный метод возвращает новый объект. Однако, в отличие от конструктора, фабричный метод не имеет специального статуса, и при его создании вы можете дать емулюбое имя. При вызове фабричного метода не нужно использовать ключевое слово new.\n",
    "\n",
    "Стр. 339\n",
    "\n",
    "---------------"
   ]
  },
  {
   "cell_type": "markdown",
   "id": "592c481c",
   "metadata": {},
   "source": [
    "- В первом листинге используется классDecimalFormat, а во втором - класс NumberFormat. Десятичные числа - это числа, записанные в десятичной системе счисления.\n",
    "- Соответственно, класс Decimal Format является производным от базового класса NumberFormat. Методы класса DecimalFormat более специфичны, чем методы класса NumberFormat, однако метод getCurrencyInstance класса DecimalFormat сложно использовать. Поэтому, когда дело касается денег, я рекомендую использовать класс NumberFormat.\n",
    "- В обоих листингах используется метод format. Когда формат подготовлен, достаточно написать выражение вида currency. format (rate) или decFormat. format (average), после чего компилятор Java автоматически отформатирует число.\n",
    "- запомни - Начиная с главы 4 я постоянно предупреждаю вас о нежелательности хранения денежных значений в переменных типа double и float. Для этого рекомендуется использовать класс BigDecimal. В данной главе тип double используется только для упрощения примера. Не делайте так в реальных задачах.\n",
    "- перекрестная ссылка - О типах double и float, а также о денежных значениях читайте в главе 5."
   ]
  },
  {
   "cell_type": "markdown",
   "id": "aca034ac",
   "metadata": {},
   "source": [
    "# Тернарный условный оператор\n",
    "В листинге 11.5 введено новое для вас средство: тернарный условный оператор, принимающий три выражения и возвращающий одно из них. Он похож на оператор if в миниатюре. Термин \"тернарный\" означает, что оператор имеет три операнда. Синтаксис тернарного условного оператора имеет следующий вид:\n",
    "\n",
    "    условие ? выражение 1 : выражение_2"
   ]
  },
  {
   "attachments": {
    "image.png": {
     "image/png": "[encoded data removed]"
    }
   },
   "cell_type": "markdown",
   "id": "fda3c9b2",
   "metadata": {},
   "source": [
    "![image.png](attachment:image.png)"
   ]
  },
  {
   "attachments": {
    "image.png": {
     "image/png": "[encoded data removed]"
    }
   },
   "cell_type": "markdown",
   "id": "ca756f01",
   "metadata": {},
   "source": [
    "![image.png](attachment:image.png)"
   ]
  },
  {
   "attachments": {
    "image.png": {
     "image/png": "[encoded data removed]"
    }
   },
   "cell_type": "markdown",
   "id": "f2f569ea",
   "metadata": {},
   "source": [
    "![image.png](attachment:image.png)"
   ]
  },
  {
   "attachments": {
    "image.png": {
     "image/png": "[encoded data removed]"
    }
   },
   "cell_type": "markdown",
   "id": "21c0dd52",
   "metadata": {},
   "source": [
    "![image.png](attachment:image.png)"
   ]
  },
  {
   "cell_type": "markdown",
   "id": "490c2d94",
   "metadata": {},
   "source": []
  },
  {
   "cell_type": "markdown",
   "id": "4a905f32",
   "metadata": {},
   "source": []
  },
  {
   "cell_type": "markdown",
   "id": "262cb21b",
   "metadata": {},
   "source": []
  },
  {
   "cell_type": "markdown",
   "id": "6b7d26b9",
   "metadata": {},
   "source": []
  },
  {
   "cell_type": "markdown",
   "id": "b76a9714",
   "metadata": {},
   "source": []
  },
  {
   "cell_type": "markdown",
   "id": "923ef30b",
   "metadata": {},
   "source": []
  },
  {
   "cell_type": "markdown",
   "id": "d6351e5e",
   "metadata": {},
   "source": []
  },
  {
   "cell_type": "markdown",
   "id": "8aad8f1e",
   "metadata": {},
   "source": []
  },
  {
   "cell_type": "markdown",
   "id": "15e58960",
   "metadata": {},
   "source": []
  },
  {
   "cell_type": "markdown",
   "id": "5372405c",
   "metadata": {},
   "source": []
  },
  {
   "cell_type": "markdown",
   "id": "72a9665b",
   "metadata": {},
   "source": []
  },
  {
   "cell_type": "markdown",
   "id": "82b82453",
   "metadata": {},
   "source": []
  },
  {
   "cell_type": "markdown",
   "id": "076dd5a3",
   "metadata": {},
   "source": []
  },
  {
   "cell_type": "markdown",
   "id": "e70c7612",
   "metadata": {},
   "source": []
  },
  {
   "cell_type": "markdown",
   "id": "7299151b",
   "metadata": {},
   "source": []
  },
  {
   "cell_type": "markdown",
   "id": "f13180ee",
   "metadata": {},
   "source": []
  },
  {
   "cell_type": "markdown",
   "id": "5f778b57",
   "metadata": {},
   "source": []
  },
  {
   "cell_type": "markdown",
   "id": "75834902",
   "metadata": {},
   "source": []
  },
  {
   "cell_type": "markdown",
   "id": "25f695e1",
   "metadata": {},
   "source": []
  },
  {
   "cell_type": "markdown",
   "id": "933171cb",
   "metadata": {},
   "source": []
  },
  {
   "cell_type": "markdown",
   "id": "c8068cb2",
   "metadata": {},
   "source": []
  },
  {
   "cell_type": "markdown",
   "id": "caa3fa8d",
   "metadata": {},
   "source": []
  },
  {
   "cell_type": "markdown",
   "id": "0ba02685",
   "metadata": {},
   "source": []
  },
  {
   "cell_type": "markdown",
   "id": "15ef2f82",
   "metadata": {},
   "source": []
  },
  {
   "cell_type": "markdown",
   "id": "7b92c00c",
   "metadata": {},
   "source": []
  },
  {
   "cell_type": "markdown",
   "id": "e5462109",
   "metadata": {},
   "source": []
  },
  {
   "cell_type": "markdown",
   "id": "b8148c60",
   "metadata": {},
   "source": []
  },
  {
   "cell_type": "markdown",
   "id": "5de8a4c4",
   "metadata": {},
   "source": []
  },
  {
   "cell_type": "markdown",
   "id": "690ed0b7",
   "metadata": {},
   "source": []
  },
  {
   "cell_type": "markdown",
   "id": "4ee238f6",
   "metadata": {},
   "source": []
  },
  {
   "cell_type": "markdown",
   "id": "c61c11f9",
   "metadata": {},
   "source": []
  },
  {
   "cell_type": "markdown",
   "id": "9c4d4b7c",
   "metadata": {},
   "source": []
  },
  {
   "cell_type": "markdown",
   "id": "656da2d0",
   "metadata": {},
   "source": []
  },
  {
   "cell_type": "markdown",
   "id": "b464d59c",
   "metadata": {},
   "source": []
  },
  {
   "cell_type": "markdown",
   "id": "4e646e3d",
   "metadata": {},
   "source": []
  },
  {
   "cell_type": "markdown",
   "id": "6acf8fa6",
   "metadata": {},
   "source": []
  }
 ],
 "metadata": {
  "kernelspec": {
   "display_name": "Python 3 (ipykernel)",
   "language": "python",
   "name": "python3"
  },
  "language_info": {
   "codemirror_mode": {
    "name": "ipython",
    "version": 3
   },
   "file_extension": ".py",
   "mimetype": "text/x-python",
   "name": "python",
   "nbconvert_exporter": "python",
   "pygments_lexer": "ipython3",
   "version": "3.11.4"
  }
 },
 "nbformat": 4,
 "nbformat_minor": 5
}
