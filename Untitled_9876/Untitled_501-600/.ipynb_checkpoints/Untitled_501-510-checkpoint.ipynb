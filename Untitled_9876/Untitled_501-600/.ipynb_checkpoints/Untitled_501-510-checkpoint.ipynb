{
 "cells": [
  {
   "cell_type": "code",
   "execution_count": 3,
   "id": "35982aa0",
   "metadata": {},
   "outputs": [
    {
     "name": "stdout",
     "output_type": "stream",
     "text": [
      "\\Untitled.ipynb : 0.0009527206420898438  мегобайт  2024-06-20 12:00:39.102205\n"
     ]
    }
   ],
   "source": [
    "import os;import math;import sys;import datetime;\n",
    "var='\\\\Untitled.ipynb'\n",
    "print (var,':',os.path.getsize(os.path.abspath(os.curdir)+var)/math.pow(2, 20),' мегобайт ',datetime.datetime.now())"
   ]
  },
  {
   "cell_type": "markdown",
   "id": "e2eb2a85",
   "metadata": {},
   "source": []
  },
  {
   "cell_type": "markdown",
   "id": "cfb5a870",
   "metadata": {},
   "source": []
  },
  {
   "cell_type": "markdown",
   "id": "1c2651a4",
   "metadata": {},
   "source": []
  },
  {
   "cell_type": "markdown",
   "id": "81c6ac5f",
   "metadata": {},
   "source": []
  },
  {
   "cell_type": "markdown",
   "id": "da1f1c25",
   "metadata": {},
   "source": []
  },
  {
   "cell_type": "markdown",
   "id": "35483757",
   "metadata": {},
   "source": []
  },
  {
   "cell_type": "markdown",
   "id": "7a825744",
   "metadata": {},
   "source": []
  },
  {
   "cell_type": "markdown",
   "id": "ffbd6e0b",
   "metadata": {},
   "source": []
  },
  {
   "cell_type": "markdown",
   "id": "64a49236",
   "metadata": {},
   "source": []
  },
  {
   "cell_type": "markdown",
   "id": "32a01fdb",
   "metadata": {},
   "source": []
  },
  {
   "cell_type": "markdown",
   "id": "6e6c57e2",
   "metadata": {},
   "source": []
  },
  {
   "cell_type": "markdown",
   "id": "418d8bbb",
   "metadata": {},
   "source": []
  },
  {
   "cell_type": "markdown",
   "id": "33c7b8eb",
   "metadata": {},
   "source": []
  }
 ],
 "metadata": {
  "kernelspec": {
   "display_name": "Python 3 (ipykernel)",
   "language": "python",
   "name": "python3"
  },
  "language_info": {
   "codemirror_mode": {
    "name": "ipython",
    "version": 3
   },
   "file_extension": ".py",
   "mimetype": "text/x-python",
   "name": "python",
   "nbconvert_exporter": "python",
   "pygments_lexer": "ipython3",
   "version": "3.11.4"
  }
 },
 "nbformat": 4,
 "nbformat_minor": 5
}
