{
 "cells": [
  {
   "cell_type": "code",
   "execution_count": 3,
   "id": "35982aa0",
   "metadata": {},
   "outputs": [
    {
     "name": "stdout",
     "output_type": "stream",
     "text": [
      "\\Untitled.ipynb : 0.0009527206420898438  мегобайт  2024-06-20 12:00:39.102205\n"
     ]
    }
   ],
   "source": [
    "import os;import math;import sys;import datetime;\n",
    "var='\\\\Untitled.ipynb'\n",
    "print (var,':',os.path.getsize(os.path.abspath(os.curdir)+var)/math.pow(2, 20),' мегобайт ',datetime.datetime.now())"
   ]
  },
  {
   "cell_type": "markdown",
   "id": "e05a917f",
   "metadata": {},
   "source": [
    "# Реагирование на другие события\n",
    "Если вы знаете, как приложение реагирует на событие одного типа, то запрограммировать обработку событий других типов будет несложно. В листин- гах 16.3 и 16.4 на экране отображается окно, в котором происходит конвертация валют США и Великобритании. В этих листингах код реагирует на события различных типов. Результат работы программы показан на рис. 16.4-16.6.\n",
    "\n",
    "    Листинг 16.3. Конвертация валют\n",
    "    import java.awt.Color;\n",
    "    import java.awt.FlowLayout;\n",
    "    import java.awt.event.ItemEvent;\n",
    "    import java.awt.event.ItemListener;\n",
    "    import java.awt.event.KeyEvent;\n",
    "    import java.awt.event.KeyListener;\n",
    "    import java.awt.event.MouseEvent;\n",
    "    import java.awt.event.MouseListener;\n",
    "    import java.text.NumberFormat;\n",
    "    import java.util.Locale;\n",
    "    import javax.swing.JComboBox;\n",
    "    import javax.swing.JFrame;\n",
    "    import javax.swing. JLabel;\n",
    "    import javax.swing.JTextField;"
   ]
  },
  {
   "cell_type": "markdown",
   "id": "33132479",
   "metadata": {},
   "source": [
    "    class MoneyFrame extends JFrame implements KeyListener, ItemListener, MouseListener\n",
    "    {\n",
    "        private static final long serialVersionUID = 1L;\n",
    "        JLabel fromCurrencyLabel = new JLabel(\" \");\n",
    "        JTextField textField = new JTextField(5);\n",
    "        JLabel label = new JLabel(\" \" ) ;\n",
    "        JComboBox<String> combo = new JComboBox<>();\n",
    "        NumberFormat currencyUS = NumberFormat.getCurrencyInstance(Locale.US);\n",
    "        NumberFormat currencyUK = NumberFormat.getCurrencyInstance( Locale.UK );"
   ]
  },
  {
   "cell_type": "markdown",
   "id": "835d39ec",
   "metadata": {},
   "source": [
    "        public MoneyFrame() \n",
    "        {\n",
    "            setLayout (new FlowLayout ()) ;\n",
    "            add(fromCurrencyLabel);\n",
    "            add (textField);\n",
    "            combo.addItem(\"Доллары в фунты\");\n",
    "            combo.addItem(\"Фунты в доллары\");\n",
    "            add(label);\n",
    "            add(combo);\n",
    "            textField.addKeyListener(this);\n",
    "            combo.addItemListener(this);\n",
    "            label.addMouseListener(this);\n",
    "            setDefaultCloseOperation(JFrame.EXIT ON CLOSE);\n",
    "            setSize (300, 100);\n",
    "            setVisible (true);\n",
    "        }"
   ]
  },
  {
   "cell_type": "markdown",
   "id": "9ded756a",
   "metadata": {},
   "source": [
    "        void setTextOnLabel ()\n",
    "        {\n",
    "            String amountString =\"\" ;\n",
    "            String fromCurrency = \"\";\n",
    "            try \n",
    "            {\n",
    "                double amount = Double.parseDouble(textField.getText());\n",
    "                if(combo.getSelectedItem().equals(\"Доллары в фунты\")) \n",
    "                {\n",
    "                    amountString = \" = \" + currencyUK.format(amount * 0.61214);\n",
    "                    fromCurrency = \"$\";\n",
    "                }\n",
    "                if(combo.getSelectedItem().equals(\"Фунты в доллары\"))\n",
    "                {\n",
    "                    amountString = \" = \" + currencyUS.format(amount * 1.63361);\n",
    "                    fromCurrency = \"\\u00A3\";\n",
    "                }\n",
    "            }\n",
    "            catch (NumberFormatException e) { }\n",
    "            label.setText (amountString);\n",
    "            fromCurrencyLabel.setText (fromCurrency) ;\n",
    "        }"
   ]
  },
  {
   "cell_type": "markdown",
   "id": "93e44cf7",
   "metadata": {},
   "source": [
    "        @Override public void keyReleased(KeyEvent k) { setTextOnLabel (); }\n",
    "        @Override\n",
    "        public void keyPressed(KeyEvent k) { }\n",
    "        @Override\n",
    "        public void keyTyped (KeyEvent k) { }\n",
    "        @Override\n",
    "        public void itemStateChanged(ItemEvent i) { setTextOnLabel(); }\n",
    "        @Override\n",
    "        public void mouseEntered (MouseEvent m) { label.setForeground(Color.red); }\n",
    "        @Override \n",
    "        public void mouseExited(MouseEvent m) { label.setForeground (Color.black); }\n",
    "        @Override\n",
    "        public void mouseClicked (MouseEvent m) { }\n",
    "        @Override\n",
    "        public void mousePressed (MouseEvent m) { }\n",
    "        @Override\n",
    "        public void mouseReleased (MouseEvent m) { }\n",
    "    }\n",
    "Стр. 471-472\n",
    "\n",
    "----------"
   ]
  },
  {
   "cell_type": "markdown",
   "id": "ae664890",
   "metadata": {},
   "source": [
    "    Листинг 16.4. Отображение фрейма MoneyFrame\n",
    "    public class ShowMoneyFrame\n",
    "    {\n",
    "        public static void main(String args[]) { new MoneyFrame (); }\n",
    "    }\n",
    "    \n",
    "    доллары 5= 33.06 фунты\n",
    "    Доллары в фунты\n",
    "Рис. 16.4. Конвертация долларов США в британские фунты\n",
    "\n",
    "Листинг 16.3 довольно длинный. Это обусловлено тем, что нужно определить все методы, заявленные в реализуемых интерфейсах. Впрочем, код класса не такой уж и сложный, что видно из приведенного ниже описания.\n",
    "\n",
    "Стр. 473\n",
    "\n",
    "----------------"
   ]
  },
  {
   "cell_type": "markdown",
   "id": "ba5a5974",
   "metadata": {},
   "source": [
    "    class MoneyFrame extends JFrame implements KeyListener, ItemListener, MouseListener\n",
    "    {\n",
    "        Объявление переменных\n",
    "        Конструктор класса MoneyFrame\n",
    "        Определение метода setTextOnLabel\n",
    "        Определения методов, необходимых для реализации трех интерфейсов\n",
    "    }\n",
    "В листинге 16.3 конструктор класса добавляет в окно MoneyFrame четыре компонента.\n",
    "- Надпись. На рис. 16.4 эта надпись отображает символ доллара.\n",
    "- Текстовое поле. На рис. 16.4 в это поле введено число 54.\n",
    "- Еще одна надпись. На рис. 16.4 эта надпись отображает строку £33.06.\n",
    "- Раскрывающийся список. На рис. 16.4 в раскрывающемся списке отображен элемент Доллары в фунты. На рис. 16.5 пользователь выбирает нужный элемент, а на рис. 16.6 выбран элемент Фунты в доллары.\n",
    "\n",
    "Стр. 474\n",
    "\n",
    "-----------"
   ]
  },
  {
   "cell_type": "markdown",
   "id": "a385938c",
   "metadata": {},
   "source": [
    "- технические подробности - В Java компонент JComboBox (привычное название -- раскрывающийся список) может отображать элементы любого рода. В листинге 16.3 следующее объявление создает список JComboBox, элементами которого являются объекты типа String. \n",
    "\n",
    "    JComboBox<String> combo = new JComboBox<>();\n",
    "\n",
    "    Это представляется разумным, но если в вашем приложении имеется класс Person, то можно использовать объявление JComboBox<Person> peopleBox. В подобной ситуации Java знает, как отобразить каждый из объектов Person в раскрывающемся списке. (С этим нет никаких проблем: Java отобразит данные, вызвав метод toString () объекта Person.)\n",
    "Класс MoneyFrame pеализует три интерфейса: KeyListener (слушатель событий клавиатуры), ItemListener (слушатель событий элемента) и Mouse Listener (слушатель событий мыши). Поэтому код может прослушивать события трех разных типов. Каждый интерфейс позволяет прослушивать события одного типа, но разных объектов."
   ]
  },
  {
   "cell_type": "markdown",
   "id": "d8c6e9fc",
   "metadata": {},
   "source": [
    "- технические подробности - KeyListener. В классе, реализующем интерфейс KeyListener, должны быть определены три метода: keyReleased (отпускание клавиши), keyPressed (нажатие клавиши) и keyTyped (ввод символа Unicode). Они запускаются при возникновении сответствующих событий. Например, когда пользователь отпускает клавишу, поток обработки событий вызывает метод keyReleased.\n",
    "В листинге 16.3 метод keyReleased вызывает метод setTextOn Label. Этот метод проверяет, какой элемент сейчас выбран в раскрывающемся списке. Если выбран элемент Доллары в фунты, метод setTextOnLabel конвертирует доллары в фунты (т.е. вычисляет количество фунтов) и выводит на экран соответствующие надписи. Если же выбран элемент Фунты в доллары, метод setTextOnLabel вычисляет количество долларов. В методе setTextOnLabel используется строка \\u00A3. Это код символа британского фунта стерлингов, записанный в кодировке Unicode. Если в окне региональных настроек операционной системы установить в качестве валюты фунт стерлингов, символ фунта будет отображаться автоматически. Класс Locale позволяет локализовать валюту и другие параметры операционной системы, зависящие от языка или страны. Информацию об этом можно найти в документации: https://docs.oracle.com/javase/8/docs/api/java/util/Locale.html\n",
    "\n",
    "Кстати, говоря о валютах, следует уточнить, что данную программу нельзя использовать на практике, потому что курсы валют в ней жестко закодированы, хотя в реальности они постоянно меняются.\n",
    "- \n",
    "ItemListener. Класс, реализующий интерфейс ItemListener, должен определить метод itemStateChanged (изменение состояния элемента). Поток обработки событий вызывает метод itemStateChanged при выборе элемента раскрывающегося списка пользователем.\n",
    "В теле метода itemStateChanged выполняется вызов метода setTextOnLabel, поэтому при выборе элемента раскрывающегося списка программа обновляет надписи.\n",
    "\n",
    "Стр. 475\n",
    "\n",
    "-----------"
   ]
  },
  {
   "cell_type": "markdown",
   "id": "6483f69e",
   "metadata": {},
   "source": [
    "- MouseListener. Класс, реализующий интерфейс MouseListener, должен определить методы mouseEntered (наведение указателя мыши), mouseExited (отведение указателя мыши), mouseClicked (щелчок мышью), mousePressed (нажатие кнопки мыши) и mouseReleased (отпускание кнопки мыши). Реализация интерфейса MouseListener существенно отличается от реализации интерфейса ActionListener (см. листинг 16.1). В последнем случае поток обработки событий реагирует только на щелчок мышью. В то же время при реализации интерфейса MouseListener поток реa- гирует на разные операции с мышью: нажатие кнопки, отпускание кнопки и т.п. В листинге 16.3 методы mouseEnered и mouseExited вызываются, когда указатель мыши входит в область компонента и выходит из нее. Откуда программа знает, что компонентом в данном случае является надпись, а не текстовое поле или раскрывающийся список? Это видно из того, что метод addMouseListener, добавляющий слушателя событий мыши, вызывается через переменную label, которая обозначает надпись. Иными словами, вызываемый метод addMouseListener принадлежит объекту label. Взгляните на методы mouseEntered и mouseExited в листинге 16.3. Они вызывают библиотечный метод set Foreground, который изменяет цвет надписи. Поэтому при наведении указателя цвет надписи изменяется на красный, а при отведении указателя цвет опять становится черным. Цвета red (красный) и black (черный) определены в библиотечном классе Color как статические поля класса."
   ]
  },
  {
   "cell_type": "markdown",
   "id": "1bab59d4",
   "metadata": {},
   "source": [
    "В листинге 16.3 определено несколько методов, которые не используются. Например, когда класс реализует интерфейс MouseListener, в нем следует определить метод mouseRelease. Он нужен не потому, что программа должна что-либо сделать при отпускании кнопки мыши, а потому, что, объявив реализацию интерфейса, вы пообещали компилятору определить все его методы. В данном примере метод mouseRelease пуст, но компилятор не имеет возражений против этого. Формально вы определили метод, а то, что он ничего не делает, для компилятора не важно.\n",
    "- попробуй - В предыдущем разделе была создана программа, которая копирует текст из поля в область надписи всякий раз, когда пользователь щелкает на кнопке. Измените программу таким образом, чтобы пользователю не приходилось щелкать на кнопке. Программа должна автоматически обновлять текст в области надписи, когда пользователь изменяет содержимое текстового поля.\n",
    "\n",
    "Стр. 476\n",
    "\n",
    "---------"
   ]
  },
  {
   "cell_type": "markdown",
   "id": "5f1afe0a",
   "metadata": {},
   "source": [
    "# Внутренние классы\n",
    "В Java можно определить один класс в другом. С точки зрения пользователя листинг 16.5 делает то же самое, что и листинг 16.1. Однако в листинге 16.5 класс GameFrame содержит класс MyActionListener.\n",
    "\n",
    "    Листинг 16.5. Класс в классе\n",
    "    import java.awt.FlowLayout;\n",
    "    import java.awt.event.ActionEvent; import java.awt.event.ActionListener;\n",
    "    import java.util.Random;\n",
    "    import javax.swing.JButton; import javax.swing.JFrame;\n",
    "    import javax.swing.JLabel;\n",
    "    import javax.swing.JTextField;"
   ]
  },
  {
   "cell_type": "markdown",
   "id": "471588c0",
   "metadata": {},
   "source": [
    "    class GameFrame extends JFrame\n",
    "    {\n",
    "        private static final long serialVersionUID = 1L;\n",
    "        int randomNumber = new Random().nextInt(10) + 1;\n",
    "        int numGuesses = 0;\n",
    "        JTextField textField = new JTextField(5);\n",
    "        JButton button = new JButton(\"Сделать попытку);\n",
    "        JLabel label = new JLabel (numGuesses + \" попыток\");\n",
    "        public GameFrame()\n",
    "        {\n",
    "            setDefaultCloseOperation(JFrame.EXIT ON CLOSE);\n",
    "            setLayout (new FlowLayout () ) ;\n",
    "            add (textField);\n",
    "            add (button);\n",
    "            add (label);\n",
    "            button.addActionListener(new MyActionListener());\n",
    "            pack();\n",
    "            setVisible(true);\n",
    "            \n",
    "        }\n",
    "    }"
   ]
  },
  {
   "cell_type": "markdown",
   "id": "0250393a",
   "metadata": {},
   "source": [
    "    class MyActionListener implements ActionListener\n",
    "    {\n",
    "        @Override\n",
    "        public void actionPerformed(ActionEvente)\n",
    "        {\n",
    "            String textFieldText = textField.getText();\n",
    "            if (Integer.parseInt (textFieldText) == randomNumber)\n",
    "            {\n",
    "                button.setEnabled(false);\n",
    "                textField.setText(textField.getText() + \" Угадал!\");\n",
    "                textField.setEnabled(false);\n",
    "            }\n",
    "            else\n",
    "            {\n",
    "                textField.setText (\"\");\n",
    "                textField. requestFocus();\n",
    "            }\n",
    "            numGuesses++;\n",
    "            String guessWord = (numGuesses == 1) ? \" попытка\" : \"  попыток\";\n",
    "            label.setText (numGuesses + guessWord) ;\n",
    "        }\n",
    "    }\n",
    "Стр. 477\n",
    "\n",
    "---------------"
   ]
  },
  {
   "cell_type": "markdown",
   "id": "72d9535d",
   "metadata": {},
   "source": [
    "Класс MyActionListener в листинге 16.5 - это внутренний класс. Почти во всем он аналогичен обычному классу. Различие между ними лишь в том, что код внутреннего класса может ссылаться на поля внешнего класса. Например, в нескольких инструкциях в определении класса MyActionListener используется имя textField, определенное во внешнем классе GameFrame.\n",
    "Обратите внимание на то, что в листинге 16.5 класс MyActionListener используется только один раз -- в вызове метода button.addActionListener. Поэтому возникает вопрос: нужно ли создавать имя для сущности, которая используется всего один раз? Нельзя ли вместо имени подставить саму сущность? Так и есть! Определение внутреннего класса можно вставить в инструкцию вызова метода button.addActionListener. Таким образом, в круглых скобках вместо имени можно подставить довольно длинное определение класса (листинг 16.6). Такой класс называется анонимным внутренним классом. Вам такая конструкция может показаться очень странной, но она часто применяется на практике.\n",
    "\n",
    "    Листинг 16.6. Класс без имени (анонимный внутренний класс)\n",
    "    import java.awt.FlowLayout;\n",
    "    import java.awt.event.ActionEvent;\n",
    "    import java.awt.event.ActionListener;\n",
    "    import java.util.Random;\n",
    "    import javax.swing.JButton;\n",
    "    import javax.swing.JFrame;\n",
    "    import javax.swing.JLabel;\n",
    "    import javax.swing.JTextField;"
   ]
  },
  {
   "cell_type": "markdown",
   "id": "a9365c3c",
   "metadata": {},
   "source": [
    "    class GameFrame extends JFrame\n",
    "    {\n",
    "        private static final long serialVersionUID = 1l;\n",
    "        int randomNumber = new Random().nextInt (10) + 1; int numGuesses = 0;\n",
    "        JTextField textField = new JTextField(5);\n",
    "        JButton button = new JButton(\"Сделать попытку\");\n",
    "        JLabel label = new JLabel (numGuesses + \" попыток\");\n",
    "        public GameFrame()\n",
    "        {\n",
    "            setDefaultCloseOperation (JFrame.EXIT ON CLOSE);\n",
    "            setLayout (new FlowLayout () );\n",
    "            add (textField);\n",
    "            add (button) ;\n",
    "            add (label);"
   ]
  },
  {
   "cell_type": "markdown",
   "id": "c0ebda17",
   "metadata": {},
   "source": [
    "            button\n",
    "                .addActionListener(new ActionListener(){\n",
    "                    @Override\n",
    "                    public void actionPerformed(ActionEvent e)\n",
    "                    {\n",
    "                        String textFieldText = textField.getText();\n",
    "                        if (Integer.parseInt(textFieldText) == randomNumber) \n",
    "                        {\n",
    "                            button.setEnabled(false);\n",
    "                            textField.setText(textField.getText() + \" Угадал!\");\n",
    "                            textField.setEnabled(false);\n",
    "                        }\n",
    "                        else\n",
    "                        {\n",
    "                            textField.setText (\"\");\n",
    "                            textField.requestFocus ();\n",
    "                        }\n",
    "                        numGuesses++;\n",
    "                        String guessWord = (numGuesses == 1) ? \" \" попытка\" :\" попыток\";\n",
    "                        label.setText (numGuesses + guessWord);\n",
    "                    }\n",
    "                })\n",
    "            ;\n",
    "            pack ();\n",
    "            setVisible (true);\n",
    "        }\n",
    "    }\n",
    "Стр. 478-479"
   ]
  },
  {
   "cell_type": "markdown",
   "id": "7dbcad92",
   "metadata": {},
   "source": [
    "Внутренние классы удобны для определения обработчиков событий, таких как метод actionPerformed в примерах данной главы. Самая сложная проблема при их использовании -- правильно отследить скобки (круглые и фигурные) и отступы. Поэтому я советую пока что отказаться от них. Поначалу пишите код без внутренних классов, как в листинге 16.1. А затем, когда привыкнете к структуре классов, создайте внутренний класс и вставьте его в вызов метода.\n",
    "- попробуй - В предыдущем разделе была создана программа, которая копирует текст из поля в область надписи, как только пользователь щелкает на кнопке. Измените код таким образом, чтобы он включал внутренний класс. Затем попробуйте решить более трудную задачу: измените код так, чтобы он включал анонимный внутренний класс.\n",
    "\n",
    "Стр. 480\n",
    "\n",
    "-------------------"
   ]
  }
 ],
 "metadata": {
  "kernelspec": {
   "display_name": "Python 3 (ipykernel)",
   "language": "python",
   "name": "python3"
  },
  "language_info": {
   "codemirror_mode": {
    "name": "ipython",
    "version": 3
   },
   "file_extension": ".py",
   "mimetype": "text/x-python",
   "name": "python",
   "nbconvert_exporter": "python",
   "pygments_lexer": "ipython3",
   "version": "3.11.4"
  }
 },
 "nbformat": 4,
 "nbformat_minor": 5
}
