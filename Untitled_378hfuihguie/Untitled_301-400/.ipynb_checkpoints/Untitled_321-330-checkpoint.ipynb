{
 "cells": [
  {
   "cell_type": "code",
   "execution_count": 3,
   "id": "35982aa0",
   "metadata": {
    "scrolled": true
   },
   "outputs": [
    {
     "name": "stdout",
     "output_type": "stream",
     "text": [
      "\\Untitled.ipynb : 0.0009527206420898438  мегобайт  2024-06-20 12:00:39.102205\n"
     ]
    }
   ],
   "source": [
    "import os;import math;import sys;import datetime;\n",
    "var='\\\\Untitled.ipynb'\n",
    "print (var,':',os.path.getsize(os.path.abspath(os.curdir)+var)/math.pow(2, 20),' мегобайт ',datetime.datetime.now())"
   ]
  },
  {
   "cell_type": "markdown",
   "id": "7beebd1b",
   "metadata": {},
   "source": [
    "|Мнемокод|Формат|OF|DF|IF|TF|SF|ZF|AF|PF|CF|\n",
    "|---|---|---|---|---|---|---|---|---|---|---|\n",
    "|MUL|MUL источник|$*$|---|---|---| ? | ? | ? | ? |$*$|\n",
    "|NEG|NEG приемник|$*$|---|---|---|$*$|$*$|$*$|$*$|$*$|\n",
    "|NOP|NOP|---|---|---|---|---|---|---|---|---|\n",
    "|NOT|NOT приемник|---|---|---|---|---|---|---|---|---|\n",
    "|NOT|NOT приемник|---|---|---|---|---|---|---|---|---|\n",
    "|OR|OR приемник, источник|---|---|---|---|---|---|---|---|---|\n",
    "|OUT|OUT порт, аккумулятор|---|---|---|---|---|---|---|---|---|\n",
    "|POP|POP приемник|---|---|---|---|---|---|---|---|---|"
   ]
  },
  {
   "cell_type": "markdown",
   "id": "1f7105b5",
   "metadata": {},
   "source": [
    "|Мнемокод|Формат|OF|DF|IF|TF|SF|ZF|AF|PF|CF|\n",
    "|---|---|---|---|---|---|---|---|---|---|---|\n",
    "|POPF|POPF|$*$|$*$|$*$|$*$|$*$|$*$|$*$|$*$|$*$|\n",
    "|PUSH|PUSH источник|---|---|---|---|---|---|---|---|---|\n",
    "|PUSHF|PUSHF|---|---|---|---|---|---|---|---|---|\n",
    "|RCL|RCL приемник, счетчик|$*$|---|---|---|---|---|---|---|$*$|\n",
    "|RCR|RCR приемник, счетчик|$*$|---|---|---|---|---|---|---|$*$|\n",
    "|REP|REP|---|---|---|---|---|---|---|---|---|\n",
    "|REPE/REPZ|REPE|---|---|---|---|---|---|---|---|---|\n",
    "|REPNE/REPNZ|REPNE|---|---|---|---|---|---|---|---|---|\n",
    "|RET|RET $[$число удаляемых из стека значений$]$|---|---|---|---|---|---|---|---|---|"
   ]
  },
  {
   "cell_type": "markdown",
   "id": "dc5b9edc",
   "metadata": {},
   "source": [
    "|Мнемокод|Формат|OF|DF|IF|TF|SF|ZF|AF|PF|CF|\n",
    "|---|---|---|---|---|---|---|---|---|---|---|\n",
    "|ROL|ROL приемник, счетчик|$*$|---|---|---|---|---|---|---|$*$|\n",
    "|ROR|ROR приемник, счетчик|$*$|---|---|---|---|---|---|---|$*$|\n",
    "|SAHF|SAHF|---|---|---|---|$*$|$*$|$*$|$*$|$*$|\n",
    "|SAL/SHL|SAL приемник, счетчик|$*$|---|---|---|$*$|$*$| ? |$*$|$*$|\n",
    "|SAR|SAR приемник, счетчик|$*$|---|---|---|$*$|$*$| ? |$*$|$*$|\n",
    "|SBB|SBB приемник, источник|$*$|---|---|---|$*$|$*$|$*$|$*$|$*$|\n",
    "|SCAS|SCAS строка_приемник|$*$|---|---|---|$*$|$*$|$*$|$*$|$*$|\n",
    "|SCASB|SCASB|$*$|---|---|---|$*$|$*$|$*$|$*$|$*$|\n",
    "|SCASW|SCASW|$*$|---|---|---|$*$|$*$|$*$|$*$|$*$|\n",
    "|SHR|SHR приемник, счетчик|$*$|---|---|---| 0 |$*$| ? |$*$|$*$|"
   ]
  },
  {
   "cell_type": "markdown",
   "id": "f562f928",
   "metadata": {},
   "source": [
    "|Мнемокод|Формат|OF|DF|IF|TF|SF|ZF|AF|PF|CF|\n",
    "|---|---|---|---|---|---|---|---|---|---|---|\n",
    "|STC|STC|---|---|---|---|---|---|---|---| 1 |\n",
    "|STD|STD|---| 1 |---|---|---|---|---|---|---|\n",
    "|STI|STI|---|---| 1 |---|---|---|---|---|---|\n",
    "|STOS|STOS  строка_приемник|---|---|---|---|---|---|---|---|---|\n",
    "|STOSB|STOSB|---|---|---|---|---|---|---|---|---|\n",
    "|STOSW|STOSW|---|---|---|---|---|---|---|---|---|\n",
    "|SUB|SUB приемник, источник|$*$|---|---|---|$*$|$*$|$*$|$*$|$*$|\n",
    "|TEST|TEST приемник, источник| 0 |---|---|---|$*$|$*$| ? |$*$| 0 |"
   ]
  },
  {
   "cell_type": "markdown",
   "id": "f88f86d6",
   "metadata": {},
   "source": [
    "|Мнемокод|Формат|OF|DF|IF|TF|SF|ZF|AF|PF|CF|\n",
    "|---|---|---|---|---|---|---|---|---|---|---|\n",
    "|WAIT|WAIT|---|---|---|---|---|---|---|---|---|\n",
    "|XCHG|XCHG приемник, источник|---|---|---|---|---|---|---|---|---|\n",
    "|XLAT|XLAT таблица_источник|---|---|---|---|---|---|---|---|---|\n",
    "|XOR|XOR приемник, источник| 0 |---|---|---|$*$|$*$| ? |$*$| 0 |\n",
    "\n",
    "Стр. 321\n",
    "\n",
    "---------------"
   ]
  },
  {
   "cell_type": "markdown",
   "id": "a16059bc",
   "metadata": {},
   "source": [
    "# ПРИЛОЖЕНИЕ Д. РУКОВОДСТВО ПО ПОЛЬЗОВАНИЮ ДИСКОМ!\n",
    "\n",
    "Диск, который можно заказать с этой книгой, содержит около 40 приведенных в ней программ. Это двусторонний диск, \"перевертыш\": чтобы воспользоваться программами, заполненными на его обратной стороне, диск надо вставить обратной стороной вверх. Верхняя сторона содержит исходные программы, включая модели, представленные в гл. 2 (MAINMOD и SECMOD), а также макробиблиотеку MACRO.LIB, содержащую свыше 30 \"мини-программ\" или макроопределений. Обратная сторона диска содержит оттранслированные объектные программы. Наличие объектных программ позволяет Вам загружать их и исполнять, не выполняя трансляцию."
   ]
  },
  {
   "cell_type": "markdown",
   "id": "e263a68d",
   "metadata": {},
   "source": [
    "# НЕПОСРЕДСТВЕННО ИСПОЛНЯЕМЫЕ ПРОГРАММЫ\n",
    "\n",
    "Некоторые из приведенных в этой книге программ рассчитаны на самостоятельное исполнение без привлечения других программ. Для каждой из этих программ, перечисленных в табл. Д.1, диск содержит исполняемый файл в дополнение к исходному и объектному файлам. Исполняемые файлы, имена которых имеют расширение EXE, расположены на той же стороне диска, что и объектные программы.\n",
    "\n",
    "Таблица Д.1. Программы, для которых есть исполняемые файлы (типа ЕХЕ)\n",
    "|Имя файла|Пример<br/>в книге (1)|Описание|\n",
    "|---|---|---|\n",
    "|DIAGLINE|7.1|Изображение диагонали|\n",
    "|HEX2DEC|-|Преобразование<br/>шестнадцатеричного<br/>числа в десятичное|\n",
    "|KEYMUSIC|8.5|Исполнение музыки с клавиатуры|\n",
    "|LOCK|6.5|Защита файла от записи|\n",
    "|MARY|8.3|Исполнение мелодии<br/>\"У Мэри была маленькая овечка\"|\n",
    "\n",
    "\n"
   ]
  },
  {
   "cell_type": "markdown",
   "id": "59457446",
   "metadata": {},
   "source": [
    "|Имя файла|Пример<br/>в книге (1)|Описание|\n",
    "|---|---|---|\n",
    "|MOVEBIRD|(7.1)|Движение \"птички\" по экрану|\n",
    "|MOVEFACE|7.2|Движение \"улыбающейся рожицы\" по экрану|\n",
    "|NEWDEAF|9.1|Изображение диагонали с использованием макроопределений|\n",
    "|RANDFACE|(7.2)|Случайное движение \"улыбающейся рожицы\" по экрану\n",
    "|TURKEY|8.4|Исполнение мелодии \"Индюк в соломе\"|\n",
    "|UNLOCK|6.6|Снятие с файла защиты от записи|\n",
    "\n",
    "Как только операционная система DOS выдаст на экран приглашение к вводу (A> или C>), Вы можете вызвать любую из этих программ, просто набрав ее имя. Например, чтобы проиграть мелодию \"Индюк в соломе\", надо набрать turkey (или\n",
    "b:turkey, если диск с данными вставлен в дисковод В).\n",
    "Диск содержит также исходный файл для примера программы EX_PROG, приведенного в гл. 2, но для нее на нем нет ни объектного, ни исполняемого файла. Вы сами должны создать эти файлы, используя описанную ниже процедуру.\n",
    "\n",
    "Числа в скобках относятся к ответам на упражнения. Например (7.1) означает ответ к упр. 1 гл.7\n",
    "\n",
    "В этом приложении речь идет о диске, поставляемом с оригиналом книги, а не с ее переводом. Одиако внимательному читателю не составит особого труда самому подготовить такой диск в учебных целях. - Прим, перев.\n",
    "\n",
    "Стр. 322\n",
    "\n",
    "---------"
   ]
  },
  {
   "cell_type": "markdown",
   "id": "ccf8a9ef",
   "metadata": {},
   "source": [
    "# ЗАГРУЖАЕМЫЕ ФАЙЛЫ\n",
    "Остальные файлы на диске представляют собой процедуры общего назначения, которые Вы можете использовать в своих программах. Однако сначала Вам надо создать вызывающую программу, оттранслировать ее и загрузить два объектных файла (с расширением OBJ), чтобы получить исполняемый файл (с расширением EXE). В табл. Д.2 содержится информация, которая понадобится Вам для работы с этими файлами.\n",
    "\n",
    "Правда, некоторые процедуры из этой книги вызывают другие процедуры. Для Вашего удобства помещенные на диск программы включают все процедуры, которые ими вызываются. Например, процедура MUL32 из примера 4.2 вызывает процедуру MULU32 из примера 4.1. Поэтому объектный файл MULS32.OBJ, содержащий процедуру MULS32, включает и команды процедуры MULU32. Таким образом, Вам никогда не понадобится загружать более двух объектных файлов: достаточно иметь вызывающую программу и программу, выбранную Вами на диске."
   ]
  },
  {
   "cell_type": "markdown",
   "id": "751ba009",
   "metadata": {},
   "source": [
    "Таблица Д.2. Программы, которые требуют загрузки\n",
    "|Загружаемый объектный модуль|Вызываемая процедура|Пример в книге|Описание|\n",
    "|---|---|---|---|\n",
    "|ADD_2_OL|ADD_TO_OL|5.7|Добавление элемента к упорядоченному списку|\n",
    "|ADD2UL|ADD_TO_UL|(5.1)|Создание неупорядоченного списка|\n",
    "|ADD_2_UL|ADD_TO_UL|5.1|Добавление элемента к неупорядоченному списку|\n",
    "|ASC_BIN|ASCII_BIN|6.7|Преобразование строки в двоичное число|\n",
    "|AVERAGE|AVERAGE|4.3|Усреднение слов без знака|\n",
    "|B_SEARCH|B_SEARCH|5.6|Поиск в упорядоченном списке|\n",
    "|BIN_ASC|BIN_ASCII|6.8|Преобразование двоичного числа в строку|\n",
    "|BUBBLE|BUBBLE|5,5|Пузырьковая сортировка неупорядоченного cписка|\n",
    "|CLR_S|CLEAR_SCREEN|7.3|Стирание строк на экране|\n",
    "\n",
    "Стр. 323\n",
    "\n",
    "----------"
   ]
  },
  {
   "cell_type": "markdown",
   "id": "f2a3b6a5",
   "metadata": {},
   "source": [
    "|Загружаемый объектный модуль|Вызываемая процедура|Пример в книге|Описание|\n",
    "|---|---|---|---|\n",
    "|CONV_HEX|CONV_HEX|5.11|Преобразование шестнадцатиричной цифры<br/> в коды ASCII, BCD и EBCDIC|\n",
    "|COSINE|FIND_COS|5.10|Вычисление косинуса угла|\n",
    "|D_SHAPE|DSPLY_SHAPE|7.4|Формирование изображения с помощью таблицы образа|\n",
    "|DEL_OL|DEL_OL|5.8|Удаление элемента из<br/>упорядоченного списка|\n",
    "|DEL_UL|DEL_UL|5.2|Удаление элемента из<br/>неупорядоченного списка|\n",
    "|DELAY|DELAY|6.3|Пауза заданной длительности|\n",
    "|DIVUO|DIVUO|4.4|Деление с учетом переполнения|\n",
    "|M_SHARE|MOVE_SHARE|7.5|Движение образа по экрану|"
   ]
  },
  {
   "cell_type": "markdown",
   "id": "3c4f0e87",
   "metadata": {},
   "source": [
    "|Загружаемый объектный модуль|Вызываемая процедура|Пример в книге|Описание|\n",
    "|---|---|---|---|\n",
    "|MINMAX|MINMAX|5.3|Поиск максимума и минимума<br/>в неупорядоченном списке|\n",
    "|MULS32|MULS32|4.2|Умножение 32-битовых<br/>чисел со знаком|\n",
    "|MULU32|MULU32|4.1|Умножение 32-битовых<br/>чисел без знака|\n",
    "|PHONE_#|PHONE_NOS|5.13|Сортировка телефоиного<br/>справочника|\n",
    "|PLAY|PLAY|8.2|Исполнение мелодии|\n",
    "|RAND_51|RAND_51|6.1|Генерация случайного числа<br/>в диапазоне от 0 до 51|"
   ]
  },
  {
   "cell_type": "markdown",
   "id": "a841b6bf",
   "metadata": {},
   "source": [
    "|Загружаемый объектный модуль|Вызываемая процедура|Пример в книге|Описание|\n",
    "|---|---|---|---|\n",
    "|READKEYS|READ_KEYS|6.2|Чтение строки с клавиатуры|\n",
    "|REPLACE|REPLACE|(5.2)|Замена элемента<br/>в упорядоченном списке|\n",
    "|SHOW_ERR|SHOW_ERR|6:4|Изображение сообщений об<br/>ошибках при вызове<br/>функций DOS 2|\n",
    "|SINE|FIND_SINE|5.9|Вычесление синуса угла|\n",
    "|SOUND|SOUND|8.1|Генерация звука|\n",
    "|SQRT32|SQRT32|4.5|Вычисление квадратного корня<br/>методом Ньютона|\n",
    "|SR32|SR32|(4.1)|Вычисление квадратного корня<br/>путем последовательных вычислений|\n",
    "|TIMEKEYS|TIME_KEYS|(6.1)|Определение времени между нажатиями на клавиши|\n",
    "\n",
    "Числа в скобках относятся к ответам на упражнения. Например (5.1) означает ответ к упр. 1 гл.5."
   ]
  },
  {
   "cell_type": "markdown",
   "id": "468ec633",
   "metadata": {},
   "source": [
    "# СОЗДАНИЕ ВЫЗЫВАЮЩЕЙ ПРОГРАММЫ\n",
    "Вызывающая программа представляет собой процедуру, котора исполняет одну или несколько процедур, а затем возвращает управление систем ной программе, использованной Вами для ее исполнения (операционной систем DOS или отладчику DEBUG), Каждая вызывающая программа должна содержа сегмент команд, сегмент стека и псевдооператор EXTRN. Сегмент команд содержит команду CALL (например, CALL MULU32), а так» команду RET, обеспечивающую возврат управления операционной системе DC Далее, нередко в нем находятся команды присваивания начальных значений т регистрам и ячейкам памяти, через которые вызывающая программа рассчитыв получить результат.\n",
    "\n",
    "Стр. 324\n",
    "\n",
    "----------"
   ]
  },
  {
   "cell_type": "markdown",
   "id": "ec565d6f",
   "metadata": {},
   "source": [
    "Сегмент стека резервирует в памити место для адресов возарата. Псендооператор RXTRN сообщает Ассемолеру, что процедура, вызывлеман командой CALL, нз сегмента команд, находится на диске в другом объектном файле. Например, оператор BXTRN MULU32:FAR сообщает Ассемблеру, что про- нелура MULU32 находитея в объектном файле, который надо загрузить пместе с текущим файлом; суффике FAR сообщает ему, что процедура MULU32 находится в пругом сегменте команд. Если для вызова процедуры требуется данные в сегменте данных или в дополнительном сегменте, то Ваша вызывающая программа должна иметь и эти сегменты.\n",
    "\n",
    "После ввода текста вызывающей программы в ЭВМ и сохранения со на диске надо оттранслировать се и загрузить два объектных модуля для создания исполняемого модуля, На рис, Д.1 показан листинг программы, вызывающей процедуру умножения 32-битовых чисел без знака MULU32, пантум из примера 4.1. Оттранс- лируйте эту процедуру (файл MULU32.ASM), чтобы получить объектный файл MULU32.OBJ, а затем исполните команду.\n",
    "\n",
    "    B>a:link mulu32c+mulu32;"
   ]
  },
  {
   "cell_type": "markdown",
   "id": "0dab9215",
   "metadata": {},
   "source": [
    "для создания исполняемого модуля MULU32.EXE, который можно исполнить под управлением отладчика DEBUG.\n",
    "Показанная на рис. Д.1 программа имеет общее назначение; она не сообщает процедуре MULU32, какие числа ей надо перемножить. После вызова отладчика DEBUG Вам надо поспользоваться командой R (register - регистр) для загрузки этих чисел в регистры СХ, ВХ (множимое) и DX, AX (множитель).\n",
    "\n",
    "Так как программа MULU32C не дает видимых результатов, то лучший способ ее исполнения состоит в том, чтобы дать ей возможность дойти до команды RET,а затем проверить содержимое регистров. Если Вы оттранслируете программу MULU32C и изобразите (командой type) листинговый файл (MULU32C.LST), то обнаружите, что команда RET имеет смещение адреса 000А, Следовательно, Вам надо дать отладчику DEBUG команду ga (go to A - перейти к А)."
   ]
  },
  {
   "cell_type": "markdown",
   "id": "dc04c191",
   "metadata": {},
   "source": [
    "    TITLE MULU32G  - Вызывающая программа для MULU32\n",
    "        PAGE ,132\n",
    "        EXTRN MULU32:PAR  ; MULU32 - внешняя процедура\n",
    "        ; Определить сегмент стека\n",
    "        STACK SEGMENT PARA STACK STACK'\n",
    "            DB 64 DUP('STACK   )\n",
    "        STACK ENDS\n",
    "        ; Команды вызываюыей программы\n",
    "        CSEG SEGMENT PARA PUBLIC CODE \n",
    "        CALLER PROC FAR\n",
    "            ASSUNE CS:CSEG,SS:STACK\n",
    "\n",
    "Стр. 325\n",
    "\n",
    "--------"
   ]
  },
  {
   "cell_type": "markdown",
   "id": "28f1da18",
   "metadata": {},
   "source": [
    "    ; Поместить в стек такие начальные значения, чтобы программа\n",
    "    ; могла возвратить управление отладчику DEBUG    \n",
    "    PUSH DS ; Поместить номер влока адреса вооврата в стек\n",
    "    MOV DI,0 ; Обнулить регистр\n",
    "    PUSH DI ; Поместить стек нулевой варес поскрата\n",
    "    ; Вызвать MULU32\n",
    "        CALL MULU32\n",
    "        RET  ; Возвратиться к отладчику DEBUG\n",
    "    CALLER ENDP\n",
    "    CSEG ENDS\n",
    "        END CALLER\n",
    "\n",
    "Рис. Д.1. Вызывающая программа для процедуры MULU32"
   ]
  },
  {
   "cell_type": "markdown",
   "id": "de44b14b",
   "metadata": {},
   "source": [
    "# Указатель терминов.\n",
    "- Адаптеры (adapters)\n",
    "    - монохроматического монитора\n",
    "    - (monochrome) 222\n",
    "    - цветного/графического монитора\n",
    "    - (color/graphics) 222\n",
    "- Адрес\n",
    "    - исполнительный (Effective Address (EA)) 75\n",
    "    - физический (physical address) 18"
   ]
  },
  {
   "cell_type": "markdown",
   "id": "e0704d7a",
   "metadata": {},
   "source": [
    "- Адресация\n",
    "    - непосредственная (immediate) 74\n",
    "    - памяти (addressing, memory) 75\n",
    "    - по базе (base relative) 76\n",
    "        - с индексированием (base indexed) 77\n",
    "    - прямая (direct) 75\n",
    "        - с индексированием (direct indexed) 77\n",
    "    - регистровая (register) 74\n",
    "        - косвенная (register indirect) 76"
   ]
  },
  {
   "cell_type": "markdown",
   "id": "1a34d479",
   "metadata": {},
   "source": [
    "    - Малый (Small Assembler) 26\n",
    "- Ассемблера диск, создание\n",
    "- (assembler disk, creating) 50\n",
    "- Атрибут 48\n",
    "    - операции (attribute operators) 48  \n",
    "- Атрибуты (attributes)\n",
    "    - дистанции NEAR и FAR\n",
    "    - (distance attributes (NEAR and FAR)) 39\n",
    "    - симеола (character) 233\n",
    "    - файла (file attributes) 200\n",
    "- Байт (8-битовое значение) (byte\n",
    "- (8-bit value)) 12\n",
    "- Бейсик\n",
    "    - Кассетный (BASIC, Cassette) 185"
   ]
  },
  {
   "cell_type": "markdown",
   "id": "19b383bf",
   "metadata": {},
   "source": [
    "- Библиотека\n",
    "    - макроопределений (library, macro) 255\n",
    "        - создание (creating) 256 \n",
    "        - считывание в программу\n",
    "        - (reading into a program) 256\n",
    "        - таблица перекрестных ссылок\n",
    "        - (cross-reference table) 266\n",
    "            - листинг (cross-reference listing) 266\n",
    "- объектная (object library) 277\n",
    "    - добавление модулей (linking an) 278\n",
    "    - Каталог модулей (directory of an) 279\n",
    "    - составление (building an) 278\n",
    "    - операции (operating on an) 278"
   ]
  },
  {
   "cell_type": "markdown",
   "id": "041c3c58",
   "metadata": {},
   "source": [
    "- Биты (bits) 10\n",
    "    - шестнадцатеричные значения позиций\n",
    "    - (hexadecimal values for bit positions) 103\n",
    "- Блок-схема (flowchart) 27\n",
    "- Векторы прерывания\n",
    "    - для работы с клавиатурой\n",
    "    - (keyboard interrupts) 212\n",
    "    - контроллера 8259 (8259 interrupt vectors) 178\n",
    "    - микропроцессора 8088\n",
    "    - (8088 interrupt vectors) 176\n",
    "    - операционной системы DOS\n",
    "    - (DOS interrupts) 188\n",
    "    - системы BIOS (BIOS interrupts) 175"
   ]
  },
  {
   "cell_type": "markdown",
   "id": "ee02e29d",
   "metadata": {},
   "source": [
    "- Beca (weights)\n",
    "    - двоичных цифр (of binary digits) 11\n",
    "    - шестнадцатеричных цифр (of hexadecimal digits) 311\n",
    "- Выбор из трех альтернагив\n",
    "- (decision sequence, three way) 118\n",
    "- Выражение (expression) 35\n",
    "\n",
    "- Вычитание (subtraction)\n",
    "    - выполнение микропроцессором 8088\n",
    "    - (in 8088) 95\n",
    "    - команды (instructions) 95\n",
    "- Данные арифметические, форматы"
   ]
  },
  {
   "cell_type": "markdown",
   "id": "d64d9481",
   "metadata": {},
   "source": [
    "- (arithmetic data formats) 90\n",
    "    - двоичных чисел (binary numbers) 90\n",
    "    - десятичных чисел (decimal numbers) 91\n",
    "- Двоеточие (:) в метках (colons (:) in labels (:) 31\n",
    "- Деление (division)\n",
    "    - без переполнения (without overflow) 144\n",
    "    - чисел с повышенной точностью\n",
    "    - (high-precision) 143\n",
    "    - команды (instructions) 101\n",
    "- Динамик (speaker)\n",
    "    - исполнение мелодии (music through the) 238\n",
    "    - программирование (programming the) 236\n",
    "    - режимы (operation of) 235"
   ]
  },
  {
   "cell_type": "markdown",
   "id": "7c9cba72",
   "metadata": {},
   "source": [
    "- Диск данных (data disk) 50\n",
    "- Загрузка нескольких объектных модулей\n",
    "- (linking multiple object modules) 56\n",
    "- Загрузчик LINK (Linker (LINK)) 28\n",
    "- Замена\n",
    "    - сегмента (segment override) 48\n",
    "    - операции (operators) 122\n",
    "    - префиксы (prefixes) 123\n",
    "    \n",
    "Стр. 327\n",
    "\n",
    "-----"
   ]
  },
  {
   "cell_type": "markdown",
   "id": "6b2fd245",
   "metadata": {},
   "source": [
    "- Зизчение непосредственное\n",
    "    - расширение знака (tign-extending\n",
    "    - immediate values) 74\n",
    "- Интерфейс шины (Bus Interface Unit (BIU)) 23 \n",
    "- Клавиатура (keyboard) 206\n",
    "    - коды символов (character codes) 208 \n",
    "    - расширенные коды (extended codes, keyboard) 243\n",
    "    - чтение строки символов (reading\n",
    "    - strings from the) 292\n",
    "    - scan-коды (scan codes) 208"
   ]
  },
  {
   "cell_type": "markdown",
   "id": "faaa19a5",
   "metadata": {},
   "source": [
    "- Клавиши\n",
    "    - комбинация Alt-Ctrl-Del (Alt-Ctrl-Del\n",
    "    - key combination) 208\n",
    "        - Ctrl-Num Lock (Ctrl-Num Lock Key\n",
    "        - combination) 248\n",
    "        - Shift PrtSc (Shift PrtSe key\n",
    "        - combination) 210\n",
    "    - специальные комбинации (кеy\n",
    "    - combintions, special) 21"
   ]
  },
  {
   "cell_type": "markdown",
   "id": "25d26611",
   "metadata": {},
   "source": [
    "- Код\n",
    "    - дополнительный (two's-complement) 13\n",
    "        - команда вычисления (instruction \n",
    "        - (NEC)) 98\n",
    "        - способ вычисления (how to calculate) 13\n",
    "- Команда\n",
    "    - загрузки строки (load-string instruction) 127\n",
    "    - извлечения элемента таблицы XLAT\n",
    "    - (table look-up instruction (XLAT)) 86\n",
    "    - сохранения строки (store-string\n",
    "    - instruction) 128"
   ]
  },
  {
   "cell_type": "markdown",
   "id": "c92995af",
   "metadata": {},
   "source": [
    "- Команды\n",
    "    - aрифметические(arithmetic instructions) 89\n",
    "    - безусловной передачи управления\n",
    "    - (unconditional transier instructions) 110\n",
    "    - ввода-вывода (iaput/output instructions) 87\n",
    "    - менилулирования битами\n",
    "    - (bit manipulation instructions) 102\n",
    "    - обработки строк (string instructions) 119\n",
    "        - сегменты для операндов\n",
    "        - (sezment assumptions for) 119"
   ]
  },
  {
   "cell_type": "markdown",
   "id": "8fd5cb84",
   "metadata": {},
   "source": [
    "- _\n",
    "    - передачи управления (control transfer\n",
    "    - instructions) 103\n",
    "    - пересылки\n",
    "    - anapec (address transfer instructions) 87\n",
    "    - данных (data transfer instructions) 82\n",
    "    - строк (move-string instructions) 122\n",
    "    - флагов (flag transfer instructions) 88\n",
    "- перечень (см, также Указатель команд\n",
    "- и псевдорператоров) (instructions, list of;\n",
    "- see also Quick Index) 79\n",
    "- расширения знака (sign-extension\n",
    "- instructions) 162"
   ]
  },
  {
   "cell_type": "markdown",
   "id": "a0ed9ed7",
   "metadata": {},
   "source": [
    "- сдвига (shift instructions) 107\n",
    "    - циклического (rotate instructions) 108\n",
    "- сканирования строки (scan-string\n",
    "- instructions) 124\n",
    "- сложения (addition instructions) 91\n",
    "- сравнения (compare instructions) 98\n",
    "    - использование для условных\n",
    "    - переходов (using conditional transfers) 125\n",
    "    - строк (compare-string instructions) 124"
   ]
  },
  {
   "cell_type": "markdown",
   "id": "1fb53a53",
   "metadata": {},
   "source": [
    "- _\n",
    "    - управления\n",
    "        - процессором (processor control\n",
    "        - instructions) 131\n",
    "        - циклами (iteration control (loop)\n",
    "        - instructions)) 118\n",
    "    - условной передачи управления\n",
    "    - (conditional transfer instructions) 114\n",
    "        - использование совместно\n",
    "        - с командами сравнения\n",
    "        - (compares used with) 116\n",
    "    - языка ассемблера (assembly language\n",
    "    - instructions) 30\n",
    "        - формаz (format of) 30"
   ]
  },
  {
   "cell_type": "markdown",
   "id": "acd4b51e",
   "metadata": {},
   "source": [
    "- Комментарий\n",
    "    - в макроопределении, обозначение ; ;\n",
    "    - (;; (macro comment) operator) 254\n",
    "    - в исходной программе, обозначение ;\n",
    "    - (; (comment designator)) 32\n",
    "    - самостоятельный (stand-alone comment) 32"
   ]
  },
  {
   "cell_type": "markdown",
   "id": "bd618882",
   "metadata": {},
   "source": [
    "- Конвейер (pipeline) 23\n",
    "- Константы\n",
    "    - в операторах исходной программы\n",
    "    - (constants in source statements) 30\n",
    "    - двоичные (binary constants) 30\n",
    "        - разряды (биты) (binary digits (bits)) 10\n",
    "            - веса (weights of) 11\n",
    "        - сложение (adding) 12\n",
    "    - десятичные (decimal constants) 30\n",
    "    - шестнадцатеричные (hexadecimal\n",
    "    - constants) 30\n",
    "- Контроллер прерываний 8259\n",
    "- (8259 interrupt controller) 178\n",
    "- Листинг\n",
    "    - исходной программы (listing source\n",
    "    - programs) 54\n",
    "    - распределения памяти (map listing) 61"
   ]
  },
  {
   "cell_type": "markdown",
   "id": "781cedd4",
   "metadata": {},
   "source": [
    "- Литералы (string constants) 30\n",
    "- Макроассемблер (Маcтo Assembler) 26\n",
    "- Макроопределение\n",
    "    - генерации паузы (delay macro) 258\n",
    "    - генерации случайных чисел (random\n",
    "    - number macro) 259\n",
    "- Макроопределения (macros) 244\n",
    "    - задание в исходных программах\n",
    "    - (defining in source programs) 254\n",
    "    - преимущества (advantages of) 245\n",
    "    - состав (contents of) 246\n",
    "    - сравнение с процедурами (сотраrеd\n",
    "    - to procedures) 245\n",
    "    - упаление (purging) 257\n",
    "\n",
    "Стр. 328\n",
    "\n",
    "---------"
   ]
  },
  {
   "cell_type": "markdown",
   "id": "1260c240",
   "metadata": {},
   "source": [
    "- Метеметический сопроцессор 2027\n",
    "- (8487 math coprocessor) 297\n",
    "    - виутренние регистры (internal registers) 257\n",
    "    - программирование (programming) 302\n",
    "    - система команд (instruction set) 299\n",
    "    - стек (stack) 298\n",
    "    - типы данных (data types) 252\n",
    "- Метки, указанные в поевдооператорах END\n",
    "- (labels on END pseudo-ops) 41\n",
    "- Микропроцессор (8082 microprocessor) 16\n",
    "    - виутренние регистры (internal registers) 21\n",
    "    - общие сведения (отerview of) 18\n",
    "    - сравнение с 2026 (compared to 2026) 17\n",
    "    - зволюция (сrolution of) 16"
   ]
  },
  {
   "cell_type": "markdown",
   "id": "a7b65960",
   "metadata": {},
   "source": [
    "- Микросхема (chip)\n",
    "    - ПИПУ $255 (2255 PPI chip) 235\n",
    "- Модель программы\n",
    "    - MAINMOD.ASM (MAINMOD.ASM\n",
    "    - (program model)) 62\n",
    "    - SECMOD.ASM (SECMOD.ASM\n",
    "    - (program model)) 63\n",
    "\n",
    "- Hомер блока (segment number) 19\n",
    "- Оживление изображения (animation) 228\n",
    "- Опереиды (operands) 32\n",
    "- Оперетор исходной программы (source\n",
    "- statement) 30\n",
    "- Операции (орerators) 42\n",
    "    - арифметические (arithmetic operators) 42\n",
    "    - вотарашаюшие зиачения (value-returning\n",
    "    - operators) 47\n",
    "    - макроопределениях (macто прerators) 253\n",
    "    - замены (vverride operators) 48\n",
    "    - логические операции (logical operators) 45\n",
    "    - над флагами (flag operations) 131\n",
    "    - oтношения (relational operators) 46"
   ]
  },
  {
   "cell_type": "markdown",
   "id": "2e5a1ce2",
   "metadata": {},
   "source": [
    "- Операционный блок (Execution Unit (EU))\n",
    "- Опереция\n",
    "    - вычитания - ( - (subtract) operator) 43\n",
    "    - деления/ (/ (divide) оperator) 43\n",
    "    - замены сегмента CS: (CS: (segment\n",
    "    - override operator)) 48\n",
    "        - DS: (DS: (segment override operator)) 48\n",
    "        - ES: (ES: (segment override operator)) 48 \n",
    "        - SS: (SS: (segment override operator)) 48\n",
    "    - конкатенации (& operstor) 253 \n",
    "    - присвеивания зиачения счетчика апреса\n",
    "    - $\\$$($\\$$(location counter) sperator) 44\n",
    "    - сложения + (+ (add) оperator) 43\n",
    "    - умкожения * (* (multiply) operator) 43\n",
    "    - AND (AND operator) 43\n",
    "    - HIGH (HIGH sperator) 45\n",
    "    - LENGTH (LENGTH sperator) 44"
   ]
  },
  {
   "cell_type": "markdown",
   "id": "556cb424",
   "metadata": {},
   "source": [
    "- _\n",
    "    - LOW (LOW operator) 45\n",
    "    - MOD (MOD operstor) 43\n",
    "    - NOT (NOT operator) 43\n",
    "    - OFFSET (OFFSET operator) 44\n",
    "    - OR (OR operator) 43\n",
    "    - PTR (PTR operator) 44\n",
    "    - SEG (SEG operator) 44\n",
    "    - SHL (SHL operator) 43\n",
    "    - SHORT (SHORT operstor) 44 \n",
    "    - SHR (SHR operator) 43\n",
    "    - SIZE (SIZE operator) 44\n",
    "    - THIS (THIS operator) 44\n",
    "    - TYPE (TYPE operator) 44\n",
    "    - XOR (XOR operstion) 43"
   ]
  },
  {
   "cell_type": "markdown",
   "id": "6c8929e1",
   "metadata": {},
   "source": [
    "- Отладчик DEBUG (DEBUG) 28\n",
    "    - исполиение программы (running\n",
    "    - programs under) 56\n",
    "    - команды (commands) 57\n",
    "- Отечет таймера (timer tick) 178\n",
    "    - прерывание типа 1C (interrupt (Type 1C)) 187\n",
    "- Память вычислительной системы (system\n",
    "- memory) 172\n",
    "    - адресация (memory addressing) 12\n",
    "    - распределение (memory map) 173\n",
    "    - формат хранения чисел (memory,\n",
    "    - format of numbers in) 91"
   ]
  },
  {
   "cell_type": "markdown",
   "id": "4fb48d0b",
   "metadata": {},
   "source": [
    "Пaysa (delay) 197\n",
    "    - rенерация (generating a) 198\n",
    "- Перемещение блоков памяти (mоring\n",
    "- blocks of memory) 122\n",
    "- Переполиение, обработка (отerflow,\n",
    "- dealing with) 143\n",
    "- Поиск в упорядоченных списках (searching\n",
    "- ordered lists) 157\n",
    "    - бинарный (binary search for ordered lists) 157 \n",
    "- Поле\n",
    "    - комментариев (comment field) 32\n",
    "    - метки (label field) 31\n",
    "    - мнемокода (mnemonic field) 31\n",
    "    - операнда (operand field) 32"
   ]
  },
  {
   "cell_type": "markdown",
   "id": "300ad598",
   "metadata": {},
   "source": [
    "- Поля команды (fields, instruction) 30\n",
    "- Порты ввода-вывода (input/output ports) 20\n",
    "- Преобразование (converting)\n",
    "    - двоичного числь в строку ASCII-кодов\n",
    "    - (binary number to ASCII) 220\n",
    "    - десятичного числа в двоичное число\n",
    "    - (decimal to binary) 11\n",
    "        - в шестнадцатеричное число\n",
    "        - (decimal to hex) 311\n",
    "    - строки ASCI-кодов в двоичное число\n",
    "    - (ASCIl to binary code conversions) 215\n",
    "    - шестиадцатеричного числа в двоичнодесятичное число (hex to BCD) 168\n",
    "        - в десятичное число (hex to decimal) 311\n",
    "        - в коды EBCDIC (hex to EBCDIC) 168\n",
    "        - в строку ASCII-кодов (hex to ASCII) 168\n",
    "- Прерывание (interrupt)\n",
    "    - команды (instructions) 128\n",
    "    - немаскируемое (non-maskable) 177\n",
    "    - типа 0, деление на нуль (Type 0 (Divide\n",
    "    - by zero) interrupt) 176\n",
    "\n",
    "Стр. 329\n",
    "\n",
    "---------"
   ]
  },
  {
   "cell_type": "markdown",
   "id": "ac888c54",
   "metadata": {},
   "source": [
    "- 1, пошаговый режим исполнения\n",
    "- (Type 1 (Single-step) interrupt) 176\n",
    "- 2, немаскируемое (non-maskable interrupt (Type 2)) 177\n",
    "- 3, точка приостанова (breakpoint\n",
    "- interrupt (Type 3)) 177\n",
    "- 4, обработка переполнения (overflow\n",
    "- interrupt (Type 4)) 177\n",
    "- 5, печать содержимого экрана (Type 5 (Print screen) interrupt) 177\n",
    "- 8, системный таймер (system timer interrupt (Type 8)) 178\n",
    "- 9, клавиатура (Type 9 (Keyboard) interrupt) 178\n",
    "- D, жесткий диск (fixed disk interrupt (Type D)) 178\n",
    "- E, гибкий диск (floppy disk interrupt (Type E)) 178"
   ]
  },
  {
   "cell_type": "markdown",
   "id": "be660517",
   "metadata": {},
   "source": [
    "- 10, обмен данными с дисплеем (Type 10 (Video 1/O) interrupt) 179\n",
    "- 11, чтение конфигурации системы (equipment check interrupt (Type 11)) 183\n",
    "- 12, объем памяти (memory size interrupt (Type 12)) 184\n",
    "- 13, обмен данными с диском (disk I/O interrupt (Type 13)) 184\n",
    "- 14, обмен данными через последовательный порт (communications I/O interrupt (Type 14)) 184\n",
    "- 15, обмен данными с касетным магнитофоном (cassette I/O interrupt (Type 15)) 184\n",
    "- 16, обмен данными с клавиатурой (keyboard, I/O interrupt (Type 16)) 184\n",
    "- 17, обмен данными с принтером (Type 17 (Printer I/O) interrupt) 185\n",
    "- 18, Kассетный Бейсик (Cassette BASIC interrupt (Type 18)) 185\n",
    "- 19, сброс в начальное состояние (Type 19 (Power-on reset) interrupt) 185\n",
    "- 1A, время дня (time of day interrupt (Type 1A)) 186\n",
    "- 1B, клавиша прерывания (break interrupt (Type 1B)) 187\n",
    "- 1C, отсчет таймера (Type 1C (Timer tick) interrupt) 187\n",
    "- 21, вызовы функций, таблица (table of) 194"
   ]
  },
  {
   "cell_type": "markdown",
   "id": "106efcde",
   "metadata": {},
   "source": [
    "- Префиксы (prefixes)\n",
    "    - замены сегмента (segment override) 123\n",
    "    - повторения (repeat prefixes) 121\n",
    "    - Признак\n",
    "    - двоичного числа (суффикс B) (binary suffix) 30\n",
    "    - десятичного числа (суффикс D) (decimal suffix (D)) 30\n",
    "    - шестнадцатеричного числа (суффикс H)\n",
    "    - (hexadecimal suffix (H)) 30"
   ]
  },
  {
   "cell_type": "markdown",
   "id": "a9e669bc",
   "metadata": {},
   "source": [
    "- Присваивание сегментов, замена (segment\n",
    "- assignmemts, overriding) 123\n",
    "- Программа\n",
    "    - выдачи сообщений об ошибках DOS\n",
    "    - версии 2 (error message program, DOS 2) 202\n",
    "    - вычисление времени исполнения\n",
    "    - (program execution time, calculating) 197\n",
    "    - исполнение (running program) 56\n",
    "    - исполняемая, создание файла (run file, creating) 56\n",
    "    - исходная (source programm) 26\n",
    "    - объектная (object program) 26\n",
    "    - перемещаемая (relocatable program) 28\n",
    "    - разработка по методу сверху вниз\n",
    "    - (top-down design) 29\n",
    "    - структурированная, составление\n",
    "    - (structured programs, preparing) 293"
   ]
  },
  {
   "cell_type": "markdown",
   "id": "3c50f281",
   "metadata": {},
   "source": [
    "- HEX2DEC.EXE 15\n",
    "- SALUT\n",
    "    - описание (described) 280\n",
    "    - пакет команд (batch file for) 295\n",
    "    - переформатирование исходных текстов\n",
    "    - (indenting programs using) 296\n",
    "    - использование (using) 295\n",
    "- Программирование структурное (structured\n",
    "- programming) 279\n",
    "- Процедура\n",
    "    - вызывающая (calling procedure) 113\n",
    "    - загрузки (link procedure) 56\n",
    "    - трансляции (assemble procedure) 53\n",
    "    - BEEP системы BIOS (Beep procedure, BIOS) 236\n",
    "    - SOUND (SOUND procedure) 237"
   ]
  },
  {
   "cell_type": "markdown",
   "id": "6dabdd0e",
   "metadata": {},
   "source": [
    "- Процедуры (procedures) 110\n",
    "    - вложенные (nesting procedures) 113\n",
    "    - косвенные вызовы (indirect calls to) 112\n",
    "    - с атрибутом дистанции FAR (FAR procedures) 39\n",
    "    - NEAR (NEAR procedures) 39\n",
    "    сравнение с макроопределениями \n",
    "    (compared with macros) 245\n",
    "- Псевдооператоры (см. Указатель команд \n",
    "- и псевдооператоров (pseudo operations \n",
    "- (pseudo-ops), See Quick Index) 333\n",
    "    - данных (data pseudo-ops) 33\n",
    "        - таблица (table of) 33\n",
    "        \n",
    "Стр. 330\n",
    "\n",
    "--------"
   ]
  }
 ],
 "metadata": {
  "kernelspec": {
   "display_name": "Python 3 (ipykernel)",
   "language": "python",
   "name": "python3"
  },
  "language_info": {
   "codemirror_mode": {
    "name": "ipython",
    "version": 3
   },
   "file_extension": ".py",
   "mimetype": "text/x-python",
   "name": "python",
   "nbconvert_exporter": "python",
   "pygments_lexer": "ipython3",
   "version": "3.11.4"
  }
 },
 "nbformat": 4,
 "nbformat_minor": 5
}
