{
 "cells": [
  {
   "cell_type": "code",
   "execution_count": 1,
   "id": "35982aa0",
   "metadata": {},
   "outputs": [
    {
     "name": "stdout",
     "output_type": "stream",
     "text": [
      "\\Untitled_101-120.ipynb : 0.44329071044921875  мегобайт  2024-12-01 10:00:20.201608\n"
     ]
    }
   ],
   "source": [
    "import os;import math;import sys;import datetime;\n",
    "var='\\\\Untitled_101-120.ipynb'\n",
    "print (var,':',os.path.getsize(os.path.abspath(os.curdir)+var)/math.pow(2, 20),' мегобайт ',datetime.datetime.now())"
   ]
  },
  {
   "cell_type": "markdown",
   "id": "bf93d2ee",
   "metadata": {},
   "source": [
    "# КОМАНДЫ ДЕЛЕНИЯ\n",
    "# КОМАНДА ДЕЛЕНИЯ ЧИСЕЛ БЕЗ ЗНАКА DIV И ДЕЛЕНИЯ ЧИСЕЛ СО ЗНАКОМ IDIV\n",
    "\n",
    "Имея две отдельные команды умножения, микропроцессор 8088 имеет и две отдельные команды деления. Команда DIV (divide - разделить) выполняет деление чисел без знака, а команда IDIV (integer divide - разделить целые числа) выполняет деление чисел со знаком. Эти команды имеют формат\n",
    "\n",
    "    DIV ИСТОЧНИК\n",
    "    IDIV ИСТОЧНИК\n",
    "где источник - делитель размером в байт или слово, находящийся в регистре общего назначения или в ячейке памяти. Делимое должно иметь двойной размер; оно извлекается из регистров АН и AL (при делении на 8-битовое число) или из регистров DX и AX (при делении на 16-битовое число)."
   ]
  },
  {
   "cell_type": "markdown",
   "id": "cf7920ce",
   "metadata": {},
   "source": [
    "Результаты возвращаются следующим образом:\n",
    "- Если операнд-источник представляет собой байт, то частное возвращается в регистре AL, а остаток в регистре АН.\n",
    "- Если операнд-источник представляет собой слово, то частное возвращается в регистре АХ, а остаток - в регистре DX.\n",
    "\n",
    "Обе команды оставляют состояние флагов неопределенными, но если частное не помещается в регистре-приемнике (AL или AX), то микропроцессор 8088 сообщает Вам об этом весьма драматическим образом: он генерирует прерывание типа\n",
    "0(деление на 0).\n",
    "\n",
    "Переполнение результата деления возыикает при следующих условиях:\n",
    "1. Делитель равен 0.\n",
    "2. При делении байтов без знака делимое по меньшей мере в 256 раз превышает делитель.\n",
    "3. При делении слов без знака делимое по меньшей мере в 65 536 раз превышает делитель.\n",
    "4. При делении байтов со знаком частное лежит вне диапазона от - 128 до +127.\n",
    "5. При делении слов со знаком частное лежит вне диапазона от - 32768 до 32767."
   ]
  },
  {
   "cell_type": "markdown",
   "id": "60e18dd3",
   "metadata": {},
   "source": [
    " Приведем несколько типичных примеров операций деления:\n",
    " \n",
    "    DIV BX         ; Разделить DX:AX на BX, без знака \n",
    "    DIV MEM_BYTE   ; Разделить Ан:AL на байт памяти, без энака\n",
    "    IDIV DL        ; Разделить AH:AL на DL со энаком\n",
    "    IDIV MEM_WORD  ; Разделить Dх:Aх на слово памяти, со энаком\n",
    "Команды DIV и IDIV не позволяют прямо разделить на непосредственное значение; его надо предварительно загрузить в регистр или ячейку памяти. Например, команды\n",
    "\n",
    "    Mov Bx, 20\n",
    "    DIV BX\n",
    "разделят объединенное содержимое регистров DX и АХ на 20.\n",
    "\n",
    "Стр. 101\n",
    "\n",
    "----------"
   ]
  },
  {
   "cell_type": "markdown",
   "id": "62238610",
   "metadata": {},
   "source": [
    "# Команда коррекции деления для представления в кодах ascii (КОМАНДА AAD)\n",
    "\n",
    "Все ранее описанные команды десятичной коррекции (AAA, DAA, AAS, DAS и AAM) выполняли действия над результатом операции, В противоположность им команда AAD (ASCII adjust for division - скорректировать деление для представления в кодах ASCII) должна исполняться непосредственно перед операцией деления. Команда ADD преобразует неупакованное делимое в двоичное значение и загружает его в регистр AL. Для этого она умножает старшую цифру делимого (содержимое регистра АН) на 10 и добавляет полученный результат к младшей цифре, находящейся в регистре AL. Затем она обнуляет содержимое регистра АН. \n",
    "\n",
    "Там очень странная картинка.  Страший разряд AL переносится на страший разряд AH командой CBW. Так число становится 16 разрядным. По аналогии, страший разряд AX командой CBD переносится на старший разряд DX. Так полачуется 32 битное число, состоящие из двух 16 битных регистров AX и DX. По нынешним временам это бред, так как есть EAX, RAX, MMX, SSE, AVX-512, AVX-килобайт. Ладно, будем иметь в виду.\n",
    "\n",
    "Рис. 3.7. Расширение знака командами CBW и CWD\n",
    "\n",
    "Приведем типичный пример применения команды AAD:\n",
    "\n",
    "    AAD     ; Скорректировать неупакованное делимое в АH:AL,\n",
    "    DIV BL  ; а затем выполнить деление"
   ]
  },
  {
   "cell_type": "markdown",
   "id": "f9afabbd",
   "metadata": {},
   "source": [
    "# КОМАНДЫ РАСШИРЕНИЯ ЗНАКА\n",
    "Существуют две команды, позволяющие выполнять операции над смешанными данными за счет удвоения размера операнда со знаком. Команда CBW (convert byte to word - преобразовать байт в слово) воспроизводит 7-й бит регистра AL во всеx битах регистра AН; команда CWD (convert word to doubleword - преобразовать слово в двойное слово) воспроизводит 15-й бит регистра AX во всех битах регистра DX. Эти действия иллюстрирует рис. 3.7.\n",
    "Таким образом, команда CBW позволяет сложить байт и слово, вычесть слово из байта и т.д. Аналогично команда CWD позволяет разделить слово на слово. Приведем несколько примеров:\n",
    "\n",
    "    CBW        ;Сложить в AL со словом в вх\n",
    "    ADD AX, BX\n",
    "    CWD        ;Умножить байт AL на слово в вх\n",
    "    IMUL BX\n",
    "    CWD        ;Раэделить слово в на слово в вх\n",
    "    IDIV BX\n"
   ]
  },
  {
   "cell_type": "markdown",
   "id": "4a7025b5",
   "metadata": {},
   "source": [
    "# 3.6. КОМАНДЫ МАНИПУЛИРОВАНИЯ БИТАМИ\n",
    "Эти команды манипулируют группами битов в регистрах или ячейках памяти. В табл. 3.6 они разделены на три группы: логические команды, команды сдвига и команды циклического сдвига.\n",
    "# ЛОГИЧЕСКИЕ КОМАНДЫ\n",
    "Эти команды названы логическими потому, что они действуют по правилам формальной логики, а не арифметики. Например, лагическое утверждение \"если А истинно и В истинно, то С истинно\" находит свое отражение в команде\n",
    "\n",
    "Стр. 102\n",
    "\n",
    "----------"
   ]
  },
  {
   "cell_type": "markdown",
   "id": "976caa85",
   "metadata": {},
   "source": [
    "Таблица 3.6. Команды манипулирования битами\n",
    "\n",
    "|Мнемокод|Формат|OF|DF|IF|TF|SF|ZF|AF|PF|CF|\n",
    "|---|---|---|---|---|---|---|---|---|---|---|\n",
    "|Логические команды|\n",
    "|AND|AND приемник, источник|OF=0|---|---|---|SF|ZF|?AF?|PF|CF=0|\n",
    "|OR|OR приемник, источник|OF=0|---|---|---|SF|ZF|?AF?|PF|CF=0|\n",
    "|XOR|XOR приемник, источник|OF=0|---|---|---|SF|ZF|?AF?|PF|CF=0|\n",
    "|NOT|NOT приемник|---|---|---|---|---|---|---|---|---|\n",
    "|TEST|TEST приемник, источник|OF=0|---|---|---|SF|ZF|?AF?|PF|CF=0|\n",
    "|Команды сдвига|\n",
    "|SAL/SHL|SAL приемник, счетчик|OF|---|---|---|SF|ZF|?AF?|PF|CF|\n",
    "|SAR|SAR приемиик, счетчик|OF|---|---|---|SF|ZF|?AF?|PF|CF|\n",
    "|SHR|SHR приемник, счетчик|OF|---|---|---|SF=0|ZF|?AF?|PF|CF|\n",
    "|Команды циклического сдвига|\n",
    "|ROL|ROL приемник, счетчик|OF|---|---|---|---|---|---|---|CF|\n",
    "|ROR|ROR приемник, счетчик|OF|---|---|---|---|---|---|---|CF|\n",
    "|RCL|RCL приемник, счетчик|OF|---|---|---|---|---|---|---|CF|\n",
    "|RCR|RCR приемник, счетчик|OF|---|---|---|---|---|---|---|CF|\n",
    "\n",
    "Примечание. * означает изменение значения флага, - означает сохранение, ? - неопределенное состояние.\n",
    "\n"
   ]
  },
  {
   "cell_type": "markdown",
   "id": "163daf0d",
   "metadata": {},
   "source": [
    "AND (И) микропроцессора 8088, которая применяет его к соответствующим битам двух операндов.\n",
    "Точнее говоря, команда AND полагает равным 1 все те биты операнда-приемни- ка, в позициях которых содержится 1 у обоих операндов. А те биты приемника, в позициях которых содержится любая другая комбинация значений (или 00, или 0 и 1), полагаются равными нулю.\n",
    "Так как логические операции манипулируют битами операндов, то обычно при записи значений таких операндов используют шестнадцатеричную систему счисления. Логические команды микропроцессора 8088 могут оперировать байтами или словами, поэтому обычно приходится иметь дело с двузначными или четырех- значными шестнадцатеричными числами.\n",
    "Чтобы Вам было легче конструировать правильные значения масок для логических операций, в табл. 3.7 показаны шестнадцатеричные представления значения 1 в каждом из 16 битов слова. Например, при операциях над битом 2 правильное значение маски равно 4Н; при операциях над битами 2 и 3 значение маски равно 0СН (шестнадцатеричная сумма 4+8) и т.д.\n",
    "\n",
    "Стр. 103\n",
    "\n",
    "---------"
   ]
  },
  {
   "cell_type": "markdown",
   "id": "d380910a",
   "metadata": {},
   "source": [
    "Таблица 3.7. Шестнадцатеричные значения битов\n",
    "|Номер бита|Hex|Номер бита|Hex|\n",
    "|---|---|---|---|\n",
    "|0|0001|8|0100|\n",
    "|1|0002|9|0200|\n",
    "|2|0004|10|0400|\n",
    "|3|0008|11|0800|\n",
    "|4|0010|12|1000|\n",
    "|5|0020|13|2000|\n",
    "|6|0040|14|4000|\n",
    "|7|0080|15|8000|\n"
   ]
  },
  {
   "cell_type": "markdown",
   "id": "c0d3fc50",
   "metadata": {},
   "source": [
    "# Логические команды AND, OR и XOR\n",
    "Мнемокоды этих команд должны показаться Вам знакомыми, поскольку в разд. 2.7 мы уже обсуждали одноименные логические операции AND (И), OR (ИЛИ) и XOR (Исключающее ИЛИ). Однако эти операции выполняются в процессе трансляции программы, а команды действуют при ее исполнении. Ради полноты изложения мы опишем здесь и команды AND, OR и XOR, а за разъяснением их действия Вы можете обратиться к разд. 2.7. Операндами команд AND, OR и XOR могут быть байты или слова. В этих командах можно сочетать два регистра, регистр с ячейкой памяти или непосредственное значение с регистром или ячейкой памяти. Результаты выполнения этих команд приведены в табл. 3.8. Команда AND маскирует (обнуляет) некоторые биты, после чего можно выполнить дальнейшую обработку остальных битов. Как уже упоминалось, в каждой позиции бита, где оба операнда содержат 1, операнд-приемник также будет содержать 1. В тех же позициях, где операнды имеют любую другую комбинацию значений, операнд-приемник будет содержать 0. Запомните, что при исполнении команды AND биты операнда-приемника становятся равны 0 всюду, где операнд-источ- ник содержит 0, и сохраняются там, где операнд-источник содержит 1. Приведем несколько примеров команд AND:\n",
    "\n",
    "    AND AX, BX           ; Выполнить AND над двумя регистрами\n",
    "    AND AL, MEM_BYTE     ; Выполнить AND над регистром и ячейкой памяти\n",
    "    AND MEM_BYTE         ; или наоборот\n",
    "    AND BL, 1101B        ; Выполнить AND над константой и регистром\n",
    "    AND TABLE[BX],MASK3  ; или ячейкой памяти\n",
    "Стр. 104\n",
    "\n",
    "-----------"
   ]
  },
  {
   "cell_type": "markdown",
   "id": "3a8a40fe",
   "metadata": {},
   "source": [
    "Таблица 3.8. Результаты исполнения команд AND, OR и XOR\n",
    "\n",
    "|Источник|Приемник|AND|OR|XOR|\n",
    "|---|---|---|---|---|\n",
    "|0|0|0|0|0|\n",
    "|0|1|0|1|1|\n",
    "|1|0|0|1|1|\n",
    "|1|1|1|1|0|\n",
    "\n",
    "Рассмотрим следующий пример применения команды AND. Пусть порт 200 соединен с 16-битовым регистром состояния внешнего устройства системы и бит 6 показывает, включено (1) или выключено (0) устройство. Если Ваша программа может продолжать работу только в случае, когда устройство включено, то она должна содержать следующий цикл:\n",
    "\n",
    "    CHK_PWR:\n",
    "        IN AX, 200         ; Прочитать состояние устроиства\n",
    "        AND AX, 1000000B   ; Изолировать индикатор включения\n",
    "        JZ CHK_PWR         ; Подождать включения питания, \n",
    "        ...                ; а затем продолжить работу\n",
    "        ..."
   ]
  },
  {
   "cell_type": "markdown",
   "id": "b11131a9",
   "metadata": {},
   "source": [
    "Команда JZ (jump if zero - перейти если нуль), которая нами еще не рассматривалась, заставляет микропроцессор 8088 вернуться к команде IN с меткой CHK_PWR, если флаг нуля ZF равен 1, и перейти к следующей команде в противном случае. В нашем примере флаг ZF равен 1 только в том случае, когда индикатор включения (бит 6) равен 1, так как команда AND обнуляет все остальные биты регистра АX. Команда OR полагает равным 1 те биты операнда-приемника, в позициях которых хотя бы один из операндов содержит 1. Эта команда обычно используется для принудительного присваивания 1 заданным битам. Например, команда ```OR BX,0C00H``` полагает два старших бита (14 и 15) регистра ВХ равными 1 и оставляет другие биты не измененными.\n",
    "\n",
    "Команда XOR используется, если надо выяснить, в каких битах значения операндов различаются, или если надо обратить состояния заданных битов. Команда XOR полагает равным 1 все те биты приемника, в позициях которых операнды имеют различные значения, иначе говоря, те биты, в позициях которых один из операндов имеет значение 0, а другой - 1. Если оба операнда содержат в данной позиции либо 0, либо 1, то команда XOR обнуляет этот бит приемника. Например, команда ```XOR BX,0C000H``` обращает состояния двух старших битов регистра ВХ (14 и 15) и сохраняет остальные биты неизмененными."
   ]
  },
  {
   "cell_type": "markdown",
   "id": "eec0851b",
   "metadata": {},
   "source": [
    "# Команда логического отрицания NOT\n",
    "Команда NOT (HE) обрашает состояние каждого бита регистра или ячейки памяти и ни на какие флаги не воздействует. Таким образом, команда NOT заменяет каждый 0 на 1, а каждую I - на 0. Другими словами, она выполняет для операнда дополнение до единицы.\n",
    "\n",
    "# Команда проверки test\n",
    "Команда TEST (test - проверить) выполняет операцию AND над операндами, но воздействует только на флаги и не изменяет значения операндов. Команда TEST изменяет флаги точно так же, как команда AND: она обнуляет флаги CF и OF, изменяет флаги PF, ZF и SF, а флаг AF оставляет неопределенным. Когда вслед за командой TEST указана команда JNZ (jump if not zero - перейти, если не нуль), переход произойдет только в том случае, если хотя бы в одной позиции бита оба операнда содержат 1.\n",
    "\n",
    "Стр. 105\n",
    "\n",
    "----------"
   ]
  },
  {
   "cell_type": "markdown",
   "id": "c4f20185",
   "metadata": {},
   "source": [
    "# КОМАНДЫ сдвига и циклического сдвига\n",
    "У микропроцессора 8088 есть семь команд, осуществляющих сдвиг 8- или 16-битового содержимого регистров или ячеек памяти на одну или несколько позиций влево или вправо. Три из них сдвигают операнд, а остальные четыре его вращают или циклически сдвигают.\n",
    "Для всех семи команд флаг переноса CF является как бы расширением операнда битом 9 или битом 17. Иначе говоря, флаг CF приобретает значение бита, сдвинутого за один из концов операнда. Команды сдвига и циклического сдвига вправо помещают во флаг CF значение нулевого бита. Команды сдвига и циклического сдвига влево помещают в него значение бита 7 (при операциях над байтом) или бита 15 (при операциях над словом). \n",
    "\n",
    "Команды сдвига и циклического сдвига распадаются на две группы. Логические команды сдвигают операнд, не считаясь с его знаком; они используются для действий над числами без знака или над нечисловыми значениями, например над масками. Арифметические команды сохраняют старший, знаковый бит операнда; они используются для действий над числами со знаком. На рис. 3.8 показано действие этих команд. Команды сдвига и циклического сдвига имеют два операнда: приемник и счетчик. Приемником может быть 8- или 16-битовый регистр общего назначения или ячейка памяти. Счетчик может быть цифрой 1 или значением без знака в регистре CL."
   ]
  },
  {
   "cell_type": "markdown",
   "id": "9bcc7cba",
   "metadata": {},
   "source": [
    "|Команда|Результат|\n",
    "|---|---|\n",
    "|SAL/SHL| $[$CF$]$ <-$[$7$][$6$][$5$][$4$][$3$][$2$][$1$][$0$]$<-0 |\n",
    "|SAR| $[$7$]$->$[$7$][$6$][$5$][$4$][$3$][$2$][$1$][$0$]$->$[$CF$]$ |\n",
    "|SHR| 0->$[$7$][$6$][$5$][$4$][$3$][$2$][$1$][$0$]$->$[$CF$]$ |\n",
    "|ROL| $[$CF$]$<-$[$7$][$6$][$5$][$4$][$3$][$2$][$1$][$0$]$<-$[$7$]$ \n",
    "|ROR| $[$0$]$->$[$7$][$6$][$5$][$4$][$3$][$2$][$1$][$0$]$->$[$CF$]$ |\n",
    "|RCL| $[$CF$]$<-$[$7$][$6$][$5$][$4$][$3$][$2$][$1$][$0$]$<-$[$CF$]$ |\n",
    "|RCR| $[$CF$]$->$[$7$][$6$][$5$][$4$][$3$][$2$][$1$][$0$]$->$[$CF$]$ |\n",
    "\n",
    "Рис. 3.8. Команды сдвига и циклического сдвига\n",
    "\n",
    "Уважаемые жужики, если собираетесь испльзовать сдвиги, то предварительно пишите тестовые стенды на каждую команду. Windows игнорит 32 битные сдвиги и интерпритирует их как 64 битные, или на оборот, я уже не помню. Также некоторые сдвиги могут менять регистр флагов. Такие моменты нужно проверять. Без этого винниГред.\n",
    "\n",
    "Стр. 106\n",
    "\n",
    "--------"
   ]
  },
  {
   "cell_type": "markdown",
   "id": "e59169db",
   "metadata": {},
   "source": [
    "# Команды сдвига\n",
    "Команды SAL (shift aritmetic left - сдвинуть влево арифметически) и SAR (shift aritmetic right - сдвинуть вправо арифметически) сдвигают числа знаком. Команда SAR сохраняет знак операнда, репродуцируя его при выполнении сдвига. Команда SAL не сохраняет знак, но заносит 1 во флаг переполнения OF в случае изменения знака операнда. При каждом сдвиге операнда команда SAL заносит 0 в вакантный нулевой бит этого операнда.\n",
    "Команды SHL (shift logical left - сдвинуть влево логически) и SHR (shift logical right - сдвинуть вправо логически) сдвигают числа без знака. Команда SHL идентична команде SAL. Команда SHR аналогична команде SHL, но сдвигает операнд не влево, а вправо. При каждом сдвиге операнда команда SHR заносит 0 в вакантный старший бит этого операнда (бит 7 при сдвиге байта, бит 15 при сдвиге слова).\n",
    "Помимо флагов CF и OF команды сдвига изменяют флаги PF, ZF и SF, а флаг AF оставляют неопределенным.\n",
    "Чтобы познакомиться с работой команд сдвига, предположим, что регистр AL содержит 0B4H, а флаг переноса CF равен 1. В двоичном коде ``` AL= 10110100 CF=1``` . Команды сдвига воздействуют на регистр AL и флаг CF следующим образом:\n",
    "\n",
    "    После SAL AL, 1: AL = 01101000 CF = 1\n",
    "    После SAR AL, 1: AL 11011010 CF = 0\n",
    "    После SHL AL, 1 : AL = 01101000 CF = 1\n",
    "    После SHR AL, 1 : AL = 01011010 CF = 0\n",
    "    Вот как нужно правильно тестить, только напишите свою программку для Вашей операционки"
   ]
  },
  {
   "cell_type": "markdown",
   "id": "3e4a465d",
   "metadata": {},
   "source": [
    "Имеется несколько интересных приложений команд сдвига. Например, в следующем фрагменте команд команда SHL используется для преобразования двух неупакованных BCD-чисел (старшая цифра извлекается из регистра BL, младшая - из регистра AL) в упакованное BCD-число в регистре AL:\n",
    "\n",
    "    MOV CL, 4  ; Загрузить счетчик сдвига в CL\n",
    "    SHL BL, CL ; Сдвинуть старшую цитру в старшие четыре бита BL\n",
    "    OR AL, BL  ; Получить упакованное BCD-число слиянием AL и BL\n",
    "Поскольку сдвиг операнда на один бит влево удваивает значение операнда (умножает на 2), а сдвиг на один бит вправо уменьшает значение операнда вдвое (делит на 2), то команды сдвига можно использовать в качестве команд быстрого умножения и деления. Следующие команды сдвига показывают, каким образом можно разделить на четыре содержимое регистра AX. Во всех случаях предполагается, что регистр CL содержит 2.\n",
    "\n",
    "    SHL AX, CL   ; Умножить число без энака на 4\n",
    "    SAL AX, CL   ; Умножить число со энаком на 4\n",
    "    SHR AX, CL   ; Разделить число без знака на 4\n",
    "    SAR AX, CL   ; Разделить число со энаком на 4\n",
    "    \n",
    "Стр. 107\n",
    "\n",
    "--------------"
   ]
  },
  {
   "cell_type": "markdown",
   "id": "dbe4f42f",
   "metadata": {},
   "source": [
    "Применяя команды сдвига вместо команд умножения и деления, можно сэкономить немало времени. Каждая из предыдущих команд сдвига выполняется за 16 тактов. Еще 4 такта требуется для загрузки значения в регистр CL, итого - 20 тактов. Сравнивая это время с минимальными временами исполнения команд MUL (118 тактов), IMUL (128 тактов), DIV (144 такта) и IDIV (165 тактов), мы видим, что команды сдвига выполняют эти действия в шесть-восемь раз быстрее, чем команды умножения и деления!\n",
    "В то время как отдельная команда сдвига может умножить или разделить только на степень числа 2, манипулирование несколькими регистрами позволяет выполнить умножение или деление на другие числа. Например, приведенная ниже последовательность команд делит содержимое регистра АХ на 10:\n",
    "\n",
    "    MOV BX, 10    ; Сохранить содержимое AX в BX\n",
    "    SHL AX, 1     ; Сдвинуть АX (умножить на 2)\n",
    "    SHL AX, 1     ; Сдвинуть АX еше раз (умножить на 4)\n",
    "    ADD AX,BX     ; Сложить с исходным эначением АX (умножить на 5)\n",
    "    SHL AX, 1     ; Сдвинуть АX еще раз (умножить на 10)\n",
    "Хотя в этой последовательности пять команд, но выполняется она в 11 раз быст- рес одной команды MUL!"
   ]
  },
  {
   "cell_type": "markdown",
   "id": "5275b355",
   "metadata": {},
   "source": [
    "# Команды циклического сдвига\n",
    "Команды циклического сдвига похожи на команды сдвига, но в отличие от последних сохраняют сдвинутые за пределы операнда биты, помещая их обратно в операнд. Как и при исполнении команд сдвига, сдвинутый за пределы операнда бит запоминается во флаге переноса CF.\n",
    "При исполнении команды ROL (rotate left - сдвинуть влево циклически) и ROR (rotate right - сдвинуть вправо циклически) вышедший за пределы операнда бит входит в него с противоположного конца. При исполнении команд RCL (rotate left through carry - сдвинуть влево циклически вместе с флагом переноса) и RCR (rotate right through carry - сдвинуть вправо циклически вместе с флагом переноса) в противоположный конец операнда помещается значение флага переноса CF. Все команды циклического сдвига воздействуют только на флаги CF и OF.\n",
    "Чтобы познакомиться с работой команд циклического сдвига, вернемся к исходным данным предыдущего примера: ```AL = 10110100 CF``` .\n",
    "Команды циклического сдвига воздействуют на регистр AL и флаг CF следующим образом:\n",
    "\n",
    "    После ROL AL,1: AL = 01101001 CF=1\n",
    "    После ROR AL,1: AL = 01011010 CF=0\n",
    "    Посne RCL AL,1: AL = 01101001 CF=1\n",
    "    После RCR AL,1: AL = 11011010 CF=0"
   ]
  },
  {
   "cell_type": "markdown",
   "id": "519bae3e",
   "metadata": {},
   "source": [
    "# 3.7. КОМАНДЫ ПЕРЕДАЧИ УПРаВЛЕНИЯ\n",
    "Как уже упоминалось, команды хранятся в последовательно расположенных ячейках памяти, но редко исполняются по порядку. Все программы, за исключением простейших, содержат переходы и вызовы процедур, заставляющие микропроцессор изменять путь исполнения программы.\n",
    "Команды передачи управления обеспечивают переход из одной части программы в другую. Как показано в табл. 3.9, эти команды можно подразделить на три группы: команды безусловной передачи управления, команды условной передачи управления и команды управления циклами.\n",
    "\n",
    "Таблица. 3.9. Команды передачи управления\n",
    "\n",
    "Проблема, большенство команд этой таблици никак не слияют на флаги... Жалко, что фото было запорато, в общем есть что гуглить. По этому вставлю другую фотку из инета. Тем более что исходная таблица была бесполезна. Ниодна команда не меняет регистр флагов кроме CMP. Все эти команды используют регистр флагов. Напомним, чаще всего CMP а за ним условный переход..."
   ]
  },
  {
   "cell_type": "markdown",
   "id": "f2f041a0",
   "metadata": {},
   "source": [
    "# Команды передачи управления (2)\n",
    "## Команды условного перехода\n",
    "<Команда> <Символическое имя или адрес>\n",
    "Команды условного перехода:\n",
    "- JZ - переход по \"ноль\";\n",
    "- JE - переход по \"равно\";\n",
    "- JNZ - переход по \"не нуль\";\n",
    "- JNE - переход по \"не равно\";\n",
    "- JL - переход по \"меньше\";\n",
    "- JNG, JLE - переход по \"меньше или равно \";\n",
    "- JG - переход по \"больше\";\n",
    "- JNL, JGE - переход по \"больше или равно \";\n",
    "- JA - переход по \"выше\" (беззнаковое \"больше\");\n",
    "- JNA, JBE - переход по \"не выше\"(беззнаковое \"не больше\");\n",
    "- JB - переход по \"ниже\" (беззнаковое \"меньше\");\n",
    "- JNB, JAE - переход по \"не ниже\" (беззнаковое \"не меньше Shared"
   ]
  },
  {
   "cell_type": "markdown",
   "id": "5dc2267d",
   "metadata": {},
   "source": [
    "- JA - Jump.если больше - CF=0 and ZF=0\n",
    "- JAE - Jump если больше/равно - CF=0\n",
    "- JB - Jump если меньше - CF=1\n",
    "- JBE - Jump если меньше/равно - CF=1 or ZF=1\n",
    "- JC - Jump если Carry - CF=1\n",
    "- JE - Jumpесли равно - ZF=1\n",
    "- JG - Jump если больше - ZF=0 and SF=OF\n",
    "- JGE - Jump если больше/равно - SF=OF\n",
    "- IL - Jump.если меньше - SF > OF\n",
    "- JLE - Jump если меньше/равно - ZF=1 or SF <> OF\n",
    "- JNA - Jump если не больше - CF=1 or ZF=1\n",
    "- JNAE - Jump если не больше/равно - CF=1\n"
   ]
  },
  {
   "cell_type": "markdown",
   "id": "a703d53a",
   "metadata": {},
   "source": [
    "- JNB - Jump если не меньше - CF=0\n",
    "- JNBE - Jump если не меньше/равно - CF=0 and ZF=0\n",
    "- JNC - Jump если не Carry - CF=0"
   ]
  },
  {
   "attachments": {
    "image.png": {
     "image/png": "[encoded data removed]"
    }
   },
   "cell_type": "markdown",
   "id": "a249f32e",
   "metadata": {},
   "source": [
    "![image.png](attachment:image.png)"
   ]
  },
  {
   "attachments": {
    "image.png": {
     "image/png": "[encoded data removed]"
    }
   },
   "cell_type": "markdown",
   "id": "231aeb2f",
   "metadata": {},
   "source": [
    "![image.png](attachment:image.png)"
   ]
  },
  {
   "cell_type": "markdown",
   "id": "ad3e7e51",
   "metadata": {},
   "source": [
    "\n",
    "- JNO - Jump если не переполнение - OF=0\n",
    "- JNP - Jumpreсли нечетный - PF=0\n",
    "- JNS - Jump если не знак - SF=0\n",
    "- JNZ - Jump если не ноль - ZF=0\n",
    "- JO - Jump.если переполнение - OF=1\n",
    "- JP - Jump если четный - PF=1\n",
    "- JS - Jump если знак- SF=1\n",
    "- JZ - Jump если ноль - ZF=1\n",
    "- JCXZ - Jump если CX=0 - CX=0\n",
    "- JECXZ - Jumpreсли ECX=0 - ECX=0\n",
    "- JRCXZ - Jump если RCX=0 - RCX=0"
   ]
  },
  {
   "cell_type": "markdown",
   "id": "116fbba7",
   "metadata": {},
   "source": [
    "    CALL\n",
    "    RET\n",
    "    JMP\n",
    "    JA/JNBE\n",
    "    JAE/JNB\n",
    "    JB/JNAE/JC\n",
    "    JBE/JNA\n",
    "    JCXZ\n",
    "    JG\n",
    "    JGE\n",
    "    JNL\n",
    "    JL\n",
    "    JLE\n",
    "    JNC\n",
    "    JNO\n",
    "    JNE\n",
    "    JNP\n",
    "    JNS\n",
    "    JO\n",
    "    JS\n",
    "    JP\n",
    "    JPE\n",
    "    LOOP\n",
    "    LOOPZ\n",
    "    LOOPNZ"
   ]
  },
  {
   "cell_type": "markdown",
   "id": "31658858",
   "metadata": {},
   "source": [
    "Правда, там треш, можно я не буду это приводить... Большенство этих команд нужно приводить по современным справочникам и таблицам. В севременном Ассемблере команд условного перехода осталось не так много, всего не более 10, из них используются дай Бог 3-4. Циклы так вообще реализуются через цикл While с пост условием, потипу такого.\n",
    "\n",
    "    :metka\n",
    "        ...\n",
    "        ...\n",
    "        add cx,1\n",
    "        cmp cx,8\n",
    "    jnz metka\n",
    "\n",
    "Стр. 98-99\n",
    "\n",
    "------"
   ]
  },
  {
   "cell_type": "markdown",
   "id": "fd4d4b44",
   "metadata": {},
   "source": [
    "# Команды безусловной передачи управления # Продукты\n",
    "До сих пор приводимые в данной книге примеры содержали командв, выполняющиеся только один раз. Поэтому можно предположить, что для выполнения специфической операции в разных местах программы в каждом из них надо продублировать последовательность команд, исполняющих операцию. Конечно, такое дублирование раздражает и отнимает много времени. Кроме того, оно значительно удлиняет программу. \n",
    "\n",
    "На самом деле Вы можете избежать дублирования, если определите повторяющуюся последовательности команд как процедуру. Процедура (или, как часто говорят, подпрограмма) представляет собой совокупность команд, которая написана один раз, но может быть исполнена по мене необходимости в любом месте программы.\n",
    "\n",
    "Процесс передачи управления из основной части программы в процедуру называется вызовом, т.е. процедура вызываетси. При вызове процедуры микропроцессор 8088 исполняет ее команды, а затем возвратается к тому месту, откуда был сделан вызов.\n",
    "\n",
    "Возникают два вопроса: как вызвать процедуру и как микропроцесор 8088 возвращает упранление в нужное место программы? Для ответа на пих рассмотрим команды."
   ]
  },
  {
   "cell_type": "markdown",
   "id": "99908935",
   "metadata": {},
   "source": [
    "# Команда вызова процедуры саll и возврата из процедуры нет\n",
    "Команды, обеспечиваюите исполнение процидур, должны выполнить три функции:\n",
    "1. Обеспечить сохранение содержимого указателя команд IP. Когда процедура исполиеня, паходившийся в этом указателе адрос используется микропроцессором 8088 для возпрата к месту вызова. Мы будем называть его адресом возарата.\n",
    "2. Заставить микропроцессор начать исполнение пропедуры.\n",
    "3. Ислользовать сохраненное содержимое указателя команд IP для возирата програмыу и обеспечить продолжение се исполнения с этого моста.\n",
    "Все эти функции выполниются двумя командами: CALL (call a procedure вызнать процедуру) и RET (retum from procedure - возвратиться из процедуры). Онн, в сушности, являются эквивадентами на изыке ассемблера операторов Бейсика GOSUB и RETURN.\n",
    "Команда CALL осуществляет функции запоминания адроса возврата и передачи управления процелуре. Она помешлет в стек адрес возврати, занимлющий 16 битов, если процодура определена с атрибутом NEAR, и 32 бита, ссли она определена с атрибутом FAR (см. разл. 2.4). Процедуры с атрибутом NEAR могут быть вызаны только из того сегмента, в котором они находятся; процедуры с атрибутом FAR могут быть вызваны и из другого сегмента. Команда CALI, имест формат\n",
    "\n",
    "    CALL ИМЯ\n",
    "    \n",
    "где имя - имя вызываемой процедуры (т.с. метка ее начала). Вели процедура имя имеет атрибут NEAR, то команиа CALL помещает смещение адреса следующей"
   ]
  },
  {
   "cell_type": "markdown",
   "id": "2953a146",
   "metadata": {},
   "source": [
    "Рис. 3.9. Воздействие процедуры на стек\n",
    "\n",
    "|Стек|---|---|\n",
    "|---|---|---|\n",
    "|SS:01F8|\n",
    "|SS:01FA|\n",
    "|SS:01FC|\n",
    "|SS:01FE|<-SP:01FE|IP:04F3|\n",
    "\n",
    "Адреса возрастают с верху в низ. Адресация ячеек шагает через несколько, предположительно по тому что адресуются 8 битные ячейки, а данные могут быть 8, 16, 32 битными.\n",
    "a) Перед исполнением команды CALL MY PROC"
   ]
  },
  {
   "cell_type": "markdown",
   "id": "3051be58",
   "metadata": {},
   "source": [
    "|Стек|---|\n",
    "|---|---|\n",
    "|SS:01F8|\n",
    "|SS:01FA|\n",
    "|04F3:SS:01FC|<-SP:01FC|\n",
    "|SS:01FE|IP:0500|\n",
    "\n",
    "б) После исполнения команды CALL MY PROC"
   ]
  },
  {
   "cell_type": "markdown",
   "id": "331be169",
   "metadata": {},
   "source": [
    "|Стек|---|---|\n",
    "|---|---|---|\n",
    "|SS:01F8|\n",
    "|SS:01FA|\n",
    "|04F3:SS:01FC|\n",
    "|SS:01FE|<-SP:01FE|IP:04F3|\n",
    "\n",
    "в) После исполнения команды RET"
   ]
  },
  {
   "cell_type": "markdown",
   "id": "da8bd809",
   "metadata": {},
   "source": [
    "команды в стек. Если процедура имя имеет атрибут FAR, то команда CALL помещает в стек содержимое регистра CS, а затем смещение адреса.\n",
    "После сохранения адреса возврата команда CALL загружает смещение адреса метки имя в указатель команд IP. Если процедура имеет атрибут FAR, то команда CALL загружает также номер блока метки имя в регистр CS.\n",
    "Команда RET заставляет микропроцессор 8088 возвратиться из процедуры в программу, вызвавшую эту процедуру делая это \"откатом\" всего, что сделала команда CALL. Команда RET обязательно должна быть последней командой процедуры, исполняемой микропроцессором 8088. (Это не значит, что команда RET должна стоять в конце процедуры - она лишь исполняется последней.)\n",
    "\n",
    "Команда RET извлекает из стека адрес возврата. Если процедура имеет атрибут NEAR (т.е. находится в том же сегменте команд, что и команда CALL), то команда RET извлекает из стека одно слово и загружает его в указатель команд IP. Если процедура имеет атрибут FAR (т.е. находится в другом сегменте команд), то команда RET извлекает из стека два слова: сначала смещение адреса для загрузки в указатель команд IP, а затем номер блока для загрузки в регистр CS.\n",
    "Например, для вызова процедуры MY_PROC с атрибутом NEAR из некоторого места Вашей программы надо указать следующую последовательность команд (в распечатке указаны также смещения адресов команд):"
   ]
  },
  {
   "cell_type": "markdown",
   "id": "6e2fbb21",
   "metadata": {},
   "source": [
    "    04F0          CALL MY_PROC MOV  ; Вызвать процедуру\n",
    "    04F3  NEXT    MOV AX, BX        ; Вернуться сюда из процедуры\n",
    "    ...\n",
    "    ...\n",
    "    0500  MY_PROC PROC              ; (начало процедуры)\n",
    "    0500          MOV  CL,6         ; Первая команда процедуры\n",
    "    ...\n",
    "    ...\n",
    "    051E          RET               ; Вернуться в вызвавшую программу\n",
    "                  ...\n",
    "    051F  MY_PROC ENDP              ; (конец процедуры)\n",
    "Стр. 111\n",
    "\n",
    "-------------"
   ]
  },
  {
   "cell_type": "markdown",
   "id": "c33a67a4",
   "metadata": {},
   "source": [
    "При исполнении команды CALL микропроцессор 8088 помещает в стек смещение адреса метки NEXT (04F3H), затем загружает смещение адреса процедуры MY_PROC (0500H) в указатель команд IP. Так как в псевдооператоре PROC атрибут дистанции не указан, то процедура MY_PROC по умолчанию имеет атрибут NEAR. Так как содержимое регистра IP изменилось, то микропроцессор 8088 продолжит исполнение с команды, имеющей это новое смещение адреса. В нашем примере такой командой будет ```MOV CL,6``` Когда микропроцессор обнаруживает команду RET, то он извлекает адрес возврата из стека и помещает его в указатель команд IP. Это заставляет его возобновить исполнение с команды, имеющей метку NEXT. На рис. 3.9 показаны стек, указатель стека SP и указатель команд IP до и после исполнения команды CALL, а также после исполнения команды RET."
   ]
  },
  {
   "cell_type": "markdown",
   "id": "1db850ba",
   "metadata": {},
   "source": [
    "# КОСВЕННЫЕ ВЫЗОВЫ ПРОЦЕДУРЫ\n",
    "До сих пор мы обсуждали только один вид команды CALL, а именно прямой вызов, при котором операндом служит метка начала процедуры. Но можно осуществить и косвенный вызов процедуры через регистр или ячейку памяти. При косвенных вызовах через ячейку памяти микропроцессор 8088 извлекает значение указателя команд IP для процедуры из сегмента данных, если только Вы не используете регистр ВР или не укажете замену сегмента. Если для адресации ячейки памяти Вы используете регистр ВР, то микропроцессор 8088 извлечет значение указателя команд IP из сегмента стека. Вы можете вызвать процедуру с атрибутом NEAR через регистр, например: ```CALL BX```.\n",
    "\n",
    "В данном случае регистр ВХ содержит смещение адреса процедуры относительно регистра сегмента CS. При исполнении этой команды микропроцессор 8088 копирует содержимое регистра ВХ в указатель команд IP, затем передает управление команде, адресуемой парой регистров CS: IP. Если, например, регистр BX содержит 1АВH, то микропроцессор 8088 извлечет следующую команду из ячейки 1АВH,\n",
    "находящейся в сегменте команд."
   ]
  },
  {
   "cell_type": "markdown",
   "id": "16a6c24c",
   "metadata": {},
   "source": [
    "Процедуру с атрибутом NEAR можно вызвать косвенно, используя переменную размером в слово, например:\n",
    "\n",
    "    CALL WORD PTR [BX]\n",
    "    CALL WORD PTR [BX][SI]\n",
    "    CALL WORD PTR VARIABLE_NAME\n",
    "    CALL WORD PTR VARIABLE_NAME[BX]\n",
    "    CALL MEM_WORD\n",
    "    CALL WORD PTR ES:[BX][SI]"
   ]
  },
  {
   "cell_type": "markdown",
   "id": "9635a11c",
   "metadata": {},
   "source": [
    "Последняя команда CALL получает адрес процедуры из ячейки дополнительного сегмента (благодаря указанию ES:); остальные команды извлекают адреса процедур из ячеек сегмента данных.\n",
    "Процедуру с атрибутом FAR можно вызвать косвенно, используя переменную\n",
    "размером в двойное слово, например:\n",
    "\n",
    "    CALL DWORD PTR[BX]\n",
    "    CALL MEM_DWORD\n",
    "    CALL DWORD PTR SS:VARIABLE_NAME[SI]\n",
    "Стр. 112\n",
    "\n",
    "--------"
   ]
  },
  {
   "cell_type": "markdown",
   "id": "3cecbe3d",
   "metadata": {},
   "source": [
    "|СodeLine0|---|СodeLine1|---|СodeLine2|---|\n",
    "|---|---|---|---|---|---|\n",
    "|ptr:0001|...|\n",
    "|ptr:0002|...|\n",
    "|ptr:0003|CALL СodeLine1|->|\n",
    "|||ptr:0001|...|\n",
    "|||ptr:0002|...|\n",
    "|||ptr:0003|CALL СodeLine2|->|\n",
    "|||||ptr:0001|...|\n",
    "|||||ptr:0002|...|\n",
    "|||||ptr:0003|...|\n",
    "|||||ptr:0004|RET|\n",
    "|||ptr:0004|...|<-|\n",
    "|||ptr:0005|RET|\n",
    "|ptr:0004|...|<-|\n",
    "|ptr:0005|RET|\n",
    "\n",
    "Рис. 3.10. Вложенные процедуры\n",
    "\n",
    "Здесь первые две команды CALL извлекают адреса процедур из сегмента данных, а последняя - из сегмента стека."
   ]
  },
  {
   "cell_type": "markdown",
   "id": "f03cd069",
   "metadata": {},
   "source": [
    "# Вложенные процедуры\n",
    "Процедура может сама вызывать другие процедуры. Например, процедура чтения символа с клавиатуры может его декодировать и в зависимости от результата вызвать одну из других процедур. Вызов одной процедуры из другой называется вложением процедур. На рис. 3.10 показаны передачи управления в программе, где процедура PROC_1 вызывает процедуру PROC_2 (т.е. процедура PROC_2 вложена в процедуру PROC_1).\n",
    "\n",
    "Обычно программисты описывают вложение в терминах уровней. О программе, изображенной на рис. 3.10 (или программе такого же типа), где вложение распространяется только на вызов CALL PROC_2 (процедура PROC_2 не вызывает других процедур), говорят, что она имеет один уровень вложения. Однако процедура PROC 2 вполне может вызывать процедуру PROC_3 (два уровня вложения), а процедура PROC_3 может вызывать процедуру PROC_4 (три уровня вложения) и т.д.\n",
    "\n",
    "Так как каждая команда CALL помещает в стек два или четыре байта адреса, то число уровней вложения ограничено только размером сегмента стека. Поскольку сегмент стека может иметь до 64 Кбайт, то возможности вложения практически не ограничены."
   ]
  },
  {
   "cell_type": "markdown",
   "id": "814fab05",
   "metadata": {},
   "source": [
    "# коМАнДА безУСЛОвногО перехоДА JMP\n",
    "Команда JMP (jump unconditionally - перейти безусловно) представляет собой эквивалент на языке ассемблера оператора Бейсика GOTO; она заставляет микропроцессор 8088 извлечь новую команду не из следующей ячейки памяти, а из какой-то другой. Команда JMP имеет формат ```JMP имя``` где операнд имя подчиняется тем же правилам, что и операнд команды CALL. Иначе говоря, он может иметь атрибут NEAR или FAR, быть прямым или косвенным. При прямом переходе команда JMP занимает три бита, если метка имя имеет атрибут NEAR, и пять байтов, если она имеет атрибут FAR. Например, команда ```JMP THERE``` занимает три байта, если метка THERE находится в том же сегменте, или пять байтов, если она находится в другом сегменте. (В последнем случае перед сегментом команды JMP должен быть указан псевдооператор EXTRN THERE: FAR, а перед сегментом, содержащим метку, - псевдооператор PUBLIC THERE.)\n",
    "\n",
    "Стр. 113\n",
    "\n",
    "---------------"
   ]
  },
  {
   "cell_type": "markdown",
   "id": "9c825f1f",
   "metadata": {},
   "source": [
    "Если адрес метки находится не далее - 128 или +128 байтов от адреса команды JMP, то можно сделать команду JMP двухбайтовой, указав, что ее операнд имеет тип SHORT (short - короткий). Например, команда ```JMP SHORT NEAR_LABEL``` займет два байта. Она исполняется за то же время, что и команда ```JMP NEAR_LABEL``` но занимает в памяти на один байт меньше. Обычно команда JMP используется для обхода группы команд, которым передается управление из другой части программы. Например, Вам может встретиться применение команды JMP вида:\n",
    "\n",
    "           ...\n",
    "           ...\n",
    "           MOV AX,BX\n",
    "           ADD DX,AX\n",
    "           JMP THERE\n",
    "    HERE   MOV MEM_WORD,DX\n",
    "           ...\n",
    "           ...\n",
    "    THERE  MOV SAVE_DX,DX\n",
    "           ...\n",
    "           ..."
   ]
  },
  {
   "cell_type": "markdown",
   "id": "b286e0db",
   "metadata": {},
   "source": [
    "# КОМАНДЫ УСЛОВНОЙ ПЕРЕДАЧИ УПРАВЛЕНИЯ\n",
    "У микропроцессора 8088 есть 17 различных команд, которые позволяют ему \"принять решение\" о ходе исполнения программы в зависимости от определенных условий, например нулевого значения регистра или единичного значения флага переноса CF. Если такое условие выполнено, то микропроцессор 8088 выполнит переход; в противном случае он продолжит исполнение со следующей команды программы. Как показано в табл. 3.9, некоторые из этих команд имеют два или три различных мнемокода. (Если учитывать эти альтернативные мнемоко- ды, то можно было бы заявить, что микропроцессор 8088 имеет 31 команду условной передачи управления. Если Вы считаете это более правильным, то всерьез подумайте о карьере менеджера по сбыту!)\n",
    "\n",
    "Например, для Ассемблера команды JA LABEL и JNBE LABEL идентичны. Действие этих команд зависит от результата исполнения предшествующей команды сравнения CMP или команд вычитания (SUB или SBB).\n",
    "\n",
    "Стр. 114\n",
    "\n",
    "-------"
   ]
  },
  {
   "cell_type": "markdown",
   "id": "b20d3207",
   "metadata": {},
   "source": [
    "Первый мнемокод JA (jump above - перейти при превышении) сообщает микропроцессору 8088, что переход надо выполнять в том случае, если приемник \"выше\" источника. А второй мнемокод JNBE (jump if not be low nor equal - перейти, если не ниже и не равен) сообщает ему, что переход надо выполнить, если приемник \"не ниже\" источника и \"не равен\" ему. Таким образом, команды JA и JNBE сообщают микропроцессору одно и то же, но в разных терминах. Это сделано исключительно для того, чтобы Вы могли написать удобные для чтения и более понятные программы, Команды условной передачи управления имеют следующий общий формат:\n",
    "    \n",
    "    JX близкая_метка\n",
    "\n",
    "где х - модификатор, состоящий из одной, двух или трех букв. Запись операнда близкая_метка подчеркивает, что метка перехода должна находиться не далее -128 или +127 байтов от команды условной передачи управления. Сравните эти команды с командой безусловного перехода JMР, которая может передать управление в любое место памяти. В табл. 3.10 описаны все команды условной передачи управления и указаны условия, выполнение которых вызывает переход (чтобы облегчить Вам поиск, все мнемокоды указанные отдельно)."
   ]
  },
  {
   "cell_type": "markdown",
   "id": "f514578c",
   "metadata": {},
   "source": [
    "Таблица 3.10. Команды условной передачи управления\n",
    "- Команда - Описание - Условие перехода -\n",
    "- JA - (CF=0 и ZF=0) Jump if Above - перейти, если выше \n",
    "- JAE - (CF=0) Jump if Above or Equal - перейти, если выше или равно\n",
    "- JB - (CF=1) Jump if Below - перейти, если ниже \n",
    "- JBE - (CF=1 или ZF=1) Jump if Below or Equal - перейти, если ниже или равно\n",
    "- JC - (CF=1) Jump if Carry - перейти, если перенос\n",
    "- JCXZ - (CX=0) Jump if CX is Zero - перейти, если значение регистра CX равно 0\n",
    "- JE - (ZF=1) Jump if Equal - перейти, если равно"
   ]
  },
  {
   "cell_type": "markdown",
   "id": "67f55c16",
   "metadata": {},
   "source": [
    "- $*$JG - (ZF=0 и SF=OF) Jump if Greater - перейти если больше\n",
    "- $*$JGE - (SF=OF) Jump if Greater or Equal - перейти, если больше или равно\n",
    "- $*$ JL - (SF!=OF) Jump if Less - перейти, если меньше\n",
    "- $*$JLE - (ZF=1 или SF!=OF) Jump if Less or Equal - перейти, если меньше или равно\n",
    "- JNA - (CF=1 или ZF=1) Jump if Nit Above - перейти, если не выше\n",
    "- JNAE - (CF=1) Jump if Not Above nor Equal - перейти, если не выше и не равно\n",
    "- JNB - (CF=0) Jump if Not Below - перейти, если не ниже\n",
    "- JNBE - (CF=0 и ZF=0) Jump if Not Below nor Equal - перейти, если не ниже и не равно\n",
    "- JNC - (CF=0) Jump if Not Carry - перейти, если нет переноса\n",
    "- JNE - (ZF=0) - Jump if Not Equal - перейти, если не равно"
   ]
  },
  {
   "cell_type": "markdown",
   "id": "952b9267",
   "metadata": {},
   "source": [
    "- $*$JNG - (ZF=1 или SF!=OF) Jump if Not Greater - перейти, если не больше\n",
    "- $*$JNGE - (SF!=OF) Jump if Not Greater nor Equal - перейти, если не больше и не равно\n",
    "- $*$JNL - (SF=OF) Jump if Not Less - перейти, если не меньше\n",
    "- $*$JNLE - (ZF=0 и SF=OF) Jump if Not Less nor Equal - перейти, если не меньше и не равно\n",
    "- $*$JNO - (OF=0) Jump if No Overflow - перейти, если нет переполнения\n"
   ]
  },
  {
   "cell_type": "markdown",
   "id": "8d1a84a5",
   "metadata": {},
   "source": [
    "- JNP - (PF=0) Jump if No Parity - перейти, если нет четности (нечетная сумма разрядов)\n",
    "- $*$JNS - (SF=0) Jump if No Sign - перейти, если знаковый разряд нулевой\n",
    "- JNZ - (ZF=0) Jump if Not Zero - перейти, если не нуль\n",
    "- $*$JO - (OF=1) Jump if Overflow - перейти, если переполнение\n",
    "- JP - (PF=1) Jump if Parity - перейти, если есть четность (четная сумма битов)\n",
    "- JPE - (PF=1) Jump if Parity Even - перейти, если сумма битов четная\n",
    "- JPO - (PF=0) Jump if Parity Odd - перейти, если сумма битов нечетная\n",
    "- JS - (SF=1) Jump on Sign - перейти, если знаковый бит равен 1\n",
    "- J2 - (ZF-1) Jump if Zero - перейти, если нуль\n",
    "- Примечание. Знаком $*$ отмечены команды, относящиеся к действиям над числами со знаком (в обратном коде).\n",
    "\n",
    "Стр. 115\n",
    "\n",
    "------------"
   ]
  },
  {
   "cell_type": "markdown",
   "id": "32a214a6",
   "metadata": {},
   "source": [
    "Команды условной передачи управления занимают в памяти два байта: первый байт содержит код операции, а второй - относительный сдвиг. Исполнение этих команд занимает 16 тактов, если происходит переход, и четыре такта, если перехода нет. Поэтому при составлении программы старайтесь подбирать такие команды условной передачи управления, при которых переход менее вероятен. Приведем несколько примеров команд условной пепедачи управления\n",
    "\n",
    "1.. Последовательность команд\n",
    "\n",
    "    ADD AL,BL\n",
    "    JC TOOBIG\n",
    "осуществляет переход к метке TOOBIG, если при сложении возник переное."
   ]
  },
  {
   "cell_type": "markdown",
   "id": "4721ba8f",
   "metadata": {},
   "source": [
    "2.. Последовательность команд\n",
    "\n",
    "    SUB AL,BL\n",
    "    JZ ZERO\n",
    "осуществляет переход к метке ZERO, если при вычитании в регистре AL оказался нулевой результат.\n",
    "\n",
    "3.. Последовательность команд\n",
    "\n",
    "    CMP AL,BL\n",
    "    JE ZERO\n",
    "осуществляет переход к метке ZERO, если значения регистров AL и BL одинаковы. (Здесь можно было бы использовать эквивалентный мнемокод - JZ, но мнемо- код JE (jump if equal - перейти, если равно) в данном случае более содержателен.)"
   ]
  },
  {
   "cell_type": "markdown",
   "id": "fb04227d",
   "metadata": {},
   "source": [
    "4.. В некоторых ситуациях приходится выбирать между двумя различными командами условного перехода в зависимости от того, проверяется результат операции над числами без знака или над числами со знаком. Предположим, что Вам требуется перейти к метке BXMORE, если содержимое регистра ВХ имеет большее значение, чем содержимое регистра АХ. Тогда надо использовать последовательность команд\n",
    "\n",
    "    CMP BX,AX\n",
    "    JA BXMORE\n",
    "если операнды не имеют знака, и последовательность команд\n",
    "\n",
    "    CMP BX,AX\n",
    "    JG BXMORE\n",
    "    \n",
    "если они имеют знак."
   ]
  },
  {
   "cell_type": "markdown",
   "id": "53ab2720",
   "metadata": {},
   "source": [
    "# СОВМЕСТНОЕ ПРИМЕНЕНИЕ КОМАНД УСЛОВНОЙ ПЕРЕДАЧИ УПРАВЛЕНИЯ И КОМАНДЫ СРАВНЕНИЯ СМР\n",
    "\n",
    "Командам условной передачи управления могут предшествовать любые команды, изменяющие состояния флагов, но обычно они используются совместно с командой сравнения СМР. В табл. 3.5 (разд. 3.5) показано, как команда СМР воздействует на флаги при разных соотношениях между источником и приемником. Теперь, после описания широкого спектра команд условной передачи управления, более \"практичной\" будет табл. 3.11, в которой показано, какими условными переходами надо пользоваться при возможных сочетаниях значений источника и приемника.\n",
    "\n",
    "Ниже (в примере 3.1) для иллюстрации типичного приложения комбинации сравнение/условная передача показан фрагмент программы, размещающий в памяти два числа без знака в порядке возрастания; предполагается, что смещения адресов этих чисел в сегменте данных находятся в регистрах BX и DI соответственно. Напоминаем, что для перестановки двух чисел в памяти одно из них необходимо загрузить в регистр, поскольку микропроцессор 8088 не имеет команды пересылки типа память-память.\n",
    "\n",
    "Стр. 116\n",
    "\n",
    "---------------"
   ]
  },
  {
   "cell_type": "markdown",
   "id": "869ef232",
   "metadata": {},
   "source": [
    "Таблица 3.11. Применение команд условной передачи управления в сочетании с командой СМР\n",
    "\n",
    "|Условие перехода|Следующая за CMP команда<br/>для чисел без знака|Следующая за CMP команда<br/>для чисел со знаком|\n",
    "|---|---|---|\n",
    "|Приемник больше источника|JA|JG|\n",
    "|Приемник равен источнику|JE|JE|\n",
    "|Приемник не равен источнику|JNE|JNE|\n",
    "|Приемник меньше источника|JB|JL|\n",
    "|Приемник меньше источника или равен ему|JBE|JLE|\n",
    "|Приемник больше источника или равен ему|JAE|JGE|"
   ]
  },
  {
   "cell_type": "markdown",
   "id": "c830f7c0",
   "metadata": {},
   "source": [
    "Одна команда сравнения может взаимодействовать с двумя командами условной передачи управления для выделения трех альтернатив: \"меньше\", \"равно\" и \"больше\". Пример 3.2 показывает фрагмент программы, в котором одна из трех групп команд выбирается в зависимости от того, будет значение регистра AL меньше, равно или больше 10.\n",
    "\n",
    "В этом фрагменте с помощью команды JAE проверяется условие \"AL выше или равно 10\". Если оно выполнено, то микропроцессор 8088 переходит к метке AE10. Затем с помощью команды JA определяется, лежит ли значение регистра AL \"выше\" 10. Если это так, то микропроцессор 8088 переходит к метке А10. Обычно первые две группы команд завершаются командой JMP, обеспечивающей обход команд остальных групп."
   ]
  },
  {
   "cell_type": "markdown",
   "id": "1d270b64",
   "metadata": {},
   "source": [
    "Пример 3.1. Размещение двух чисел в порядке возрастания\n",
    "\n",
    "            ; Этот трагмент располагает два 16-битовых числа без энака\n",
    "            ; в памяти в порядке возрастания: меньшее число заносится в\n",
    "            ; ячейку с меньшим адресом. Смешение адреса первого числа\n",
    "            ; берется из регистра ВХ; смещение авдреса второго числа - из регистра DI.\n",
    "                        \n",
    "            MOV AX,[BX]  ;Загрузить первое число в Ах\n",
    "            CMP AX,[DI]  ;Сравнить его со вторым числом \n",
    "            JBE DONE     ;Первое число меньше второго или равно ему \n",
    "            XCHG AX,[DI] ;Если нет, обменяться эначениями\n",
    "            MOV [BX],AX\n",
    "    DONE:   ...\n",
    "            ...\n",
    "Стр. 17\n",
    "\n",
    "----------------"
   ]
  },
  {
   "cell_type": "markdown",
   "id": "4c12f9c8",
   "metadata": {},
   "source": [
    "Пример 3.2. Выбор трех альтернатив\n",
    "\n",
    "    ; Этот трагмент выполинет одну из трех различных групп команд\n",
    "    ; в зависимости от того, будет ли число без онака, накодяшееся\n",
    "    ; в регистре AL, меньше 10, больше или равно ему\n",
    "            CMP AL,10 ; Сравнить AL c 10\n",
    "            JAE AE10\n",
    "            ...       ; Команды для выполнения при AL < 10\n",
    "            ...\n",
    "    AE10:   JA A10\n",
    "            ...       ; Команды для выполнения при AL = 10\n",
    "            ...\n",
    "    A10:    ...       ; Команды для выполнения при AL > 10\n",
    "            ..."
   ]
  },
  {
   "cell_type": "markdown",
   "id": "af457167",
   "metadata": {},
   "source": [
    "# КОМАНДЫ УПРАВЛЕНИЯ ЦИКЛАМИ\n",
    "Команды управления циклами обеспечивают условные передачи управления при организации циклов. У микропроцессора 8088 регистр счетчика СХ служит счетчиком числа повторений циклов. Каждая команда управления циклами уменьшает содержимое регистра СХ на 1, а затем использует его новое значение для \"принятия решения\" о выполнении или не выполнении перехода. Основная команда этой группы LOOP (loop until Count complete - повторять цикл до конца счетчика) уменьшает содержимое регистра СХ на 1 и передает управление операнду близкая_метка, если содержимое регистра СХ не равно 0. Например, для стократного выполнения определенной группы команд можно воспользоваться следующей конструкцией:\n",
    "\n",
    "            MOV CX,100 ; Загрузить число повторении в сх (Повторяемая группа команд)\n",
    "    START:  ...\n",
    "            ...\n",
    "            LOOP START ; Если не равен о, перейти к метке START,\n",
    "            ...        ; в противном случае выйти из цикла"
   ]
  },
  {
   "cell_type": "markdown",
   "id": "4cc7520d",
   "metadata": {},
   "source": [
    "Команда LOOP завершает выполнение цикла только в том случае, если содержимое регистра СХ уменьшено до 0. Однако во многих приложениях требуются такие циклы, которые должны завершаться при выполнении определенных условий до того, как содержимое регистра СХ достигнет нуля. Такое альтернативное завершение цикла обеспечивается командами LOOPE (loop if equal - повторять цикл, если равно) и LOOPNE (loop if not equal - повторять цикл, если не равно).\n",
    "\n",
    "Команда LOOPE, имеющая синоним LOOPZ (loop if zero - повторять цикл, если нуль), уменьшает содержимое регистра СХ на 1, а затем осуществляет переход, если содержимое регистра СХ не равно 0 и флаг нуля ZF равен 1. Таким образом, повторение цикла завершается, если либо содержимое регистра СХ равно 0, либо флаг ZF равен 0, либо оба они равны 0. Обычно команда LOOPE используется для поиска первого ненулевого результата в серии операций. Это иллюстрируется примером 3.3, представляющим собой фрагмент программы для поиска первого ненулевого байта в блоке памяти. Смещения адресов первого и последнего байтов блока находятся соответственно в регистрах BX и DI.\n",
    "\n",
    "Стр. 118\n",
    "\n",
    "-------------"
   ]
  },
  {
   "cell_type": "markdown",
   "id": "27709e69",
   "metadata": {},
   "source": [
    "Команда LOOPNE, имеющая синоним LOOPNZ (loop if not zero - повторять цикл, пока не нуль), уменьшает содержимое регистра СХ на 1, затем осуществляет переход, если содержимое регистра CХ не равно 0 и флаг нуля ZF равен 0. Таким образом, повторение цикла завершается, если либо содержимое регистра СХ равно 0, либо флаг ZF равен 1, либо будет выполнено и то, и другое. Обычно команда LOOPNE используется для поиска первого нулевого результата всерии операций. Если в примере 3.3 заменить команду LOOPE на команду LOOPNE, то вместо понска первого ненулевого байта этот фрагмент обеслечит поиск первого нулевого байта блока памяти.\n",
    "\n",
    "Пример 3.3. Поиск ненулевой ячейки в блоке памяти\n",
    "\n",
    "; Зтот трагмент находит первый ненулевой байт в заданном блоке памяти.\n",
    "; Смешение начального адреса блока берется ио регистра Вх\n",
    "; смешение конечного адреса блока берется из регистра DI\n",
    "; Смещение адреса ненулевого байта возвращается в регистре Вх\n",
    "; Если ненулевой байт не найден, то по возврашению вх будет\n",
    "; содержать то же эначение, что и DI"
   ]
  },
  {
   "cell_type": "markdown",
   "id": "bc1f1cf0",
   "metadata": {},
   "source": [
    "            SUB DI,BX     ; Счетчик байтов =\n",
    "            INC DI        ; (DI) - (BX) + 1\n",
    "            MOV CX,DI     ; Занести счетчик байтов в Сх\n",
    "            DEC BX\n",
    "    NEXT:   INC BX        ; Передвинуть указатель к следующей\n",
    "            CMP BYTE PTR [BX1],0 ; ячейке и сравнить ее с о\n",
    "            LOOPE NEXT    ;Перейти к сравнению следующего байта\n",
    "            JNZ NZ_FOUND  ;Найден ненулевой байт?\n",
    "            ...           ; Нет. (BX) = (DI)\n",
    "            ...\n",
    "    NZ_FOUND:   ... ; Да. Смещение адреса ненулевого\n",
    "                ... ; Элемента находится BX\n",
    "\n"
   ]
  },
  {
   "cell_type": "markdown",
   "id": "4bfac782",
   "metadata": {},
   "source": [
    "# 3.8. КОМАНДЫ ОБРАБОТКИ СТРОК\n",
    "Команды обработки строк позволяют производить действия над блоками байтов или слов памяти. Эти блоки (или строки) могут иметь длину до 64 Кбайт и состоять из числовых значений (двоичных или BCD), алфавитно-цифровых значений (типа символов в кодах ASCII), а также из любых других значений, которые могут храниться в памяти в виде двоичных кодов.\n",
    "Команды обработки строк предоставляют возможность выполнения пяти основных операций, называемых примитивами, которые обрабатывают строку по одному элементу (байту или слову) за прием. Эти примитивы (пересылка, сравнение, сканирование, загрузка и сохранение) описаны в табл. 3.12.\n",
    "\n",
    "Обратите внимание на то, что каждый примитив представлен тремя разными командами. Первая из них имеет один или два операнда (например, MOVS имеет два операнда), а две остальные не имеют операндов (например, MOVSB и MOVSW). Микропроцессор 8088 может исполнять только те команды обработки строк, которые не имеют операндов. При трансляции программы Ассемблер всегда преобразует команду с операндами в одну из команд без операндов.\n",
    "\n",
    "Стр. 119\n",
    "\n",
    "-----------"
   ]
  },
  {
   "cell_type": "markdown",
   "id": "c8d12fea",
   "metadata": {},
   "source": [
    "\n",
    "Микропроцессор 8088 предполагает, что строка-приемник находится в дополнительном сегменте, а строка-источник - в сегменте данных. Процессор адресует строку-приемник через регистр DI, а строку-источник - через регистр SI. Например, команда MOVSB копирует байт сегмента данных, адрес которого находится в регистре SI, в ячейку дополнительного сегмента, адрес которой находится в регистре DI. По-видимому, фирма Intel выбрала названия DI и SI потому, что они являются легко запоминаемыми аббревиатурами от Destination Index (индекс приемника) и Source Index (индекс источника). Остроумно или нет?\n",
    "Кстати, невзирая на то, что микропроцессор 8088 ожидает строку-приемник в дополнительном сегменте, а строку-источник - в сегменте данных, вы можете использовать и другие комбинации сегментов. Мы расскажем об этом позже. Так как команды манипулирования строками предназначены для действий над группой элементов, то они автоматически модифицируют указатели для адресации следующего элемента строки. Например, команда MOVS увеличивает или уменьшает указатели строки-источника SI и строки-приемника DI после каждого цикла своего исполнения."
   ]
  },
  {
   "cell_type": "markdown",
   "id": "60b7f1ba",
   "metadata": {},
   "source": [
    "Таблица 3.12. Команды обработки строк\n",
    "\n",
    "|Мнемокод|Формат|OF|DF|IF|TF|SF|ZF|AF|PF|CF|\n",
    "|---|---|---|---|---|---|---|---|---|---|---|\n",
    "|Префиксм повторения|\n",
    "|REP|REP|\n",
    "|REPE/REPZ|REPE|\n",
    "|REPNE/REPNZ|REPNE|\n",
    "|Пересылка|\n",
    "|MOVS|MOVS строка_приемник,<br/> строка_источник|\n",
    "|MOVSB|MOVSB|\n",
    "|MOVSW|MOVSW|"
   ]
  },
  {
   "cell_type": "markdown",
   "id": "81213446",
   "metadata": {},
   "source": [
    "|Мнемокод|Формат|OF|DF|IF|TF|SF|ZF|AF|PF|CF|\n",
    "|---|---|---|---|---|---|---|---|---|---|---\n",
    "|Сравнение|\n",
    "|CMPS|CMPS|строка_приемник,<br/> строка_источник|OF|---|---|---|SF|ZF|AF|PF|CF|\n",
    "|CMPSB|CMPSB|OF|---|---|---|SF|ZF|AF|PF|CF|\n",
    "|CMPSW|CMPSW|OF|---|---|---|SF|ZF|AF|PF|CF| \n",
    "|Сканирование|\n",
    "|SCAS|SCAS строка_приемник|OF|---|---|---|SF|ZF|AF|PF|CF|\n",
    "|SCASB|SCASB|OF|---|---|---|SF|ZF|AF|PF|CF|\n",
    "|SCASW|SCASW|OF|---|---|---|SF|ZF|AF|PF|CF|"
   ]
  },
  {
   "cell_type": "markdown",
   "id": "791e77fa",
   "metadata": {},
   "source": [
    "|Мнемокод|Формат|OF|DF|IF|TF|SF|ZF|AF|PF|CF|\n",
    "|---|---|---|---|---|---|---|---|---|---|---\n",
    "|Загрузка и сохранение|\n",
    "|LODS|LODS строка_источник|\n",
    "|LODSB|LODSB|\n",
    "|LODSW|LODSW|\n",
    "|STOS|STOS строкл_приемник|\n",
    "|STOSB|STOSB|\n",
    "|STOSW|STOSW|\n",
    "\n",
    "Примечлние, - означает сохранение значения флага, * - его изменение.\n",
    "\n",
    "Стр. 120\n",
    "\n",
    "-----------"
   ]
  },
  {
   "cell_type": "markdown",
   "id": "315ffc3b",
   "metadata": {},
   "source": [
    "Бит флага направления DF в регистре флагов микропроцессора 8088 определяет, будут значения регистров SI и DI увеличены или уменьшены по завершении выполнения команды манипулирования строками. Если флаг DF равен 0, то значения регистров SI и DI увеличиваются после исполиения каждой команды; если флаг DF равен 1, то они уменьшаются.\n",
    "Пусть, например, команда MOVS копирует элемент строки-источиика в стро- ку-приемник. Если флаг DF равен 0, то микропроцессор 8088 увеличивает значения регистров SI и DI после пересылки и тем самым адресуется к следующим элементам памяти. Если флаг DF равен 1, то микропроцессор уменьшает значения регистров SI и DI после пересылки и тем самым адресуется к предыдущему элементу памяти.\n",
    "\n",
    "Состоянием флага DF можно управлять с помощью двух команд: CLD (clear direction flag - сбросить флаг направления), которая полагает его равным нулю, и STD (установить флаг направления), которая присваивает ему значение 1. Эти команды будут обсуждаться в разделе 3.10. Можно сделать так, чтобы одна команда обработки строк обработала группу последовательных элементов памяти. Для этого перед ней надо указать префикс повторения (см. табл. 3.12). Он представляет собой не команду, а однобайтовый модификатор, который заставляет микропроцессор 8088 выполнить аппаратные повторения команды обработки строк, что значительно сокращает время на обработку длинных строк по сравнению с прог- раммно-организованными циклами."
   ]
  },
  {
   "cell_type": "markdown",
   "id": "2f40863e",
   "metadata": {},
   "source": [
    "# ПРЕФИКСЫ ПОВТОРЕНИЯ\n",
    "Префиксы повторения заставляют микропроцессор 8088 повторять команду обработки строк. Число повторений извлекается из регистра СХ. Например, последовательность команд\n",
    "\n",
    "        MOV CX,500\n",
    "    REP MOVS DEST,SOURCE\n",
    "заставит микропроцессор 8088 выполнить команду MOVS 500 раз (эту команду мы обсудим чуть позже), уменьшая значение регистра СХ после каждого повторения. В сущности, с помощью префикса REP дается указание повторять, пока не обнаружится конец строки, т.е. повторять, пока значение регистра СХ не станет равным нулю. Остальные префиксы повторения используются при \"решении\" о продолжении или прекращении повторений флаг нуля ZF. Следовательно, они приложимы только к командам сравнения строк и поиска значения в строке, которые воздействуют на флаг ZF. Префикс REPE (repeat while equal - повторять, пока не равно), имеющий синоним REPZ (repeat while zero - повторять, пока не нуль), повторяет команду, пока флаг ZF равен 1 и значение регистра СХ не равно 0. Если приписать префикс REPE команде сравнения строк CMPS, то операция сравнения будет повторяться до первого несовпадения.\n",
    "\n",
    "Стр.121\n",
    "\n",
    "________"
   ]
  },
  {
   "cell_type": "markdown",
   "id": "05510eba",
   "metadata": {},
   "source": [
    " Например, последовательность команд\n",
    "\n",
    "        MOV CX,100\n",
    "    REP CMPS DEST,SOURCE\n",
    "поэлементно сравнивает строки SOURCE и DEST до тех пор, пока не будет просмотрено 100 пар элементов или пока микропроцессор 8088 не найдет в строке DEST элемент, не совпадающий с соответствующим элементом строки SOURCE. Действия префикса REPNE (repeat while not equal - повторять, пока не равно), имеющего синоним REPNZ (repeat while not zero - повторять, пока не нуль), противоположно действию префикса REPE. Иначе говоря, префикс REPNE обеспечивает повторение модифицированной им команды, пока флаг ZF равен 0 и значение регистра СХ не равно 0. Например, последовательность команд:\n",
    "\n",
    "            MOV Cx,100\n",
    "    REPNE   CMPS DEST, SOURCE\n",
    "сравнивает строки SOURCE и DEST до тех пор, пока не будет просмотрено 100 пар элементов или пока микропроцессор 8088 не найдет в строке DEST элемент, совпадающий с соответствующим элементом в строке SOURCE."
   ]
  },
  {
   "cell_type": "markdown",
   "id": "35e7b7b6",
   "metadata": {},
   "source": [
    "# Команды пересылки строк\n",
    "# Команда пересылки строки MOVS\n",
    "Команда MOVS копирует байт или слово из одной части памяти в другую. Она имеет формат\n",
    "\n",
    "    MOVS строка_приемник, строка_источник\n",
    "Здесь строка_источник - строка в сегменте данных, а строка_приемник - строка в дополнительном сегменте. Как и в случае команды CMPS, микропроцессор 8088 использует регистр SI для адресации в сегменте данных и регистр DI для адресации в дополнительном сегменте. Таким образом, команда MOVS копирует байт или слово в дополнительный сегмент. Можно заменить сегмент, соответствующий регистру SI, но не регистру DI. Например, можно добиться копирования строки из одной части дополнительного сегмента в другую. Хотя сама по себе команда MOVS пересылает только один элемент, с помощью префикса REP можно этой командой переслать строку размером до 64 Кбайт (32K слов). Пример 3.4 представляет собой фрагмент программы, копирующий 100-байтовую строку SOURCE из сегмента данных в строку DEST дополнительного сегмента."
   ]
  },
  {
   "cell_type": "markdown",
   "id": "d7aa87df",
   "metadata": {},
   "source": [
    "Как показано в этом примере, каждая групповая пересылка с помощью команды MOVS осуществляется с помощью следующих пяти шагов:\n",
    "\n",
    "1. Обнулить флаг DF (командой CLD) или установить его (командой STD) в зависимости от того, будет ли пересылка осуществляться от младших адресов к старшим или наоборот.\n",
    "2. Загрузить смещение адреса строки-источника в регистр SI.\n",
    "3. Загрузить смещение адреса строки-приемника в регистр DI.\n",
    "4. Загрузить счетчик элементов (число пересылаемых байтов или слов) в регистр СХ.\n",
    "5. Исполнить команду MOVS с префиксом REP.\n",
    "\n",
    "Конечно, Ваша программа должа включать в себя дополнительный сегмент, вмещающий строку-приемник, и сегмент данных, вмещающий строку-источник. Обычно для строки-приемника память резервируется псевдооператором вида ```DEST DB 100 DUP(?)```.\n",
    "\n",
    "Стр. 122\n",
    "\n",
    "------"
   ]
  },
  {
   "cell_type": "markdown",
   "id": "54527a20",
   "metadata": {},
   "source": [
    "Как узнает Ассемблер, что надо переслать - байты или слова? Он определяет это по типуметок источника и приемника, указанных в поле операнда.\n",
    "\n",
    "Если эти метки были определены с помощью псевдооператоров DB, то Ассемблер преобразует MOVS в команду MOVSB. Если они были определены с помощью псевдооператоров DW, то Ассемблер преобразует MOVS в команду MOVSW. Таким образом, если Вы определите строки SOURCE и DEST с помощью псевдооператоров DW, то фрагментом программы из примера 3.4 вместо 100 байтов скопируется 100 слов.\n",
    "\n",
    "Пример 3.4. Групповая пересылка баитов\n",
    "\n",
    "    ;Этот трагмент копирует 100 байтов из строки SOURCE, находяшуюся\n",
    "    ; в сегменте данных, в строку DEST, находящуюся в дополнительном сегменте\n",
    "        CLD                    ;Положить DF = для обработки слева ;направо\n",
    "        LEE SI, SOURCE         ;Занести смешение адреса SOURCE в SI, \n",
    "        LEA DI,ES: DEST        ; a смещение адреса DEST - в DI \n",
    "            MOV Cx,100         ;Занести счетчик элементов в Сх \n",
    "    REP     MOVS DEST,SOURCE   ;Скопировать байты"
   ]
  },
  {
   "cell_type": "markdown",
   "id": "965a432e",
   "metadata": {},
   "source": [
    "# Команды пересылки байтов MOVSB и пересылки слов MOVSW\n",
    "Какое значение имеют операнды команды MOVS кроме того, что они напоминают Вам, какие строки вовлечены в пересылку? Что они сообщают Ассемблеру? Эти операнды лишь дают ему возможность преобразовать команду MOVS в одну из двух форм, непосредственно исполняемых микропроцессором 8088: MOVSB (move byte string - переслать строку байтов) или MOVSW (move word string - переслать строку слов). Для выполнения этого преобразования Ассембле- ру чадо знать только размер элементов строк, а не их адреса (которые содержатся в регистрах SI и DI).\n",
    "\n",
    "Так как размер элементов - единственная полезная информация, извлекаемая Ассемблером из команды MOVS, то почему бы не воспользоваться непосредственно командами MOVSB и MOVSW, ориентированными на конкретный размер элементов? В действительности применение команд MOVSB и MOVSW даже предпочтительнее, поскольку в этом случае Ассемблеру нет необходимости выяснить размер операндов. Как можно было ожидать, в этих командах не требуются операнды. "
   ]
  },
  {
   "cell_type": "markdown",
   "id": "23d98926",
   "metadata": {},
   "source": [
    "Они имеют следующий формат:\n",
    "\n",
    "    MOVSB\n",
    "    MOVSW\n",
    "Например, мы могли бы переписать команды из примера 3.4 в следующем виде:\n",
    "\n",
    "        CLD\n",
    "        LEA SI,SOURCE\n",
    "        LEA DI,ES:DEST\n",
    "        MOV CX,100\n",
    "    REP MOVSB"
   ]
  },
  {
   "cell_type": "markdown",
   "id": "deb36d64",
   "metadata": {},
   "source": [
    "# Замена сегмента\n",
    "Обычно регистр SI адресуется к сегменту данных, но с помощью префикса замены сегмента в операнде-источнике можно использовать другой сегмент. Например, команды\n",
    "    \n",
    "    LEA SI,ES:HERE\n",
    "    LEA DI,EB:THERE\n",
    "    MOVSB\n",
    "\n",
    "копируют байт из строки в строку ТH и, где обе строки иаходятся дополнительном сегменте,\n",
    "Так как нельзя заменить сегмент, к которому пдресуется регистр DI, то создает- ся впечатление, что приемник всегда должен находиться в дополиительном сегменте, Означает ли это, что нельзя копировать строки, в сегменте данных? Нет, строки можно копировать и в сегменте данных, но с помощью некоторого трюки, Чтобы скопировать строки в сегменте данных, надо загрузить в рогистр дополии- тельного сегмента ES значение, равное содержимому регистра данных DS, После этого при исполнении команды MOVS микропроцессор 8088 будет считать, что копирует (как обычно) строку из сегмента даиных в дополнительный сегмент, Но Вы-то знаете, что в действительности он будет копировать строку из одного места сегмента данных в другое!\n",
    "\n",
    "Стр. 123\n",
    "\n",
    "------------"
   ]
  },
  {
   "cell_type": "markdown",
   "id": "9081e086",
   "metadata": {},
   "source": [
    "В примере 3,5 показано, как этот трюк используется для копирования 100 байтов из строки SOURCE_D в строку DEST_D, где обе строки находятся в сегменте данных. Обратите внимание, что за исключением первых двух команд этот фрагмент идентичен примеру 3.4. Этот трюк применим и к другим командам обработки строк, обсуждаемым в настоящем разделе. Пример 3.5. Пересылка строк в сегменте данных\n",
    "\n",
    "    ; Этот трагмент копирует 100 байтов ио строки в SOURCED в строку \n",
    "    ; DEST_D, где обе строки находится в сегменте данных\n",
    "        PUSH DS         ; Заставить ES укарывать на сегмент данныи\n",
    "        POP ES\n",
    "        CLD             ; Положить DF о для обработки слева направо\n",
    "        LEA SI,SOURCE_D ; Занести смещение адреса SOURCE Da S1,\n",
    "        LEA DI, DEST_D  ; a смещение адреса DEST D DI \n",
    "        MOV Cx, 100     ; Занести счетчик олементов в сх\n",
    "    REP MOVSB           ; Скопировать байты\n",
    "\n"
   ]
  },
  {
   "cell_type": "markdown",
   "id": "d4ba0c21",
   "metadata": {},
   "source": [
    "# КОМАНДЫ СРАВНЕНИЯ СТРОК\n",
    "# КОМАНДА СРАВНЕНИЯ СТРОК CMPS\n",
    "Подобно команде сравнения СМР, обсуждавшейся в разд. 3.5, команда сравнения строк CMPS (compare string - сравнить строку) сопоставляет оnе- ранд-источник с операндом-приемником и возвращает результат через флаги. Команда CMPS, как и команда CMР, не изменяет значения операндов. Команда CMPS имеет формат\n",
    "\n",
    "    CMPS строка_приемник, строка_источник\n",
    "где строка_источник - строка в скгменте данных, адресуемая регистром SI, а строка_приемник - строка в дополнительном сегменте, адресуемая регистром DI. Следовательно, команда CMPS сравнивает элемент (байт или слово) сегмента данных с элементом дополнительного сегмента.\n",
    "\n",
    "Подобно команде CMP команда CMPS сравнивает операнды с помощью их вычитания. Однако CMP вычитает операнд-источник из операнда-приемника, а CMPS вычитает операнд-приемник из операнда-источника. Это означает, что \n",
    "\n",
    "Стр. 124\n",
    "\n",
    "----------"
   ]
  },
  {
   "cell_type": "markdown",
   "id": "947726a4",
   "metadata": {},
   "source": [
    "# Таблица 3.13. Применение команд условной передачи управления в сочетании с командой CMPS\n",
    "\n",
    "\n",
    "|Условие перехода|Следующая за CMPS команда<br/>для чисел бел энака|Следующая за CMPS команда<br/>для чисел со знаком|\n",
    "|---|---|---|\n",
    "|Источник больше приемника|JA|JG|\n",
    "|Источник равен приемнику|JE|JE|\n",
    "|Источник не равен приемнику|JNE|JNE|\n",
    "|Источник меньше приемника|JB|JL|\n",
    "|Источник меньше приемника<BR/>или равен ему|JBE|JLE|\n",
    "|Источник больше приемника<BR/>или равен ему|JAE|JGE|\n",
    "\n",
    "указываемые после команды CMPS команды условной передачи управления должны отличаться от тех, что в аналогичной ситуации следовали бы за командой СМР. Конкретные сведения об этом можно найти в табл. 3.13.\n",
    "Для сравнения нескольких элементов команду CMPS надо использовать с префиксом повторения. В данном случае префикс REP не имеет смысла, поскольку при его применении во флагах будет возвращен всего лишь результат сравнения двух последних элементов. С командой CMPS надо использовать префиксы REPE (REPZ) или REPNE (REPNZ)."
   ]
  },
  {
   "cell_type": "markdown",
   "id": "ee9c1952",
   "metadata": {},
   "source": [
    "Префикс REPE заставит микропроцессор 8088 сравнивать строки до тех пор, пока либо значение регистра СХ не станет равным нулю, либо не будет найдена пара несовпадающих элементов. Например, команды\n",
    "\n",
    "            CLD\n",
    "            MOV Cx, 100\n",
    "    REPE    CMPS DEST, SOURCE\n",
    "будут сравнивать до 100 пар элементов строк SOURCE и DEST, пытаясь найти два несовпадающих элемента. Префикс REPNE заставит микропроцессор 8088 сравнивать строки до тех пор, пока либо значение регистра СХ не станет равным нулю, либо не будет найдена пара совпадающих элементов. Например, команды\n",
    "\n",
    "            CLD\n",
    "            MOV CX, 100\n",
    "    REPNE   CMPS DEST, SOURCE\n",
    "    \n",
    "будут сравнивать до 100 пар элементов строк SOURCE и DEST, пытаясь найти два совпадающих элемента.\n",
    "Как и в случае команды MOVS, флаг направления DF определяет, обрабатываются строки в порядке возрастания (DF=0) или убывания (DF=1) адресов элементов, а регистры SI и DI соответствующим образом изменяются после каждой операции.\n",
    "\n",
    "Стр. 125\n",
    "\n",
    "-------------"
   ]
  },
  {
   "cell_type": "markdown",
   "id": "76660bae",
   "metadata": {},
   "source": [
    "# Проверка результатов сравнения\n",
    "Повторение операций сравнения может завершиться в двух случаях: если значение регистра CX стало равным 0 или флаг ZF стал равен 0 (префикс REPE) либо 1 (префикс REPNE), а Вам может понадобиться узнать, какой из случаев имел место. Выяснить, что же привело к прекращению сравиений, легче всего, указав после команды CMPS команду условной передачи управления, проверяющую значение флага ZF, а именно JE (JZ) или JNE (JNZ). Например, следующая последовательность команд заставит микропроцессор 8088 перейти к метке NOT_FOUND, если среди первых 100 элементов строк DEST и SOURCE нет ни одной совпадающей пары:\n",
    "\n",
    "                CLD\n",
    "                MOV CX,100\n",
    "    REPNE       CMPS DEST, SOURCE   ;Найти совпадение\n",
    "                JNE NOT FOUND       ;Совпадение обнаружено?\n",
    "                ...                 ; Да, Продолжить обработку эдесь\n",
    "    NOT_FOUND:  ... ; Нет. Продолжить обработку\n",
    "                ... ; эдесь"
   ]
  },
  {
   "cell_type": "markdown",
   "id": "5083f60e",
   "metadata": {},
   "source": [
    "# КОМАНДЫ СРАВНЕНИЯ СТРОК БАЙТОВ CMPSB И СТРОК СЛОВ CMPSW\n",
    "Ассемблер преобразует команду CMPS либо в команду CMPSB (при сравнении байтов), либо в команду CMPSW (при сравнении слов). Рекомендуем Вам вместо команды CMPS использовать эти команды, ориентированные на конкретный размер элементов и не имеющие операндов. \n",
    "# КОМАНДЫ СКАНИРОВАНИЯ СТРОК\n",
    "Команды сканирования строк позволяют осуществить поиск заданного значения в строке, находящейся в дополнительном сегменте. Смещение адреса первого элемента строки должно быть помещено в регистр DI.\n",
    "При сканировании строки байтов искомое значение должно находиться в регистре AL, а при сканировании строки слов - в регистре AX. Операция сканирования представляет собой не что иное, как сравнение с содержимым аккумулятора, и воздействует на флаги точно так же, как команды сканирования строк."
   ]
  },
  {
   "cell_type": "markdown",
   "id": "accd48e6",
   "metadata": {},
   "source": [
    "# КОМАНДА СКАНИРОВАНИЯ сТРОКИ SCAS\n",
    "Основная команда группы команд сканирования строк SCAS (scan string - сканировать строку) имеет формат\n",
    "\n",
    "    SCAS стройка_приемник\n",
    "где строка_приемник идентифицирует строку в дополнительном сегменте, смещение адреса которой находится в регистре DI. Этот операнд сообщает микропроцессору 8088, что представляет собой искомое значение - байт в регистре AL или же слово в регистре АХ. Как и в случае команды CMPS, для выполнения действий более чем над одним элементом строки надо воспользоваться префиксами повторения REPE (REPZ) или REPNE (REPNZ). Например, с помощью последовательности команд\n",
    "\n",
    "         CLD\n",
    "         LEA DI,ES:N_STRING\n",
    "         MOV AL,\n",
    "         MOV CX,100\n",
    "    REPE SCAS B_STRING\n",
    "    \n",
    "можно просмотреть до 100 элементов строки байтов B_STRING в поисках элемента, отличного от пробела. Если такой элемент обнаружен, то смещение адреса следующего за ним элемента возвращается в регистре DI, а флаг нуля ZF полагается равным 0. Последующая команда JNE покажет, найден такой элемент (отсутствие перехода) или не найден (наличие перехода).\n",
    "\n",
    "Стр. 126\n",
    "\n",
    "----------"
   ]
  },
  {
   "cell_type": "markdown",
   "id": "facb266c",
   "metadata": {},
   "source": [
    "# Команды сканирования строки байтов SCASB и строки слов SCASW\n",
    "Ассемблер преобразует команду SCAS либо в команду SCASB (при поиске байта), либо в команду SCASW (при поиске слова). Рекомеидуем Вам вместо команды SCAS использовать эти команды, ориентированные на конкретный размер элементов и не имеющие операидов.\n",
    "\n",
    "# КОМАНДЫ ЗАГРУЗКИ И СОХРАНЕНИЯ СТРОКИ\n",
    "После отыскания элемента с помощью команды сравнения или сканирования строки с ним обычно требуется выполнить какие либо действия. Может понадобиться загрузить этот элемент в регистр (скажем, чтобы точно определить его значение) или изменить его. Эти операции могут быть выполиены с помощью команд загрузки и сохранения строки.\n",
    "# Команда загрузки LODS\n",
    "Команда LODS (load string - загрузить строку) пересылает операнд строка_ источник, адресованный регистром SI, из сегмента данных в регистр AL (при пересылке байта) или в регистр АХ (при пересылке слова), а затем изменяет регистр SI так, чтобы, он указывал на следующий элемент строки. Его значение увеличивается, если флаг направления DF равен 0, и уменьшается, если флаг DF равен 1."
   ]
  },
  {
   "cell_type": "markdown",
   "id": "b3b81328",
   "metadata": {},
   "source": [
    "Например, приведенный ниже фрагмент программы сравнивает строки DEST и SOURCE длиной 500 байтов каждая в поисках первой пары несовпадающих элементов. Если обнаружено несовпадение, то элемент строки SOURCE загружается в регистр AL.\n",
    "\n",
    "            CLD\n",
    "            LEA DI ,ES: DEST ; Взять Смещение адреса DEST\n",
    "            LEA SI, SOURCE   ; и SOURCE\n",
    "            MOV Cx, 500      ; Счетчик элементов\n",
    "\n",
    "    REPE    CMPSB       ; Искать до несовпадения элементов \n",
    "            JCXZ MANCH  ; Несовпадение обнаружено?\n",
    "            DEC SI      ; Да, Подправить регистр SI,\n",
    "            LODS SOURCE ; считать элемент в регистр AL\n",
    "            ...         ; и обработать его\n",
    "            ...\n",
    "    MATCH:  ...  ; Несовпадения нет. Продолжить обработку одесь\n",
    "Команда LODS оперировала байтами, следовательно, она либо увеличивала значение регистра SI на 1 (при DF=0), либо уменьшала его на 1 (при DF=1). Как обычно, команда LODS имеет сокращенные формы LODSB (load byte string - загрузить строку байтов) и LODSW (load word string - загрузить строку слов).\n",
    "\n",
    "Стр. 127\n",
    "\n",
    "-----------"
   ]
  },
  {
   "cell_type": "markdown",
   "id": "de194c3c",
   "metadata": {},
   "source": [
    "# Команда сохранения строки STOS\n",
    "Команда STOS (Store string - сохранить строку) пересылает байт из регистра AL или слово из регистра AX в элемент операнда строка_приемник, находящийся в дополнительном сегменте и адресуемый регистром DI, а затем изменяет значение регистра DI так, чтобы оно указывало на следующий элемент строки. Это значение увеличивается, если флаг направления DF равен 0, и уменьшается, если флаг DF равен 1. Будучи повторяемой, команда STOS удобна для заполнения строки заданным значением. Например, следующий фрагмент программы сканирует строку W_STRING длиной в 200 слов в поисках первого ненулевого элемента. Если такой элемент обнаружен, то он и следующие за ним пять слов обнуляются.\n",
    "\n",
    "        CLD\n",
    "        LEA DI,ES:W_STRING ; Адрес строки\n",
    "        MOV AX,0           ; Искомое значение =0\n",
    "        MOV CX,200         ; Счетчик поиска = 200 слов\n",
    "    REPNE SCASW            ; Сканирует строку\n",
    "        JCXZ ALLO          ; Найдено ненудевое слово?\n",
    "        SUB DI,2           ; Да. Подправить регистр DI\n",
    "        MOV CX,6           ; и заполнить шесть слов\n",
    "    REP STOS W_STRING      ; Нулями\n",
    "    ALLO: ...              ; Нет. Продолжить здесь\n",
    "        ...           "
   ]
  },
  {
   "cell_type": "markdown",
   "id": "672f2e04",
   "metadata": {},
   "source": [
    "# 3.9 КОМАНДЫ ПРЕРЫВАНИЯ\n",
    "Подобно вызову процедуры прерывание заставляет микропроцессор 8088 сох, анить в стеке информацию для последующего возврата, а затем перейти к группе команд, находящейся в некоторой ячейке памяти. Но при вызове процедуры микропроцессор 8088 исполняет процедуру, а при прерывании - программу обработки прерывания.\n",
    "В то время как вызываемая процедура может иметь атрибуты NEAR или FAR, а ее вызов бывает прямым или косвенным, прерывание всегда вызывает косвенный переход к своей программе обработки за счет получения ее адреса из вектора прерывания (32-битовой ячейки памяти). Кроме того, вызовы процедуры сохраняют в стеке только адрес, а прерывания сохраняют еще и флаги (так же, как команда PUSHF).\n",
    "\n",
    "Прерывания могут быть инициированы внешним устройством системы или специальной командой прерывания из программы. У микропроцессора 8088 есть три различные команды прерывания - две команды вызова и одна команда возврата (табл. 3.14).\n",
    "\n",
    "Таблица 3.14. Команды прерываний\n",
    "\n",
    "|Мнемокод|Формат|OF|DF|IF|TF|SF|ZF|AF|PF|CF|\n",
    "|---|---|---|---|---|---|---|---|---|---|---|\n",
    "|INT|INT тип_прерывания|-|-|0|0|-|-|-|-|-|\n",
    "|INTO|INTO|-|-|0|0|-|-|-|-|-|\n",
    "|IRET|IRET|$*$OF|$*$DF|$*$IF|$*$TF|$*$SF|$*$ZF|$*$AF|$*$PF|$*$CF|\n",
    "\n",
    "Примечание. - означает сохранениезначения флага, * - его изменение.\n",
    "\n",
    "Стр. 128\n",
    "\n",
    "-----------"
   ]
  },
  {
   "cell_type": "markdown",
   "id": "bc8799fc",
   "metadata": {},
   "source": [
    "# Команда прерывания INT \n",
    "Команда INT (interrupt - прерывать) имеет формат ```INT тип_прерывания``` где тип_прерывания - номер; идентифицирующий один из 256 различных векторов, находящихся в памяти. (Таким образом, каждому из 256 прерываний, обсуждавшихся в гл. 1, соответствует один вектор.) При исполнении команды INT микропроцессор 8088 производит следующие действия:\n",
    "\n",
    "1. Помещает в стек регистр флагов.\n",
    "2. Обнуляет флаг трассировки TF и флаг включения-выключения прерываний IF для исключения пошагового режима исполнения команд и блокировки других маскируемых прерываний.\n",
    "3. Помещает в стек значение регистра CS.\n",
    "4. Вычисляет адрес вектора прерывания, умножая тип_ прерывания на 4.\n",
    "5. Загружает второе слово вектора прерывания в регистр CS.\n",
    "6. Помещает в стек значение указателя команд IP.\n",
    "7. Загружает в указатель команд IP первое слово вектора прерывания."
   ]
  },
  {
   "cell_type": "markdown",
   "id": "bc6493bc",
   "metadata": {},
   "source": [
    "Итак, после исполнения команды INT в стеке окажутся значения регистра флагов и регистров CS и IP, флаги TF и IF будут равны 0, а пара регистров CS:IP будет указывать на начальный адрес программы обработки прерывания. Затем микропроцессор 8088 начнет исполнять эту программу. Как упоминалось в гл. 1, 256 векторов прерывания размещаются в области памяти с младшими адресами. Так как каждый из них имеет длину 4 байта, то все они занимают первые 1К байтов, т.е. область памяти с абсолютными адресами от 0 до 3FFH. Например, команда ```INT 1AH``` заставит микропроцессор 8088 вычислить адрес вектора 68H (4$*$1АH). Следовательно он получит 16-битовые значения регистров IP и CS, отвечающие программе обработки прерывания, из ячеек 68Н и 6АН соответственно. На рис. 3.11 показаны стек, указатель стека SP, регистр сегмента команд CS и указатель команд IP до и после исполнения приведенной выше команды. В данном примере мы предполагаем, что вектор прерывания содержит адрес F000:FE6E. Из ячейки с этим адресом микропроцессор 8088 извлечет следующую команду. Из 256 типов прерываний фирма Intel зарезервировала первые 5 (от 0 до 4) для внутренних прерываний. В IBM РС многие другие типы прерываний зарезервированы для нужд основной системы ввода-вывода (BIOS), а также для операционной системы DOS и интерпретатора языка Бейсик. В гл. 6 мы подробнее обсудим системные прерывания.\n",
    "\n",
    "|||\n",
    "|---|---|\n",
    "|SS:01F8|CS:049E|\n",
    "|SS:01FA|IP:0002|\n",
    "|SS:01FC||\n",
    "|SS:01FE|<-SP:01FE|\n",
    "\n",
    "a) Перед исполнением команды INT 1AH\n",
    "\n",
    "Стр. 129\n",
    "\n",
    "------------"
   ]
  },
  {
   "cell_type": "markdown",
   "id": "d85fb5fc",
   "metadata": {},
   "source": [
    "|Векторы прерываний|||\n",
    "|---|---|---|\n",
    "|19:0064||CS:F000|\n",
    "|19:0066|||\n",
    "|1A:0068|FE6E|IP:FE6E|\n",
    "|1A:006A|F000||\n",
    "|1B:006C|||\n",
    "|1B:006E||SP:01F8|\n",
    "\n",
    "||||\n",
    "|---|---|---|\n",
    "|0004|SS:01F8|<-SP:01F8|\n",
    "|049E|SS:01FA||\n",
    "|Флаги|SS:01FC||\n",
    "||SS:01FE||\n",
    "\n",
    "\n",
    "б) После исполнения команды INT 1AH\n",
    "\n",
    "Рис. 3.11. Воздействия прерывания на стек"
   ]
  },
  {
   "cell_type": "markdown",
   "id": "7d3bb311",
   "metadata": {},
   "source": [
    "# Команда прерывания по переполнению INTO\n",
    "Команда INTO (interrupt if overflow - прервать при переполнении) представляет собой команду условного прерывания. Она инициирует прерывание линь тогда, когда флаг переполнения OF равен 1. В этом случае команда INTO передает управление программе обработки прерывания с помощью косвенного вызова через вектор прерывания 4. (Другими словами, команда INTO инициирует прерывание типа 4.)\n",
    "\n",
    "# Команда возврата после прерывания IRET\n",
    "По отношению к прерываниям команда IRET (interrupt return - возврат после обработки прерывания) играет ту же роль, что и команда RET для вызовов процедур. Она \"откатывает\" всю работу исходной операции и заставляет микропроцессор 8088 аккуратно выполнить возврат к основной программе. По этой причине команда IRET должна быть последней при исполнении микропроцес- сором 8088 программы обработки прерывания. Команда IRET извлекает из стека три 16-битовых значения и загружает их в указатель команд IP, регистр сегмента команд CS и регистр флагов соответственно. Содержимое других регистров может быть уничтожено, если в программе обработки прерывания не предусмотрено их сохранение.\n",
    "\n",
    "Стр. 130\n",
    "\n",
    "-----------"
   ]
  },
  {
   "cell_type": "markdown",
   "id": "92ec2647",
   "metadata": {},
   "source": [
    "# 3.10. КОМАНДЫ УПРАВЛЕНИЯ МИКРОПРОЦЕССОРОМ\n",
    "Эти команды позволяют управлять работой микропроцессора 8088 из программы. Как показано в табл. 3.15, они делятся на три группы: команды управления флагами, команды внешней синхронизации и команда холостого хода NOP.\n",
    "# КОМАНДЫ УПРАВЛЕНИЯ ФЛАГАМИ\n",
    "У микропроцессора 8088 есть семь команд, которые позволяют изменять флаг переноса CF, флаг направления DF и флаг прерывания IF. Команды STC (set Carry flag - установить флаг переноса) и CLC (clear Carry flag - обнулить флаг переноса) переводят флаг CF в состояния 1 и 0 соответственно. Они полезны для устаноеки нужного состояния флага CF перед исполнением команд циклического сдвига с флагом переноса RCL и RCR. Команда CMC (complement Carry flag - обратить флаг переноса) переводит флаг CF в состояние 0, если он имел состояние 1, и наоборот."
   ]
  },
  {
   "cell_type": "markdown",
   "id": "7a151723",
   "metadata": {},
   "source": [
    "Таблица 3.15. Команды управления микропроцессором\n",
    "\n",
    "|Мнемокод|Формат|OF|DF|IF|TF|SF|ZF|AF|PF|CF|\n",
    "|---|---|---|---|---|---|---|---|---|---|---|\n",
    "|STC|STC|---|---|---|---|---|---|---|---|CF=1|\n",
    "|CLC|CLC|---|---|---|---|---|---|---|---|$*$CF|\n",
    "|CMC|CMC|---|---|---|---|---|---|---|---|$*$CF|\n",
    "|STD|STD|---|DF=1|---|---|---|---|---|---|---|\n",
    "|CLD|CLD|---|DF=0|---|---|---|---|---|---|---|\n",
    "|STI|STI|---|---|IF=1|---|---|---|---|---|---|\n",
    "|CLI|CLI|---|---|IF=0|---|---|---|---|---|---|\n",
    "|Внешняя синхронизация|\n",
    "|HLT|HLT|---|---|---|---|---|---|---|---|---|\n",
    "|WAIT|WAIT|---|---|---|---|---|---|---|---|---|\n",
    "|ESC|ESC код внеш_оп, источник|---|---|---|---|---|---|---|---|---|\n",
    "|LOCK|LOCK|---|---|---|---|---|---|---|---|---|\n",
    "|Холостой ход|\n",
    "|NOP|NOP|---|---|---|---|---|---|---|---|---|\n",
    "\n",
    "Примечание. - означает сохранение значения флага, $*$ - его изменение.\n",
    "\n",
    "Стр. 131\n",
    "\n",
    "---------"
   ]
  },
  {
   "cell_type": "markdown",
   "id": "debefed9",
   "metadata": {},
   "source": [
    "Команда STD (set direction flag - установить флаг направления) и CLD (clear direction flag - обнулить флаг направления) переводят флаг DF в состояния 1 и 0 соответственно. Они используются для указания направления обработки строк. Если флаг DF равен 0, то после каждой операции над строкой значения индексных регистров SI и DI увеличиваются; если флаг DF равен 1, то они уменьшаются. Например, последовательность команд\n",
    "\n",
    "        MOV CL,100\n",
    "        CLD\n",
    "    REP MOVS DEST, SOURCE\n",
    "    \n",
    "пересылает элементы SOURCE,…, SOURCE+99 в ячейки DEST,…, DEST+99. A последовательность команд\n",
    "\n",
    "        MOV CX, 100\n",
    "        STD\n",
    "    REP MOVS DEST, SOURCE\n",
    "наоборот, пересылает элементы SOURCE,…, SOURCE-99 в ячейки DEST,…, DEST-99. Команда CLI (clear interrupt flag - обнулить флаг прерывания) обнуляет флаг IF, что заставляет микропроцессор 8088 игнорировать маскируемые прерывания, инициируемые внешними устройствами системы. Обычно игнорирование таких прерываний требуется в тех случаях, когда микропроцессор выполняет приори- тетную или критичную по времени исполнения работу, которую нельзя прерывать. Однако если флаг IF равен 0, микропроцессор все-таки будет обрабатывать немас- кируемые прерывания. Команда STI (set interrupt flag - установить флаг прерываний) переводит флаг IF в состояние 1, что разрешает микропроцессору 8088 реагировать на прерывания, инициируемые внешними устройствами."
   ]
  },
  {
   "cell_type": "markdown",
   "id": "cb07d3d3",
   "metadata": {},
   "source": [
    "# КОМАНДЫ ВНЕШНЕЙ СИНХРОНИЗАЦИИ\n",
    "Эти команды используются в основном для синхронизации действий микропроцессора 8088 с внешними событиями.\n",
    "Команда HLT (halt - остановиться) переводит микропроцессор 8088 в состояние останова, при котором он находится на холостом ходу и не выполняет никакие команды. Микропроцессор 8088 выходит из состояния останова только в том случае, если Вы заново инициировали его или если он получил внешнее прерывание, немаскируемое или маскируемое (если флаг IF равен 1). Команду HLT можно использовать для перевода микропроцессора в состояние ожидания прерывания (например, набора символа на клавиатуре) перед последующей его обработкой.\n",
    "\n",
    "Команда WAIT (wait - ожидать) также переводит микропроцессор 8088 на холостой ход, но при этом через каждые пять тактов он проверяет активность входной линии по имени TEST. В этом состоянии микропроцессор способен обрабатывать прерывания, но по завершении программы обработки прерывания он вновь возвратится в это состояние.\n",
    "Если линия TEST становится активной, то микропроцессор 8088 переходит к следующей за WAIT команде. Назначение команды WAIT - останов микропроцессора на то время, пока некоторое внешнее устройство не завершит свою работу.\n",
    "Прочитав, что команды HLT и WAIT останавливают микропроцессор, Вы можете предположить, что команда ESC (escape - убежать) отправит его в отпуск! Это не так. Команда ESC попросту заставляет его извлечь содержимое указанного в ней операнда и передать его на шину данных. Тем самым команда ESC обеспечивает другим микропроцессорам системы возможность получения своих команд из потока команд микропроцессора 8088.\n",
    "\n",
    "Стр. 132\n",
    "\n",
    "----------------"
   ]
  },
  {
   "cell_type": "markdown",
   "id": "2009018a",
   "metadata": {},
   "source": [
    "Команда ESC имеет формат ```ESC внешний код, источник``` где внешний_ код - 6-битовый непосредственный операнд, а источник - регистр или переменная. Команда ESC часто используется для передачи команд математическому сопроцессору 8087 (подробнее об этом см. в гл. 12). В этом случае внешний код представляет собой код операции сопроцессора 8087, а содержимое источник - его операнд. Однобайтовый префикс LOCK (lock the bus - замкнуть шину) может предшествовать любой команде. Он заставляет микропроцессор 8088 активизировать сигнал LOCK своей шины на все время исполнения этой команды. А пока сигнал LOCK активен, никакой другой процессор системы не может использовать шину.\n",
    "\n",
    "# Команда холостого хода\n",
    "Последняя команда NOP (no operation - нет операции) проще всех, так как она не выполняет никакой операции. Команда NOP не действует ни на флаг, ни на регистры, ни на ячейки памяти; она только увеличивает значение указателя команд IP.\n",
    "Как ни странно, существует множество применений команды NOP. Например, ее кодом операции (90Н) можно \"забить\" объектный код в том случае, если Вам надо удалить команду, не транслируя программу заново. Кроме того, команда NOP удобна при тестировании последовательности команд: можно сделать команду NOP последней в тестируемой программе и тем самым получить удобное место для остановки трассировки. Можно найти и другие приложения для этой полезной команды."
   ]
  },
  {
   "cell_type": "markdown",
   "id": "999e4d5c",
   "metadata": {},
   "source": [
    "# 3.11. ОБЗОР КЛЮЧЕВЫХ МОМЕНТОВ ГЛАВЫ\n",
    "В этой главе Вы познакомились со следующими ключевыми моментами:\n",
    "\n",
    "1.. Микропроцессор 8088 может использовать семь различных методов (или режимов ) для получения тех данных, которыми должна оперировать команда. Ассемблер задает ему соответствующий режим на основе формата операнда, указанного в исходной программе.\n",
    "\n",
    "2.. Простейшими режимами адресации являются регистровый и непосредственный, поскольку в этом случае микропроцессор 8088 получает значение операнда из регистра или непосредственно из команды. При остальных пяти режимах адресации - прямом, косвенном, регистровом, по базе, прямом с индексирова- нием, по базе с индексированием, микропроцессор 8088 должен вычислить адрес ячейки памяти, затем прочитать из нее значение операнда. Вычисление адреса может заключатся в простом извлечении его из команды (при прямой адресации), но может потребовать и сложения до трех компонентов (при адресации по базе с индексированием).\n",
    "\n",
    "3.. Команды пересылки данных микропроцессора 8088 пересылают данные и адреса между регистрами или между регистром и ячейкой памяти либо портом ввода-вывода. Команды этой группы делятся на четыре подгруппы: команды общего назначения, команды ввода-вывода, команды пересылки адреса и команды пересылки флагов.\n",
    "\n",
    "Стр. 133\n",
    "\n",
    "--------------"
   ]
  },
  {
   "cell_type": "markdown",
   "id": "a14fc82a",
   "metadata": {},
   "source": [
    "4.. Наиболее употребительная команда общего назначения MOV копирует байт или слово из регистра в ячейку памяти и наоборот, а также из регистра в регистр. Она может также скопировать непосредственное значение в регистр или ячейку памяти. Другими полезными командами общего назначения являются команды PUSH (помещает слово в стек) и РОР (извлекает слово из стека). Они позволяют сохранять в стеке содержимое регистров на то время, пока программа использует их в каких-то других целях.\n",
    "\n",
    "5.. Команды пересылки адреса содержат команду загрузки исполнительного адреса LEA, которая загружает в регистр смещение адреса ячейки памяти. Команда LEA часто применяется совместно с командами обработки строк, когда требуется найти смещение адреса каждой обрабатываемой строки.\n",
    "\n",
    "6.. У микропроцессора 8088 есть команды, выполняющие арифметические операции над двоичными числами со знаком и без знака, а также над упакованными и неупакованными десятичными числами.\n",
    "\n",
    "7.. Упакованное десятичное число содержит по две цифры в каждом байте, а неупакованные - только по одной. Каждая цифра кодируется четырьмя битами, представляющими значения от 0 до 9. Так как эти цифры десятичные, а не двоичные, то подобные числа называются двоично-десятичными, или BCD-числами."
   ]
  },
  {
   "cell_type": "markdown",
   "id": "6499f784",
   "metadata": {},
   "source": [
    "8.. Существуют две разные команды сложения. Команда сложения ADD может складывать числа, помещающиеся в одном байте или в одном слове, а также младшие биты чисел повышенной точности. А команда сложения с добавлением переноса ADC может складывать только старшие биты чисел повышенной точности. Команда приращения приемника на единицу INC добавляет 1 к операнду, но не действует на флаг переноса CF.\n",
    "\n",
    "9.. Существуют также две разные команды вычитания: команда вычитания SUB и команда вычитания с заемом SBB. Имеется также команда уменьшения приемника на единицу DEC.\n",
    "\n",
    "10.. Умножение чисел без знака осуществляется командой MUL, а чисел со знаком - командой IMUL. Обе извлекают один операнд из команды, а другой либо из регистра AL (при умножении байтов), либо из регистра AX (при умножении слов). Произведение возвращается либо в регистрах АН и AL, либо в регистрах DX и AX.\n",
    "\n",
    "11.. Деление чисел без знака осуществляется командой DIV, а деление чисел со знаком - командой IDIV. Обе извлекают делитель из операнда команды. Если делителем является байт, то делимое извлекается из регистров АН и AL, частное возвращается в регистре AL, а остаток - в регистре АН. Если делителем является слово, то делимое извлекается из регистров DX и АХ, частное возвращается в регистре АХ, а остаток - в регистре DX."
   ]
  },
  {
   "cell_type": "markdown",
   "id": "f47b5199",
   "metadata": {},
   "source": [
    "12.. Микропроцессор 8088 при всех арифметических операциях рассматривает операнды как двоичные числа. Если Вы складываете, вычитаете и умножаете BCD-числа, то должны скорректировать результат. Для этого после команды ADD надо указать команду ААА (скорректировать сложение для представления в кодах ASCII), если числа не упакованы, или команду DAA (скорректировать сложение для представления в десятичной форме), если числа упакованы. Аналогично после команды SUB надо указать команду AAS (скорректировать вычитание для представления в кодах ASCII) или DAS (скорректировать вычитание для представления в десятичной форме). А после команды MUL надо указать команду AAM (скорректировать умножение для представления в кодах ASCII). Перед делением десятичных чисел надо преобразовать неупакованное делимое в двоичное число. Для этого перед командой DIV надо указать команду AAD (скорректировать деление для представления в кодах ASCII).\n",
    "\n",
    "13.. Команды расширения знака позволяют Вам оперировать смешанными данными. Команда преобразования байта в слово CBW расширяет байтовое содержимое регистра AL до слова в регистре AX. А команда преобразования слова в двойное слово расширяет слово в регистре АХ до двойного слова в регистрах DX и AX.\n",
    "\n",
    "14.. Команды манипулирования битами микропроцессора 8088 делятся на логические команды, команды сдвига и циклического сдвига.\n",
    "\n",
    "Стр. 134\n",
    "\n",
    "--------------------"
   ]
  },
  {
   "cell_type": "markdown",
   "id": "071433bd",
   "metadata": {},
   "source": [
    "15.. Логические команды выполняют операции AND (И), OR (ИЛИ) и XOR (исключающее ИЛИ) над двумя операндами. Команда проверки TEST (вариант команды AND) воздействует только на флаги и не изменяет операнды. Команда NOT выполняет дополнение операнда до единицы.\n",
    "\n",
    "16.. Команды сдвига смещают биты операнда влево или вправо. Для сдвига чисел со знаком надо использовать команды арифметического сдвига влево - SHL или вправо - SHR. С помощью этих команд можно быстро выполнять умножение и деление.\n",
    "\n",
    "17.. Команды циклического сдвига аналогичны командам сдвига, за исключе- ним того, что не уничтожают, а сохраняют биты, смещенные за пределы операнда. Команды циклического сдвига влево ROL и вправо ROR вводят эти биты в операнд с противоположного конца; команды циклического сдвига с флагом переноса влево RCL и вправо RCR помещают смещенный за пределы операнда бит во флаг CF и вводят предыдущее значение флага CF в операнд.\n",
    "\n",
    "18.. Команды передачи управления могут заставить микропроцессор 8088 перейти к другой части программы безусловно, при выполнении условия или при повторении блока команд - цикла."
   ]
  },
  {
   "cell_type": "markdown",
   "id": "f271166c",
   "metadata": {},
   "source": [
    "19.. Существуют три команды безусловной передачи управления. По команде вызова процедуры CALL микропроцессор 8088 переходит к процедуре, а по команде возврата из процедуры RET он возращается к вызвавшей ее программе. Команда перехода JMP заставляет его перейти к другой части программы.\n",
    "\n",
    "20.. Команды условной передачи управления заставляют микропроцессор 8088 осуществить переход только в случае выполнения определенного условия. Обычно им предшествует команда сравнения СМР, изменяющая состояния флагов.\n",
    "\n",
    "21.. Команды упавления циклом организуют повторение его команд, используя в качестве счетчика регистр СХ. Вариации LOOPE (повторять, пока равно) и LOOPNE (повторять, пока не равно) предусматривают альтернативное завершение цикла при значении флага ZF, равном 0 и 1 соответственно.\n",
    "\n",
    "22.. Команды обработки строк позволяют выполнять действия над последовательно расположенными байтами или словами, При выполнении этих команд микропроцессор 8088 предполагает, что операнд строка приемник находится в дополнительном сегменте и адресуется регистром DI, а операнд строка источник находится в сегменте данных и адресуется регистром SI. Для выполнения операций над последовательно расположенными элементами перед командами обработки строк надо указать префикс повторения (REP, REPE или REPNE).\n",
    "\n",
    "Стр. 135\n",
    "\n",
    "------------------------------"
   ]
  },
  {
   "cell_type": "markdown",
   "id": "97be2e55",
   "metadata": {},
   "source": [
    "23.. Команды обработки строк обеспечивают пересылку (MOVS), сравнение (CMPS), сканирование (SCANS), загрузку (LODS) и сохранение (STOS) строки. Каждая из них имеет три формы: первая имеет строковый операнд (или операнды), а двумя другими Вы задаете только размер элементов операндов (байты или слова).\n",
    "\n",
    "24.. Существуют три команды прерывания. Команда INT инициирует одно из 256 прерываний в зависимости от указанного в ней числа. Микропроцессор 8088 получает адрес программы обработки прерывания из 32-битового вектора, находящегося в области памяти с младшими адресами. Команда возврата после прерывания IRET заставляет микропроцессор вернуться к вызвавшей программе(подоб- но команде RET при вызове процедуры). Команда прерывания при переполнении INTO представляет собой условную форму команды INT; она инициирует прерывание только в том случае, когда флаг прерывания OF равен 1.\n",
    "\n",
    "25.. Команды управления микропроцессором позволяют управлять режимом работы микропроцессора 8088. К ним относятся команды, управляющие флагами переноса, направления и прерывания (CF, DF и IF), и команды синхронизации действий микропроцессора 8088 и другого микропроцессора. К ним принадлежит и команда холостого хода NOP, которая полезна для правки оттранслированных объектных объектных программ."
   ]
  },
  {
   "cell_type": "markdown",
   "id": "01f3d3bd",
   "metadata": {},
   "source": [
    "# Упражнения\n",
    "1.. Напишите команду, которая загружает содержимое регистра АХ в ячейку памяти (размером в слово) по имени SAVE_AX, находящуюся в дополнительном сегменте.\n",
    "\n",
    "2.. Определите, что делает следующая последовательность команд:\n",
    "\n",
    "    MOV AX,0\n",
    "    MOV BX,AX\n",
    "    MOV BP,AX\n",
    "    MOV [BX],AX\n",
    "    MOV [BP],AX"
   ]
  },
  {
   "cell_type": "markdown",
   "id": "dc48017c",
   "metadata": {},
   "source": [
    "3.. Какие из приведенных ниже команд и фрагментов программ ошибочны? (Исходите из того, что переменные определены в сегменте данных, а комаиды - в сегменте команд.)\n",
    "\n",
    "а)\n",
    "\n",
    "    K EQU 1024\n",
    "        ...\n",
    "        ...\n",
    "        MOV K,AX\n",
    "б)\n",
    "\n",
    "    TEMP DB ?\n",
    "        ...\n",
    "        ...\n",
    "        MOV AL,TEMP"
   ]
  },
  {
   "cell_type": "markdown",
   "id": "3b0a9e5f",
   "metadata": {},
   "source": [
    "в)\n",
    "\n",
    "    TEMP DB ?\n",
    "        ...\n",
    "        ...\n",
    "        MOV TEMP,AX\n",
    "г)\n",
    "\n",
    "    TEMP DB ?\n",
    "    T3   DB 10\n",
    "         ...\n",
    "         ...\n",
    "         MOV TEMP, T3\n",
    "д)\n",
    "\n",
    "    MOV [BX][BP],AX\n",
    "Стр. 136\n",
    "\n",
    "-----------"
   ]
  },
  {
   "cell_type": "markdown",
   "id": "2a0b7fed",
   "metadata": {},
   "source": [
    "4.. Укажите две команды, обнуляющие регистр АХ.\n",
    "\n",
    "5.. Чем отличаются действия еледующих команд:\n",
    "\n",
    "    MOV BX,OFFSET TABLE+4\n",
    "    LEA BX, TABLE+4\n",
    "6.. Напишите цикл, с помощью которого вычитается переменная V2, занимающая три слова, из переменной V1 той же длины.\n",
    "\n",
    "7.. Опишите действие следующей команды: ```MUL 10```"
   ]
  },
  {
   "cell_type": "markdown",
   "id": "1701dccb",
   "metadata": {},
   "source": [
    "8.. Если регистр АХ содержит 1234Н, а регистр ВХ - 4321H, то укажите значение регистра АХ после исполнания каждой из следующих команд: a) ```AND AX, BX``` 6) ```OR AX, BX``` в) ```XOR AX, BX``` г) ```NOT AX``` д) ```TEST AX,BX```\n",
    "\n",
    "9.. Напишите последовательность команд для нормализации значения регистра АХ. Иначе говоря, содержимое регистра АХ надо сдвигать влево до тех пор, пока старший из битов, имовших значение 1, не сместится в бит 15. Если значение регистра АХ равно 0 или бит 15 уже(солержит 1, то немедленно выйдите из цикла.\n",
    "\n",
    "10.. Опишите действие следующей последовательности команд:\n",
    "\n",
    "    START: MOV CX, 3\n",
    "        SUB AX, 10\n",
    "            LOOP START"
   ]
  },
  {
   "cell_type": "markdown",
   "id": "3778cc20",
   "metadata": {},
   "source": [
    "# ГЛАВА 4. ОПЕРАЦИИ НАД ЧИСЛАМИ ПОВЫШЕННОЙ ТОЧНОСТИ\n",
    "Если Вам приходилось программировать на языке ассемблера для 8-би- тового микропроцессора, то Вы должны по достоинству оценить арифметический потенциал микропроцессора 8088. Для начинающих наличие у микропроцессора 8088 встроенных команд умножения и деления означает, что часы (а то и дни), которые в противном случае пришлось бы потратить на разработку программ умножения и деления, можно провести более продуктивно, например поиграть в теннис. В этой главе на основе команд умножения и деления мы разработаем несколько программ, которые позволят быстрее решать математические задачи. Начнем с программ умножения 32-битовых чисел, затем обсудим обработку переполнения при выполнении деления, а в конце приведем программу вычисления квадратно- ко корня.\n",
    "\n",
    "# 4.1. УМНОЖЕНИЕ\n",
    "В главе 3 мы познакомились с двумя командами умножения микропроцессора 8088: с командой умножения чисел без знака MUL и командой умножения со знаком IMUL. Эти команды умножают операнды длиной в байт или слово, давая результат двойной длины (16- или 32-битовый). Трудно ли умножать числа, занимающие более 16 битов? Как Вы скоро увидите, вовсе нет. Любой программист, которому приходилось составлять программу умножения для 8-битового микропроцессора, знает, что наличие команды умножения компенсирует любые неудобства, связанные с расширением ее возможностей.\n",
    "\n",
    "Стр. 137\n",
    "\n",
    "----------"
   ]
  },
  {
   "cell_type": "markdown",
   "id": "2bd48d0a",
   "metadata": {},
   "source": [
    "# УМНОЖЕНИЕ ДВУХ 32-БИТОВЫХ ЧИСЕЛ БЕЗ ЗНАКА\n",
    "Команда MUL может умножать только 8- или 16-битовые значения, но ею можно воспользоваться и для умножения чисел повышенной точности без знака. Например, с ее помощью можно перемножить два 32-битовых числа. Для этого надо вычислить серию 32-битовых перекрестных произведений, а затем скомбинировать из них 64-битовый окончательный результат. Этот метод Вы изучали в начальной школе при умножении десятичных чисел в столбик. Как Вы помните (хотя в наше время карманных калькуляторов эти воспоминания могут оказаться довольно смутными), множитель записывается под множимым, а затем выполняется серия умножений - по одному для каждой цифры множителя. Таким образом, каждое частное произведение сдвигается на одну цифру влево по отношению к предыдущему произведению. Умножим, например, 124 на 103: $124*103$ = $124*100+124*00+124*3$ = $12400+00000+372$ = 12772 ; Сдвиг частных произведений отвечает десятичным весам цифр множителя. В нашем примере цифра 3 представляет единицы, цифра 0 - десятки, а цифра 1 - сотни. Следовательно, приведенный выше пример можно записать в виде  $124*103$ = $124*100+124*00+124*3$ = $12400+00000+372$ = 12772 ;"
   ]
  },
  {
   "cell_type": "markdown",
   "id": "1cade4a4",
   "metadata": {},
   "source": [
    "В этом разделе мы разработаем короткую процедуру, которая перемножает два 32-битовых числа без знака и дает 64-битовое произведение без знака. Если бы в Вашем распоряжении не было команды умножения, то Вам пришлось бы выполнить 32 отдельных умножения (по одному для каждого бита множителя). К счастью, у микропроцессора 8088 есть команда, непосредственно умножаю- щая 16-битовые числа без знака. Эта команда MUL, позволяющая нам трактовать 32-битовый множитель и 32-битовое множимое как два двузначных числа, у которых каждая цифра занимает 16 битов. Таким образом мы можем получить 64-бито- вое произведение с помощью четырех умножений. На рис. 4.1. показано символическое представление множителя (цифры А и В) и множимого (цифры С и Д) и изображено получение 64-битового окончательного результата из четырех частных произведений. Числа в кружках обозначают четыре 16-битовых сложения, которые необходимо выполнить для получения окончательного результата. (Например, сложение 1 выполняется над старшими 16 битами произведения 1 и младшими 16 битами произведения 2.)\n",
    "\n",
    "Взяв за основу метод, представленный на этом рисунке, можно разработать процедуру умножения двух 32-битовых чисел. (Ниже в примере 4.1. показана такая процедура (названная MULU32), которая получает множитель и множимое из пар регистров СХ : ВX и DX : AX соответственно.) Эта процедура возвращает 64-би- товое произведение в тех же самых регистрах: DX (старшие 16 битов), CX (старшие 16 из средних 32 битов), ВХ (младшие 16 из средних 32 битов) и АХ (младшие 16 битов). В примере 4.1 используется также несколько рабочих ячеек, которые должны быть определены в сегменте данных.\n",
    "\n",
    "Стр. 138\n",
    "\n",
    "----------"
   ]
  },
  {
   "cell_type": "markdown",
   "id": "49130cac",
   "metadata": {},
   "source": [
    "Тут очень не удобнаый рисунок, на очень не удобную тему. Даны два 16 битных числа (слова): CD и AB. Где С и А - старшие половины слов весом по 8 бит. Где D и B - младшие половины слов весом по 8 бит. D и B - младшие половины по 8 бит, а следовательно их произведение будет весом не более 16 бит. Полуаем новое машинное слово DxB - 16 бит. (DxB)H - обозначим старшую 8 битную половину слова DxB. (DxB)L - обозначим младшую 8 битную половину слова DxB. Да это бред, зато теперь мы его сможем нарисовать. Держитесь за стульчики, детки =)))\n",
    "\n",
    "|---|---|---|---|---|\n",
    "|---|---|---|---|---|\n",
    "|||C|D|Множимое|\n",
    "||x|A|B|Множитель|\n",
    "|||(BxD)H|(BxD)L|Произведение 1|\n",
    "|||(1)|||\n",
    "||(BxC)H|(BxC)L||Произведение 2|\n",
    "||(3)|(2)|||\n",
    "||(AxD)H|(AxD)L||Произведение 3|\n",
    "||(4)||||\n",
    "|(AxC)H|(AxC)L|||Произведение 4|\n",
    "|Сумма = 64-битовый окончательный результат|---|---|---|---|\n",
    "\n",
    "Рис. 4.1. Получение 64-битового произведения из четырех умножений пар 16-разрядных чисел"
   ]
  },
  {
   "cell_type": "markdown",
   "id": "c5875c69",
   "metadata": {},
   "source": [
    "Если при чтении команд и комментариев процедуры MULU32 Вы будете заглядывать в рис. 4.1, то увидите, что она очень проста. Вначале процедура MULU32 сохраняет множимое в памяти, затем образует четыре 32-битовых частных произведения. После того как частные произведения сохранены в памяти, остается только сложить их. Учтите, что флаг переноса не изменяется между сложениями, поскольку команда MOV не влияет на его состояние.\n",
    "Так как 32-битовый операнд без знака может принимать значения до 4,294  $*10^9$, то процедура MULU32 вполне пригодна для большинства приложений. (В тех случаях, когда требуются еще большие числа, надо использовать числа с плавающей точкой). Однако вполне реально разработать и процедуру умножения 64-битовых чисел (или чисел большей разрядности) по методу перекрестных произведений."
   ]
  },
  {
   "cell_type": "markdown",
   "id": "655f02b0",
   "metadata": {},
   "source": [
    "# ПРИМЕР 4. 1. ПРОЦЕДУРА УМНОЖЕНИЯ ДВУХ 32-БИТОВЫХ ЧИСЕЛ БЕЗ ЗНАКА\n",
    "    ; Зта процедура перемножает два 32-битовых числа без энака и\n",
    "    ; вoбовращает 64-битовое проиоведение. Перед входом в процедуру\n",
    "    ; множимое берется из регистров СX (старшее слово) и BX (младшее\n",
    "    ; слово), а множитель - из регистров DX (старшее слово) и Ах\n",
    "    ; (младшее слово), Произведение возврашается в регистрах DX, СX,\n",
    "    ; BX и АX (порядок указан от старших битов к младшим)\n",
    "    ; Следующие переменные должны быть определены в сегменте данных:\n",
    "\n",
    "    HI_MCND DW ?\n",
    "    LO_MCND DW ?\n",
    "    HI_PP1 DW ?\n",
    "    LO_PP1 DW ?\n",
    "    HI_PP2 DW ?\n",
    "\n",
    "Стр. 139\n",
    "\n",
    "----------"
   ]
  },
  {
   "cell_type": "markdown",
   "id": "47bc612c",
   "metadata": {},
   "source": [
    "    LO_PP2 DW ?\n",
    "    HI_PP3 DW ?\n",
    "    LO_PP3 DW ?\n",
    "    HI_PP4 DW ?\n",
    "    LO_PP4 DW ?\n",
    "    \n",
    "    ; Основная процедура\n",
    "    \n",
    "    MULU32 PROC\n",
    "        MOV HI_MCND,DX ; Сохранить множимое в памяти\n",
    "        MOV LO_MCND,AX"
   ]
  },
  {
   "cell_type": "markdown",
   "id": "2afada53",
   "metadata": {},
   "source": [
    "        MUL BX          ; Образовать частичное произведение N1\n",
    "        MOV HI_PP1, DX  ; и сохранить его в памяти\n",
    "        MOV LO_PP1,AX\n",
    "        MOV AX,HI_MCND  ; Образовать частичное произведение N2\n",
    "        MUL BX\n",
    "        MOV HI_PP2,DX   ; и сохранить его в памяти\n",
    "        MOV LO_PP2,AX\n",
    "        MOV AX, LO_MCND  ; Образовать частичное произведение N3\n",
    "        MUL CX\n",
    "        MOV HI_PP3,DX    ; и сохранить его в памяти\n",
    "        MOV LO_PP3,AX\n",
    "        MOV AX, HI_MCND  ; Образовать частичное проиоведение N4\n",
    "        MUL CX\n",
    "        MOV HI_PP4,DX    ; и сохранить его в памяти\n",
    "        MOV LO_PP4,AX"
   ]
  },
  {
   "cell_type": "markdown",
   "id": "1f5df99a",
   "metadata": {},
   "source": [
    "        ; Сложить частичные произведения для получения полного 64-битового произведения\n",
    "        MOV AX,LO_PP1 ; Младшие 16 битов\n",
    "        MOV BX,HI_PP1 ; Сформировать младшую часть\n",
    "        ADD BX,LO_PP2 ; средних битов с суммой N1\n",
    "        ADC HI_PP2,0\n",
    "        ADD BX,LO_PP3 ; и суммой N2\n",
    "        MOV CX,HI_PP2 ; Стормировать старшую часть \n",
    "        ADC CX,HI_PP3 ; средних битов суммой N3\n",
    "        ADC HI_PP4,0\n",
    "        ADD CX,LO_PP4 ; и суммой N4\n",
    "        MOV DX,HI_PP4 ; Сформировать старшие 16 битов\n",
    "        ADC DX,0      ; с продвинутым Флагом переноса\n",
    "        RET\n",
    "    MULU32 ENDP"
   ]
  },
  {
   "cell_type": "markdown",
   "id": "33af8192",
   "metadata": {},
   "source": [
    "# УМНОЖЕНИЕ ДВУХ 32-бИТОВЫХ ЧИСЕЛ СО ЗНАКОМ\n",
    "Процедура умножения чисел без знака (пример 4.1) может умножать и числа со знаком, если они положительны. Другими словами, этот пример представляет собой процедуру умножения двух 32-битовых неотрицательных чисел. С помощью этой процедуры нельзя умножать отрицательные числа, потому что они представляются в форме дополнения до двух. Ну хорошо, а если просто заменить в примере 4.1 каждую команду MUL на команду умножения чисел со знаком IMUL? К несчастью, это не поможет, потому что команда IMUL рассматривает старший бит каждого операнда как признак знака, а при получении перекрестных произведений это не так.\n",
    "\n",
    "Но как же перемножить 32-битовые числа со знаком? Один из вариантов состоит в изменении знака отрицательных операндов, выполнении обычного умножения чисел без знака и последующей коррекции знака произведения (если это необходимо). Когда только один из операндов отрицателен, надо вычислить дополнение произведения до двух. Если оба операнда отрицательны, то (положительное) произведение не требует коррекции.\n",
    "\n",
    "Стр. 140\n",
    "\n",
    "---------------"
   ]
  },
  {
   "cell_type": "markdown",
   "id": "7b2fd320",
   "metadata": {},
   "source": []
  },
  {
   "cell_type": "markdown",
   "id": "d587391b",
   "metadata": {},
   "source": []
  },
  {
   "cell_type": "markdown",
   "id": "03c0d60e",
   "metadata": {},
   "source": []
  }
 ],
 "metadata": {
  "kernelspec": {
   "display_name": "Python 3 (ipykernel)",
   "language": "python",
   "name": "python3"
  },
  "language_info": {
   "codemirror_mode": {
    "name": "ipython",
    "version": 3
   },
   "file_extension": ".py",
   "mimetype": "text/x-python",
   "name": "python",
   "nbconvert_exporter": "python",
   "pygments_lexer": "ipython3",
   "version": "3.11.4"
  }
 },
 "nbformat": 4,
 "nbformat_minor": 5
}
