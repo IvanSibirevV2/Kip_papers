{
 "cells": [
  {
   "cell_type": "code",
   "execution_count": 1,
   "id": "bd0d7db3",
   "metadata": {},
   "outputs": [
    {
     "name": "stdout",
     "output_type": "stream",
     "text": [
      "\\MacOs_Sequoia.ipynb : 10.123122215270996  мегобайт  2025-03-05 17:01:25.795079\n"
     ]
    }
   ],
   "source": [
    "import os;import math;import sys;import datetime;\n",
    "var='\\\\MacOs_Sequoia.ipynb'\n",
    "print (var,':',os.path.getsize(os.path.abspath(os.curdir)+var)/math.pow(2, 20),' мегобайт ',datetime.datetime.now())"
   ]
  },
  {
   "cell_type": "markdown",
   "id": "9a31c147",
   "metadata": {},
   "source": [
    "http://localhost:8888/files/Kip_papers/Untitled_1121/_OceanofPDF.com_macOS_Sequoia_For_Dummies_-_Guy_Hart-Davis.pdf"
   ]
  },
  {
   "cell_type": "markdown",
   "id": "2d507ddb",
   "metadata": {},
   "source": []
  },
  {
   "cell_type": "markdown",
   "id": "9f4dde6e",
   "metadata": {},
   "source": []
  },
  {
   "cell_type": "markdown",
   "id": "759d6e3b",
   "metadata": {},
   "source": []
  },
  {
   "cell_type": "markdown",
   "id": "d28f86d1",
   "metadata": {},
   "source": []
  },
  {
   "cell_type": "markdown",
   "id": "fb271a10",
   "metadata": {},
   "source": []
  },
  {
   "cell_type": "markdown",
   "id": "f9db7446",
   "metadata": {},
   "source": []
  },
  {
   "cell_type": "markdown",
   "id": "2d3a2462",
   "metadata": {},
   "source": []
  },
  {
   "cell_type": "markdown",
   "id": "2abea430",
   "metadata": {},
   "source": []
  },
  {
   "cell_type": "markdown",
   "id": "e330ec23",
   "metadata": {},
   "source": []
  },
  {
   "cell_type": "markdown",
   "id": "bd72a0ea",
   "metadata": {},
   "source": []
  },
  {
   "cell_type": "markdown",
   "id": "58b5cd18",
   "metadata": {},
   "source": []
  },
  {
   "cell_type": "markdown",
   "id": "2872f9df",
   "metadata": {},
   "source": []
  },
  {
   "cell_type": "markdown",
   "id": "aaf06bc5",
   "metadata": {},
   "source": []
  },
  {
   "cell_type": "markdown",
   "id": "d35545b2",
   "metadata": {},
   "source": []
  },
  {
   "cell_type": "markdown",
   "id": "9a92998e",
   "metadata": {},
   "source": []
  },
  {
   "cell_type": "markdown",
   "id": "5c2ad11f",
   "metadata": {},
   "source": []
  },
  {
   "cell_type": "markdown",
   "id": "d3a907e4",
   "metadata": {},
   "source": []
  },
  {
   "cell_type": "markdown",
   "id": "cf2f36d1",
   "metadata": {},
   "source": []
  },
  {
   "cell_type": "markdown",
   "id": "e4ca003f",
   "metadata": {},
   "source": []
  },
  {
   "cell_type": "markdown",
   "id": "84ce3a69",
   "metadata": {},
   "source": []
  },
  {
   "cell_type": "markdown",
   "id": "f3803d6d",
   "metadata": {},
   "source": []
  },
  {
   "cell_type": "markdown",
   "id": "4f220ab6",
   "metadata": {},
   "source": []
  },
  {
   "cell_type": "markdown",
   "id": "a8d98383",
   "metadata": {},
   "source": []
  },
  {
   "cell_type": "markdown",
   "id": "00bb312f",
   "metadata": {},
   "source": []
  },
  {
   "cell_type": "markdown",
   "id": "58fd366c",
   "metadata": {},
   "source": []
  },
  {
   "cell_type": "markdown",
   "id": "59eb46bf",
   "metadata": {},
   "source": []
  },
  {
   "cell_type": "markdown",
   "id": "53bf3ab5",
   "metadata": {},
   "source": []
  },
  {
   "cell_type": "markdown",
   "id": "78ade076",
   "metadata": {},
   "source": []
  },
  {
   "cell_type": "markdown",
   "id": "32443967",
   "metadata": {},
   "source": []
  },
  {
   "cell_type": "markdown",
   "id": "60cad610",
   "metadata": {},
   "source": []
  },
  {
   "cell_type": "markdown",
   "id": "7ba780f8",
   "metadata": {},
   "source": []
  },
  {
   "cell_type": "markdown",
   "id": "a5f5d2a7",
   "metadata": {},
   "source": []
  },
  {
   "cell_type": "markdown",
   "id": "29f49c46",
   "metadata": {},
   "source": []
  },
  {
   "cell_type": "markdown",
   "id": "6a05bd4c",
   "metadata": {},
   "source": []
  },
  {
   "cell_type": "markdown",
   "id": "3529b3d6",
   "metadata": {},
   "source": []
  },
  {
   "cell_type": "markdown",
   "id": "51255820",
   "metadata": {},
   "source": []
  },
  {
   "cell_type": "markdown",
   "id": "4c214628",
   "metadata": {},
   "source": []
  },
  {
   "cell_type": "markdown",
   "id": "456a9266",
   "metadata": {},
   "source": []
  },
  {
   "cell_type": "markdown",
   "id": "c9d70618",
   "metadata": {},
   "source": []
  },
  {
   "cell_type": "markdown",
   "id": "83c4afa5",
   "metadata": {},
   "source": []
  },
  {
   "cell_type": "markdown",
   "id": "887b9df5",
   "metadata": {},
   "source": []
  },
  {
   "cell_type": "markdown",
   "id": "5d32c925",
   "metadata": {},
   "source": []
  },
  {
   "cell_type": "markdown",
   "id": "3a1bb444",
   "metadata": {},
   "source": []
  },
  {
   "cell_type": "markdown",
   "id": "bbd2e7d6",
   "metadata": {},
   "source": []
  },
  {
   "cell_type": "markdown",
   "id": "1c944b2b",
   "metadata": {},
   "source": []
  },
  {
   "cell_type": "markdown",
   "id": "c5bc9755",
   "metadata": {},
   "source": []
  },
  {
   "cell_type": "markdown",
   "id": "df29bfa0",
   "metadata": {},
   "source": []
  },
  {
   "cell_type": "markdown",
   "id": "1f2e43c6",
   "metadata": {},
   "source": []
  },
  {
   "cell_type": "markdown",
   "id": "2c0b3548",
   "metadata": {},
   "source": []
  },
  {
   "cell_type": "markdown",
   "id": "35744980",
   "metadata": {},
   "source": []
  },
  {
   "cell_type": "markdown",
   "id": "5986cc86",
   "metadata": {},
   "source": []
  },
  {
   "cell_type": "markdown",
   "id": "50387816",
   "metadata": {},
   "source": []
  },
  {
   "cell_type": "markdown",
   "id": "d1164770",
   "metadata": {},
   "source": []
  },
  {
   "cell_type": "markdown",
   "id": "c25d1505",
   "metadata": {},
   "source": []
  },
  {
   "cell_type": "markdown",
   "id": "d14ac612",
   "metadata": {},
   "source": []
  },
  {
   "cell_type": "markdown",
   "id": "82618c64",
   "metadata": {},
   "source": []
  },
  {
   "cell_type": "markdown",
   "id": "fa128f2a",
   "metadata": {},
   "source": []
  },
  {
   "cell_type": "markdown",
   "id": "d491c33f",
   "metadata": {},
   "source": []
  },
  {
   "cell_type": "markdown",
   "id": "17239f1b",
   "metadata": {},
   "source": []
  },
  {
   "cell_type": "markdown",
   "id": "dd9e964f",
   "metadata": {},
   "source": []
  },
  {
   "cell_type": "markdown",
   "id": "bc7e9979",
   "metadata": {},
   "source": []
  },
  {
   "cell_type": "markdown",
   "id": "36c6b58f",
   "metadata": {},
   "source": []
  },
  {
   "cell_type": "markdown",
   "id": "31c84301",
   "metadata": {},
   "source": []
  },
  {
   "cell_type": "markdown",
   "id": "f78da635",
   "metadata": {},
   "source": []
  },
  {
   "cell_type": "markdown",
   "id": "cc0e61e1",
   "metadata": {},
   "source": []
  },
  {
   "cell_type": "markdown",
   "id": "eb2c8710",
   "metadata": {},
   "source": []
  },
  {
   "cell_type": "markdown",
   "id": "5ad41c83",
   "metadata": {},
   "source": []
  },
  {
   "cell_type": "markdown",
   "id": "6faa4f4a",
   "metadata": {},
   "source": []
  },
  {
   "cell_type": "markdown",
   "id": "37565c37",
   "metadata": {},
   "source": []
  },
  {
   "cell_type": "markdown",
   "id": "d541f447",
   "metadata": {},
   "source": []
  },
  {
   "cell_type": "markdown",
   "id": "b09f7bf1",
   "metadata": {},
   "source": []
  },
  {
   "cell_type": "markdown",
   "id": "113e315c",
   "metadata": {},
   "source": []
  },
  {
   "cell_type": "markdown",
   "id": "edb564e0",
   "metadata": {},
   "source": []
  },
  {
   "cell_type": "markdown",
   "id": "7dcde5bd",
   "metadata": {},
   "source": []
  },
  {
   "cell_type": "markdown",
   "id": "6d8347af",
   "metadata": {},
   "source": []
  },
  {
   "cell_type": "markdown",
   "id": "09b56246",
   "metadata": {},
   "source": []
  },
  {
   "cell_type": "markdown",
   "id": "8aa70170",
   "metadata": {},
   "source": []
  },
  {
   "cell_type": "markdown",
   "id": "faf1148c",
   "metadata": {},
   "source": []
  },
  {
   "cell_type": "raw",
   "id": "d830fda1",
   "metadata": {},
   "source": []
  },
  {
   "cell_type": "markdown",
   "id": "ea73b725",
   "metadata": {},
   "source": []
  },
  {
   "cell_type": "markdown",
   "id": "71e1804d",
   "metadata": {},
   "source": []
  },
  {
   "cell_type": "markdown",
   "id": "61aa3915",
   "metadata": {},
   "source": []
  },
  {
   "cell_type": "markdown",
   "id": "b95fc53f",
   "metadata": {},
   "source": []
  },
  {
   "cell_type": "markdown",
   "id": "fbbca005",
   "metadata": {},
   "source": []
  },
  {
   "cell_type": "markdown",
   "id": "0e5a4505",
   "metadata": {},
   "source": []
  },
  {
   "cell_type": "markdown",
   "id": "f0a59267",
   "metadata": {},
   "source": []
  },
  {
   "cell_type": "markdown",
   "id": "2e4ebbcd",
   "metadata": {},
   "source": []
  },
  {
   "cell_type": "markdown",
   "id": "8930df32",
   "metadata": {},
   "source": []
  },
  {
   "cell_type": "markdown",
   "id": "04325300",
   "metadata": {},
   "source": []
  },
  {
   "cell_type": "markdown",
   "id": "cc268cb8",
   "metadata": {},
   "source": []
  },
  {
   "cell_type": "markdown",
   "id": "a0a59777",
   "metadata": {},
   "source": []
  },
  {
   "cell_type": "markdown",
   "id": "87cebddd",
   "metadata": {},
   "source": []
  },
  {
   "cell_type": "markdown",
   "id": "f9b70374",
   "metadata": {},
   "source": []
  },
  {
   "cell_type": "markdown",
   "id": "5392f80c",
   "metadata": {},
   "source": []
  },
  {
   "cell_type": "markdown",
   "id": "57810b9f",
   "metadata": {},
   "source": []
  },
  {
   "cell_type": "markdown",
   "id": "cf0ade45",
   "metadata": {},
   "source": []
  },
  {
   "cell_type": "markdown",
   "id": "c53963e3",
   "metadata": {},
   "source": []
  },
  {
   "cell_type": "markdown",
   "id": "d5aabf54",
   "metadata": {},
   "source": []
  },
  {
   "cell_type": "markdown",
   "id": "5d9f5f75",
   "metadata": {},
   "source": []
  },
  {
   "cell_type": "markdown",
   "id": "afe84ef7",
   "metadata": {},
   "source": []
  },
  {
   "cell_type": "markdown",
   "id": "3eb8ffdb",
   "metadata": {},
   "source": []
  },
  {
   "cell_type": "markdown",
   "id": "267330bc",
   "metadata": {},
   "source": []
  },
  {
   "cell_type": "markdown",
   "id": "39923992",
   "metadata": {},
   "source": []
  },
  {
   "cell_type": "markdown",
   "id": "a8bb2a4b",
   "metadata": {},
   "source": []
  }
 ],
 "metadata": {
  "kernelspec": {
   "display_name": "Python 3 (ipykernel)",
   "language": "python",
   "name": "python3"
  },
  "language_info": {
   "codemirror_mode": {
    "name": "ipython",
    "version": 3
   },
   "file_extension": ".py",
   "mimetype": "text/x-python",
   "name": "python",
   "nbconvert_exporter": "python",
   "pygments_lexer": "ipython3",
   "version": "3.11.4"
  }
 },
 "nbformat": 4,
 "nbformat_minor": 5
}
