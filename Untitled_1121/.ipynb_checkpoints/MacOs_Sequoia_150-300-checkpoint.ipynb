{
 "cells": [
  {
   "cell_type": "code",
   "execution_count": 1,
   "id": "bd0d7db3",
   "metadata": {},
   "outputs": [
    {
     "name": "stdout",
     "output_type": "stream",
     "text": [
      "\\MacOs_Sequoia.ipynb : 10.123122215270996  мегобайт  2025-03-05 17:01:25.795079\n"
     ]
    }
   ],
   "source": [
    "import os;import math;import sys;import datetime;\n",
    "var='\\\\MacOs_Sequoia.ipynb'\n",
    "print (var,':',os.path.getsize(os.path.abspath(os.curdir)+var)/math.pow(2, 20),' мегобайт ',datetime.datetime.now())"
   ]
  },
  {
   "cell_type": "markdown",
   "id": "9a31c147",
   "metadata": {},
   "source": [
    "http://localhost:8888/files/Kip_papers/Untitled_1121/_OceanofPDF.com_macOS_Sequoia_For_Dummies_-_Guy_Hart-Davis.pdf"
   ]
  },
  {
   "cell_type": "markdown",
   "id": "1f387d3d",
   "metadata": {},
   "source": []
  },
  {
   "cell_type": "markdown",
   "id": "5cb09a46",
   "metadata": {},
   "source": []
  }
 ],
 "metadata": {
  "kernelspec": {
   "display_name": "Python 3 (ipykernel)",
   "language": "python",
   "name": "python3"
  },
  "language_info": {
   "codemirror_mode": {
    "name": "ipython",
    "version": 3
   },
   "file_extension": ".py",
   "mimetype": "text/x-python",
   "name": "python",
   "nbconvert_exporter": "python",
   "pygments_lexer": "ipython3",
   "version": "3.11.4"
  }
 },
 "nbformat": 4,
 "nbformat_minor": 5
}
