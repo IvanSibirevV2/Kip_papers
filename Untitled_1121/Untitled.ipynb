{
 "cells": [
  {
   "cell_type": "markdown",
   "id": "84f6328f",
   "metadata": {},
   "source": [
    "# Лампочка\n",
    "# Внимание\n",
    "# Запомни\n",
    "# Новое\n",
    "# Техническая информация"
   ]
  },
  {
   "cell_type": "markdown",
   "id": "e2c01752",
   "metadata": {},
   "source": []
  },
  {
   "cell_type": "markdown",
   "id": "efa0ad70",
   "metadata": {},
   "source": []
  },
  {
   "cell_type": "markdown",
   "id": "9966ea9b",
   "metadata": {},
   "source": []
  },
  {
   "cell_type": "markdown",
   "id": "3b0d64e4",
   "metadata": {},
   "source": []
  }
 ],
 "metadata": {
  "kernelspec": {
   "display_name": "Python 3 (ipykernel)",
   "language": "python",
   "name": "python3"
  },
  "language_info": {
   "codemirror_mode": {
    "name": "ipython",
    "version": 3
   },
   "file_extension": ".py",
   "mimetype": "text/x-python",
   "name": "python",
   "nbconvert_exporter": "python",
   "pygments_lexer": "ipython3",
   "version": "3.11.4"
  }
 },
 "nbformat": 4,
 "nbformat_minor": 5
}
