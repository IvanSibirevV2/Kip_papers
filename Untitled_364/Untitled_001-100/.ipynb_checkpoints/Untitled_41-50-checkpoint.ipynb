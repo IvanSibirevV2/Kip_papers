{
 "cells": [
  {
   "cell_type": "code",
   "execution_count": 1,
   "id": "35982aa0",
   "metadata": {},
   "outputs": [
    {
     "name": "stdout",
     "output_type": "stream",
     "text": [
      "\\_Untitled_41-50.ipynb : 0.052216529846191406  мегобайт  2025-02-02 00:25:02.794323\n"
     ]
    }
   ],
   "source": [
    "import os;import math;import sys;import datetime;\n",
    "var='\\\\_Untitled_41-50.ipynb'\n",
    "print (var,':',os.path.getsize(os.path.abspath(os.curdir)+var)/math.pow(2, 20),' мегобайт ',datetime.datetime.now())"
   ]
  },
  {
   "cell_type": "markdown",
   "id": "630d6137",
   "metadata": {},
   "source": [
    "# Совет\n",
    "\n",
    "Как правило, переменным с большой областью действия даются более длинные имена, а для переменных, вся «жизнь» которых - несколько строк исходного текста, хватит и одной буквы с комментарием при объявлении. В листинге 3.1 приведен пример программы, в которой описываются и выводятся на экран локальные переменные.\n",
    "\n",
    "Листинг 3.1. Описание переменных\n",
    "\n",
    "    using System;\n",
    "    namespace ConsoleApplicationl\n",
    "    {\n",
    "        class Classl\n",
    "        {\n",
    "            static void Main()\n",
    "            {\n",
    "                int 1 = 3;\n",
    "                double y = 4.12;\n",
    "                decimal d = 600m;\n",
    "                string s = \"Вася\";\n",
    "                Console.Write( \"i=\");Console.WriteLine( i );\n",
    "                Console.Write( \"y = \" ); Console.WriteLine( y );\n",
    "                Console.Write( \"d = \" ); Console.WriteLine( d ):\n",
    "                Console.Write( \"s = \" ); Console.WriteLine( s );\n",
    "           }\n",
    "       }\n",
    "   }            "
   ]
  },
  {
   "cell_type": "markdown",
   "id": "d4a3d5cc",
   "metadata": {},
   "source": [
    "Как вы догадались, метод Write делает то же самое, что и WriteLine, по не переводит строку. Более удобные способы вывода рассмотрены в конце этой главы в разделе «Простейший ввод-вывод» (см. с. 59).\n",
    "\n",
    "# ВНИМАНИЕ\n",
    "Переменные создаются при входе в их область действия (блок) и уничтожаются при выходе. Это означает, что после выхода из блока значение переменной не сохраняется. При повторном входе в этот же блок переменная создается заново.\n",
    "\n",
    "# Именнованные константы\n",
    "Можно запретить изменять значение переменной, задан при ее описании ключевое слово сonst, например:\n",
    "\n",
    "    const int b = 1;\n",
    "    const float x = 0.1;\n",
    "    const float y = 0.1f; // const распространяется на обе переменные\n",
    "\n",
    "Такие величины пазывают именованными константами, или просто константами. Они применяются для того, чтобы вместо значений констант можно было использовать в программе их имена. Это делает программу более понятной и облегчает внесение в нее изменений, поскольку изменить значение достаточио только в одном месте программы.\n",
    "\n",
    "Стр. 41\n",
    "\n",
    "------------"
   ]
  },
  {
   "cell_type": "markdown",
   "id": "5c3cfe3c",
   "metadata": {},
   "source": [
    "# ПРИМЕЧАНИЕ\n",
    "Улучшение читабельности происходит только при осмысленном выборе имен констант, В хорошо написанной программе вообще не должно встречаться иных чисел, кроме 0 и 1, все остальные числа должны задаваться именованными константами с именами, отражающими их назначение.\n",
    "\n",
    "Именованные константы должны обязательно инициализироваться при описании. При инициализации можно использовать не только константу, но и выражение - главное, чтобы оно было вычисляемым на этапе компиляции, например:\n",
    "\n",
    "    const int b = 1, a = 100;\n",
    "    const int x = b * a + 25;\n",
    "\n",
    "# Операции и выражения\n",
    "Выражение - это правило вычисления значения. В выражении участвуют операнды, объединенные знаками операций. Операндами простейшего выражения могут быть константы, переменные и вызовы функций.\n",
    "Например, а + 2 - это выражение, в котором + является знаком операции, а а и 2 - операндами. Пробелы внутри знака операции, состоящей из нескольких символов, не допускаются. По количеству участвующих в одной операции операндов операции делятся на унарные, бинарные и тернарную. Операции С# приведены в табл. 3.1. В этой таблице символ призван показать расположение операнда и не является частью знака операции.\n"
   ]
  },
  {
   "cell_type": "markdown",
   "id": "63d84408",
   "metadata": {},
   "source": [
    "Таблица 3.1. Операции С#\n",
    "\n",
    "|Категория|Знак операции|Название|Описание|\n",
    "|---|---|---|---|\n",
    "||Первичные|Доступ к элементу|C. 105|\n",
    "||x()|Вызов метода или делегата|C. 108, 221|\n",
    "||x$[]$|Доступ к элементу|C. 127|\n",
    "||x++|Постфиксный инкремент|C. 47|\n",
    "||x--|Постфиксный декремент|C. 47|\n",
    "||new|Выделение памяти|C. 48|\n",
    "||typeof|Получение типа|280|\n",
    "||checked|Проверяемый код|C.46|\n",
    "||unchecked|Непроверяемый код|C.46|\n",
    "\n",
    "Стр. 42\n",
    "\n",
    "------------"
   ]
  },
  {
   "cell_type": "markdown",
   "id": "d86e93d2",
   "metadata": {},
   "source": [
    "|Категория|Знак операции|Название|Описание|\n",
    "|---|---|---|---|\n",
    "|Унарные|+|Унарный плюс|C. 48|\n",
    "||-|Унарный минус<br/>(арифметическое отрицание)|C. 48|\n",
    "||!|Логическое отрицание|C. 48\n",
    "||~|Поразрядпое отрицание|C. 48|\n",
    "||++x|Префиксный инкремент|C. 47|\n",
    "||--x|Префиксный декремент|C. 47|\n",
    "||(тип)х|Преобразованис типа|C.49|\n",
    "|Мультипликативные<br/>(типа умножения)|Умножение|C. 50|\n",
    "||/|Деление|C. 50|\n",
    "||%|Остаток от деления|С. 50|"
   ]
  },
  {
   "cell_type": "markdown",
   "id": "dfac8bcb",
   "metadata": {},
   "source": [
    "|Категория|Знак операции|Название|Описание|\n",
    "|---|---|---|---|\n",
    "|Аддитивные<br/>(типа сложения)|+|Сложение|C. 43|\n",
    "||-|Вычитание|C. 53|\n",
    "|Сдвига|<<|Сдвиг влево|C. 54|\n",
    "||>>|Сдвиг вправо|C. 54|\n",
    "|Отношения<br/>и проверки типа|<|Меньше|C. 54|\n",
    "||>|Больше|C. 54|\n",
    "||<=|Меньше или равно|C. 54|\n",
    "||>=|Больше или равно|C. 54|\n",
    "||is|Проверка<br/>принадлежности типу|C. 194|\n",
    "||as|Приведение типа|C. 194|"
   ]
  },
  {
   "cell_type": "markdown",
   "id": "d9f10999",
   "metadata": {},
   "source": [
    "|Категория|Знак операции|Название|Описание|\n",
    "|---|---|---|---|\n",
    "|Проверки на<br/>равсиство|==|Равно|C. 54|\n",
    "||!=|Не равно|C. 54|\n",
    "|Поразрядные<br/>логические|&|Поразрядная конъюнкция (И)|С. 55|\n",
    "||^|Поразрядное исключающее ИЛИ|С. 55|\n",
    "||$|$|Поразрядная дизъюнкция (ИЛИ)|С. 55|\n"
   ]
  },
  {
   "cell_type": "markdown",
   "id": "9c42a0af",
   "metadata": {},
   "source": [
    "|Категория|Знак операции|Название|Описание|\n",
    "|---|---|---|---|\n",
    "|Условные логические|&&|Логическое И|C. 56|\n",
    "||$||$|Логическое ИЛИ|C. 56|\n",
    "|Условная|$?:$|Условная операция|C. 56|\n",
    "|Присваивания|=|Присваивание|C. 56|\n",
    "||$*=$|Умпожение с присванванием|C. 56|\n",
    "||/=|Деление с присваиванием|C. 56|\n",
    "||%=|Остаток отделения с присваиванием|C. 56|\n",
    "||+=|Сложение с присваиванием|C. 56|\n",
    "\n",
    "Стр. 43\n",
    "\n",
    "------------"
   ]
  },
  {
   "cell_type": "markdown",
   "id": "f296d969",
   "metadata": {},
   "source": [
    "Таблица 3.1 (продолжение)\n",
    "\n",
    "|Категория|Знак операции|Название|Описание|\n",
    "|---|---|---|---|\n",
    "||-=|Вычитание с присваиванием||\n",
    "||<<=|Сдвиг влево с присваиванием||\n",
    "||>>=|Сдвиг вправо с присваиванием||\n",
    "||&=|Поразрядное И с присваиванием||\n",
    "||^=|Поразрядное исключающее<br/>ИЛИ с присваиванием||\n",
    "||$|=$|Поразрядное ИЛИ с присваиванием||"
   ]
  },
  {
   "cell_type": "markdown",
   "id": "bffbaa2d",
   "metadata": {},
   "source": [
    "# ПРИМЕЧАНИЕ\n",
    "В версию С# 2.0 введена операция объединения ?? &&, которая рассматривается в главе 13 (см. раздел «Обнуляемые типы», с. 309). Операции в выражении выполняются в определенном порядке в соответствии с приоритетами, как и в математике. В табл. 3.1 операции расположены по убыванию приоритетов, уровни приоритетов разделены в таблице горизонтальными линиями. Результат вычисления выражения характеризуется значением и типом. Например, пусть а и - переменные целого типа и описаны так:\n",
    "    \n",
    "    int a = 2, b = 5;\n",
    "    \n",
    "Тогда выражение а + b имеет значение 7 и тип int, а выражение а = b имеет значение, равное помещенному в переменную а (в данному случае - 5), и тип, совпадающий с типом этой переменной. Если в одном выражении соседствуют несколько операций одинакового приоритета, операции присваивания и условная операция выполняются справа налево, остальные - слева направо. Для изменения порядка выполнения операций используются круглые скобки, уровень их вложенности практически не ограничен. Например, а + b + с означает (a + b) + с, а а = b = с означает а = (b = c). То есть сначала вычисляется выражение b - с, а затем его результат становится правым операндом для операции присваивания переменной а."
   ]
  },
  {
   "cell_type": "markdown",
   "id": "e2c946d3",
   "metadata": {},
   "source": [
    "# ПРИМЕЧАНИЕ\n",
    "Часто перед выполнением операпии требуется вычислить значения операндов. Например, в выражении F(i) + G(i++) * H(i) сначала вызываются функции F. G и н, а затем выполияются умножение и сложение, Операнды всегда вычисляются слева направо независимо от приоритетов операций, в которых они участвуют. Кстати, в приведенном примере метод вызывается с новым значением 1 (увеличенным на 1). Тин результата выражения в общем случае формируется по правилам, которые описаны в следующем разделе.\n",
    "\n",
    "Стр. 44\n",
    "\n",
    "------------"
   ]
  },
  {
   "cell_type": "markdown",
   "id": "948ea894",
   "metadata": {},
   "source": [
    "# Преобразования встроенных арифметических типов-значений\n",
    "\n",
    "При вычислении выражений может возникнуть необходимость в преобразовании типов. Если операнды, входящие в выражение, одного типа и операция для этого типа определена, то результат выражения будет иметь тот же тип.\n",
    "\n",
    "Если операнды разного типа и/или операция для этого типа не определена, перед вычислениями автоматически выполняется преобразование типа по правилам, обеспечивающим приведение более коротких типов к более длинным для сохранения значимости и точности. Автоматическое (неявное) преобразование возможно не всегда, а только если при этом не может случиться потеря значимости.\n",
    "\n",
    "Если неявного преобразования из одного типа в другой не существует, программист может задать явное преобразование типа с помощью операции (тип)х. Его результат остается на совести программиста. Явное преобразование рассматривается в этой главе немного позже."
   ]
  },
  {
   "cell_type": "markdown",
   "id": "9092726b",
   "metadata": {},
   "source": [
    "\n",
    "# ВНИМАНИЕ\n",
    "Арифметические операции не определены для более коротких, чем int, типов. Это означает, что если в выражении участвуют только величины типов sbyte, byte, short и ushort, перед выполнением операции они будут преобразованы в int. Таким образом, результат любой арифметической операции имеет тип не менее int.\n",
    "\n",
    "Правила неявного преобразования иллюстрирует рис. 3.1. Если один из операндов имеет тип, изображенный на более низком уровне, чем другой, то он приводится к типу второго операнда при наличии пути между ними. Если пути пет, возникает ошибка компиляции. Если путей песколько, выбирается наиболее короткий, не содержащий пунктирных линий. Преобразование выполняется не последовательно, а непосредственно из исходного типа в результирующий."
   ]
  },
  {
   "cell_type": "markdown",
   "id": "3b5b4bcb",
   "metadata": {},
   "source": [
    "- float -> double\n",
    "\n",
    "- long -> float\n",
    "- long -> decimal\n",
    "- ulong -> float\n",
    "- ulong -> decimal\n",
    "\n",
    "- int -> long\n",
    "- uint -> long\n",
    "- uint -> ulong\n",
    "\n",
    "- short -> int\n",
    "- ushort -> int\n",
    "- ushort -> uint\n",
    "\n",
    "- sbyte -> short\n",
    "- byte -> short\n",
    "- byte -> ushort\n",
    "- char -> ushort\n",
    "\n",
    "Рис. 3.1. Неявные арифметические преобразования типов"
   ]
  },
  {
   "cell_type": "markdown",
   "id": "8a5771fa",
   "metadata": {},
   "source": [
    "Преобразование более коротких, чем int, типов выполняется при присваивании. Обратите внимание на то, что неявного преобразования из float и double в decimal не существует.\n",
    "\n",
    "# ПРИМЕЧАНИЕ\n",
    "Преобразование из типов int, uint и long в тип float и из типа long в тип double может вызвать потерю точности, но не потерю значимости. В процессе других вариантов неявного преобразования никакая информация не теряется.\n",
    "\n",
    "Стр. 45\n",
    "\n",
    "------------"
   ]
  },
  {
   "cell_type": "markdown",
   "id": "27f7a748",
   "metadata": {},
   "source": [
    "# Введение в исключения\n",
    "\n",
    "При вычислении выражений могут возникнуть ошибки, например, переполнение, исчезновение порядка или деление на поль. В С# есть механизм, который позволяет обрабатывать подобные ошибки и таким образом избегать аварийного завершения программы. Он так и называется: механизм обработки исключительных ситуаций (исключений).\n",
    "\n",
    "Если в процессе вычислений возникла ошибка, система сигнализирует об этом с помощью специального действия, называемого выбрасыванием (генерированием) исключения. Каждому типу ошибки соответствует свое исключение. Поскольку С# - язык объектно-ориентированный, исключения являются классами, которые имеют общего предка - класс Exception, определенный в пространстве имен System.\n",
    "\n",
    "Например, при делении на поль будет выброшено (сгенерировано) исключение с длинным, но понятным именем DivideByZeroException, при недостатке памяти - исключение OutOfMemoryException, при переполнении - исключение OverflowException."
   ]
  },
  {
   "cell_type": "markdown",
   "id": "6fee3cef",
   "metadata": {},
   "source": [
    "# ПРИМЕЧАНИЕ\n",
    "Стандартных исключений очень много, тем не менее программист может создавать и собственные исключения на основе класса Exception. Программист может задать способ обработки исключения в специальном блоке кода, начинающемся с ключевого слова catch («перехватить»), который будет автоматически выполнен при возникновении соответствующей исключительной ситуации. Внутри блока можно, например, вывести предупреждающее сообщение или скорректировать значения величин и продолжить выполнение программы. Если этот блок не задан, система выполнит действия по умолчанию, которые обычно заключаются в выводе диагностического сообщения и нормальном завершении программы.\n",
    "\n",
    "Процессом выбрасывания исключений, возникающих при переполнении, можно управлять. Для этого служат ключевые слова checked и unchecked. Слово checked включает проверку переполнения, слово unchecked выключает. При выключенной проверке исключения, связанные с переполнепием, не генерируются, а результат операции усекается. Проверку переполнения можно реализовать для отдельного выражения или для целого блока операторов, например:"
   ]
  },
  {
   "cell_type": "markdown",
   "id": "aa69a1a0",
   "metadata": {},
   "source": [
    "\n",
    "    a = checked (b + c); // для выражения\n",
    "    unchecked { // для блока операторов\n",
    "        a=b +c;\n",
    "    }\n",
    "\n",
    "Проверка не распространяется на функции, вызванные в блоке. Если проверка переполнения включена, говорят, что вычисления выполняются в проверяемом контексте, если выключена - в непроверяемом. Проверку переполнения выключают в случаях, когда усечение результата операции необходимо в соответствии с алгоритмом.\n",
    "\n",
    "Можно задать проверку переполнения во всей программе с помощью ключа компилятора /checked, это полезно при отладке программы. Поскольку подобная проверка несколько замедляет работу, в готовой программе этот режим обычно не используется.\n",
    "Мы подробно рассмотрим исключения и их обработку в разделе «Обработка исключительных ситуаций» (см. с. 89).\n",
    "\n",
    "\n",
    "Стр. 46\n",
    "\n",
    "------------"
   ]
  },
  {
   "cell_type": "markdown",
   "id": "98bdfc3d",
   "metadata": {},
   "source": [
    "# Основные операции С#\n",
    "\n",
    "В этом разделе кратко описаны синтаксис и применение всех операций С#, кроме некоторых первичных, которые рассматриваются в последующих главах при изучении соответствующего материала.\n",
    "\n",
    "# Инкремент и декремент\n",
    "Операции инкремента (++) и декремента (--), называемые также операциями увеличения и уменьшения на единицу, имеют две формы записи - префиксную, когда знак операции записывается перед операндом, и постфиксную. В префикс- ной форме сначала изменяется операнд, а затем его значение становится резуль- тирующим значением выражения, а в постфиксной форме значением выражения является исходное значение операнда, после чего он изменяется. Листинг 3.2 иллюстрирует эти операции."
   ]
  },
  {
   "cell_type": "markdown",
   "id": "c6a760d4",
   "metadata": {},
   "source": [
    "Листинг 3. 2. Операции инкремента и декремента\n",
    "\n",
    "    using System;\n",
    "    namespace ConsoleApplicationl\n",
    "    {\n",
    "        class Classl\n",
    "        {\n",
    "            static void Main()\n",
    "            {\n",
    "                int x = 3;\n",
    "                int y = 3;\n",
    "                Console.Write( \"Значение префиксного выражения: \" );\n",
    "                Console.WriteLine( ++x );\n",
    "                Console.Write( \"Значение х после приращения: \" );\n",
    "                Console.WriteLine( x );\n",
    "                \n",
    "                Console.Write( \"Значение постфиксного выражения: \");\n",
    "                Console.WriteLine( y++ );\n",
    "                Console,Write( \"Значение у после приращения: \" );\n",
    "                Console,WriteLine( y );\n",
    "            }\n",
    "        }\n",
    "    }\n",
    "\n",
    "Стр. 47\n",
    "\n",
    "------------"
   ]
  },
  {
   "cell_type": "markdown",
   "id": "de2fb22e",
   "metadata": {},
   "source": [
    "Ну вот честно,... . В Аргекоде это бы выглядило так\n",
    "\n",
    "    using System;\n",
    "    namespace ConsoleApplicationl\n",
    "    {\n",
    "        class Classl\n",
    "        {\n",
    "            static void Main()\n",
    "            {\n",
    "                int x = 3;\n",
    "                int y = 3;\n",
    "                \"Значение префиксного выражения:\".Write();++x.ToString().WriteLine();\n",
    "                \"Значение х после приращения:\".Write();x.ToString().WriteLine();\n",
    "                \"Значение постфиксного выражения:\".WriteLine();y++.ToString().WriteLine();\n",
    "                \"Значение у после приращения:\".WriteLine();y.ToString().WriteLine();\n",
    "            }\n",
    "        }\n",
    "    }\n",
    "    \n",
    "https://www.nuget.org/packages/ArgeCode/#supportedframeworks-body-tab"
   ]
  },
  {
   "cell_type": "markdown",
   "id": "99dcb836",
   "metadata": {},
   "source": [
    "    Результат работы программы:\n",
    "    Значение префиксного выражения: 4\n",
    "    Значение х после приращения: 4\n",
    "    Значение постфиксного выражения: 3\n",
    "    Значение у после приращения: 4\n",
    "    \n",
    "Стандартные операции инкремента существуют для целых, символьных, вещественных и финансовых величин, а также для перечислений. Операндом может быть переменная, свойство или индексатор (мы рассмотрим свойства и индекса- торы в свое время, в главах 5 и 7)."
   ]
  },
  {
   "cell_type": "markdown",
   "id": "f38f284a",
   "metadata": {},
   "source": [
    "# Операция new\n",
    "\n",
    "Операция new служит для создания нового объекта. Формат операции: new тип ($[$аргументы$]$)\n",
    "\n",
    "С помощью этой операции можно создавать объекты как ссылочных, так и значимых типов, например:\n",
    "\n",
    "    object z = new object();\n",
    "    int i = new int(); // то же самое, что int i = 0\n",
    "\n",
    "Объекты ссылочного типа обычно формируют именно этим способом, а переменные значимого типа чаще создаются так, как описано ранее в разделе «Переменные». При выполнении операции new сначала выделяется необходимый объем памяти (для ссылочных типов в хипе, для значимых - в стеке), а затем вызывается так называемый конструктор по умолчанию, то есть метод, с помощью которого ини- циализируется объект. Переменной значимого типа присваивается значение по умолчанию, которое равно нулю соответствующего типа. Для ссылочных типов стандартный конструктор инициализирует значениями по умолчанию все поля объекта. Если необходимый для хранения объекта объем памяти выделить не удалось, генерируется исключение OutOfMemoryException."
   ]
  },
  {
   "cell_type": "markdown",
   "id": "70272ddf",
   "metadata": {},
   "source": [
    "# Операция отрицания\n",
    "\n",
    "Арифметическое отрицание (унарный минус -) меняет знак операнда на противоположный. Стандартная операция отрицания определена для типов int, long, float, double и decimal. К величинам других типов ее можно применять, если для них возможно неявное преобразование к этим типам (см. рис. 3.1). Тип результата соответствует типу операции.\n",
    "\n",
    "# ПРИМЕЧАНИЕ\n",
    "Для значений целого и финансового типов результат достигается вычитанием исходного значения из пуля. При этом может возникнуть переполнение. Будет ли при этом выброшено исключение, зависит от контекста. Логическое отрицание (1) определено для типа boo1. Результат операции значение false, если операнд равен true, и значение true, eсли операнд равен false. Поразрядное отрицание (-), часто пазываемое побитовым, инвертирует каждый разряд в двоичном представлении операнда типа int, uint, long или ulong.\n",
    "Операции отрицания представлены в листинге 3.3.\n",
    "\n",
    "Стр. 48\n",
    "\n",
    "------------"
   ]
  },
  {
   "cell_type": "markdown",
   "id": "ae0bdb97",
   "metadata": {},
   "source": [
    "Листинг 3.3. Операции отрицания\n",
    "\n",
    "    using System;\n",
    "    namespace ConsoleApplication1\n",
    "    {\n",
    "        class Classl\n",
    "        {\n",
    "            static void Main()\n",
    "            {\n",
    "                sbyte a = 3; sbyte b = -63; sbyte c = 126:\n",
    "                bool d = true;\n",
    "                Console.WriteLine( -a ); // Результат -3\n",
    "                Console.WriteLine( -с ); // Результат -126\n",
    "                Console.WriteLine( !d ); // Результат false\n",
    "                Console.WriteLine( ~a ); // Результат -4\n",
    "                Console.WriteLine( ~b ); // Результат 62\n",
    "                Console.WriteLine( ~c ): // Результат -127\n",
    "            }\n",
    "        }\n",
    "    }"
   ]
  },
  {
   "cell_type": "markdown",
   "id": "3df790cb",
   "metadata": {},
   "source": [
    "# Явное преобразование типа\n",
    "\n",
    "Операция используется, как и следует из ее названия, для явного преобразования величины из одного типа в другой. Это требуется в том случае, когда неявного преобразования не существует. При преобразовании из более длинного типа в более короткий возможна потеря информации, если исходное значение выходит за пределы диапазона результирующего типа. Формат операции: ( тип ) выражение\n",
    "\n",
    "Здесь тип - это имя того типа, в который осуществляется преобразование, а выражение чаще всего представляет собой имя переменной, например:\n",
    "\n",
    "    long b = 300;\n",
    "    int a=(int) b; // данные не теряются\n",
    "    byte d - (byte) a; /// данные теряются\n",
    "    \n",
    "Преобразование типа часто применяется для ссылочных типов при работе с иерархиями объектов.Эта потеря никак не диагностируется, то есть остается на совести программиста.\n",
    "\n",
    "Стр. 49\n",
    "\n",
    "------------"
   ]
  },
  {
   "cell_type": "markdown",
   "id": "a97d448a",
   "metadata": {},
   "source": [
    "# Умножение, деление и остаток от деления\n",
    "\n",
    "Операция умножения ($*$) возвращает результат перемножения двух операндов. Стандартная операция умножения определена для типов int, uint, long, ulong, float, double и decimal. К величинам других типов ее можно применять, если для них возможно неявное преобразование к этим типам (см. рис. 3.1). Тип результата операции равен «наибольшему» из типов операндов, но не менее int.\n",
    "\n",
    "Если оба операнда целочисленные или типа decima1 и результат операции слишком велик для представления с помощью заданного типа, генерируется исключение System. OverflowException (1). 1 В проверяемом контексте. В непроверяемом исключение не выбрасывается, зато отбрасываются избыточные биты.\n",
    "\n",
    "Все возможные значения для вещественных операндов приведены в табл. 3.2. Символами х и у обозначены конечные положительные значения, символом z - результат операции вещественного умножения. Если результат слишком велик для представления с помощью заданного типа, он принимается равным значению «бесконечность» (2), если слишком мал, он принимается за 0. NaN (not a number) означает, что результат не является числом.\n",
    "\n",
    "\n",
    "2 Об «особых» значениях вещественных величин упоминалось на с. 34."
   ]
  },
  {
   "attachments": {
    "image.png": {
     "image/png": "[encoded data removed]"
    }
   },
   "cell_type": "markdown",
   "id": "ff37a27f",
   "metadata": {},
   "source": [
    "![image.png](attachment:image.png)"
   ]
  },
  {
   "cell_type": "markdown",
   "id": "0ce1b0cf",
   "metadata": {},
   "source": [
    "Таблица 3.2. Результаты вещественного умножения\n",
    "\n",
    "\n",
    "|$*$|+y|-y|+0|-0|+$\\infty$|-$\\infty$|NaN|\n",
    "|---|---|---|---|---|---|---|---|\n",
    "|+x|+z|-z|+0|-0|+$\\infty$|-$\\infty$|NaN|\n",
    "|-x|-z|+z|-0|+0|+$\\infty$|-$\\infty$|NaN|\n",
    "|+0|+0|-0|+0|-0|NaN|NaN|NaN|\n",
    "|-0|-0|+0|-0|+0|NaN|NaN|NaN|\n",
    "|+$\\infty$|+$\\infty$|-$\\infty$|NaN|NaN|+$\\infty$|-$\\infty$|NaN|\n",
    "|-$\\infty$|-$\\infty$|+$\\infty$|NaN|NaN|-$\\infty$|+$\\infty$|NaN|\n",
    "|NaN|NaN|NaN|NaN|NaN|NaN|NaN|NaN|"
   ]
  },
  {
   "cell_type": "markdown",
   "id": "bf762247",
   "metadata": {},
   "source": [
    "Операция деления (/) вычисляет частное от деления первого операнда на второй. Стандартная операция деления определена для типов int, uint, long, ulong, float, double и decimal. K величинам других типов ее можно применять, если для них существует неявное преобразование к этим типам. Тип результата определяется правилами преобразования (см. рис. 3.1), но не меньше int. Если оба операнда целочисленные, результат операции округляется вниз до ближайшего целого числа, Если делитель равен пулю, генерируется исключение System, DivideByZeroException.\n",
    "\n",
    "Если хотя бы один из операндов вещественный, дробная часть результата деления не отбрасывается, а все возможные значения приведены в табл, 3.3. Символами и у обозначены конечные положительные значения, символом - результат операции вещественного деления. Если результат слишком велик для представления с помощью заданного типа, он принимается равным значению «бесконечность», если слишком мал, он принимается за 0.\n",
    "\n",
    "Стр. 50\n",
    "\n",
    "------------"
   ]
  },
  {
   "cell_type": "markdown",
   "id": "82d777d5",
   "metadata": {},
   "source": []
  }
 ],
 "metadata": {
  "kernelspec": {
   "display_name": "Python 3 (ipykernel)",
   "language": "python",
   "name": "python3"
  },
  "language_info": {
   "codemirror_mode": {
    "name": "ipython",
    "version": 3
   },
   "file_extension": ".py",
   "mimetype": "text/x-python",
   "name": "python",
   "nbconvert_exporter": "python",
   "pygments_lexer": "ipython3",
   "version": "3.11.4"
  }
 },
 "nbformat": 4,
 "nbformat_minor": 5
}
