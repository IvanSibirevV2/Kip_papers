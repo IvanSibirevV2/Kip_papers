{
 "cells": [
  {
   "cell_type": "code",
   "execution_count": 3,
   "id": "35982aa0",
   "metadata": {},
   "outputs": [
    {
     "name": "stdout",
     "output_type": "stream",
     "text": [
      "\\Untitled.ipynb : 0.0009527206420898438  мегобайт  2024-06-20 12:00:39.102205\n"
     ]
    }
   ],
   "source": [
    "import os;import math;import sys;import datetime;\n",
    "var='\\\\Untitled.ipynb'\n",
    "print (var,':',os.path.getsize(os.path.abspath(os.curdir)+var)/math.pow(2, 20),' мегобайт ',datetime.datetime.now())"
   ]
  },
  {
   "cell_type": "markdown",
   "id": "8f440550",
   "metadata": {},
   "source": [
    "    namespace ConsoleApplication1\n",
    "    {\n",
    "        using MonsterLib;\n",
    "        class Program\n",
    "        {\n",
    "            static void Main()\n",
    "            {\n",
    "                List<Monster> stado - new List<Monster>();\n",
    "                stado.Add( new Monster( \"Monia\" ) );\n",
    "                stado.Add( new Monster( \"Monk\" ) );\n",
    "                stado.Add( new Daemon ( \"Dimon\", 3 ) );\n",
    "                foreach ( Monster x in stado ) x.Passport();"
   ]
  },
  {
   "cell_type": "markdown",
   "id": "7946e66e",
   "metadata": {},
   "source": [
    "                List<int> lint = new List<int>();\n",
    "                lint.Add( 5 );\n",
    "                lint.Add( 1 );\n",
    "                lint.Add( 3 );\n",
    "                lint.Sort();\n",
    "                int a = lint[2];\n",
    "                Console.WriteLine( a );\n",
    "                foreach ( int x in lint ) Console.Write( x + \" \" );\n",
    "            }\n",
    "        }\n",
    "    }"
   ]
  },
  {
   "cell_type": "markdown",
   "id": "c2e57ff3",
   "metadata": {},
   "source": [
    "Результат работы программы:\n",
    "\n",
    "    Monster Monia health = 100 ammo = 100\n",
    "    Monster Monk health = 100 ammo = 100\n",
    "    Deemon Dimon health = 100 ammo = 100 brain = 3\n",
    "    5\n",
    "    1 3 5\n",
    "\n",
    "В листинге 13.2 две коллекции. Первая (stado) содержит элементы пользовательских классов, которые находятся в библиотеке MonsterLib.dil, созданной в преды- лущей главе. В коллекции, для которой объявлен тип элементов Monster, благодаря полиморфизму можно хранить элементы любого производного класса, но не элементы других типов.\n",
    "\n",
    "Казалось бы, по сравнению с обычными коллекциями это ограничение, а не универсальность, однако на практике коллекции, в которых действительно требуется хранить значения различных, не связанных межу собой тинов, почти не используются. Достоинством же такого ограничения является то, что компилятор может выполнить контроль типов во время компиляции, а не выполнения программы, что повышает ее надежность и упрощает поиск ошибок.\n",
    "\n",
    "Стр. 301\n",
    "\n",
    "------------"
   ]
  },
  {
   "cell_type": "markdown",
   "id": "d86e93d2",
   "metadata": {},
   "source": [
    "Коллекция lint состоит из целых чисел, причем для работы с ними не требуются ни операции упаковки и распаковки, ни явные преобразования тина при получении алемента из коллекции, как это было в обычных коллекциях (см, листинг 13.1).\n",
    "Классы-прототипы называют также родовыми или шаблонными, поскольку они представляют собой образцы, по которым во время выполнения программы строятся конкретные классы. При этом сведения о классах, которые являются параметрами классов-прототипов, извлекаются из метаданных.\n",
    "\n",
    "# ВНИМАНИЕ\n",
    "Использование стандартных параметризованных коллекций для хранения и обработки данных является хорошим стилем программирования, поскольку позволяет сократить сроки разработки программ и повысить их надежность, Рекомендуется тцательно изучить по документации свойства и методы этих классов и выбирать наиболее подходящие в зависимости от решасмой задачи.\n",
    "\n",
    "В листинге 13.3 приведен еще один пример применения параметризованных коллекций. Программа считывает содержимое текстового файла, разбивает его на слова и подсчитывает количество повторений каждого слова в тексте. Для хранения слов и числа их повторений используется словарь Dictionary<T,K>. У этого класса два параметра: тин ключей и тип значений, хранимых в словаре. В качестве ключей используются слова, считанные из файла, а значения представляют собой счетчики целого типа, которые увеличиваются на единицу, когда слово встречается в очередной раз."
   ]
  },
  {
   "cell_type": "markdown",
   "id": "0457c8a1",
   "metadata": {},
   "source": [
    "Листинг 13.3. Формирование частотного словаря\n",
    "\n",
    "    using System;\n",
    "    using System.Collections.Generic;\n",
    "    using System.Text;\n",
    "    using System.IO;\n",
    "    namespace ConsoleApplicationl\n",
    "    {\n",
    "        class Program\n",
    "        {\n",
    "            static void Main()\n",
    "            {\n",
    "                StreamReader f = new StreamReader( @\"d:\\C#\\text.txt\" );// 1\n",
    "                string s = f.ReadToEnd(); // 2"
   ]
  },
  {
   "cell_type": "markdown",
   "id": "61dea3e0",
   "metadata": {},
   "source": [
    "                char[] separators={'.', ' ', ',', '!'}; // 3 \n",
    "                List<string> words = new List<string>( s.Split(separators) ); // 4 \n",
    "                Dictionary<string,int> map = new Dictionary<string,int>(); // 5\n",
    "                foreach ( string w in words ) // 6 \n",
    "                {\n",
    "                    if ( map.ContainsKey( w ) ) map[w]++;\n",
    "                    else map[w] = 1;\n",
    "                }\n",
    "                foreach ( string w in map.Keys )\n",
    "                    Console.WriteLine( \"{0}\\t{1}\", w.map[w]);\n",
    "            }\n",
    "        }\n",
    "    }\n",
    "\n",
    "Стр. 302\n",
    "\n",
    "------------"
   ]
  },
  {
   "cell_type": "markdown",
   "id": "aab5b162",
   "metadata": {},
   "source": [
    "Пусть исходный файл text.txt содержит строки\n",
    "\n",
    "    Ехал Грека через реку. Видит Грека, в реке рак.\n",
    "    Сунул Грека в реку руку, рак за руку Греку цап!\n",
    "\n",
    "Тогда результат работы программы будет выглядеть так:\n",
    "\n",
    "    Ехал  1\n",
    "    Грека 3\n",
    "    через 1\n",
    "    реку  2\n",
    "          4\n",
    "    Видит 1\n",
    "    в     2\n",
    "    реке  1\n",
    "    рак   2\n",
    "    Сунул 1\n",
    "    руку  2\n",
    "    за    1\n",
    "    Греку 1\n",
    "    цап   1"
   ]
  },
  {
   "cell_type": "markdown",
   "id": "f020a39e",
   "metadata": {},
   "source": [
    "Несколько пояснений к программе. В операторе 1 открывается текстовый файл, длина которого не должна превышать 32 767 символов, потому что в операторе 2 все его содержимое считывается в отдельную строку.\n",
    "\n",
    "# ПРИМЕЧАНИЕ\n",
    "Конечно, для реальной работы такой способ не рекомендуется. Кроме того, для файлов, открываемых для чтения, программа обязательно должна обрабатывать исключение FileNotFoundException (см. главу 11).\n",
    "\n",
    "В операторе 3 задается массив разделителей, передаваемый в качестве параметра методу Spl it, формирующему массив строк, каждая из которых содержит отдельное слово исходного файла. Этот массив используется для инициализации экземпляра words класса List<string>. Применение стандартного класса позволяет не заботиться о выделении места под массив слов."
   ]
  },
  {
   "cell_type": "markdown",
   "id": "6050e25b",
   "metadata": {},
   "source": [
    "Оператор 5 описывает словарь, а в цикле 6 выполняется его заполнение путем просмотра списка слов words, Если слово встречается впервые, в значение, соответствующее слову как ключу, заносится единица. Если слово уже встречалось, значение увеличивается на единицу.\n",
    "\n",
    "В цикле 7 выполняется вывод словаря путем просмотра всех его ключей (для этого используется свойство словаря Keys, возвращающее коллекцию ключей) и выборки соответствующих значений.\n",
    "\n",
    "Метод Split не очень интеллектуален: он рассматривает пробел, расположенный после знака пренинания, как отдельное слово, Для более точного разбиения на слова используются регулярные выражения, которые рассматриваются в главе 15.\n",
    "\n",
    "Стр. 303\n",
    "\n",
    "------------"
   ]
  },
  {
   "cell_type": "markdown",
   "id": "948ea894",
   "metadata": {},
   "source": [
    "# ПРИМЕЧАНИЕ\n",
    "Обратите внимание на то, насколько использование стандартных коллекций сокращает исходный текст программы. Конечно, на тщательное изучение их возможностей требуется много времени, однако это окупается многократно.\n",
    "\n",
    "Для полноты картины следует добавить, что наряду с параметризованными классами в пространстве имен System.Collections.Generic описаны параметризованные интерфейсы, перечисленные в табл. 13.6.\n",
    "\n",
    "Таблица 13.6. Параметризованные интерфейсы библиотеки .NET версии 2.0\n",
    "\n",
    "- Параметризованный интерфейс (версия 2.0) - Обычный интерфейс - \n",
    "- ICollection$<$T$>$ - ICollection\n",
    "- IComparable$<$T$>$ - IComparable\n",
    "- IDictionary$<$K,T$>$ - IDictionary\n",
    "- IEnumerable$<$T$>$ - IEnumerable\n",
    "- IEnumerator$<$T$>$ - IEnumerator\n",
    "- IList$<$T$>$ - IList"
   ]
  },
  {
   "cell_type": "markdown",
   "id": "ee5b16bf",
   "metadata": {},
   "source": [
    "# Создание класса-прототипа\n",
    "\n",
    "Язык С# позволяет создавать собственные классы-прототипы и их разновидности - интерфейсы, структуры, делегаты и события, а также обобщенные (generic) методы обычных классов. Рассмотрим создание класса-прототипа на примере стека, приведенном в спецификации С#. Параметр типа данных, которые хранятся в стеке, указывается в угловых скобках после имени класса, а затем используется таким же образом, как и обычные типы:\n",
    "\n",
    "    public class Stack<T>\n",
    "    {\n",
    "        T[] items;\n",
    "        int count;\n",
    "        // помещение в стек\n",
    "        public void Push( T item ) { ... }\n",
    "        // извлечение из стека\n",
    "        public T Pop() {...}\n",
    "    }\n",
    "\n",
    "При использовании этого класса на место параметра Т подставляется реальный тип, например int:"
   ]
  },
  {
   "cell_type": "markdown",
   "id": "0650e22e",
   "metadata": {},
   "source": [
    "    Stack<int> stack = new Stack<int>();\n",
    "    stack.Push( 3 );\n",
    "    int x = stack.Pop();\n",
    "    \n",
    "Тип Stack<int> называется сконструированным типом (constructed type). Этот тип создается во время выполнения программы при его первом упоминании в программе. Если в программе встретится класс Stack с другим аначимым типом, например double, среда вынолнения содаст другую копию кода для того тина Напротив, для всех ссылочных тинов будет испольонана одна и та же кония кола, носкольку работа с уклзателями на различные типы пыполниется одинаковым образом, Созлание конкретного экаемиляра класса прототина называется инстонцированием. Класс-прототин может содержать произвольное количество параметров тина. Для каждого из них могут быть заданы ограничения (constraints), указывающие. каким требованиям должен удовлетворять аргумент, соответствующий этому параметру, например, может быть указано, что это должен быть значимый тип или тип, который реализует некоторый интерфейс.\n",
    "    \n",
    "    Стр. 304\n",
    "\n",
    "------------"
   ]
  },
  {
   "cell_type": "markdown",
   "id": "b193e39d",
   "metadata": {},
   "source": [
    "Синтаксически ограничения задаются после ключевого слова where, например:\n",
    "\n",
    "    public class Stack<T>\n",
    "    where T : struct\n",
    "    { ...\n",
    "\n",
    "Здесь с помощью слова struct записано ограничение, что элементы стека должны быть значимого типа. Для ссылочного типа употребляется ключевое слово cless, Для каждого типа, являющегося параметром класса, может быть задана одна строка ограничений, которая может включать один класс, а за ним - произвольное количество интерфейсов, перечисляемых через запятую. Указание в качестве ограничения имени класса означает, что соответствующий аргумент при инстанцировании может быть именем либо этого класса, либо его потомка. Указание имени интерфейса означает, что тип-аргумент должен реализовывать данный интерфейс - это позволяет использовать внутри класса-прототипа, например, операции по перечислению элементов, их сравнению и т. п."
   ]
  },
  {
   "cell_type": "markdown",
   "id": "266322bb",
   "metadata": {},
   "source": [
    "Помимо класса и интерфейсов в ограничениях можню задать требование, чтобы тип-аргумент имел конструктор по умолчанию без параметров, что позволяет смадавать объекты этого типа в теле методов класса-прототила. Это требование манисывается в виде выражения new(), например:\n",
    "\n",
    "    public class EntityTable<k,E>\n",
    "    where K: IComparable<K>, IPersistable \n",
    "    where E: Entity, new()\n",
    "    {\n",
    "        public void Add( K key, E entity )\n",
    "        {\n",
    "            ...\n",
    "            if( key.CompareTo( x) < 0 ) {...}\n",
    "            ...\n",
    "        }\n",
    "    }\n",
    "\n",
    "Стр. 305\n",
    "\n",
    "------------"
   ]
  },
  {
   "cell_type": "markdown",
   "id": "98bdfc3d",
   "metadata": {},
   "source": [
    "В этом примере на первый аргумент класса Entitylable накладываются два огра- иичения по интерфейсам, а для второго аргумента задано, что он может быть только классом Entity или его потомком и иметь конструктор без параметров. Задание ограничений позволяет компилятору выполиять более строгий контроль типов и, таким образом, избежать многих ошибок, которые иначе проявились бы только во время выполнения программы. Для задания значений по умолчанию типизированным элементам класса-прото типа используется ключевое слово default. С его помощью элементам ссылочного типа присваивается значение пu11, а элементам значимого типа - 0."
   ]
  },
  {
   "cell_type": "markdown",
   "id": "523ae685",
   "metadata": {},
   "source": [
    "# Обобщенные методы\n",
    "Иногда удобно иметь отдельный метод, параметризованный каким-либо типом данных. Рассмотрим этот случай на примере метода сортировки. Известно, что «самого лучшего» алгоритма сортировки не существует. Для различных объема, диапазона, степени упорядоченности данных и распределения ключей оптимальными могут оказаться разные алгоритмы. Стандартные методы сортировки реализуют алгоритмы, которые хороши для большинства применений, но не для всех, поэтому может возникнуть необходимость реализовать собственный метод. В листинге 13.4 приведен пример сортировки методом выбора. Алгоритм состоит в том, что сначала выбирается наименьший элемент массива и меняется местами с первым элементом, затем просматриваются элементы, начиная со второго, и наименьший из них меняется местами со вторым элементом, и т. д., всего n - 1 раз. На последнем проходе цикла при необходимости меняются местами предпоследний и последний элементы массива."
   ]
  },
  {
   "cell_type": "markdown",
   "id": "a9d90a96",
   "metadata": {},
   "source": [
    "Листинг 13.4. Сортировка выбором\n",
    "\n",
    "    using System;\n",
    "    using System.Collections.Generic;\n",
    "    using System.Text;\n",
    "    namespace ConsoleApplicationl\n",
    "    {\n",
    "        class Program\n",
    "        {\n",
    "            static void Sort<T> ( ref T[] a ) // 1\n",
    "                where T : IComparable<T> // 2\n",
    "            {\n",
    "                T buf;\n",
    "                int n = a.Length;\n",
    "                for ( int 1 - 0; 1 < n - 1; ++1 )\n",
    "                {\n",
    "                    int im = i;\n",
    "                    for ( int j = j + 1; j < n; ++j )\n",
    "                        if ( a[j]CompareTo(a[im]) < 0) im = j; // 3\n",
    "                    buf = a[1];\n",
    "                    a[1] = a[im];\n",
    "                    a[im] = buf;\n",
    "                }\n",
    "            }"
   ]
  },
  {
   "cell_type": "markdown",
   "id": "99dcb836",
   "metadata": {},
   "source": [
    "Стр. 306\n",
    "\n",
    "------------"
   ]
  },
  {
   "cell_type": "markdown",
   "id": "a909ce78",
   "metadata": {},
   "source": [
    "            static void Main()\n",
    "            {\n",
    "                int[] a= {1,6,4,2,7,5,3};\n",
    "                Sort<int»( ref a ); // 4\n",
    "                foreach ( int elem in a )\n",
    "                    Console.Writeline( elem );\n",
    "                double[] b = { 1.1, 5.2, 5.21, 2, 7, 6, 3};\n",
    "                Sort( ref b );  // 5 \n",
    "                foreach ( double elem in b ) \n",
    "                    Console.Writeline( elem );\n",
    "                string[] s = { \"qwe\", \"qwer\", \"df\", \"asd\"};\n",
    "                Sort( ref s );  // 6\n",
    "                foreach ( string elem in s )\n",
    "                    Console.WriteLine( elem );\n",
    "            }\n",
    "        }\n",
    "    }"
   ]
  },
  {
   "cell_type": "markdown",
   "id": "98bcf6ad",
   "metadata": {},
   "source": [
    "Метод параметризован типом, на который накладывается ограничение (оператор 2), чтобы объекты класса-аргумента можно было сравнивать друг с другом с помощью метода CompareTo, использованного в операторе 3. В главной программе (методе Main) метод Sort вызывается двумя способами: с явным указанием параметра-типа (оператор 4) и без указания параметра (операторы 5 и 6). Во втором случае компилятор по типу переданного в метод параметра самостоятельно определяет, какой именно тип используется при инстанцировании.\n",
    "\n",
    "# ПРИМЕЧАНИЕ\n",
    "Параметры-типы могут использоваться в списке параметров, возвращаемом типе и в теле универсального метода.\n",
    "\n",
    "Итак, параметризованные типы и методы позволяют:\n",
    "- описывать способы хранения и алгоритмы обработки данных независимо от типов данных;\n",
    "- выполнять контроль типов во время компиляции, а не исполнения программы;\n",
    "- увеличить скорость обработки данных за счет исключения операций упаковки, распаковки и преобразования типа.\n",
    "\n",
    "Как уже упоминалось, помимо классов-прототипов и обобщенных методов можно описать параметризованные интерфейсы, структуры и делегаты. В помощью параметризованных интерфейсов можно определить список функций, которые могут быть реализованы различным образом для разных классов, реализующих эти интерфейсы. Параметризованные интерфейсы можно реализовывать в классе-прототипе, используя в качестве аргументов интерфейса параметры типа, реализующего интерфейс, или в обычном классе, подставляя в качестве параметров интерфейса конкретные типы. Параметризованные делегаты позволяют создавать обобщенные алгоритмы, логику которых можно изменять передаваемыми в качестве параметров делегатами.\n",
    "\n",
    "Стр. 307\n",
    "\n",
    "------------"
   ]
  },
  {
   "cell_type": "markdown",
   "id": "ae0bdb97",
   "metadata": {},
   "source": [
    "# Частичные типы\n",
    "Во вторую версию языка введена возможность разбивать описание типа на части и хранить их в разных физических файлах, создавая так называемые частичные mипы (partial types). Это может потребоваться для классов большого объема или, что более актуально, для отделения части кода, сгенерированной средствами среды, от написанной программистом вручную, Кроме того, такая возможность облет- чает отладку программы, позволяя отделить отлаженные части класса от новых.\n",
    "\n",
    "Для описания отдельной части типа используется модификатор partial. Он может применяться к классам, структурам и интерфейсам, например:\n",
    "\n",
    "    public partial class A {...}\n",
    "    public partial class A {...}\n",
    "    \n",
    "После совместной компиляции этих двух частей получается такой же код, как если бы класс был описан обычным образом. Все части одного и того же частичного типа должны компилироваться одновременно, иными словами, добавление новой части к уже скомпилированным не допускается. Модификатор partial не является ключевым словом и должен стоять непосредственно перед одним из ключевых слов class, struct или interface в каждой из частей. Все части определения одного класса должны быть описаны в одном и том же пространстве имен."
   ]
  },
  {
   "cell_type": "markdown",
   "id": "4ad00126",
   "metadata": {},
   "source": [
    "# ПРИМЕЧАНИЕ\n",
    "Если модификатор partial указывается для типа, описание которого состоит только из одной части, это не является ошибкой.\n",
    "\n",
    "Модификаторы доступа для всех частей типа должны быть согласованными. Если хотя бы одна из частей содержит модификатор abstract или sealed, класс считается соответственно абстрактным или бесплодным. Класс-прототип также может объявляться по частям, в этом случае во всех частях должны присутствовать одни и те же параметры типа с одними и теми же ограничениями.\n",
    "Если частичный тип является наследником нескольких интерфейсов, в каждой части не требуется перечислять все интерфейсы: обычно в одной части объявляется один интерфейс и описывается его реализация, в другой части - другой интерфейс и т. д. Набором базовых интерфейсов для типа, объявленного в нескольких частях, является объединение базовых интерфейсов, определенных в каждой части.\n",
    "\n",
    "Стр. 308\n",
    "\n",
    "------------"
   ]
  },
  {
   "cell_type": "markdown",
   "id": "602cc737",
   "metadata": {},
   "source": [
    "# Обнуляемые типы\n",
    "В программировании давно существует проблема, каким образом задать, что переменной не присвоено никакого значения, Эта проблема решается разными способами. Один из способов заключается в том, чтобы присвоить переменной какое-либо значение, не входящее в диапазон допустимых для нее. Например. если величина может принимать только положительные значения, ей присваивается -1. Ясно, что для многих случаев этот подход неприменим. Другой способ - хранение логического признака, по которому можно определить, присвоено ли переменной значение. Этот способ не может использоваться, например, для значений, возвращаемых из метода. В версии С# 2.0 указанная проблема решается введением типов специального вида, называемых обнуляемыми (nullable). Обнуляемый тип представляет собой структуру, хранящую наряду со значением величины (свойство Value) логический признак, по которому можно определить, было ли присвоено значение этой величине (свойство HasValue). Если значение величине было присвоено, свойство HasValue имеет значение true. Если значение величины равно null, свойство HasValue имеет значение false, а попытка получить значение через свойство Value вызывает генерацию исключения. Обнуляемый тип строится на основе базового типа, за которым следует символ ?. например:\n",
    "\n",
    "    int? x = 123;\n",
    "    int? y = null;\n",
    "    if( x.HasValue ) Console.WriteLine( x ); // вместо x можно записать x.Value\n",
    "    if( y HasValue ) Console.WriteLine( y );"
   ]
  },
  {
   "cell_type": "markdown",
   "id": "fa471dbe",
   "metadata": {},
   "source": [
    "Существуют явные и неявные преобразования из обнуляемых типов в обычные и обратно, при этом выполняется контроль возможности получения значения, например:\n",
    "\n",
    "    int i=123;\n",
    "    int? x=i;            // int --> int?\n",
    "    double? y = x;       // int? --> double?\n",
    "    int? z = (int?) y;   // double? --> int?\n",
    "    int? j= (int) z;     // int? --> int\n",
    "    \n",
    "Для величии обнуляемых типов определены операции отношения . Операции и возвращают значение true, если обе величины имеют значение null. Естественно, что значение пul1 считается не равным любому ненулевому значению. Операции < >, <= и >= дают в результате false, если хотя бы один из операндов имеет значение null."
   ]
  },
  {
   "cell_type": "markdown",
   "id": "9637f009",
   "metadata": {},
   "source": [
    "Арифметические операции с величинами обнуляемых тинов дают в результате nu11, если хотя бы один из операндон равен пu11, например:\n",
    "\n",
    "    int? x = null\n",
    "    int? y = x // y = null\n",
    "\n",
    "Для величин обнуляемых типов введена еще одна операция - объединения (null coalescing operator). Это бинарная операция, результат которой равен первому операнду, если он не равен nu11, и второму в противном случае. Иными словами, эта операция предоставляет замещаемое зпачение для пu11, например:\n",
    "\n",
    "    int? x = null;\n",
    "    int y = x ?? 0;  // y=0\n",
    "    x = 1;\n",
    "    y = x ?? 0; // y=1\n",
    "    \n",
    "Обнуляемые типы удобно использовать при работе с базами данных и XML\n",
    "\n",
    "Стр. 309\n",
    "\n",
    "------------"
   ]
  },
  {
   "cell_type": "markdown",
   "id": "82d777d5",
   "metadata": {},
   "source": [
    "# Рекомендации по программированию\n",
    "Алгоритм работы программы во многом зависит от способа организации ее данных, поэтому очень важно до начала разработки алгоритма выбрать оптимальные структуры данных, основываясь на требованиях к функциональности и быстродействию программы. Для разных задач необходимы различные способы хранения и обработки данных. поэтому необходимо хорошо представлять себе как характеристики и области применения абстрактных структур данных, так и их конкретную реализацию в виде коллекций библиотеки. Изучение возможностей стандартных коллекций и их грамотное применение является необходимым условием создания эффективных и профессиональных программ, позволяет сократить сроки разработки программ и повысить их надежность. Недостатками коллекций первых версий библиотеки .NET является отсутствие контроля типов на этапе компиляции и неэффективность при хранении элементов значимых типов. Параметризованные коллекции, появившиеся в версии 2.0 библиотеки, избавлены от этих недостатков, поэтому в программах рекомендуется использовать именно коллекции версии 2.0, выбирая наиболее подходящие классы в зависимости от решаемой задачи. Для реализации алгоритмов, независимых от типов данных, следует использовать классы-прототипы и обобщенные методы. Они не снижают эффективность программы по сравнению с обычными классами и методами, поскольку код для конкретного типа генерируется средой CLR во время выполнения программы. Помимо классов-прототипов и обобщенных методов можно описать параметри- зованные интерфейсы, структуры и делегаты.\n",
    "Частичные типы удобно использовать при разработке объемных классов группой программистов и для упрощения отладки программ. Обнуляемые типы применяют для работы с данными, для которых необходимо уметь определять, было ли им присвоено значение.\n",
    "\n",
    "Стр. 310\n",
    "\n",
    "---------------"
   ]
  },
  {
   "cell_type": "markdown",
   "id": "0f137c67",
   "metadata": {},
   "source": [
    "# Глава 14 Введение в программирование под Windows\n",
    "\n",
    "В предыдущих гланах мы изучали возможности языка на примере консольных приложений, чтобы не распилять свое внимание на изучение классов библиотеки NET, поддерживающих стандартный графический интерфейс пользователя, Сейчас пришло время освоить принцины созлания Windows-приложений и получить представление об основных классах библиотеки, которые при этом используются. В перную очерель рассмотрим основные особенности Windows как характерного и широко расиространенного представители современных операционных систем.\n",
    "- Многозадачность - это возможность одновременно выполнять несколько приложений, Онерационная система обеспечивает разделение ресурсов: каждому приложению выделяется свое адресное пространство, распределяется процессорное время и организуются очерели для доступа к внешним устройствам. Внутри приложения также можно организовать параллельное выполнение нескольких фрагментов, называемых потоками. В разных версиях Windows использукутся различные механизмы диснетчеризации.\n",
    "- Независимость программ от аппаратуры, Для управления аппаратными средствами любое приложение обрашаетси к онерационной системе, что обеспечивает независимость, от конкретных физических характеристик устройств: при смене устройстна никакие изменения в программу вносить не требуется. Управление внешними устройствами обеспечинается с помощью драйверов.\n",
    "- Стандартный графический интерфенс с пользователем, Основное изанмо- действие с пользователем осуществляется в графическом режиме, Каждое приложение вынолняет стнеденную ему примоутольную область экрана, налынаемую окном. Окно состонт из стандартных элементов. Это унроща- ет онжние программ польмователем и облегчает работу программиста, поскольку в его распоряжение предоставляются библиотеки интерфейсных кмнонентов, Такие библистеки иходят и состан систем программирования.\n",
    "\n",
    "Стр. 311\n",
    "\n",
    "------------"
   ]
  },
  {
   "cell_type": "markdown",
   "id": "d068679a",
   "metadata": {},
   "source": [
    "Интерфейсные компоненты обращаются к аппаратуре не непосредственно, а через функции операционной системы, называемые API (Application Program Interface - программный интерфейс приложения), API-функции находятся в динамических библиотеках (Dynamic Link Library, DLL), разделяемых всеми приложениями. Эти библиотеки называются динамическими потому, что находящиеся в них функции не подключаются к каждому исполняемому файлу до выполнения программы, а вызываются в момент обращения к ним. В основе пользовательского интерфейса Windows лежит представление экрана как рабочего стола, на котором располагаются «листы бумаги» - окна приложений, ярлыки и меню. Одни элементы могут полностью или частично перекрывать другие, пользователь может изменять их размеры и перемещать их. Приложение может иметь несколько окон, одно из них является главным. При закрытии главного окна приложение завершается.\n",
    "\n",
    "- Поддержка виртуального адресного пространства для каждого приложения. Каждому приложению доступно пространство адресов оперативной памяти размером до 4 Гбайт. Имеются в виду 32-разрядные приложения, то есть приложения, в которых используется адрес длиной 32 разряда. Операционная система отображает его на физические адреса и обеспечивает защиту приложений друг от друга. В разных версиях Windows защита выполняется с различной степенью надежности, например, системы Windows 95/98 гораздо менее надежны, чем Windows NT/2000.\n",
    "- Возможность обмена данными между приложениями. Приложения могут обмениваться данными через буфер обмена или используя другие механизмы. например OLE (Object Linking and Embedding - связывание и внедрение объектов) или именованные программные каналы.\n",
    "- Возможность запуска старых программ. В 32-разрядных версиях Windows можно выполнять 16-разрядные Windows-программы, а также программы, написанные под MS-DOS. Последние запускаются в так называемой виртуальной DOS-машине, которая создает у программы полное «впечатление» того, что она выполняется под управлением MS-DOS в монопольном режиме.\n",
    "- Принцип событийного управления (рассматривается в следующем разделе)."
   ]
  },
  {
   "cell_type": "markdown",
   "id": "bce82afb",
   "metadata": {},
   "source": [
    "# Событийно-управляемое программирование\n",
    "\n",
    "В основу Windows положен принцип событийного управления. Это значит, что и сама система, и приложения после запуска ожидают действий пользователя и реагируют на пих заранее заданным образом. Любое действие пользователя (нажатие клавиши на клавиатуре, щелчок кнопкой мыши, перемещение мыши) называется событием. Структура программы, управляемой событиями, изображена на рис. 14.1.\n",
    "\n",
    "- Инициализация -> обработчик событий\n",
    "- События -> обработчик событий\n",
    "- Завершение -> обработчик событий\n",
    "- обработчик событий -> Программа 1\n",
    "- обработчик событий -> ...\n",
    "- обработчик событий -> Программа n\n",
    "\n",
    "Рис. 14.1. Структура программы, управляемой событиями\n",
    "\n",
    "Стр. 312\n",
    "\n",
    "------------"
   ]
  },
  {
   "attachments": {
    "image.png": {
     "image/png": "[encoded data removed]"
    }
   },
   "cell_type": "markdown",
   "id": "fb961f17",
   "metadata": {},
   "source": [
    "Событие воспринимается Windows и преобразуется в сообщение - запись, содержащую необходимую информацию о событии (например, какая клавиша была нажата, в каком месте экрана произошел щелчок мышью). Сообщения могут поступать не только от пользователя, но и от самой системы, а также от активного или других приложений. Определен достаточно широкий круг стандартных сообщений, образующий иерархию, кроме того, можно определять собственные сообщения. Сообщения поступают в общую очередь, откуда распределяются по очередям приложений. Каждое приложение содержит цикл обработки сообщений, который выбирает сообщение из очереди и через операционную систему вызывает подпрограмму, предназначенную для его обработки (рис. 14.2). Таким образом, Windows-приложение состоит из главной программы, содержащей цикл обработки сообщений, инициализацию и завершение приложения, и набора обработ- чиков событий.\n",
    "\n",
    "![image.png](attachment:image.png)\n",
    "Рис. 14.2. Структура Windows-приложения\n",
    "\n",
    "Среда Visual Studio.NET содержит удобные средства разработки Windows-при- ложений, выполняющие вместо программиста рутинную работу - создание шаблонов приложения и форм, заготовок обработчиков событий, организацию цикла обработки сообщений и т. д. Рассмотрим эти средства.\n",
    "\n",
    "Стр. 313\n",
    "\n",
    "------------"
   ]
  },
  {
   "attachments": {
    "image.png": {
     "image/png": "[encoded data removed]"
    }
   },
   "cell_type": "markdown",
   "id": "0942caef",
   "metadata": {},
   "source": [
    "# Шаблон Windows-приложения\n",
    "\n",
    "Создадим новый проект (File » New » Project), выбрав шаблон Windows Application (рис. 14.3). После более длительных раздумий, чем для консольного приложе. пия, среда сформирует шаблон Windows-приложения. Первое отличие, которое бросается в глаза, - вкладка заготовки формы Form1.cs$[$Design$]$, расположенная в основной части экрана. Форма представляет собой окно и предназначена для размещения компонентов (элементов управления) - меню, текста, кнопок, списков, изображений и т. д.\n",
    "\n",
    "![image.png](attachment:image.png)\n",
    "\n",
    "Рис. 14.3. Выбор шаблона проекта"
   ]
  },
  {
   "cell_type": "markdown",
   "id": "eb947df4",
   "metadata": {},
   "source": [
    "Среда создает не только заготовку формы, но и шаблон текста приложения. Перейти к нему можно, щелкнув в окне Solution Explorer (View » Solution Explorer) правой кнопкой мыши на файле Form1.cs и выбрав в контекстном меню команду View Code. При этом откроется вкладка с кодом формы, который, за исключением комментариев, приведен в листинге 14.1. Представлять себе, что написано в вашей программе, весьма полезно, поэтому давайте внимательно рассмотрим этот текст.\n",
    "\n",
    "Листинг 14.1. Шаблон Windows-приложения\n",
    "\n",
    "    using System;\n",
    "    using System.Drawing;\n",
    "    using System.Collections;\n",
    "    using System.ComponentModel;\n",
    "    using System.Windows.Forms;\n",
    "    using System.Data;\n",
    "    \n",
    "Стр. 314\n",
    "\n",
    "------------"
   ]
  },
  {
   "cell_type": "markdown",
   "id": "a85ab7c0",
   "metadata": {},
   "source": [
    "    namespase WindowsApplicationl;\n",
    "    {\n",
    "        public class Forml: System.Windows.Forms.Form\n",
    "        {\n",
    "            private System.ComponentModel.Container components = null;\n",
    "            public Forml() { InitializeComponent(); }\n",
    "            protected override void Dispose( bool disposing )\n",
    "            {\n",
    "                if( disposing )\n",
    "                {\n",
    "                    if(components != null) { components.Dispose(); }\n",
    "                }\n",
    "                base.Dispose( disposing );\n",
    "            }"
   ]
  },
  {
   "cell_type": "markdown",
   "id": "4ef8d1b4",
   "metadata": {},
   "source": [
    "        #region kindows Form Designer generated code\n",
    "            private void InitializeComponent()\n",
    "            {\n",
    "                this.components = new System.ComponentModel.Container():\n",
    "                this.Size = new System.Drawing.Size(300.300);\n",
    "                this.Text = \"Forel\";\n",
    "            }\n",
    "        #endregion\n",
    "            static void Main()\n",
    "            { Application.Run(new Forml()); }\n",
    "        }\n",
    "    }"
   ]
  },
  {
   "cell_type": "markdown",
   "id": "366afddf",
   "metadata": {},
   "source": [
    "Приложение начинается с директив использования пространств имен библиоте- NET. Для нустой формы, не содержащей ни одного компонента, необходимыми являются только две директивы:\n",
    "\n",
    "    using System;\n",
    "    using System.Windows.Forms;\n",
    "\n",
    "Остальные директивы добанлены средой «на вырост». С пространством имен te вы уже знакомы. Пространство System.Windows.Forms содержит огромное малчество типов, являющихся строительными блоками Windows-приложений. \n",
    "Список наиболее употребительных элементов этого пространства имен приведен в табл. 14.1, а часть нерархии - на рис. 14.4.\n",
    "\n",
    "Стр. 315\n",
    "\n",
    "------------"
   ]
  },
  {
   "cell_type": "markdown",
   "id": "b38ba2f2",
   "metadata": {},
   "source": [
    "Таблица 14.1. Основные типы Windows.Forms\n",
    "\n",
    "- Класс - Назначение\n",
    "- Application - Класс Windows-приложения, При помощи методов этого класса можно обрабатывать Windows-сообщения, запускать и прекращать работу приложения и т. п.\n",
    "- ButtonBase, Button, CheckBox, ComboBox, DataGrid, GroupBox, ListBox, LinkLabel, PictureBox - Примеры классов, представляющих элементы управления (компоненты): базовый класс кнопок, кнопка, флажок, комбинированный список, таблица, группа, список, метка с гиперссылкой, изображение\n",
    "- Form - Класс формы - окно Windows-приложения\n",
    "- ColorDialog, FileDialog, FontDialog, PrintPreviewDialog - Примеры стандартных диалоговых окон для выбора цветов, файлов, шрифтов, окно предварительного просмотра\n",
    "- Menu, MainMenu, MenuItem, ContextMenu -  Классы выпадающих и контекстных меню\n",
    "- Clipboard, Help, Timer, Screen, ToolTip, Cursors - Вспомогательные типы для организации графических интерфейсов: буфер обмена, помощь, таймер, экран, подсказка, указатели мыши\n",
    "- StatusBar, Splitter, ToolBar, ScrollBar -  Примеры дополнительных элементов управления, размещаемых на форме: строка состояния, разделитель, панель инструментов и т. д."
   ]
  },
  {
   "cell_type": "markdown",
   "id": "c0f9004d",
   "metadata": {},
   "source": [
    "Мы будем изучать типы пространства имен Windows.Forms по мере необходимости. Продолжим рассмотрение листинга 14.1. В нем описан класс Forml, производный от класса Form. Он наследует от своего предка множество элементов, которые мы рассмотрим в следующих разделах. В самом классе Forml описано новое закрытое поле components - контейнер для хранения компонентов, которые можно добавить в класс формы. Конструктор формы вызывает закрытый метод InitializeComponent, автоматически формируемый средой (код метода скрыт между директивами препроцессора #region и #endregion). Этот метод обновляется средой при добавлении элементов управления на форму, а также при изменении свойств формы и содержащихся на ней элементов. Например, если изменить цвет фона формы с помощью окна свойств (Properties), в методе появится примерно такая строка:\n",
    "\n",
    "    this.BackColor = System.Drawing.SystemColors.AppWorkspace;\n",
    "\n",
    "Метод освобождения ресурсов Dispose вызывается автоматически при закрытии формы. Точка входа в приложение, метод Main, содержит вызов статического метода Run класса Application, Метод Run запускает цикл обработки сообщений и выводит на экран форму, повый экземпляр которой передан ему в качестве параметра.\n",
    "\n",
    "Стр. 316\n",
    "\n",
    "------------"
   ]
  },
  {
   "cell_type": "markdown",
   "id": "97701904",
   "metadata": {},
   "source": [
    "- System.Object\n",
    "    - ListViewItem\n",
    "    - System.MarshalByRetObject\n",
    "        - TreeNode\n",
    "        - System.ComponentModel.Companent        \n",
    "- System.ComponentModel.Companent\n",
    "    - CommenDialog\n",
    "        - ColorDialog\n",
    "        - FileDialog\n",
    "        - PentDialog\n",
    "        - PageSetupDialog\n",
    "        - PrintDialog\n",
    "    - ErrorPrevider\n",
    "    - HelpPrevider\n",
    "    - ImageList\n",
    "    - Menu\n",
    "        - ContextMenu\n",
    "        - MainManu\n",
    "        - MainItem\n",
    "    - NotyfiIcon\n",
    "    - StandartPanel\n",
    "    - Timer\n",
    "    - ToolBarButton\n",
    "    - ToolTip"
   ]
  },
  {
   "cell_type": "markdown",
   "id": "9bc64b07",
   "metadata": {},
   "source": [
    "- System.ComponentModel.Companent\n",
    "    - Control\n",
    "        - ButtonBase\n",
    "            - Button\n",
    "            - CheckBox\n",
    "            - RadioButton\n",
    "        - DataGrid\n",
    "        - DataTimePicker\n",
    "        - GroupBpx\n",
    "        - Label\n",
    "            - LinkLabel\n",
    "        - ListControl\n",
    "            - ComboBox\n",
    "            - ListBox\n",
    "                - CheckedListBox\n",
    "        - ListView\n",
    "        - MonthCalendar"
   ]
  },
  {
   "cell_type": "markdown",
   "id": "c543b0b2",
   "metadata": {},
   "source": [
    "- System.ComponentModel.Companent\n",
    "    - Control\n",
    "        - PictureBox\n",
    "        - PrintReviewControl\n",
    "        - ProgressBar\n",
    "        - ScrollableControl\n",
    "            - Panel\n",
    "                - TabPage\n",
    "            - ContainerControl\n",
    "                - Form\n",
    "                    - PrintPreviewDialog\n",
    "                    - ThreadExceptionDialog\n",
    "                - PropertyGrid\n",
    "                - UserControl\n",
    "                - UpDownBase\n",
    "                    - DomainUpDown\n",
    "                    - NumericUpDown"
   ]
  },
  {
   "cell_type": "markdown",
   "id": "57e831e4",
   "metadata": {},
   "source": [
    "- System.ComponentModel.Companent\n",
    "    - Control\n",
    "        - ScrollBar\n",
    "            - HScrollBar\n",
    "            - VScrollBar\n",
    "    - Splitter\n",
    "    - StatusBar\n",
    "    - TabControl\n",
    "    - TextBoxBase\n",
    "        - RichTextBox\n",
    "        - TextBox\n",
    "    - ToolBar\n",
    "    - TrackBar\n",
    "    - TreeView\n",
    "\n",
    "Рис. 14.4. Элементы управления Windows.Forms (Который уже в зюзю устарел)"
   ]
  },
  {
   "cell_type": "markdown",
   "id": "da55c4aa",
   "metadata": {},
   "source": [
    "# ПРИМЕЧАНИЕ\n",
    "Запуск приложения, для создания которого мы пока не написали ни строчки кода. можно выполнить с помощью команды меню Debug » Start или клавищи F5. На экран выводится пустая форма, обладающая стандартиой функциональностью окна Windows-приложения: например, она умеет изменять свои размеры и реагировать на действия с кнопками развертывания и закрытия.\n",
    "\n",
    "Процесс создания Windows приложения состоит из двух основных этапов:\n",
    "1. Визуальное проектирование, то есть задание внешнего облика приложения.\n",
    "2. Определение поведения приложения путем написания процедур обработки событий.\n",
    "\n",
    "Визуальное проектирование заключается в помещении на форму компонентов (элементов управления) и задании их свойств и свойств самой формы с помошью окна свойств, Если его не видно, можно воспользоваться командой меню View > Properties Window, Свойства отображаются либо в алфавитном порядке, либо сгруппированными по категориям. Способ отображения выбирается с помощью кнопок, расположенных в верхней части окна свойств (рис. 14.5).\n",
    "\n",
    "Стр. 317\n",
    "\n",
    "------------"
   ]
  },
  {
   "attachments": {
    "image.png": {
     "image/png": "[encoded data removed]"
    }
   },
   "cell_type": "markdown",
   "id": "89b55d7d",
   "metadata": {},
   "source": [
    "![image.png](attachment:image.png)"
   ]
  },
  {
   "cell_type": "markdown",
   "id": "6d77fd68",
   "metadata": {},
   "source": [
    "Рис. 14.5. Окно свойств\n",
    "\n",
    "Самый простой способ размещения компонента - двойной щелчок на соответствующем значке палитры компонентов Toolbox (если ее не видно, можно воспользоваться командой меню View » Toolbox), при этом компонент помещается на форму. Затем компонент можно переместить и изменить его размеры с помощью мыши. Можно также сделать один щелчок на палитре и еще один щелчок в том месте формы, где планируется разместить компонент. В окне свойств отображаются свойства выбранного в данный момент компонента (он окружен рамкой). \n",
    "\n",
    "Задание свойств выполняется либо выбором имеющихся в списке вариантов, либо вводом требуемого значения с клавиатуры. Если около имени свойства стоит значок +, это означает, что свойство содержит другие свойства. Они становятся доступными после щелчка на значке. Пример формы, на которой размещены компоненты с вкладки палитры Windows Forms, показан на рис. 14.6. Эти компоненты описаны в разделе «Элементы управления» (см. с. 325).\n",
    "\n",
    "Определение поведения программы начинается с принятия решений, какие действия должны выполияться при щелчке на кнопках, вводе текста, выборе пунктов меню и т. д., иными словами, по каким событиям будут выполняться действня. реализующие функциональность программы.\n",
    "\n",
    "Стр. 318\n",
    "\n",
    "------------"
   ]
  },
  {
   "cell_type": "markdown",
   "id": "e19f359f",
   "metadata": {},
   "source": [
    "- Form1 _0x\n",
    "- textBox1\n",
    "- button1\n",
    "\n",
    "Рис. 14.6. Форма с размещенными на ней компонентами\n",
    "\n",
    "# ВНИМАНИЕ\n",
    "Интерфейс программы должен быть интуитивно понятным и по возможности простым. Часто повторяющиеся действия не должны требовать от пользователя выполнения сложных последовательностей операций.\n",
    "\n",
    "Заготовка шаблона обработчика события формируется двойным щелчком на поле, расположенном справа от имени соответствующего события на вкладке Events окна свойств, при этом появляется вкладка окна редактора кода с заготовкой соответствующего обработчика (вкладка Events отображается в окне свойств при щелчке на кнопке с желтой молнией, как показано на рис. 14.5)."
   ]
  },
  {
   "cell_type": "markdown",
   "id": "9c9e40c1",
   "metadata": {},
   "source": [
    "Для каждого класса определен свой набор событий, на которые он может реагировать. Наиболее часто используемые события:\n",
    "\n",
    "- Activated - получение формой фокуса ввода;\n",
    "- Click, DoubleClick - одинарный и двойной щелчки мышью;\n",
    "- Closed - закрытие формы;\n",
    "- Load - загрузка формы;\n",
    "- KeyDown, KeyUp - нажатие и отпускание любой клавиши и их сочетаний;\n",
    "- KeyPress - нажатие клавиши, имеющей ASCII-код;\n",
    "- MouseDown, MouseUp - нажатие и отпускание кнопки мыши;\n",
    "- MouseMove - перемещение мыши;\n",
    "- Paint - возиикает при необходимости прорисовки формы.\n",
    "\n",
    "В листинге 14.2 приведен текст программы, сформированной средой после размещения на форме компонентов, представленных на рис, 14.6, и выбора для кнопки события Click, а для поля ввода - события KeyPress, Из листинга для удобства восприятия удалены лишние элементы.\n",
    "\n",
    "Стр. 319\n",
    "\n",
    "------------"
   ]
  },
  {
   "cell_type": "markdown",
   "id": "e951a16b",
   "metadata": {},
   "source": [
    "Листинг 14.2. Шаблон приложения с двумя компонентами и заготовками обработчиков событий\n",
    "\n",
    "    using System;\n",
    "    using System.Drawing;\n",
    "    using System.Collections;\n",
    "    using System.ComponentModel;\n",
    "    using System.Windows.Forms;\n",
    "    using System.Data;\n",
    "    namespace windowsApplicationl\n",
    "    {\n",
    "        public class Forml : System.Windows.Forms.Form\n",
    "        {\n",
    "            private System.Windows.Forms,TextBox textBox1;              // 0\n",
    "            private System.Windows.Forms.Button buttonl;                // 1\n",
    "            private System.ComponentModel.Container components = null;  // 2\n",
    "            public Form1() { InitializeComponent(); }\n",
    "            protected override void Dispose( bool disposing ) { ... }"
   ]
  },
  {
   "cell_type": "markdown",
   "id": "02ceb841",
   "metadata": {},
   "source": [
    "            #region Windows Form Designer generated code\n",
    "            private void InitializeComponent()\n",
    "            {\n",
    "                this.textBox1 = new System.Windows.Forms.TextBox();  // 3\n",
    "                this.buttonl = new System.Windows.Forms.Button();    // 4\n",
    "                this.SuspendLayout();                                // 5 \n",
    "                //\n",
    "                // textBox1\n",
    "                //\n",
    "                this.textBoxl.Location = new System.Drawing.Point(24. 16):\n",
    "                this.textBox1.Name = \"textBox1\";\n",
    "                this.textBox1.Size = new System.Drawing.Size(240, 20);\n",
    "                this.textBox1.TabIndex = 0:\n",
    "                this.textBox1.Text = \"textBox1\":\n",
    "                this.textBoxl.KeyPress += new // б\n",
    "                System.Windows.Forms.KeyPressEventHandler(this.textBoxl_KeyPress);"
   ]
  },
  {
   "cell_type": "markdown",
   "id": "bdb279c3",
   "metadata": {},
   "source": [
    "                //\n",
    "                // button1\n",
    "                //\n",
    "                this.buttonl.Location = new System.Drawing.Point(192, 80);\n",
    "                this.buttonl.Name = \"button1\";\n",
    "                this.buttonl.TabIndex = 1;\n",
    "                this.buttonl.Text = \"button1\";\n",
    "                this.buttonl.Click += new  // 7\n",
    "                System.EventHandler(this.button1 Click);\n",
    "                //\n",
    "                // Form1\n",
    "                //\n",
    "                this.AutoScaleBaseSize = new System.Drawing.Size(5, 13);\n",
    "                this.ClientSize = new System.Drawing.Size(292, 126);\n",
    "                thisControls.Add(this.buttonl);  // 8\n",
    "\n",
    "Стр. 320\n",
    "\n",
    "-------------"
   ]
  },
  {
   "cell_type": "markdown",
   "id": "9f0a33c2",
   "metadata": {},
   "source": [
    "                this.Controls.Add(this.textBoxl);  // 9\n",
    "                this.Name = \"Forml\";\n",
    "                this.Text = \"Forml\";\n",
    "                this.Resumelayout(false);          // 10\n",
    "            }\n",
    "            #endregion\n",
    "            static void Main()\n",
    "            { Apolication, Run(new Forml()); }\n",
    "            private void buttonl_Click(object serder, System EvertArgs e) { ... } // 11\n",
    "            private void textBox1_KeyPress(object sender. Syster, Windows, Forms KeyPressEventArgs e) { ... } //12\n",
    "        }\n",
    "    }"
   ]
  },
  {
   "cell_type": "markdown",
   "id": "745e17b9",
   "metadata": {},
   "source": [
    "Рассмотрим текст программы. В операторах 1 и 2 в класс формы добавляются два закрытых поля: строка ввода типа TextBox и кнопка типа Button Эти типы определены в пространства имен Systemwindows. Forms, которое подключается в соответствующей директиве using, поэтому можно записать эти и соседние строки проше:\n",
    "\n",
    "    public class Forml : Form  // 0 \n",
    "    {\n",
    "        private TextBox textBox1;  // 1\n",
    "        private Button buttonl;    // 2\n",
    "        private Container components = null;\n",
    "    }\n",
    "\n",
    "Чаше всего программист изменяет имена, присваиваемые элементам средой, более осмысленными. Это можно сделать, задав новое значение свойства Name элемента.\n",
    "\n",
    "# ПРИМЕЧАНИЕ\n",
    "Того же самого эффекта можно достичь и с помощью вкладки Class View (View Class View), выбрав в списке нужный элемент и изменив значение его свойства Name в окне свойств. Обратите внимание на то, что при этом в нем отображаются свойства кнопки button1 не как элемента интерфейса, а как поля класса. Можно изменить имена и вручную, но это более трудоемко и чревато ошибками.\n",
    "\n",
    "Стр. 321\n",
    "\n",
    "------------"
   ]
  },
  {
   "cell_type": "markdown",
   "id": "38d1dfd0",
   "metadata": {},
   "source": [
    "Самое важное происходит в методе InitializeComponent. В операторах 3 и 4 создаются экземпляры компонентов, затем для каждого из них задаются свойства, определяющие их положение, размер, вид и т. д. Обратите внимание на операторы 6 и 7, В них регистрируются обработчики соответствующих событий, Механизм обработки событий тот же, что мы рассматривали в главе 10 (см. с. 232) - он описывается моделью «публикация - подписка». Например, для кнопки button1, в составе которой есть событие Click, регистрируется обработчик button1_Click, являющийся закрытым методом класса Forml. Это значит, что при наступлении события нажатия на кнопку (об этом сообщит операционная система) будет вызван соответствующий обработчик. Имя обработчика формируется средой автоматически из имени экземпляра компонента и имени события. Обратите внимание на то, что обработчикам передаются два параметра: объект-источник события и запись, соответствующая типу события.\n",
    "\n",
    "# ПРИМЕЧАНИЕ\n",
    "При задапии обработчика можно задать и другое имя, для этого оно записывается справа от имени соответствующего события на вкладке Events окна свойств.\n",
    "\n",
    "После создания экземпляров компонентов и настройки их свойств компоненты заносятся в коллекцию, доступ к которой выполняется через свойство Controls (операторы 8 и 9). Если этого не сделать, компоненты не будут отображаться на форме. Коллекция поддерживает методы добавления и удаления компонентов (Add и Remove)."
   ]
  },
  {
   "cell_type": "markdown",
   "id": "b73dda08",
   "metadata": {},
   "source": [
    "Таким образом, для размещения компонента на форме необходимо выполнить три действия:\n",
    "\n",
    "1. Создать экземпляр соответствующего класса.\n",
    "2. Настроить свойства экземпляра, в том числе зарегистрировать обработчик событий.\n",
    "3. Поместить экземпляр в коллекцию компонентов формы.\n",
    "\n",
    "Операторы 5 и 10 используются для того, чтобы все изменения в свойства элементов вносились одновременно. Для этого в операторе 5 внесение изменений «замораживается», а в операторе 10 разрешается. В теле обработчиков событий (операторы 11 и 12) программист может наконецто самостоятельно написать код, который будет выполияться при наступленни события. Добавим в эти строки операторы, выводящие окна сообщений с соответствующим текстом:\n",
    "\n",
    "    MessageBox, Show(\"Нажата кнопка button1\");        // 11\n",
    "    MessageBox, Show(\"Нажата клавиша \" + e, KeyChar); // 12\n",
    "\n",
    "Здесь используется простейший вариант статического метода Show класса MessageBox, определенного в пространстве имен System, Windows. Forms, Существуют более десяти перегруженных вариантов этого метода, позволяющих варьировать вид выво- димой информации, например задать заголовок окна и наименования отображаемых на нем кнопок. Прежде чем приступить к изучению форм и элементов управления, размещаемых на формах, необходимо рассмотреть их общего предка - класс Control.\n",
    "\n",
    "Стр. 322\n",
    "\n",
    "------------"
   ]
  },
  {
   "cell_type": "markdown",
   "id": "f672efb2",
   "metadata": {},
   "source": [
    "# Класс Control\n",
    "\n",
    "Класс Contro1 является базовым для всех отображаемых элементов, то есть элементов, которые составляют графический интерфейс пользователя, например кнопок, списков, полей ввода и форм. Класс Control реализует базовую функциональность интерфейсных элементов. Он содержит методы обработки ввода пользователя с помощью мыши и клавиатуры, определяет размер, положение, цвет фона и другие характеристики элемента. Для каждого объекта можно определить родительский класс, задав свойство Parent, при этом объект будет иметь, например, такой же цвет фона, как и его родитель. Речь идет не о наследовании, а о взаимоотношениях объектов во время выполнения программы. Например, если на форме размещена кнопка, форма является родительским объектом по отношению к кнопке. Наиболее важные свойства класса Control перечислены в табл. 14.2, методы - в табл. 14.3."
   ]
  },
  {
   "cell_type": "markdown",
   "id": "9dbb6b00",
   "metadata": {},
   "source": [
    "Таблица 14.2. Основные свойства класса Control\n",
    "- Свойство - Описание -\n",
    "- Anchor - Определяет, какие края элемента управления будут привязаны к краям родительского контейнера. Если задать привязку всех краев, элемент будет изменять размеры вместе с родительским\n",
    "- BackColor, Background Image, Font, ForeColor, Cursor - Определяют параметры отображения рабочей области формы: цвет фона, фоновый рисунок, шрифт, цвет текста, вид указателя мыши\n",
    "- Bottom, Right - Координаты нижнего правого угла элемента. Могут устанавливаться также через свойство Size\n",
    "- Top, Left - Координаты верхнего левого угла элемента. Эквивалентны свойству Location\n",
    "- Bounds - Возвращает объект типа Rectangle (прямоугольник), который определяет размеры элемента управления\n",
    "- ClientRectangle - Возвращает объект Rectangle, определяющий размеры рабочей области элемента\n",
    "- ContextMenu - Определяет, какое контекстное меню будет выводиться при щелчке на элементе правой кнопкой мыши\n",
    "- Dock - Определяет, у какого края родительского контейнера будет отображаться элемент управления\n",
    "- Location - Координаты верхнего левого угла элемента относительно верхнего левого угла контейнера, содержащего этот элемент, в виде структуры типа Point. Структура содержит свойства Х и Y\n",
    "- Height, Width  - Высота и ширина элемента\n",
    "- Size - Высота и ширина элемента в виде структуры типа Size. Структура содержит свойства Height и Width\n",
    "\n",
    "Стр. 323\n",
    "\n",
    "------------"
   ]
  },
  {
   "cell_type": "markdown",
   "id": "88553e22",
   "metadata": {},
   "source": [
    "Таблица 14.2 (продолжение)\n",
    "- Свойство - Описание - \n",
    "- Created, Disposed, Enabled, Focused, Visible - Возвращают значения типа bool, определяющие текущее состояние алемента: создан, удален, использование разрещено, имест фокус ввода, видимый\n",
    "- Handle - Возвращает дескриптор элемента (уникальное целочисленное значение, сопоставленное элементу)\n",
    "- ModifierKeys - Статическое свойство, используемое для проверки состояния модифицирующих клавиш (Shift, Control, Alt). Возвращает результат в виде объекта типа Keys\n",
    "- MouseButtons - Статическое свойство, проверяющее состояние клавиш мыши. Возвращает результат в виде объекта типа MouseButtons\n",
    "- Opacity - Определяет степень прозрачности элемента управления. Может изменяться от 0 (прозрачный) до 1 (непрозрачный)\n",
    "- Parent - Возвращает объект, родительский по отношению к данному (имеется в виду не базовый класс, а объект-владелец)\n",
    "- Region - Определяет объект Region, при помощи которого можно управлять очертаниями и границами элемента управления\n",
    "- TabIndex, TabStop - Используются для настройки последовательности перемещения с помощью клавиши Tab по элементам управления, расположенным на форме"
   ]
  },
  {
   "cell_type": "markdown",
   "id": "39c790a9",
   "metadata": {},
   "source": [
    "Таблица 14.3. Основные методы класса Control\n",
    "\n",
    "- Метод - Описание\n",
    "- Focus - Установка фокуса ввода на элемент\n",
    "- GetStyle, SetStyle - Получение и установка флагов управления стилем элемента. Используются значения перечисления ControlStyles (см. далее)\n",
    "- Hide, Show - Управление свойством Visible (Hide - скрыть элемент, Show - отобразить элемент)\n",
    "- Invalidate - Обновление изображения элемента путем отправки соответствующего сообщения в очередь сообщений. Метод перегружен таким образом, чтобы можно было обновлять не всю область, запимаемую элементом, а лишь ее часть\n",
    "- 0nXXXX - Методы-обработчики событий (OnMouseMove, OnkeyDown, OnResize, OnPaint и т. п.), которые могут быть замещены в производных классах\n",
    "- Refresh - Обновление элемента и всех его дочерних элементов\n",
    "- SetBounds, SetLocation, SetClientArea - Управление размером и положением элемента\n",
    "\n",
    "Стр. 324\n",
    "\n",
    "------------"
   ]
  },
  {
   "cell_type": "markdown",
   "id": "232c98ca",
   "metadata": {},
   "source": [
    "Перечисление ControlStyles задает возможные значения стиля формы и ниде битовых флагов, поэтому можно использовать их комбинации. Значения исех констант перечисления можно посмотреть в электронной документации, а для первого знакомства достаточно одного - Res izeRedraw, Этот стиль определяет, что при изменении размеров формы она будет автоматически перерисована. По умолчанию перерисовка не выполняется, и если на форме есть какое-либо изображение, результат изменеция размеров формы может сильно озадачить.\n",
    "В табл. 14.4 перечислена небольшая часть событий, определенных в классе Control.\n",
    "\n",
    "Таблица 14.4. Некоторые события класса Control\n",
    "- Событие - Описание\n",
    "- Click, DoubleClick, MouseEnter, MouseLeave, MouseDown, MouseUp, MouseMove, Mousewheel - События от мыши\n",
    "- KeyPress, KeyUp, KeyDown - События от клавиатуры\n",
    "- BackColorChanged, ContextMenuChanged, FontChanged, Move, Paint, Resize - События изменения элемента\n",
    "- GotFocus, Leave, LostFocus - События получения и потери фокуса ввода"
   ]
  },
  {
   "cell_type": "markdown",
   "id": "d25e245a",
   "metadata": {},
   "source": [
    "Применение наиболее важных элементов, описанных в таблицах, рассматривается в следующих разделах. При написании приложений применяются два способа обработки событий:\n",
    "- замещение стандартного обработчика;\n",
    "- задание собственного обработчика.\n",
    "\n",
    "В большинстве случаев применяется второй способ. Среда разработки создает заготовку обработчика по двойному щелчку на поле, расположенном справа от имени соответствующего события на вкладке Events окна свойств. При этом в код приложения автоматически добавляется строка, регистрирующая этот обработчик. Первый способ, то есть переопределение виртуальных методов 0nXXXX (OnMouseMove, OnKeyDown, OnResize, OnPaint и т. il.), применяется в основном тогда, когда перед реакцией на событие требуется выполнить какие-либо дополнительные действия. За подробностями интересующиеся могут обратиться к $[$27$]$."
   ]
  },
  {
   "cell_type": "markdown",
   "id": "68c54a51",
   "metadata": {},
   "source": [
    "# Элементы управления\n",
    "\n",
    "Элементы управления, или компоненты, помещают на форму с помощью панели инструментов ToolBox (View ToolBox). В этом разделе кратко описаны простейшие компоненты и приведены примеры их использования. Обычно компоненты применяют в диалоговых окнах для получения данных от пользователя или его информирования.\n",
    "\n",
    "# Метка Label\n",
    "\n",
    "Метка предназначена для размещения текста на форме. Текст хранится в свойстве Text. Можно задавать шрифт (свойство Font), цвет фона (BackColor), цвет шрифта (ForeColor) и выравнивание (TextAlign) текста метки. Метка может автоматически изменять размер в зависимости от длины текста (AutoSize - True), Можно разместить на метке изображение (Image) и задать прозрачность (установить для свойства BackColor значение Color,Transparent). Метка не может получить фокус ввода, следовательно, не обрабатывает сообщения от клавиатуры. Пример использования меток приведеп далее (см. с. 327).\n",
    "\n",
    "Стр. 325\n",
    "\n",
    "------------"
   ]
  },
  {
   "cell_type": "markdown",
   "id": "8b421a02",
   "metadata": {},
   "source": [
    "# Кнопка Button\n",
    "\n",
    "Основное событие, обрабатываемое кнопкой, - щелчок мышью (C1ick). Кроме того, кнопка может реагировать на множество других событий - нажатие клавиш на клавиатуре и мыши, изменение параметров и т. д. Нажатие клавиши Enter или пробела, если при этом кнопка имеет фокус ввода, эквивалентно щелчку мышью на кнопке. Можно изменить начертание и размер шрифта текста кнопки, который хранится в свойстве Text, задать цвет фона и фоновое изображение так же, как и для метки. Если занести имя кнопки в свойство AcceptButton формы, на которой расположена кнопка, то нажатие клавиши Enter вызывает событие Click, даже если кнопка не имеет фокуса ввода. Такая кнопка имеет дополнительную рамку и называется кнопкой по умолчанию.\n",
    "\n",
    "Аналогично, если занести имя кнопки в свойство CancelButton формы, на которой расположена кнопка, то нажатие клавиши Esc вызывает событие Click для этой кнопки. Кнопки часто используются в диалоговых окнах. Как видно из названия, такое окно предназначено для диалога с пользователем и запрашивает у него какиелибо сведения (например, какой выбрать режим или какой файл открыть). Диалоговое окно обладает свойством модальности. Это означает, что дальнейшие действия с приложением невозможны до того момента, пока это окно не будет закрыто. Закрыть окно можно, либо подтвердив введенную в него информацию щелчком на кнопке OK (или Yes), либо отменив ее с помощью кнопки закрытия окна или, например, кнопки Cancel."
   ]
  },
  {
   "cell_type": "markdown",
   "id": "3b280dc8",
   "metadata": {},
   "source": [
    "Таблица 14.5. Значения перечисления DialogResult\n",
    "\n",
    "- Значение - Описание\n",
    "- None - Окно не закрывается\n",
    "- OK - Нажата кнопка ОК\n",
    "- Cancel - Нажата кнопка Cancel\n",
    "- Abort - Нажата кнопка Abort\n",
    "- Значение - Описанне\n",
    "- Ignore - Нажата кнопка Ignore\n",
    "- Yes - Нажата кнопка Yes\n",
    "- No - Нажата кнопка No\n",
    "- Retry - Нажата кнопка Retry\n",
    "\n",
    "Для сохранения информации о том, как было закрыто окно, у кнопки определяют свойство DialogResult. Это свойство может принимать стандартные значения из перечисления DialogResult, определенного в пространстве имен SystemWindows Forms. Значения перечисления приведены в табл. 14.5. Пример использования кнопок приведен в следующем разделе.\n",
    "\n",
    "Стр. 326\n",
    "\n",
    "------------"
   ]
  },
  {
   "cell_type": "markdown",
   "id": "098ab78d",
   "metadata": {},
   "source": [
    "# Поле ввода TextBox\n",
    "\n",
    "Компонент TextBox позволяет пользователю вводить и редактировать текст, который запоминается в свойстве Text. Можно вводить строки практически неограниченной длины (приблизительно до 32 000 символов), корректировать их, а также вводить защищенный текст (пароль) путем установки маски, отображаемой вместо вводимых символов (свойство PasswordChar). Для обеспечения возможности ввода нескольких строк устанавливают свойства Multiline, ScrollBars и WordWrap. Доступ только для чтения устанавливается с помощью свойства ReadOnly. Элемент содержит методы очистки (Clear), выделения (Select), копирования в буфер (Cоpy), вставки из него (Paste) и др., а также реагирует на множество событий, основными из которых являются KeyPress и KeyDown. Рассмотрим создание простого приложения, в котором использованы компоненты типа Labe1, Button и TextBox. Главное окно приложения показано на рис. 14.7."
   ]
  },
  {
   "cell_type": "markdown",
   "id": "a25bea7a",
   "metadata": {},
   "source": [
    "- Диагностика кармы _OX\n",
    "- Введите число : __\n",
    "\n",
    "Рис. 14.7. Окно приложения «Диагностика кармы»\n",
    "\n",
    "Пользователь вводит число и нажимает клавишу Enter, после чего введенное значение сравнивается с числом, «задуманным» генератором случайных чисел. Если пользователь не угадал, выводится сообщение «Не угадали!». Каждое следующее сообщение для наглядности немного сдвигается вправо относительно предыдущего. После совпадения выводится итоговое сообщение, и фокус ввода передается на кнопку Еще раз (рис, 14.8). «Коэффициент невезучести» определяется как количество попыток, деленное на максимально возможное значение числа.\n",
    "Создание приложения начинается с проектирования его интерфейса. На форме располагаются метки, поля ввода и кнопка. В окне свойств их свойству Text задается перечисленные в табл. 14.6 значения (в окне отображаются свойства выделенного элемента; элемент выделяется щелчком мыши).\n",
    "\n",
    "Стр. 327\n",
    "\n",
    "------------"
   ]
  },
  {
   "cell_type": "markdown",
   "id": "a8634a8a",
   "metadata": {},
   "source": [
    "- Диагностика кармы _OX\n",
    "- Введите число : _0_\n",
    "- Коэффициент невезучести : _0,6_\n",
    "- Еще раз\n",
    "\n",
    "Рис. 14.8. Окно приложения после ввода правильного ответа\n",
    "\n",
    "Таблица 14.6. Значение свойства Text для компонентов приложения\n",
    "\n",
    "- Компонент - Значение свойства Text\n",
    "- Forml - Диагностика кармы\n",
    "- Tabel1 - Введите число\n",
    "- labe12, labe13, textBox1 - Пустое значение\n",
    "- buttonl - Еще раз\n",
    "\n",
    "Необходимо стереть значение, заданное по умолчанию.\n",
    "\n",
    "Стр. 328\n",
    "\n",
    "------------"
   ]
  },
  {
   "cell_type": "markdown",
   "id": "55c7c49f",
   "metadata": {},
   "source": [
    "Поведение приложения задается в обработчиках событий. Число надо загадывать до того, как пользователь введет первый ответ, а затем после каждого щелчка на кнопке Еще раз. Следовательно, эти действия должны выполняться при загрузке формы (событие Load) и щелчке на кнопке (событие Click). Ответ пользователя анализируется при нажатии клавиши Enter после ввода числа (событие KeyPress элемента textBox1). Вызов редактора программ выполняется двойным щелчком рядом с соответствующим событием элемента на вкладке Events окна свойств (см. рис. 14.5). Для хранения загаданного числа и ответа пользователя применяются поля і и k. В константе mах хранится максимально возможное число. Переменная rnd представляет собой экземпляр генератора случайных чисел. Класс Random описан в одноименном разделе (см. с. 148). Сокращенный текст программы с комментариями приведен в листинге 14.3.\n",
    "\n",
    "Листинг 14.3. Программа «Угадай число»\n",
    "\n",
    "    using System;\n",
    "    using System.Drawing;\n",
    "    using System.Collections;\n",
    "    using System.ComponentModel;\n",
    "    using System.Windows.Forms;\n",
    "    using System.Data;"
   ]
  },
  {
   "cell_type": "markdown",
   "id": "78a768a4",
   "metadata": {},
   "source": [
    "    namespace WindowsApplication1\n",
    "    {\n",
    "        public class Forml : Form\n",
    "        {\n",
    "            private Label label1;\n",
    "            private TextBox textBox1;\n",
    "            private Button buttonl;\n",
    "            private Label label2;\n",
    "            private Label label3;\n",
    "            private Container components = null;\n",
    "            \n",
    "            public Forml() { ...}\n",
    "            protected override void Dispose( bool disposing ){ ... }\n",
    "            Windows Form Designer generated code { … }\n",
    "            const int max = 10; // максимальное значение загадываемого числа\n",
    "            Random rnd; // экземпляр генератора случайных чисел\n",
    "            int 1, k; // загадка и отгадка"
   ]
  },
  {
   "cell_type": "markdown",
   "id": "743358a4",
   "metadata": {},
   "source": [
    "            static void Main() { … }\n",
    "            private void Forml_Load(object sender, EventArgs e)\n",
    "            {\n",
    "                rnd = new Random();\n",
    "                i = rnd.Next(max); // загадано число в диапазоне от 0 до max\n",
    "            }"
   ]
  },
  {
   "cell_type": "markdown",
   "id": "eb8efdda",
   "metadata": {},
   "source": [
    "            private void textBox1_KeyPress(object sender, KeyPressEventArgs e)\n",
    "            {\n",
    "                int n;\n",
    "                if ( e.KeyChar != (char)13 )\n",
    "                    return; // если нажата не клавиша Enter, выйти\n",
    "                try  // преобразование ввода пользователя в число\n",
    "                {\n",
    "                    n = Convert. ToInt32(textBox1.Text);\n",
    "                }\n",
    "                catch\n",
    "                {\n",
    "                    n=-1; // если введено не число, принять за неверный ответ\n",
    "                }"
   ]
  },
  {
   "cell_type": "markdown",
   "id": "a73b027f",
   "metadata": {},
   "source": [
    "                if(n!=i)// ========== пользователь не угадал\n",
    "                {\n",
    "                    labe12.Left += 5;\n",
    "                    labe12.Text = \"He угадали!\";\n",
    "                    textBox1.Clear();\n",
    "                    k++;  // увеличение счетчика попыток\n",
    "                    buttonl.Visible = false;\n",
    "                }\n",
    "\n",
    "Стр. 329\n",
    "\n",
    "------------"
   ]
  },
  {
   "cell_type": "markdown",
   "id": "501dc214",
   "metadata": {},
   "source": [
    "                else // ========== пользователь угадал\n",
    "                {\n",
    "                    label2.Left = 32; // восстановить начальное положение метки\n",
    "                    label2.Text = \"Коэффициент невезучести\";\n",
    "                    double koef = 1.0 * k / max;\n",
    "                    label3.Text = koef.ToString();\n",
    "                    buttonl.Visible = true;\n",
    "                }\n",
    "            }\n",
    "            private void button1_Click(object sender, System.EventArgs e)\n",
    "            {\n",
    "                i = rnd.Next(max); // загадано число в диапазоне от 0 до max\n",
    "                k = 0; // обнуление количества попыток ответа\n",
    "                textBox1.Clear(); // поле ввода очищено \n",
    "                textBoxl.Focus(); // курсор установлен на поле ввода \n",
    "                labe12.Text = \"\";\n",
    "                labe13.Text = \"\"; // метки очищены\n",
    "            }\n",
    "        }\n",
    "    }"
   ]
  },
  {
   "cell_type": "markdown",
   "id": "e31cc276",
   "metadata": {},
   "source": [
    "# Меню MainMenu и ContextMenu\n",
    "\n",
    "Главное меню MainMenu размещается на форме таким же образом, как и другие компоненты: двойным щелчком на его значке на панели Toolbox. При этом значок располагается под заготовкой формы, а среда переходит в режим редактирования пунктов меню. Каждый пункт меню представляет собой объект типа MenuItem, и при вводе пункта меню мы задаем его свойство Text. Переход к заданию заголовка следующего пункта меню выполняется либо щелчком мыши, либо нажатием клавиши Enter и клавиш со стрелками. Обычно, чтобы сделать программу понятнее, изменяют также свойства Name каждого пункта так, чтобы они соответствовали названиям пунктов. Пункт меню может быть запрещен или разрешен (свойство Enabled), видим или невидим (Visible), отмечен или не отмечен (Checked). Заготовка обработчика событий формируется двойным щелчком на пункте меню. Любое приложение обычно содержит в меню команду Exit, при выборе которой приложение завершается. Для закрытия приложения можно воспользоваться либо методом Close класса главной формы приложения, либо методом Exit класса Application, например:\n",
    "\n",
    "    private void Exit Click(object sender, EventArgs e)\n",
    "    {\n",
    "        // имя пункта меню - Exit\n",
    "        Close();\n",
    "        // или:\n",
    "        // Application.Exit();\n",
    "    }\n",
    "\n",
    "Стр. 330\n",
    "\n",
    "---------------\n"
   ]
  },
  {
   "cell_type": "markdown",
   "id": "55e8e9cd",
   "metadata": {},
   "source": [
    "\n"
   ]
  },
  {
   "cell_type": "markdown",
   "id": "8abe6b07",
   "metadata": {},
   "source": [
    "Контекстное меню - это меню, которые вызывается во время выполнения программы по нажатию правой кнопки мыши па форме или элементе управления. Обычно в этом меню размещаются пункты, дублирующие пункты главного меню, или пункты, определяющие специфические для данного компонента действия. Контекстное меню ContextMenu создается и используется аналогично главному (значок контекстного меню появляется на папели инструментов, если воспользоваться кнопкой прокрутки). Для привязки контекстного меню к компоненту следует установить значение свойства ContextMenu этого компонента равным имени контекстного меню."
   ]
  },
  {
   "cell_type": "markdown",
   "id": "d9def06d",
   "metadata": {},
   "source": [
    "# Флажок CheckBox\n",
    "\n",
    "Флажок используется для включения-выключения пользователем какого-либо режима. Для проверки, установлен ли флажок, анализируют его свойство Checked, принимающее значение true или false. Флажок может иметь и третье состояние - «установлен, но не полностью». Как правило, это происходит в тех случаях, когда устанавливаемый режим определяется несколькими «подрежимами», часть из которых включена, а часть выключена. В этом случае используют свойство CheckState, которое может принимать значения Checked, Unchecked и Intermediate.\n",
    "\n",
    "Кроме того, флажок обладает свойством ThreeState, которое управляет возможностью установки третьего состояния пользователем с помощью мыши. Для флажка можно задать цвет фона и фоновое изображение так же, как и для метки. Свойство Аppearance управляет отображением флажка: либо в виде собственно флажка (Normal), либо в виде кнопки (Button), которая «залипает» при щелчке на ней мышью.\n",
    "\n",
    "Флажки используются в диалоговых окнах как поодиночке, так и в группе, причем все флажки устанавливаются независимо друг от друга. Пример приложения с флажками приведен далее в этой главе."
   ]
  },
  {
   "cell_type": "markdown",
   "id": "d9d8ff4c",
   "metadata": {},
   "source": [
    "# Переключатель RadioButton\n",
    "\n",
    "Переключатель позволяет пользователю выбрать один из нескольких предложенных вариантов, поэтому переключатели обычно объединяют в группы. Если один из них устанавливается (свойство Checked), остальные автоматически сбрасываются. Программист может менять стиль и цвет текста, связанного с переключателем, и его выравнивание. Для переключателя можно задать цвет фона и фоновое изображение так же, как и для метки.\n",
    "\n",
    "Переключатели можно поместить непосредственно на форму, в этом случае все они составят одну группу. Если на форме требуется отобразить несколько групп переклчателей, их размещают внутри компонента Group или Pane1.\n",
    "Свойство Appearance управляет отображением переключателя: либо в традиционном виде (Normal), либо в виде кнопки (Button), которая «залипает» при щелчке на ней мышью. При установке для свойства AutoCheck значения false кнопка не «залипает». Пример использования переключателей приведен далее в этой главе.\n",
    "\n",
    "Стр. 331\n",
    "\n",
    "------------"
   ]
  },
  {
   "cell_type": "markdown",
   "id": "bf39859f",
   "metadata": {},
   "source": [
    "# Панель GroupBox\n",
    "\n",
    "Панель GroupBox служит для группировки элементов на форме, например для того, чтобы дать общее название и визуально выделить песколько переключателей или флажков, обеспечивающих выбор связанных между собой режимов. Приведенная в листинге 14.4 программа запрашивает у пользователя, массив какой длины он хочет создать, и создает целочисленный массив с помощью генератора случайных чисел. Пользователь может выбрать диапазон значений элементов: либо $[$-10; 10$]$, либо $[$-100; 100$]$. После создания массива можно вычислить его максимальный элемент и/или количество положительных элементов. Окно приложения показано на рис. 14.9. Для удобства имена (свойство Name) большинства компонентов изменены, как указано на рисунке. Переключатели размещены на нанели типа GroupBox, Установлено свойство Checked компонента radioButtonl, очищены все поля ввода, а для полей maxtextBox и numPosittextBox установлено свойство ReadOnly (только для чтения).\n",
    "\n",
    "- Вычисления в массиве _OX\n",
    "- Количество элементов: __ __\n",
    "- Значения элементов : [x]$[$-10;10$]$ [o]$[$-100;100$]$ \n",
    "- Создать массив. __ __ __ __\n",
    "- [o] Максимум __ __ __ __\n",
    "- [o] Количество положительных __ __ __ __\n",
    "- Вычислить\n",
    "\n",
    "Рис. 14.9. Окно приложения для вычислений в массиве"
   ]
  },
  {
   "cell_type": "markdown",
   "id": "57f90e44",
   "metadata": {},
   "source": [
    "# ПРИМЕЧАНИЕ\n",
    "При визуальном проектировании важно размещать компоненты приятным глазу образом. При этом удобно пользоваться командами меню Format, предварительно выделив нужные компоненты, «обводя» их мышью или выделяя мышью при нажатой клавише Shift или Ctrl, Например, можно выровнять компоненты по левому краю, выделив их и воспользовавшись командой меню Format » Align » Lefts.\n",
    "\n",
    "Все действия в программе выполняются щелчками на двух кнопках, то есть обрабатываются два события Click.\n",
    "\n",
    "Листинг 14.4. Вычисления в массиве\n",
    "\n",
    "    using System;\n",
    "    using System.Drawing;\n",
    "    using System.Collections;\n",
    "    using System.ComponentModel;\n",
    "    using System.Windows.Forms;\n",
    "    using System.Data;\n",
    "    \n",
    "Стр. 332\n",
    "\n",
    "------------"
   ]
  },
  {
   "cell_type": "markdown",
   "id": "f2a3f8db",
   "metadata": {},
   "source": [
    "    namespace WindowsApplication1\n",
    "    {\n",
    "        public class Forml : Form\n",
    "        {\n",
    "            private Label label1;\n",
    "            private GroupBox groupBox1;\n",
    "            private RadioButton radioButtonl;\n",
    "            private RadioButton radioButton2;\n",
    "            private TextBox numtextBox;\n",
    "            private CheckBox numPositcheckBox;\n",
    "            private Button createbutton;\n",
    "            private Button calcbutton;"
   ]
  },
  {
   "cell_type": "markdown",
   "id": "b6c9dda5",
   "metadata": {},
   "source": [
    "            private TextBox maxtextBox;\n",
    "            private TextBox numPosittextBox;\n",
    "            private TextBox arraytextBox;\n",
    "            private CheckBox maxcheckBox;\n",
    "            private Container components = null;\n",
    "            public Forml() { ... }\n",
    "            protected override void Dispose( bool disposing )  { ... }\n",
    "            Windows Form Designer generated code {...}\n",
    "            int[] arr; // описание массива\n",
    "            static void Main(){ ... }"
   ]
  },
  {
   "cell_type": "markdown",
   "id": "dca7de20",
   "metadata": {},
   "source": [
    "            private void createbutton_Click(object sender, EventArgs e)\n",
    "            {\n",
    "                Random rnd = new Random():\n",
    "                int a = -10, b = 10; // диапазон значений элементов\n",
    "                if ( radioButton2.Checked )\n",
    "                { a = -100; b = 100; } // корректировка диапазона\n",
    "                int n = 0;\n",
    "                try { n = int.Parse(numtextBox. Text); } // длина массива\n",
    "                catch \n",
    "                {\n",
    "                    MessageBox.Show(\"Введите количество элементов!\");\n",
    "                    numtextBox.Clear();\n",
    "                    numtextBox.Focus();\n",
    "                }\n",
    "\n",
    "Стр. 333\n",
    "\n",
    "------------"
   ]
  },
  {
   "cell_type": "markdown",
   "id": "f9702353",
   "metadata": {},
   "source": [
    "                arraytextBox.Clear(); // очистка полей ввода\n",
    "                maxtextBox.Clear();\n",
    "                numPosittextBox.Clear();\n",
    "\n",
    "                if ( n < 0 ) n = -n; // если введено отрицательное число \n",
    "                arr = new int[n]; // создание массива\n",
    "                for ( int 1 = 0: 1 < n: ++1 )\n",
    "                {\n",
    "                    arr[1] = rnd.Next(a, b); // задание элемента массива\n",
    "                    arraytextBox.Text += \" \"+ arr[1]; // вывод массива\n",
    "                }\n",
    "            }"
   ]
  },
  {
   "cell_type": "markdown",
   "id": "f497deaf",
   "metadata": {},
   "source": [
    "            private void calcbutton_Click(object sender. EventArgs e)\n",
    "            {\n",
    "                int max = arr[0]:\n",
    "                int numPosit = 0:\n",
    "                for ( int 1 = 0; 1 < arr.Length; ++i )\n",
    "                {\n",
    "                    if ( arr[i] > max ) max = arr[i]; // поиск максимума\n",
    "                    if ( arr[i] > 0 ) ++numPosit; // количество положительных\n",
    "                }\n",
    "                if ( maxcheckBox.Checked )\n",
    "                    maxtextBox.Text = max. ToString():\n",
    "                else maxtextBox.Text = \" \";\n",
    "                if ( numPositcheckBox.Checked )\n",
    "                    numPosittextBox.Text = numPosit.ToString();\n",
    "                else numPosittextBox.Text = \" \";\n",
    "            }\n",
    "        }\n",
    "    }"
   ]
  },
  {
   "cell_type": "markdown",
   "id": "bca8d746",
   "metadata": {},
   "source": [
    "# Список ListBox\n",
    "\n",
    "Список служит для представления перечней элементов, в которых пользователь может выбрать одно (свойство SelectionMode равно One) или несколько значений (свойство SelectionMode равно MultiSimple или MultiExtended), Если значение свойства SelectionMode равно MultiSimple, щелчок мышью на элементе выделяет егo или снимает выделение, Значение Mult1Extended позволяет использовать при выделении дианазона строк клавишу Shift, а при добавлении элемента - клавишу Ctri, аналогично проводнику Windows. Запретить выделение можно, установив значение свойства SelectionMode, равное None. Чаще всего используются списки строк, но можно выводить и произвольные изображения. Список может состоять из нескольких столбцов (свойство MultiColumn) и быть отсортированным в алфавитном порядке (Sorted - True). Элементы списка нумеруются с нуля. Они хранятся в свойстве Items, представляющем собой коллекцию. В Items можно добавлять элементы с помощью методов Add, AddRange и Insert. Для удаления элементов служат методы Remove и RemoveAt,\n",
    "удаляющие заданный элемент и элемент по заданному индексу соответственню. Выделенные элементы можно получить с помощью свойств SelectedItems и Selected- Indices, предоставляющих доступ к коллекциям выделенных элементов и их индексов. В листинге 14.5 приведен пример приложения, которое отображает в списке типа ListBox строки, считанные из входного файла, а затем по щелчку на кнопке Запись выводит выделенные пользователем строки в выходной файл. Вид окна приложения приведен на рис. 14. 10.\n",
    "\n",
    "Стр. 334\n",
    "\n",
    "------------"
   ]
  },
  {
   "cell_type": "markdown",
   "id": "4994fdf1",
   "metadata": {},
   "source": [
    "- Form1 _OX\n",
    "- System.Object\n",
    "- System.MarshalByRefObject\n",
    "- System.ComponentModel.Component\n",
    "- System.Windows.Forms.Control\n",
    "- System.Windows.Forms.ScrollableControl\n",
    "- System.Windows.Forms.ContainerControl\n",
    "- System.Windows.Forms.Form\n",
    "- Запись\n",
    "\n",
    "Рис. 14.10. Окно приложения для работы со списком строк"
   ]
  },
  {
   "cell_type": "markdown",
   "id": "8cbb66e4",
   "metadata": {},
   "source": [
    "Листинг 14.5. Работа со списком строк\n",
    "\n",
    "    using System;\n",
    "    using System.IO;\n",
    "    using System.Drawing;\n",
    "    using System.Collections;\n",
    "    using System.ComponentModel:\n",
    "    Using System.Windows.Forms;\n",
    "    using System.Data;\n",
    "    using System.Collections.Specialized;"
   ]
  },
  {
   "cell_type": "markdown",
   "id": "89c47520",
   "metadata": {},
   "source": [
    "    namespace WindowsApplicationl\n",
    "    {\n",
    "        public class Forml : Form\n",
    "        {\n",
    "            private ListBox TistBox1;\n",
    "            private Button button1;\n",
    "            private Container components = null;\n",
    "            \n",
    "            public Forml() { ... }\n",
    "            protected override void Dispose( bool disposing) { ... }\n",
    "            Windows Form Designer generated code { ... }\n",
    "\n",
    "Стр. 335\n",
    "\n",
    "------------"
   ]
  },
  {
   "cell_type": "markdown",
   "id": "d22f7e1e",
   "metadata": {},
   "source": [
    "Листинг 14.5 (продолжение)\n",
    "\n",
    "        static void Main() {\n",
    "        private void Forml_Load(object sender, EventArgse)\n",
    "        {\n",
    "            try\n",
    "            {\n",
    "                StreamReader f - new StreamReader( \"input.txt\" );\n",
    "                string buf;\n",
    "                while ( ( buf = f.ReadLine() ) != null ) // чтение из файла \n",
    "                    listBox1.Items.Add(buf); // занесение в список\n",
    "            }"
   ]
  },
  {
   "cell_type": "markdown",
   "id": "9468a7c7",
   "metadata": {},
   "source": [
    "            catch ( FileNotFoundException exc )\n",
    "            {\n",
    "                MessageBox.Show( exc.Message );\n",
    "                return;\n",
    "            }\n",
    "        }\n",
    "        private void buttonl_Click(object sender. EventArgs e)\n",
    "        {\n",
    "            StreamWriter f = new StreamWriter( \"output.txt\" );\n",
    "            foreach ( string item in listBoxl.SelectedItems )\n",
    "                f.WriteLine(item); // запись в файл\n",
    "            f.Close();\n",
    "        }\n",
    "    }"
   ]
  },
  {
   "cell_type": "markdown",
   "id": "3c193bcc",
   "metadata": {},
   "source": [
    "На панели инструментов расположено множество компонентов, не рассмотренных в этой книге. Для их изучения следует обратиться к справочной системе .NET. Она организована понятно и единообразно, и даже те, кто не изучал английский язык, смогут при некотором навыке извлечь оттуда необходимую информацию. Но лучше, конечно, хотя бы немного знать английский язык, это полезно само по себе.\n",
    "\n",
    "# Совет\n",
    "При изучении компонента рекомендуется следующая последовательность действий. Разместите компопент па форме, выделите его, пажмите клавишу F1 и перейдите по ссылке …overview (обзор). Изучите разделы Remarks и Example, затем перейдите по ссылке …Members (элементы класса), расположенной в верхней части окна. Попытайтесь получить представление о возможностях изучаемого класса, выделив главные из его свойств и открытых методов. После этого можно вернуться к заготовке приложения и начать экспериментировать со свойствами, а затем - с методами класса.\n",
    "\n",
    "В следующей части этой главы будут коротко описаны основные элементы классов Form и Application, входящих в состав любого приложения.\n",
    "\n",
    "Стр. 336\n",
    "\n",
    "------------"
   ]
  },
  {
   "cell_type": "markdown",
   "id": "e0a2c3a3",
   "metadata": {},
   "source": [
    "# Предварительные замечания о формах\n",
    "\n",
    "Класс Form наследует от длинной цепочки своих предков множество элементов, определяющих вид и поведение окон различного типа. Генеалогическое древо класса Form выглядит так: Object->MarshalByRefObject->Component->Control->ScrollableControl->ContainerControl.\n",
    "\n",
    "Окна приложения могут иметь различные вид и назначение. Все окна можно разделить на модальные и немодальные. Модальное окно не позволяет пользователю переключаться на другие окна того же приложения, пока не будет завершена работа с текущим окном1. Как уже отмечалось, в виде модальных обычно оформляют диалоговые окна, требующие от пользователя ввода какой-либо информации. Модальное окно можно закрыть щелчком на кнопке наподобие ОК, подтверждающей введенную информацию, на кнопке закрытия окна или на кнопке вроде Cancel, отменяющей ввод пользователя. Примером модального окна может служить окно сообщений MessageBox, упоминавшееся в разделе «Шаблон Windows-приложения» (см. с. 322).\n",
    "\n",
    "Особый вид модального окна - системное модальное окно - не позволяет переключаться даже на окна других приложений."
   ]
  },
  {
   "cell_type": "markdown",
   "id": "5b8a9654",
   "metadata": {},
   "source": [
    "Немодальное окно позволяет переключаться на другие окна того же приложения. Немодальные окна являются, как правило, информационными. Они используются в тех случаях, когда пользователю желательно предоставить свободу выбора - оставлять на экране какую-либо информацию или нет. Каждое приложение содержит одно главное окно. Класс главного окна приложения содержит точку входа в приложение (статический метод Main). При закрытии главного окна приложение завершается.\n",
    "\n",
    "В случае использования многодокументного интерфейса (Multiple Document Interface, MDI) одно родительское окно может содержать другие окна, называемые дочерними. При закрытии родительского окна дочерние окна закрываются автоматически. Вид окна определяет его функциональность, например, окно с одинарной рамкой не может изменять свои размеры. Рассмотрим наиболее интересных предков класса формы. Их элементы наследуются не только формой, но и другими компонентами, такими как поля ввода или кнопки. Класс MarshalByRef0bject наделяет своих потомков некой особенностью, благодаря которой обращение к ним выполняется по ссылке, то есть локальная кошия объекта не создается."
   ]
  },
  {
   "cell_type": "markdown",
   "id": "b600b897",
   "metadata": {},
   "source": [
    "Класс Component обеспечивает потомков способностью взаимодействовать с контейнером, в котором они расположены. Кроме того, в нем определен метод Dispose, который автоматически вызывается, когда экземпляр класса более не используется, Поэтому для освобождения ресурсов, связанных с приложением, обычно переопределяют этот метод.\n",
    "\n",
    "Класс Contro1, являющийся предком всех интерфейсных элементов, рассмотрен в этой главе ранее. В классе ScrollableControl определены элементы, позволяющие компоненту иметь горизонтальную и вертикальную полосы прокрутки. Свойства AutoScrol1 и AutoScrol1MinSize обеспечивают автоматическое появление полос прокрутки в тех случаях, когда выводимая информация не помещается в компоненте.\n",
    "Класс ContainerControl обеспечивает своих потомков возможностью управлять размещенными внутри них дочерними компонентами. Например, на форме обычно располагаются несколько кнопок, меток и т. п., а на панели - несколько флажков или переключателей. Свойства и методы класса позволяют установить фокус ввода на элемент или получать информацию о том, какой элемент имеет фокус ввода. а также управлять порядком получения фокуса с помощью свойств TabStop и TabIndex.\n",
    "\n",
    "Стр. 337\n",
    "\n",
    "------------"
   ]
  },
  {
   "cell_type": "markdown",
   "id": "9ccff487",
   "metadata": {},
   "source": [
    "# Класс Form\n",
    "\n",
    "Класс Form представляет собой заготовку формы, от которой наследуются классы форм приложения. Помимо множества унаследованных элементов, в этом классе определено большое количество собственных элементов, наиболее употребительные из которых приведены в табл. 14.7-14.9.\n",
    "\n",
    "Таблица 14.7. Некоторые свойства класса Form\n",
    "- Свойство - Описание\n",
    "- AcceptButton - Позволяет задать кнопку или получить информацию о кнопке, которая будет активизирована при нажатии пользователем клавиши Enter\n",
    "- ActiveMDIChild, IsMDIChild, IsMDIContainer - Свойства предназначены для использования в приложениях с многодокументным интерфейсом (MDI)"
   ]
  },
  {
   "cell_type": "markdown",
   "id": "396ee72e",
   "metadata": {},
   "source": [
    "- AutoScale - Позволяет установить или получить значение, определяющее. будет ли форма автоматически изменять свои размеры, чтобы соответствовать высоте шрифта, используемого на форме, или размерам размещенных на ней компонентов\n",
    "- FormBorderStyle - Позволяет установить или получить стиль рамки вокруг формы (используются значения перечисления FormBorderStyle)\n",
    "- Cance1 Button - Позволяет задать кнопку или получить информацию о кнопке. которая будет активизирована при нажатии пользователем клавиши Esc\n",
    "- ControlBox - Позволяет установить или получить значение, определяющее, будет ли присутствовать стандартная кнопка системного меню в верхием левом углу заголовка формы\n",
    "- Menu, MergedMenu - Используются для установки или получения информации о меню на форме\n",
    "- MaximizeBox, MinimizedBox - Определяют, будут ли на форме присутствовать стандартные кнопки восстановления и свертывания в правом верхнем углу заголовка формы\n",
    "\n",
    "Стр. 338\n",
    "\n",
    "------------"
   ]
  },
  {
   "cell_type": "markdown",
   "id": "d4de882e",
   "metadata": {},
   "source": [
    "- Свойство - Описание\n",
    "- Showinlaskbar - Определяет, будет ли форма отображаться на панели задач Windews\n",
    "- StartPosition - Позволяет получить или установить зпачение, определяющее исходное положение формы в момент выполнения программы (используются значения перечисления FormStartPosition). Например, для отображения формы в центре экрана устанавливается значение CenterScreen\n",
    "- WindowState - Определяет состояние отображаемой формы при запуске (используются значения перечисления FormwindowState)"
   ]
  },
  {
   "cell_type": "markdown",
   "id": "4ee3f1a2",
   "metadata": {},
   "source": [
    "Таблица 14.8. Методы класса Form\n",
    "- Метод - Описание\n",
    "- Activate - Активизирует форму и помещает в нее фокус ввода\n",
    "- Close - Закрывает форму\n",
    "- CenterToScreen - Помещает форму в центр экрана\n",
    "- LayoutMDI - Размещает все дочерние формы на родительской в соответствии со значениями перечисления LayoutMDI\n",
    "- OnResize - Может быть замещен для реагирования на событие Resize \n",
    "- Show - Отображает форму (унаследовано от Control)\n",
    "- ShowDialog - Отображает форму как диалоговое окно (подробнее о диалоговых окнах рассказывается в следующем разделе)"
   ]
  },
  {
   "cell_type": "markdown",
   "id": "2fb05c76",
   "metadata": {},
   "source": [
    "Таблица 14.9. Некоторые события класса Form\n",
    "- Событие - Описание\n",
    "- Activate - Происходит при активизации формы (когда она выходит в активном приложении на передний план)\n",
    "- Closed, Closing  - Происходят во время закрытия формы\n",
    "- MOIChi1dActive - Возникает при активизации дочернего окна\n",
    "\n",
    "Об использовании некоторых элементов, перечисленных в таблицах, рассказывается в следующем разделе."
   ]
  },
  {
   "cell_type": "markdown",
   "id": "b10d50e6",
   "metadata": {},
   "source": [
    "# Диалоговые окна\n",
    "В библиотеке .NET нет специального класса для представления диалоговых окон, Вместо этого устанавливаются определенные значения свойств в классе обычной формы. В диалоговом окне можно располагать те же элементы управления, что и на обычной форме. Диалоговое окно характеризуется:\n",
    "- неизменяемыми размерами (FormBorderStyle FixedDialog);\n",
    "- отсутствием кнопок восстановления и свертывания в правом верхнем углу заголовка формы (MaximizeBox - False, MinimizedBox = False);\n",
    "- наличием кнопок наподобие ОК, подтверждающей введенную информацию, и Cancel, отменяющей ввод пользователя, при нажатии которых окно закрывается (AcceptButton = имя_кнопки_OK, CancelButton = имя_кнопки_Cancel);\n",
    "- установленным значением свойства DialogResult для кнопок, при нажатии которых окно закрывается.\n",
    "\n",
    "Стр. 339\n",
    "\n",
    "------------"
   ]
  },
  {
   "cell_type": "markdown",
   "id": "2bd7aa8c",
   "metadata": {},
   "source": [
    "Для отображения диалогового окна используется метод ShowDialog, который формирует результат выполнения из значений перечисления DialogResult, описанных в табл. 14.5. Если пользователь закрыл диалоговое окно щелчком на кнопке наподобие ОК, введенную им информацию можно использовать в дальнейшей работе. Закрытие окна щелчком на кнопке вроде Cancel отменяет все введенные данные. Диалоговое окно обычно появляется при выборе пользователем некоторой команды меню на главной форме. Приведем пример простого приложения, содержащего две формы. На главной форме (рис. 14.11) расположено меню из двух команд - Dialog и Exit. При выборе команды Dialog появляется диалоговое окно, включающее метку Введите информацию, поле ввода текста и две кнопки, OK и Cancel (рис. 14.12).\n",
    "\n",
    "- Form1 _OX\n",
    "- Dialog - Exit\n",
    "- |__ __ __ __\n",
    "\n",
    "Рис. 14.11. Главное окно приложения с меню и диалоговым окном\n",
    "\n",
    "- Form2 X\n",
    "- Введите информацию\n",
    "- |__ __ __ __\n",
    "- Ok  Cancel\n",
    "\n",
    "Рис. 14.12. Диалоговое окно"
   ]
  },
  {
   "cell_type": "markdown",
   "id": "dac5213e",
   "metadata": {},
   "source": [
    "Если пользователь введет текст в диалоговое окно и закроет его щелчком на кнопке ОК, этот текст отобразится в поле метки в главном окне. Если диалоговое окно будет закрыто щелчком на кнопке Cancel, поле метки останется неизменным. Добавление в проект второй формы выполняется выбором в меню команды Project » Add Windows Form. Начнем визуальное проектирование с этой формы. Значения свойств компонентов, установленных с помощью окна свойств, перечислены в табл. 14.10.\n",
    "\n",
    "Стр. 340\n",
    "\n",
    "------------"
   ]
  },
  {
   "cell_type": "markdown",
   "id": "91d399bc",
   "metadata": {},
   "source": [
    "Таблица 14.10. Значения свойсте элементов формы\n",
    "\n",
    "|Элемент|Свойство|Значение|\n",
    "|---|---|---|\n",
    "|Метка|Text|Введите информацию|\n",
    "||TextAl1gn|MiddleCenter|\n",
    "|Поле ввода|Text|Пустое аначение|\n",
    "|Кнопка|Name|btnok|\n",
    "||DialogResult|OK|\n",
    "||Text|OK|\n",
    "|Форма|AcceptButton|btnOK|\n",
    "||CancelButton|btnCance1|\n",
    "||FormBorderStyle|FixedDialog|\n",
    "||MaximizeBox|False|\n",
    "||MinimizeBox|False|\n",
    "||StartPosition|CenterParent|"
   ]
  },
  {
   "cell_type": "markdown",
   "id": "05907b5d",
   "metadata": {},
   "source": [
    "Пользователь вводит информацию в поле ввода textBox1, которое является закрытым элементом формы. Чтобы получить значение свойства Text поля ввода. добавим в описание класса свойство Info. Это единственное дополнение, которое вносится в шаблон текста класса формы:\n",
    "\n",
    "    public class Form2 : Form\n",
    "    {\n",
    "        private Label label1;\n",
    "        private TextBox textBoxl;\n",
    "        private Button btnOK;\n",
    "        private Button btnCancel;\n",
    "        private Container components = null;\n",
    "        public string Info\n",
    "        {\n",
    "            get { return textBoxl.Text; }\n",
    "        }\n",
    "        ...\n",
    "    }\n",
    "\n",
    "Стр. 341\n",
    "\n",
    "-------------"
   ]
  },
  {
   "cell_type": "markdown",
   "id": "0af64fe4",
   "metadata": {},
   "source": [
    "Визуальное проектирование главной формы еще проще, чем первой, и сводится к размещению главного меню и метки, Для наглядности метка окружена рамкой (BorderStyle - FixedSingle). Вот как выглядят обработчики событий для пунктов меню:\n",
    "\n",
    "    private void menulteml Click( object sender, EventArgs e )\n",
    "    {\n",
    "        Form2 f = new Form2(); // создание экземпляра класса окна\n",
    "        if (f.ShowDialog() == DialogResult OK ) // отображение окна\n",
    "            labell.Text = f.Info;\n",
    "    }\n",
    "    private void menultem2_Click( object sender, EventArgs e )\n",
    "    {\n",
    "        Close(); // закрытие главного окна\n",
    "    }"
   ]
  },
  {
   "cell_type": "markdown",
   "id": "a394e3db",
   "metadata": {},
   "source": [
    "Как видите, для отображения диалогового окна следует создать экземпляр объекта соответствующей формы, а затем вызвать для этого объекта метод ShowO1alog. При подтверждении ввода текст пользователя можно получить с помощью свойства Info, доступного только для чтения. При необходимости передавать информацию не только из диалогового окна, но и в него, можно добавить в описание свойства часть set.\n",
    "\n",
    "# ПРИМЕЧАНИЕ\n",
    "Следует различать процесс создания формы - объекта класса Form или его наследника - от процесса вывода формы на экран, Форма, как и любой объект, создается при выполнении операции new с вызовом конструктора. Для вывода формы служит метод Show или ShowDialog класса Form, вызываемый соответствующим объектом. Для скрытия формы используется метод Hide. Фактически, методы Show и Hide изменяют свойство Visible объекта. Разница между скрытием формы методом Hide и се закрытием методом Close состоит в том, что первый из них делает форму невидимой, но не изменяет сам объект, а метод Close делает объект недоступным и закрывает все его ресурсы.\n",
    "\n",
    "# Класс Application\n",
    "\n",
    "Класс Application, описанный в пространстве имен System.Windows.Forms, содержит статические свойства, методы и события, предназначенные для управления приложением в целом и получения его общих характеристик. Наиболее важные элементы класса Application перечислены в табл. 14.11.\n",
    "\n",
    "Стр. 342\n",
    "\n",
    "-------------"
   ]
  },
  {
   "cell_type": "markdown",
   "id": "f2552499",
   "metadata": {},
   "source": [
    "Таблица 14.11. Основные элементы класса Application\n",
    "\n",
    "- Элемент класса - Тип - Описание - \n",
    "- AddMessagefilter, RemoveMessagefiIter - Методы - Позволяют перехватывать сообщения и выполнять с этими сообщениями пужные предварительные действия, Для того чтобы добавить фильтр сообщений, необходимо указать класс, реализующий интерфейс IMessageFilter.\n",
    "- DoEvents - Метод - Обеспечивает способность приложения обрабатывать сообщения из очереди сообщений во время выполнения какой-либо длительной операции\n",
    "- Exit - Метод - Завершает работу приложения\n",
    "- ExitThread - Метод - Прекращает обработку сообщений для текущего потока и закрывает все окна, владельцем которых является этот поток\n",
    "- Run - Метод -   Запускает стандартный цикл обработки сообщений для текущего потока\n",
    "- CommonAppDataRegistry - Свойство - Возвращает параметр системного реестра, который хранит общую для всех пользователей информацию о приложении\n",
    "- CompanyName - Свойство - Возвращает имя компании\n",
    "- CurrentCulture - Свойство Позволяет задать или получить информацию о естественном языке, для работы с которым предназначен текущий поток\n",
    "- CurrentInputLanguage - Свойство - Позволяет задать или получить информацию о естественном языке для ввода информации, получаемой текущим потоком"
   ]
  },
  {
   "cell_type": "markdown",
   "id": "eca8e4ab",
   "metadata": {},
   "source": [
    "- ProductName - Свойство - Позволяет получить имя программного продукта, которое ассоциировано с данным приложением\n",
    "- ProductVersion - Свойство - Позволяет получить номер версии программного продукта\n",
    "- StartupPath - Свойство - Позволяет определить имя выполияемого файла для работающего приложения и путь к нему в операционной системе\n",
    "- ApplicationExit - Событие - Возникает при завершении приложения\n",
    "- Idle - Событие - Возникает, когда все текущие сообщения в очереди обработаны и приложение переходит в режим бездействия\n",
    "- ThreadExit - Событие - Возникает при завершении работы потока в приложении. Если работу завершает главный поток приложения, это событие возникает до события ApplicationExit\n",
    "\n",
    "Многие свойства класса Application позволяют получить метаданные сборки (например, номер версии или имя компании), не используя типы пространства имен System.Reflection. Программист не часто работает непосредственно с классом Application, поскольку большую часть необходимого кода среда формирует автоматически.\n",
    "\n",
    "Стр. 343\n",
    "\n",
    "-------------"
   ]
  },
  {
   "cell_type": "markdown",
   "id": "05de6f92",
   "metadata": {},
   "source": [
    "# Краткое введение в графику\n",
    "\n",
    "Для вывода линий, геометрических фигур, текста и изображений необходимо создать экземпляр класса Graphics, описанного в пространстве имен SystemDrawing. Существуют различные способы создания этого объекта. Первый способ состоит в том, что ссылку на объект Graphics получают из параметра PaintEventArgs, передаваемого в обработчик события Paint, возникающего при необходимости прорисовки формы или элемента управления:\n",
    "\n",
    "    private void Forml_Paint( object sender, PaintEventArgs e )\n",
    "    {\n",
    "        Graphics g = e.Graphics;\n",
    "        // использование объекта\n",
    "    }\n",
    "\n",
    "Второй способ - использование метода CreateGraphics, описанного в классах формы и элемента управления:\n",
    "\n",
    "    Graphics g;\n",
    "    g = this.CreateGraphics();\n",
    "    \n",
    "Третий способ - создание объекта с помощью объекта-потомка Image. Этот способ используется для изменения существующего изображения:\n",
    " \n",
    "    Bitmap bm = new Bitmap( \"d:\\\\picture.bmp\" );\n",
    "    Graphics g = Graphics.FromImage( bm );"
   ]
  },
  {
   "cell_type": "markdown",
   "id": "5bfa88e7",
   "metadata": {},
   "source": [
    "Третий способ - создание объекта с помощью объекта-потомка Image. Этот способ используется для изменения существующего изображения:\n",
    "\n",
    "    Bitmap bm = new Bitmap( \"d:\\\\picture.bmp\" );\n",
    "    Graphics g = Graphics.FromImage( bm );\n",
    "\n",
    "После создания объекта типа Graphics его можно применять для вывода линий, геометрических фигур, текста и изображений. Основными объектами, которые при этом используются, являются объекты классов:\n",
    "- Pen - рисование линий и контуров геометрических фигур;\n",
    "- Brush - заполнение областей;\n",
    "- Font -- вывод текста;\n",
    "- Color - цвет.\n",
    "\n",
    "В листинге 14.6 представлен код приложения, в котором на форму выводятся линия, эллипс и текст. Вид формы приведен на рис. 14.13.\n",
    "\n",
    "Стр. 344\n",
    "\n",
    "-------------"
   ]
  },
  {
   "cell_type": "markdown",
   "id": "b5c4f228",
   "metadata": {},
   "source": [
    "Листинг 14.6. Работа с графическими объектами\n",
    "\n",
    "    using System;\n",
    "    using System.Drawing;\n",
    "    using System.Windows.Forms;\n",
    "    namespace WindowsApplicationl\n",
    "    {\n",
    "        public partial class Forml : Form\n",
    "        public Forml() ( InitializeComponent(); }\n",
    "        private void Formi_Paint( object sender, PaintEventArgs e )\n",
    "        {\n",
    "            using ( Graphics g = e. Graphics ) // 1\n",
    "            {\n",
    "                using ( Pen pen - new Pen( Color Red ) ) // 2\n",
    "                {\n",
    "                    g.DrawLine( pen, 0, 0, 200, 100 );\n",
    "                    g.DrawE1l1pse( pen, new Rectangle(50, 50, 100, 150) );\n",
    "                }"
   ]
  },
  {
   "cell_type": "markdown",
   "id": "1206b34a",
   "metadata": {},
   "source": [
    "                    string s \"Sample Text\";\n",
    "                    Font font = new Font( \"Arial\", 18 ); // 3\n",
    "                    SolidBrush brush = new SolidBrush( Color Black ); // 4\n",
    "                    float x = 100.0F;\n",
    "                    float y = 20.0F;\n",
    "                    g.DrawString( s, font, brush, x. y );\n",
    "                    font.Dispose(); // 5 \n",
    "                    brush. Dispose(); // 6\n",
    "                }\n",
    "            }\n",
    "        }\n",
    "    }"
   ]
  },
  {
   "cell_type": "markdown",
   "id": "d2b51567",
   "metadata": {},
   "source": [
    "- Form1 _OX\n",
    "- Sample Text\n",
    "- Овал и прямая\n",
    "\n",
    "Рис. 14.13. Форма с графикой\n",
    "\n",
    "Графические объекты потребляют системные ресурсы, поэтому рекомендуется вызывать для них метод освобождения ресурсов Dispose. Для упрощения работы с такими объектами в С# есть оператор using' со следующим синтаксисом:\n",
    "\n",
    "    using ( выделение ресурса ) оператор"
   ]
  },
  {
   "cell_type": "markdown",
   "id": "88b72da2",
   "metadata": {},
   "source": [
    "Под ресурсом здесь понимается объект, который реализует интерфейс System. 101sposable, включающий метод Dispose. Код, использующий ресуре, вызовом этого метода сигнализирует о том, что ресурс больше не требуется. Если метод Dispose не был вызван, освобождение ресурса выполняется в процессе сборки мусора. Оператор using пеявным образом вызывает метод Dispose в случае успешного\n",
    "создания и использования объекта. Этот способ применен в операторах 1 и 2. Ключевое слово using используется в С# в двух не связанных между собой случанх: как директива и как оператор. Директива us ing была рассмотрена в главе 12. В операторах 3 и 4 объекты создаются обычным образом, поэтому для них требуется явный вызов D1spose, что и происходит в операторах 5 и 6.\n",
    "Как видно даже из этого простого листинга, для вывода графики требуется кропотливое изучение множества свойств и методов множества стандартных классов, описание которых, во-первых, очень объемное, во-вторых, невыносимо скучное, а в-третьих, не входит в задачу учебника по основам программирования.\n",
    "\n",
    "Стр. 345\n",
    "\n",
    "-------------"
   ]
  },
  {
   "cell_type": "markdown",
   "id": "9d7abea9",
   "metadata": {},
   "source": [
    "# Рекомендации по программированию\n",
    "Процесс создания Windows-приложения состоит из двух основных этапов, которые могут чередоваться между собой: это визуальное проектирование приложения и определение его поведения. При задании внешнего облика приложения следует обратить внимание на стандарты интерфейса Windows-приложений: компания Microsoft, в свое время за- имствовавшая идею стандартного графического интерфейса у компании Apple, довела эту идею до совершенства, детально регламентировав вид окон, расположение, цветовую гамму и пропорции компонентов. Основная сложность для начинающих заключается в разработке алгоритма: по каким событиям будут выполняться действия, реализующие функциональность программы, какие действия должны выполняться при щелчке на кнопках, вводе текста, выборе пунктов меню и т. д.\n",
    "\n",
    "Интерфейс программы должен быть интуитивно понятным и по возможности простым. Часто повторяющиеся действия не должны требовать от пользователя выполнения сложных последовательностей операций. Команды меню и компоненты, которые не имеет смысла использовать в данный момент, рекомендуется делать неактивными. Вопросы, задаваемые пользователю программы, должны быть непавязчивыми («Нет, а все-таки Вы действительно хотите удалить этот файл?») и немногословными, но при этом не допускать двояких толкований."
   ]
  },
  {
   "cell_type": "markdown",
   "id": "2cdd9439",
   "metadata": {},
   "source": [
    "Эта глава получилась самой длинной из-за большого количества информации справочного характера. Несмотря на это приведенных сведений совершенно недостаточно для создания реальных Windows-приложений, К сожалению, мощь библиотеки .NET имеет оборотную сторону: для освоения пеобходимой информации требуется много времени и упорства, однако это единственный путь для тех, кто хочет заниматься программированием профессионально.\n",
    "\n",
    "Конечно, пытаться запомнить все методы и свойства классов нет смысла, достаточно изучить состав используемых пространств имен, представлять себе возможности их элементов и знать, как быстро найти требуемую информацию. Для дальнейшего изучения возможностей библиотеки можно рекомендовать документацию и дополнительную литературу $[$17$]$, $[$18$]$, $[$20$]$, $[$31$]$. И последний совет: не следует считать себя программистом только на том основании, что вы умеете размещать компоненты на форме!\n",
    "\n",
    "Стр. 346\n",
    "\n",
    "-------------"
   ]
  },
  {
   "cell_type": "markdown",
   "id": "fecbab60",
   "metadata": {},
   "source": [
    "# Глава 15 Дополнительные средства С#\n",
    "\n",
    "В этой главе описаны дополнительные средства языка C# и среды Visual Studio: указатели, регулярные выражения и документация в формате XML. В конце главы дается краткое введение в основные области профессионального применения C#: ASP. NET (веб-формы и веб-службы) и ADO.NET (базы данных).\n",
    "\n",
    "Указатели, без которых не мыслят свою жизнь программисты, использующие С и С++, в языке С# рекомендуется применять только в случае необходимости, поскольку они сводят на нет многие преимущества этого языка. Документирование кода в формате XML и регулярные выражения применяются шире, но относятся скорее к дополнительным возможностям языка, поэтому не были рассмотрены ранее.\n",
    "\n",
    "Напротив, веб-формы, веб-службы и работа с базами данных являются одними из основных областей применения С#, но не рассматриваются в этой книге из-за того, что подобные темы обычно не входят в базовый курс программирования, поскольку для их полноценного освоения требуется иметь базовые знания в области сетей, баз данных, протоколов передачи данных и т. п."
   ]
  },
  {
   "cell_type": "markdown",
   "id": "dc17b18d",
   "metadata": {},
   "source": [
    "# Небезопастный код\n",
    "\n",
    "Одним из основных достоинств языка С# является его схема работы с памятью: автоматическое выделение памяти под объекты и автоматическая уборка мусора. При этом невозможно обратиться по несуществующему адресу намяти или выйти за границы массива, что делает программы более падежными и безопасными и исключает возможность появления целого класса ошибок, доставляющих массу неудобств при написании программ на других языках.\n",
    "\n",
    "Однако в некоторых случаях возникает необходимость работать с адресами памяти непосредственно, например, при взаимодействии с операционной системой, Написании драйверов или программ, время выполнения которых критично. Такую нозможность предоставляет так называемый небезопасный (unsafe) код.\n",
    "\n",
    "Небезопасным называется код, выполнение которого среда CLR не контролирует. Он работает напрямую с адресами областей памяти посредством укалателей и должен быть явным образом помечен с помощью ключевого слова unsafe, которое определяет так называемый небезопасный контекст выполнения.\n",
    "\n",
    "Стр. 347\n",
    "\n",
    "-------------"
   ]
  },
  {
   "cell_type": "markdown",
   "id": "3f9ce903",
   "metadata": {},
   "source": [
    "Ключевое слово unsafe может использоваться либо как спецификатор, либо как оператор. В первом случае его указывают наряду с другими спецификаторами при описании класса, делегата, структуры, метода, поля и т. д. - везде, где допустимы другие спецификаторы. Это определяет пебезопасный контекст для описываемого элемента, папример:\n",
    "\n",
    "    public unsafe struct Node\n",
    "    {\n",
    "        public int Value;\n",
    "        public Node* Left;\n",
    "        public Node* Right;\n",
    "    }"
   ]
  },
  {
   "cell_type": "markdown",
   "id": "39f75546",
   "metadata": {},
   "source": [
    "Вся структура Node помечается как небезопасная, что делает возможным использование в ней указателей Left и Right. Можно применить и другой вариант описания, в котором небезопасными объявляются только соответствующие поля структуры:\n",
    "\n",
    "    public struct Node\n",
    "    {\n",
    "        public int Value;\n",
    "        public unsafe Node* Left;\n",
    "        public unsafe Node* Right;\n",
    "    }"
   ]
  },
  {
   "cell_type": "markdown",
   "id": "adb6132a",
   "metadata": {},
   "source": [
    "Оператор unsafe имеет следующий синтаксис:\n",
    "\n",
    "    unsafe блок\n",
    "\n",
    "Все операторы, входящие в блок, выполняются в небезопасном контексте.\n",
    "\n",
    "# ПРИМЕЧАНИЕ\n",
    "Компиляция кода, содержащего небезопасные фрагменты, должна производиться с ключом /unsafe, Этот режим можно установить путем настройки среды Visual Studio (Project » Properties » Configuration Properties » Build » Allow Unsafe Code)."
   ]
  },
  {
   "cell_type": "markdown",
   "id": "00f9d9a4",
   "metadata": {},
   "source": [
    "# Синтаксис указателей\n",
    "\n",
    "Указатели предиазначены для хранения адресов областей памяти. Синтаксис объявления указателя:\n",
    "\n",
    "    тип* переменная;\n",
    "\n",
    "Здесь тип - это тип величины, на которую указывает переменная, то есть величины, хранящейся по записанному в переменной адресу, Тип не может быть классом, но может быть структурой, перечислением, указателем, а также одним из стандартных типов: sbyte, byte, short, ushort, int, uint, long, ulong, char, float, double, decima1, bool и void, Последнее означает, что укалатель ссылается на переменную неизвестного типа.\n",
    "\n",
    "Указатель на тип void применяется в тех случаях, когда конкретный тип объекта, адрес которого требуется хранить, не определен (например, если в одной и той же переменной в разные моменты времени требуется хранить адреса объектов различных типов).\n",
    "Указателю на тип void можно присвоить значение указателя любого типа, а также сравнивать его с любыми указателями, по перед выполнением каких-либо действий с областью памяти, на которую он ссылается, требуется преобразовать его к конкретному типу явным образом.\n",
    "\n",
    "Стр. 348\n",
    "\n",
    "-------------"
   ]
  },
  {
   "cell_type": "markdown",
   "id": "8e207668",
   "metadata": {},
   "source": [
    "Примеры объявления указателей:\n",
    "\n",
    "    int* a; // указатель на int\n",
    "    Node* pNode; // указатель на описанную ранее структуру Node\n",
    "    void* p; // указатель на неопределенный тип\n",
    "    int*[] m; // одномерный массив указателей на int\n",
    "    int** d; // указатель на указатель на int\n",
    "\n",
    "В одном операторе можно описать песколько указателей одного и того же типа, например:\n",
    "    \n",
    "    int* a, b. c; // три указателя на int"
   ]
  },
  {
   "cell_type": "markdown",
   "id": "d30a1f50",
   "metadata": {},
   "source": [
    "Указатели являются отдельной категорией типов данных. Они не наследуются от типа object, и преобразование между типом object и типами указателей невозможно. В частности, для них не выполняется упаковка и распаковка. Однако допускаются преобразования между разными типами указателей, а также указателями и целыми.\n",
    "\n",
    "# ПРИМЕЧАНИЕ\n",
    "Именно потому что указатели могут содержать адрес любой области памяти и, сле довательно, изменить ее, операции с ними и называются небезопасными.\n",
    "\n",
    "Величины типа указателя могут являться локальными переменными, полями, параметрами и возвращаемым значением функции. Эти величины подчиняются общим правилам определения области действия и времени жизни.\n",
    "\n",
    "Стр. 349\n",
    "\n",
    "-------------"
   ]
  },
  {
   "cell_type": "markdown",
   "id": "160d147f",
   "metadata": {},
   "source": [
    "# Преобразования указателей\n",
    "Для указателей поддерживаются неявные преобразования из любого тина указателя к типу void*, Любому указателю можно присвоить константу nul1, Кроме того, допускаются явные преобразования:\n",
    "\n",
    "- между указателями любого типа;\n",
    "- между указателями любого типа и целыми типами (со знаком и без знака).\n",
    "\n",
    "Корректность преобразований лежит на совести программиста. Преобразования никак не влияют на величины, на которые ссылаются укалатели, но при попытке получения значения по указателю несоответствующего тина поведение программы не определено!. Как правило, если в документации встречается оборот «неопределенное поведение» (undefined behavior), ничего хорошего это не сулит."
   ]
  },
  {
   "cell_type": "markdown",
   "id": "45ebfc2d",
   "metadata": {},
   "source": [
    "# Инициализация указателей\n",
    "Ниже перечислены способы присваивания значений указателям:\n",
    "1. Присваивание указателю адреса существующего объекта: с помощью операции получения адреса:\n",
    "\n",
    "    int a = 5; // целая переменная\n",
    "    int* p = &a; // в указатель записывается адрес а\n",
    "\n",
    "# ПРИМЕЧАНИЕ\n",
    "Программист должен сам следить за тем, чтобы переменные, на которые ссылается указатель, были правильно инициализированы.\n",
    "\n",
    "- с помощью значения другого инициализированного указателя: int* r = p:\n",
    "- с помощью имени массива, которое трактуется как адрес:\n",
    "\n",
    "    int[] b = new int[] {10, 20, 30, 50}; // массив\n",
    "    \n",
    "    fixed ( int* t = b ) { … }; // присваивание дреса начала массива \n",
    "    \n",
    "    fixed ( int* t = &b[0] ) // то же самое"
   ]
  },
  {
   "cell_type": "markdown",
   "id": "3c126d98",
   "metadata": {},
   "source": [
    "# ПРИМЕЧАНИЕ Оператор fixed рассматривается позже.\n",
    "\n",
    "2. Присваивание указателю адреса области памяти в явном виде:\n",
    "\n",
    "    char* v = (char *)0x12F69E;\n",
    "Здесь 0x12F69E - шестнадцатеричная константа, (char *) - операция приведения типа: константа преобразуется к типу указателя на char.\n",
    "\n",
    "# ПРИМЕЧАНИЕ\n",
    "Использовать этот способ можно только в том случае, если адрес вам точно известен, в противном случае может возникнуть исключение.\n",
    "\n",
    "3. Присваивание нулевого значения:\n",
    "\n",
    "    int* xx = null;\n",
    "\n",
    "Стр. 350\n",
    "\n",
    "-------------"
   ]
  },
  {
   "cell_type": "markdown",
   "id": "2a5433e0",
   "metadata": {},
   "source": []
  },
  {
   "cell_type": "markdown",
   "id": "70bdf52d",
   "metadata": {},
   "source": []
  },
  {
   "cell_type": "markdown",
   "id": "6c4f5395",
   "metadata": {},
   "source": []
  },
  {
   "cell_type": "markdown",
   "id": "da706dd4",
   "metadata": {},
   "source": []
  },
  {
   "cell_type": "markdown",
   "id": "6902ef5f",
   "metadata": {},
   "source": []
  }
 ],
 "metadata": {
  "kernelspec": {
   "display_name": "Python 3 (ipykernel)",
   "language": "python",
   "name": "python3"
  },
  "language_info": {
   "codemirror_mode": {
    "name": "ipython",
    "version": 3
   },
   "file_extension": ".py",
   "mimetype": "text/x-python",
   "name": "python",
   "nbconvert_exporter": "python",
   "pygments_lexer": "ipython3",
   "version": "3.11.4"
  }
 },
 "nbformat": 4,
 "nbformat_minor": 5
}
