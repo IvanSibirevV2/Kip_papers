{
 "cells": [
  {
   "cell_type": "code",
   "execution_count": 3,
   "id": "35982aa0",
   "metadata": {
    "scrolled": true
   },
   "outputs": [
    {
     "name": "stdout",
     "output_type": "stream",
     "text": [
      "\\_Untitled_201-215.ipynb : 16.09140396118164  мегобайт  2025-02-15 08:30:29.056905\n"
     ]
    }
   ],
   "source": [
    "import os;import math;import sys;import datetime;\n",
    "var='\\\\_Untitled_201-215.ipynb'\n",
    "print (var,':',os.path.getsize(os.path.abspath(os.curdir)+var)/math.pow(2, 20),' мегобайт ',datetime.datetime.now())"
   ]
  },
  {
   "cell_type": "markdown",
   "id": "76f9f546",
   "metadata": {},
   "source": [
    "Принцип применения этого интерфейса состоит в том, что для каждого критерия сортировки объектов описывается небольшой вспомогательный класс, реализующий этот интерфейс. Объект этого класса передается в стандартный метод сортировки массива в качестве второго аргумента (существует песколько перегруженных версий этого метода). Пример сортировки массива объектов из предыдущего листинга по именам (свойство Name, класс SortByName) и количеству вооружений (свойство Атпо, класс SortByAmmо) приведен в листипге 9.2. Классы параметров сортировки объявлены вложенными, поскольку они требуются только объектам класса Monster.\n",
    "\n",
    "Листинг 9.2. Сортировка по двум критериям\n",
    "\n",
    "    using System;\n",
    "    using System.Collections:\n",
    "    namespace ConsoleApplicationl\n",
    "    {\n",
    "        class Monster\n",
    "        {\n",
    "            public Monster( int health, int ammo, string name )\n",
    "            {\n",
    "                this.health = health:\n",
    "                thisammo = ammo;\n",
    "                this.name = name;\n",
    "            }"
   ]
  },
  {
   "cell_type": "markdown",
   "id": "fc51e9c6",
   "metadata": {},
   "source": [
    "            public int Ammo\n",
    "            {\n",
    "                get { return ammo; }\n",
    "                set\n",
    "                {\n",
    "                    if (value > 0) armo = value;\n",
    "                    else anmo = 0;\n",
    "                }\n",
    "            }\n",
    "            public string Name\n",
    "            { get { return name; } }\n",
    "            virtual public void Passport()\n",
    "            { ConsoleWriteline( \"Monster (0) \\t health = (1) ammo - (2)\". name, health, ammo ); }"
   ]
  },
  {
   "cell_type": "markdown",
   "id": "12499da8",
   "metadata": {},
   "source": [
    "            public class SortByName : IComparer\n",
    "            { \n",
    "                int IComparer Compare( object obl, object ob2 )\n",
    "                {\n",
    "                    Monster ml = (Monster) obl;\n",
    "                    Monster m2 = (Monster) ob2;\n",
    "                    return String.Compare( ml.Name, m2.Name );\n",
    "                }\n",
    "            }\n",
    "            \n",
    "            public class SortByAmmo : IComparer\n",
    "            {\n",
    "                int IComparer.Compare( object obl, object ob2 )\n",
    "                {\n",
    "                    Monster ml = (Monster) obl;\n",
    "                    Monster m2 = (Monster) ob2;\n",
    "                    if ( ml.Ammo > m2.Ammo ) return 1;\n",
    "                    if ( ml.Ammo < m2.Ammo ) return -1;\n",
    "                    return 0;\n",
    "                }\n",
    "            )\n",
    "            string name;\n",
    "            int health, ammo;\n",
    "        }\n",
    "\n",
    "Стр. 201\n",
    "\n",
    "------------"
   ]
  },
  {
   "cell_type": "markdown",
   "id": "78230da9",
   "metadata": {},
   "source": [
    "        class Class1\n",
    "        {\n",
    "            static void Main()\n",
    "            {\n",
    "                const int n = 3;\n",
    "                Monster[] stado = new Monster[n];\n",
    "                stado[0] = new Monster( 50. 50. \"Вася\" );\n",
    "                stado[1] = new Monster( 80, 80. \"Петя\" );\n",
    "                stado[2] = new Monster( 40, 10. \"Маша\" );\n",
    "                \n",
    "                Console.WriteLine( \"Сортировка по имени:\" );\n",
    "                Array.Sort( stado, new Monster. SortByName() );\n",
    "                foreach ( Monster elem in stado ) elem Passport();\n",
    "                \n",
    "                Console.WriteLine( \"Сортировка по вооружению:\" );\n",
    "                Array.Sort( stado, new MonsterSortByAnmo() );\n",
    "                foreach ( Monster elem in stado ) elem Passport();\n",
    "            }\n",
    "        }\n",
    "    }"
   ]
  },
  {
   "cell_type": "markdown",
   "id": "9eec089e",
   "metadata": {},
   "source": [
    "Результат работы программы:\n",
    "\n",
    "    Сортировка по имени:\n",
    "    \n",
    "    Monster Вася health - 50 ammo - 50\n",
    "    Monster Maшa health = 40 amno - 10\n",
    "    Monster Петя health 80 anos - 80\n",
    "    \n",
    "    Сортировка по вооружению:\n",
    "    \n",
    "    Monster Маша health = 40 ammo = 10\n",
    "    Monster Вася health = 50 ammo = 50\n",
    "    Monster Петя health = 80 ammo = 80\n",
    "\n",
    "Стр. 202\n",
    "\n",
    "--------"
   ]
  },
  {
   "cell_type": "markdown",
   "id": "fe25c29a",
   "metadata": {},
   "source": [
    "# Перегрузка операций отношения\n",
    "\n",
    "Если класс реализует интерфейс IComparable, его экземпляры можно сравнивать между собой по принципу больше или меньше. Логично разрешить использовать для этого операции отношения, перегрузив их. Операции должны перегружаться парами: < и >, <- и >-, и !=. Перегрузка операций обычно выполняется путем делегирования, то есть обращения к переопределенным методам CompareTo и Equals.\n",
    "\n",
    "# ПРИМЕЧАНИЕ\n",
    "Если класс реализует интерфейс 1Comparable, требуется переопределить метод Equals и связанный с ним метод GetHashCode, Оба метода унаследованы от базового класса object. Пример перегрузки был приведен в разделе «Класс object» (см. с. 183).\n",
    "\n",
    "В листинге 9.3 операции отношения перегружены для класса Monster. В качестве критерия сравнения объектов по принципу больше или меньше выступает поле health, а при сравнении на равенство реализуется значимая семантика, то есть попарно сравниваются все поля объектов"
   ]
  },
  {
   "cell_type": "markdown",
   "id": "84624bad",
   "metadata": {},
   "source": [
    "        class Classl\n",
    "        {\n",
    "            static void Main()\n",
    "            {\n",
    "                const int n = 3;\n",
    "                Monster[] stado = new Monster[n];\n",
    "\n",
    "                stado[0] - new Monster( 50, 50. \"Вася\" );\n",
    "                stado[1] = new Monster( 80, 80. \"Петя\" );\n",
    "                stado[2] = new Monster( 40. 10. \"Маша\" );\n",
    "\n",
    "                Console.WriteLine( \"Сортировка по имени:\");\n",
    "                Array.Sort( stado, new Monster. SortByName() );\n",
    "                foreach( Monster elem in stado ) elem Passport();\n",
    "\n",
    "                Console.Writeline( \"Сортировка по вооружению: \" );\n",
    "                Array Sort( stado, new MonsterSortByAmmo() );\n",
    "                foreach ( Monster elem in stado ) elem Passport():\n",
    "            }\n",
    "        }\n",
    "    }"
   ]
  },
  {
   "cell_type": "markdown",
   "id": "91fd9129",
   "metadata": {},
   "source": [
    "Листинг 9.3. Перегрузка операций отношения\n",
    "\n",
    "    using System;\n",
    "    namespace ConsoleApplicationl\n",
    "    {\n",
    "        class Monster : IComparable\n",
    "        {\n",
    "            public Monster( int hea1th, int ammo, string name )\n",
    "            {\n",
    "                this.health = health;\n",
    "                this.ammo = amno;\n",
    "                this.name = name;\n",
    "            }\n",
    "            public override bool Equals( object obj )\n",
    "            {\n",
    "                if ( obj == null | | GetType() != obj.GetType() ) return false;\n",
    "                \n",
    "                Monster temp - (Monster) obj;\n",
    "                return health == temp.health \n",
    "                    && ammo = temp.ammo\n",
    "                    && name == temp.name;\n",
    "            }\n",
    "\n",
    "Стр. 203\n",
    "\n",
    "--------"
   ]
  },
  {
   "cell_type": "markdown",
   "id": "3d6220ce",
   "metadata": {},
   "source": [
    "            public override int GetHashCode()\n",
    "            { return name.GetHashCode(); }\n",
    "            public static bool operator == ( Monster a, Monster b )\n",
    "            { return a.Equals( b ); }\n",
    "            // вариант;\n",
    "            // public static bool operator == ( Monster a, Monster b )\n",
    "            // { return ( a.CompareTo( b ) == 0 ); }\n",
    "            public static bool operator != ( Monster a. Monster b )\n",
    "            { return ! a.Equals( b ); }\n",
    "            // вариант:\n",
    "            // public static bool operator != ( Monster a. Monster b )\n",
    "            // { return ( a.CompareTo( b ) != 0 ); }"
   ]
  },
  {
   "cell_type": "markdown",
   "id": "b218578d",
   "metadata": {},
   "source": [
    "            public static bool operator < ( Monster a, Monster b )\n",
    "            { return ( a.CompareTo( b ) < 0 ); }\n",
    "            public static bool operator > ( Monster a, Monster b )\n",
    "            { return ( a.CompareTo( b ) > 0 ); }\n",
    "            public static bool operator <= ( Monster a, Monster b )\n",
    "            { return ( a.Comparelo( b ) <= 0); }\n",
    "            public static bool operator >= ( Monster a, Monster b )\n",
    "            { return ( a.CompareTo( b ) >= 0); }\n",
    "\n",
    "Стр. 204\n",
    "\n",
    "--------"
   ]
  },
  {
   "cell_type": "markdown",
   "id": "a95199c8",
   "metadata": {},
   "source": [
    "            public int CompareTo( object obj )\n",
    "            {\n",
    "            \n",
    "                Monster temp (Monster) obj;\n",
    "                if ( this health > temp.health ) return 1;\n",
    "                1f ( this health < temp health ) return -1;\n",
    "                return 0;\n",
    "            }\n",
    "            string name;\n",
    "            int health, ammo;\n",
    "        }"
   ]
  },
  {
   "cell_type": "markdown",
   "id": "7b422d39",
   "metadata": {},
   "source": [
    "        class Class1\n",
    "        {\n",
    "            static void Main()\n",
    "            {\n",
    "                Monster Вася = new Monster( 70, 80, \"Вася\" );\n",
    "                Monster Петя = new Monster( 80, 80, \"Петя\" );\n",
    "                if ( Вася > Петя ) Console.WriteLine( \"Вася больше Пети\" );\n",
    "                else if ( Вася = Петя ) Console.WriteLine( \"Вася = Петя\");\n",
    "                else Console.WriteLine( \"Вася меньше Пети\");\n",
    "            }\n",
    "        }\n",
    "    \n",
    "Результат работы программы не разочаровывает: Вася кеньше Пети"
   ]
  },
  {
   "cell_type": "markdown",
   "id": "f8ec0bd5",
   "metadata": {},
   "source": [
    "# Клонирование объектов (интерфейс ICloneable)\n",
    "\n",
    "Клонирование - это создание копии объекта. Копия объекта называется клоном. Как вам известно, при присваивании одного объекта ссылочного типа другому копируется ссылка, а не сам объект (рис. 9.1, а). Если необходимо скопировать в другую область памяти поля объекта, можно воспользоваться методом MemberwiseClone, который любой объект наследует от класса object. При этом объекты, на которые указывают поля объекта, в свою очередь являющиеся ссылками, не копируются (рис. 9.1, б). Это называется поверхностным клонированием.\n",
    "\n",
    "- a -> c\n",
    "- b -> c\n",
    "    - c \n",
    "        - ...\n",
    "        - ...\n",
    "- (a)"
   ]
  },
  {
   "cell_type": "markdown",
   "id": "50a23853",
   "metadata": {},
   "source": [
    "- a -> c1\n",
    "- b -> c2\n",
    "    - c1 -> d1,d2,d3\n",
    "    - c2 -> d1,d2,d3\n",
    "        - d1\n",
    "            - ...\n",
    "        - d2\n",
    "            - ...\n",
    "        - d3\n",
    "            - ...\n",
    "- (б)\n",
    "- a\n",
    "    - ...\n",
    "        - ...\n",
    "- б\n",
    "    - ...\n",
    "        - ...\n",
    "- (в)\n",
    "    \n",
    "Рис. 9.1. Клонирование объектов\n",
    "\n",
    "Стр. 5\n",
    "\n",
    "---------"
   ]
  },
  {
   "cell_type": "markdown",
   "id": "6f848056",
   "metadata": {},
   "source": [
    "Комментарий от читателей. Красивых картинок тут не будет. Читайте текст. Есть поверхностное или ссылочное копирование, которое создает новую переменную но ее ссылоыные параметры принимают указатель но копируемые параметры. Есть глубокое копирование, когда в оперативной памяти появляются два независимых объекта, которые никак не пересекаются. Для создания полностью независимых объектов необходимо глубокое клонирование, когда в памяти создается дубликат всего дерева объектов, то есть объектов, на которые ссылаются поля объекта, поля полей и т. д. (рис. 9.1, в). Алгоритм глубокого клонирования весьма сложен, поскольку требует рекурсивного обхода всех ссылок объекта и отслеживания циклических зависимостей. Объект, имеющий собственные алгоритмы клонирования, должен объявляться как наследник интерфейса ICloneable и переопределять его единственный метод Clone. В листинге 9.4 приведен пример создания поверхностной копии объекта класса Monster с помощью метода MemberwiseClone, а также реализован интерфейс ICloneable. В демонстрационных целях в имя клона объекта добавлено слово «Клон». Обратите внимание на то, что метод MemberwiseClone можно вызвать только из методов класса. Он не может быть вызваи непосредственно, поскольку объявлен в классe object как защищенный (protected)."
   ]
  },
  {
   "cell_type": "markdown",
   "id": "e560bc46",
   "metadata": {},
   "source": [
    "\n",
    "Листинг 9.4. Клонирование объектов\n",
    "\n",
    "    using System;\n",
    "    namespace ConsoleApplicationl\n",
    "    {\n",
    "        class Monster : ICloneable\n",
    "        {\n",
    "            public Monster( int health, int ammo, string name )\n",
    "            {\n",
    "                this.health = health;\n",
    "                this.ammo = ammo;\n",
    "                this.name = name;\n",
    "            }\n",
    "            // поверхностная копия\n",
    "            public Monster ShallowClone()\n",
    "            { return (Monster)this.MemberwiseClone(); }\n",
    "            virtual public void Passport()\n",
    "            { Console.Writeline( \"Monster (0) At health - (1) ammo - (2) name, health, amno ); }\n",
    "            st.ring name;\n",
    "            int health, auno;\n",
    "        }"
   ]
  },
  {
   "cell_type": "markdown",
   "id": "31923875",
   "metadata": {},
   "source": [
    "        class Classl\n",
    "        { \n",
    "            static void Main()\n",
    "            {\n",
    "                Monster Вася - new Monster( 70, 80, \"Вася\" );\n",
    "                Monster X = Вася;\n",
    "                Monster Y = Вася.ShallowClone();\n",
    "                Monster Z = (Monster)Вася,Clone();\n",
    "                //..\n",
    "            }\n",
    "        }\n",
    "    }\n",
    "\n",
    "Объект ссылается на ту же область памяти, что и объект Вася. Следовательно, если мы внесем изменения в один из этих объектов, это отразится на другом. Объекты Y и Z, созданные путем клопирования, обладают собственными копиями значений полей и независимы от исходного объекта.\n",
    "\n",
    "Стр. 206\n",
    "\n",
    "-------"
   ]
  },
  {
   "cell_type": "markdown",
   "id": "d3db3acc",
   "metadata": {},
   "source": [
    "# Перебор объектов (интерфейс IEnumerable) и итераторы\n",
    "\n",
    "Оператор foreach является удобным средством перебора элементов объекта. Массивы и все стандартные коллекции библиотеки .NET позволяют выполнять такой перебор благодаря тому, что в них реализованы интерфейсы IEnumerable и IEnumerator. Для применения оператора foreach к пользовательскому типу данных требуется реализовать в нем эти интерфейсы. Давайте посмотрим, как это делается. Интерфейс IEnumerable (перечислимый) определяет всего один метод - GetEnumerator, возвращающий объект типа IEnumerator (перечислитель), который можно использовать для просмотра элементов объекта.\n",
    "\n",
    "Интерфейс IEnumerator задает три элемента:\n",
    "- свойство Current, возвращающее текущий элемент объекта;\n",
    "- метод MoveNext, продвигающий перечислитель на следующий элемент объекта;\n",
    "- метод Reset, устанавливающий перечислитель в начало просмотра.\n",
    "\n",
    "Цикл foreach использует эти методы для перебора элементов, из которых состоит объект.\n",
    "Таким образом, если требуется, чтобы для перебора элементов класса мог применяться цикл foreach, необходимо реализовать четыре метода: GetEnumerator, Current, MoveNext и Reset. Например, если внутренние элементы класса организованы в массив, потребуется описать закрытое поле класса, хранящее текущий индекс в массиве, в методе MoveNext задать изменение этого индекса на 1 с проверкой выхода за границу массива, в методе Current - возврат элемента массива по текущему индексу и т. д.\n",
    "Это не интересная работа, а выполнять ее приходится часто, поэтому в версию 2.0 были введены средства, облегчающие выполнение перебора в объекте - итераторы.\n",
    "\n",
    "Стр. 207\n",
    "\n",
    "-------"
   ]
  },
  {
   "cell_type": "markdown",
   "id": "327a9b84",
   "metadata": {},
   "source": [
    "Итератор представляет собой блок кода, задающий последовательность перебора элементов объекта. На каждом проходе цикла foreach выполняется один шаг итератора, заканчивающийся выдачей очередного значения. Выдача значения выполняется с помощью ключевого слова yield. Рассмотрим создание итератора на примере (листинг 9.5). Пусть требуется создать объект, содержащий боевую группу экземпляров типа Monster, пеоднократно использованного в примерах этой книги. Для простоты ограничим максимальное количество бойцов в группе десятью.\n",
    "\n",
    "Листинг 9.5. Класс с итератором\n",
    "\n",
    "    using System;\n",
    "    using System.Collections;\n",
    "    namespace ConsoleApplicationl\n",
    "    {\n",
    "    \n",
    "        class Monster{...}\n",
    "        class Daemon{...}\n",
    "        class Stado : IEnumerable\n",
    "        {\n",
    "            private Monster[] mas;\n",
    "            private int n;"
   ]
  },
  {
   "cell_type": "markdown",
   "id": "0aebc50c",
   "metadata": {},
   "source": [
    "            public Stado()\n",
    "            {\n",
    "                mas = new Monster[10];\n",
    "                n = 0;\n",
    "            }\n",
    "            public IEnumerator GetEnumerator()\n",
    "            {\n",
    "                for ( int i = 0; i < n; ++i ) yield return mas[i]; // 2\n",
    "            }\n",
    "            public void Add( Monster m )\n",
    "            {\n",
    "                if ( n >= 10 ) return;\n",
    "                mas[n] = m;\n",
    "                ++n;\n",
    "            }\n",
    "        }"
   ]
  },
  {
   "cell_type": "markdown",
   "id": "b0ed36b1",
   "metadata": {},
   "source": [
    "        class Class1\n",
    "        {\n",
    "            static void Main()\n",
    "            {\n",
    "                Stado s = new Stado();\n",
    "                s.Add( new Monster() );\n",
    "                s.Add( new Monster(\"Вася\") );\n",
    "                s.Add( new Daemon() );\n",
    "                foreach ( Monster m in s ) m.Passport();\n",
    "            }\n",
    "        }\n",
    "    }\n",
    "    \n",
    "Стр. 208\n",
    "\n",
    "------------"
   ]
  },
  {
   "cell_type": "markdown",
   "id": "4498b715",
   "metadata": {},
   "source": [
    "Все, что требуется сделать в версни 2.0 для поддержки перебора, указать, что класс реализует интерфейс IEnumerable (оператор 1), и описать итератор (оператор 2). Доступ к нему может быть осуществлен через методы MoveNext и Current интерфейса IEnumerator. За кодом, приведенным в листинге 9.5, стонт большая внутренияя работа компилятора. На каждом шаге цикла foreach для итератора создается «оболочка» служебный объект, который запоминает текущее состояние итератора и ныпол- няет все необходимое для доступа к просматриваемым элементам объекта. Иными словами, код, составляющий итератор, не выполняется так, как он выглядит в виде непрерывной последовательности, а разбит на отдельные итерации, между которыми состояние итератора сохраняется. В листинге 9.6 приведен пример итератора, перебирающего четыре заданных строки.\n",
    "\n",
    "Листинг 9.6. Простейший итератор\n",
    "\n",
    "    using System;\n",
    "    using System.Collections;\n",
    "    namespace ConsoleApplicationl\n",
    "    {\n",
    "        class Num : IEnumerable\n",
    "        {\n",
    "            public IEnumerator GetEnumerator()\n",
    "            {\n"
   ]
  },
  {
   "cell_type": "markdown",
   "id": "e19f359f",
   "metadata": {},
   "source": [
    "                yield return \"one\";\n",
    "                yield return \"two\";\n",
    "                yield return \"three\";\n",
    "                yield return \"oops\";\n",
    "            }\n",
    "        }\n",
    "        class Class1\n",
    "        {\n",
    "            static void Main()\n",
    "            {\n",
    "                foreach ( string s in new Num() )\n",
    "                    Console.Writeline( s );\n",
    "            }\n",
    "        }\n",
    "    }"
   ]
  },
  {
   "cell_type": "markdown",
   "id": "48222f72",
   "metadata": {},
   "source": [
    "Результат работы программы:\n",
    "\n",
    "    one\n",
    "    two\n",
    "    three\n",
    "    oops\n",
    "\n",
    "Следующий пример демонстрирует перебор значений в заданном диапазопе (от 1 до 5):\n",
    "\n",
    "    using System;\n",
    "    using System.Collections;"
   ]
  },
  {
   "cell_type": "markdown",
   "id": "82d777d5",
   "metadata": {},
   "source": [
    "Стр. 209\n",
    "\n",
    "------------"
   ]
  },
  {
   "cell_type": "markdown",
   "id": "1caec0b8",
   "metadata": {},
   "source": [
    "    namespace ConsoleApplicationl\n",
    "    {\n",
    "        class Class1\n",
    "        {\n",
    "            public static lEnumerable Count( int from, int to )\n",
    "            {\n",
    "                from - 1;\n",
    "                while ( from <= to ) yield return from++;\n",
    "            }\n",
    "            static void Main()\n",
    "            { foreach ( int i in Count( 1, 5 ) ) Console.WriteLine( 1 ); }\n",
    "        }\n",
    "    }\n",
    "\n",
    "Преимущество использования итераторов заключается в том, что для одного и того же класса можно задать различный порядок перебора элементов. В листинге 9.7 описаны две дополнительные стратегии перебора элементов класса Stado, введенного в листинге 9.5, - перебор в обратном порядке и выборка только тех объектов, которые являются экземплярами класса Monster (для этого использован метод получения типа объекта GetType, унаследованный от базового класса object)."
   ]
  },
  {
   "cell_type": "markdown",
   "id": "3767bcb1",
   "metadata": {},
   "source": [
    "Листинг 9.7. Реализация нескольких стратегий перебора\n",
    "\n",
    "    using System;\n",
    "    using System.Collections;\n",
    "    using MonsterLib;\n",
    "    \n",
    "    namespace ConsoleApplicationl\n",
    "    {\n",
    "        class Monster {...}\n",
    "        class Daemon {...}\n",
    "        class Stado : IEnumerable\n",
    "        {\n",
    "            private Monster[] mas; \n",
    "            private int n;\n",
    "        }\n",
    "        public Stado()\n",
    "        {\n",
    "            mas = new Monster[10];\n",
    "            n=0;\n",
    "        }"
   ]
  },
  {
   "cell_type": "markdown",
   "id": "c5f94fa5",
   "metadata": {},
   "source": [
    "        public IEnumerator GetEnumerator()\n",
    "        { for ( int 1 - 0; 1 < n; ++1 ) yield return mas[1]; }\n",
    "        // в обратном порядке\n",
    "        public IEnumerable Backwards()\n",
    "        { for ( int 1 = n - 1; 1 > ); 1 ) yield return mas[1]; }\n",
    "        // только монстры        \n",
    "        public IEnumerable MonstersOnly()\n",
    "        {\n",
    "            for ( int 1 = 0; 1 < n; ++1 ) \n",
    "                if ( mas[1].GetType()Name - \"Monster\" ) \n",
    "                    yield return mas[1];\n",
    "        }\n",
    "        public void Add( Monster m )\n",
    "        {\n",
    "            if ( n >= 10 ) return;\n",
    "            mas[n] = m;\n",
    "            ++n;\n",
    "        }\n",
    "\n",
    "Стр. 210\n",
    "\n",
    "------------"
   ]
  },
  {
   "cell_type": "markdown",
   "id": "fbbfabde",
   "metadata": {},
   "source": [
    "    class Class1\n",
    "    {\n",
    "        static void Main()\n",
    "        {\n",
    "            Stado s = new Stado();\n",
    "            s.Add( new Monster());\n",
    "            s.Add( new Monster(\"Вася\") ):\n",
    "            s.Add( new Daemon());\n",
    "            foreach ( Monster i in s )\n",
    "                1.Passport();\n",
    "            foreach ( Monster i in s.Backwards() )\n",
    "                i. Passport();\n",
    "            foreach ( Monster i in s.MonstersOnly() )\n",
    "                i.Passport();\n",
    "        }\n",
    "    }"
   ]
  },
  {
   "cell_type": "markdown",
   "id": "55e8e9cd",
   "metadata": {},
   "source": [
    "Теперь, когда вы получили представление об итераторах, рассмотрим их более формально. Блок итератора синтаксически представляет собой обычный блок и может встречаться в теле метода, операции или части get свойства, если соответствующее возвращаемое значение имеет тип IEnumerable или IEnumerator. А также тип их параметризованных двойников IEnumerable<T> или IEnumeratorsT> из пространства имен System.Collections Generic, описанного в главе 13. В теле блока итератора могут встречаться две конструкции:\n",
    "- yield return формирует значение, выдаваемое на очередной итерации;\n",
    "- yield break сигнализирует о завершении итерации.\n",
    "    \n",
    "Ключевое слово yield имеет специальное значение для компилятора только в этих конструкциях. Код блока итератора выполняется не так, как обычные блоки. Компилятор формирует служебный объект-перечислитель, при вызове метода MoveNext которого выполняется код блока итератора, выдающий очередное значение с помощью ключевого слова yield. Следующий вызов метода MoveNext объекта-перечислите- ля возобновляет выполнение блока итератора с момента, на котором он был приостановлен в предыдущий раз. А также тип их параметризованных двойников IEnumerable<T> или IEnumeratorsT> из пространства имен System.Collections Generic, описанного в главе 13.\n",
    "    \n",
    "Стр. 211\n",
    "\n",
    "------------"
   ]
  },
  {
   "cell_type": "markdown",
   "id": "9c139fd6",
   "metadata": {},
   "source": [
    "# Структуры\n",
    "\n",
    "Структура - тип данных, аналогичный классу, но имеющий ряд важных отличий от него:\n",
    "- структура является значимым, а не ссылочным типом данных, то есть экземпляр структуры хранит значения своих элементов, а не ссылки на них, и располагается в стеке, а не в хипе;\n",
    "- структура не может участвовать в иерархиях наследования, она может только реализовывать интерфейсы;\n",
    "- в структуре запрещено определять конструктор по умолчанию, поскольку он определен неявно и присваивает всем ее элементам значения по умолчанию (нули соответствующего типа);\n",
    "- в структуре запрещено определять деструкторы, поскольку это бессмысленно.\n",
    "\n",
    "# ПРИМЕЧАНИЕ\n",
    "Строго говоря, любой значимый тип С# является структурным.\n",
    "\n",
    "Отличия от классов обусловливают область применения структур: типы данных, имеющие небольшое количество полей, с которыми удобнее работать как со значениями, а не как со ссылками. Накладные расходы на динамическое выделение памяти для небольших объектов могут весьма значительно снизить быстродействие программы, поэтому их эффективнее описывать как структуры, а не как классы."
   ]
  },
  {
   "cell_type": "markdown",
   "id": "eac5256b",
   "metadata": {},
   "source": [
    "# ПРИМЕЧАНИЕ\n",
    "С другой стороны, передача структуры в метод по значению требует и дополнительного времени, и дополнительной памяти. Синтаксис структуры:\n",
    "\n",
    "    [ атрибуты ] [ спецификаторы ] struct имя_структуры [ : интерфейсы ] тело структуры [ : ]\n",
    "    \n",
    "Спецификаторы структуры имеют такой же смысл, как и для класса, причем из спецификаторов доступа допускаются только public, internal и private (последний - только для вложенных структур). Интерфейсы, реализуемые структурой, перечисляются через запятую. Тело структуры может состоять из констант, полей, методов, свойств, событий, индексато- ров, операций, конструкторов и вложенных типов. Правила их описания и использования аналогичны соответствующим элементам классов, за исключением некоторых отличий, вытекающих из упомянутых ранее:\n",
    "- поскольку структуры не могут участвовать в иерархиях, для их элементов не могут использоваться спецификаторы protected и protected internal;\n",
    "- структуры не могут быть абстрактными (abstract), к тому же по умолчанию они бесплодны (sealed);\n",
    "- методы структур не могут быть абстрактными и виртуальными;\n",
    "- переопределяться (то есть описываться со спецификатором override) могут только методы, унаследованные от базового класса object;\n",
    "- параметр this интерпретируется как значение, поэтому его можно использовать для ссылок, но не для присваивания;\n",
    "- при описании структуры нельзя задавать значения полей по умолчанию это будет сделано в конструкторе по умолчанию, создаваемом  - автоматически (конструктор присваивает значимым полям структуры нули, а ссылочным - значение null).\n",
    "\n",
    "Стр. 212\n",
    "\n",
    "------------"
   ]
  },
  {
   "cell_type": "markdown",
   "id": "021b0fe8",
   "metadata": {},
   "source": [
    "В листинге 9.8 приведен пример описания структуры, представляющей комплексное число. Для экономии места из всех операций приведено только описание сложения. Обратите внимание на перегруженный метод ToString: он позволяет выводить экземпляры структуры на консоль, поскольку неявно вызывается в методе Console WriteLine. Использованные в методе спецификаторы формата описаны в приложении.\n",
    "\n",
    "Листинг 9.8. Пример структуры\n",
    "\n",
    "    using System;\n",
    "    namespace ConsoleApplication1\n",
    "    {\n",
    "        struct Complex\n",
    "        {\n",
    "            public double re, im;\n",
    "            // можно использовать this.re, this.im\n",
    "            public Complex( double re_, double im_ )\n",
    "            { re = re_; im = im_; } \n",
    "            public static Complex operator + ( Complex a. Complex b )\n",
    "            { return new Complex( a.re + b.re, a.im + b.im ); }\n",
    "            public override string ToString()\n",
    "            { return ( string Forma( \"({0,2:0.##);(1.2:0.##))\", re, 1m ) ); }\n",
    "        }\n",
    "            \n",
    "Стр. 213\n",
    "\n",
    "------------"
   ]
  },
  {
   "cell_type": "markdown",
   "id": "68fca6c5",
   "metadata": {},
   "source": [
    "        class Class1\n",
    "        {\n",
    "            static void Main()\n",
    "            {\n",
    "                Complex a = new Complex( 1.2345. 5.6 );\n",
    "                \n",
    "                Complex b;\n",
    "                b.re = 10; b.im = 1; \n",
    "                Console, Writeline( \"b =\"+b);\n",
    "                Complex c = new Complex();\n",
    "                Console.Writeline( \"c = \" + c );\n",
    "                c = a + b;\n",
    "                Console.WriteLine( \"c=\"+c);\n",
    "            }\n",
    "        }\n",
    "    }"
   ]
  },
  {
   "cell_type": "markdown",
   "id": "680446cf",
   "metadata": {},
   "source": [
    "Результат работы программы:\n",
    "\n",
    "    a = (1.23;5,6)\n",
    "    b = (10; 1)\n",
    "    c = ( 0; 0)\n",
    "    c=(11,23;6,6)\n",
    "    \n",
    "При выводе экземпляра структуры на консоль выполняется упаковка, то есть неявное преобразование в ссылочный тип. Упаковка (это понятие было введено в разделе «Упаковка и распаковка», см, с. 36) применяется и в других случаях. когда структурный тип используется там, где ожидается ссылочный, например, при преобразовании экземпляра структуры к типу реализуемого ею интерфейса. При обратном преобразовании - из ссылочного типа в структурный - выполняется распаковка.\n",
    "\n",
    "Присваивание структур имеет, что естественно, значимую семантику, то есть при присваивании создается копия значений полей. То же самое происходит и при передаче структур в качестве параметров по значению, Для экономии ресурсов ничто не мешает передавать структуры в методы по ссылке с помощью ключевых слов ref или out.\n",
    "\n",
    "Особенно значительный выигрыш в эффективности можно получить, используя массивы структур вместо массивов классов, Например, для массива из 100 экземпляров класса создается 101 объект, а для массива структур - один объект, Пример работы с массивом структур, описанных в предыдущем листинге"
   ]
  },
  {
   "cell_type": "markdown",
   "id": "820e6a7f",
   "metadata": {},
   "source": [
    "    Complex [] mas = new Complex[4];\n",
    "    for ( int 1 = 0; 1 < 4; 1 )\n",
    "    {\n",
    "        mas[1].re= i;\n",
    "        mas[1].im= 2*i;\n",
    "    }\n",
    "    foreach ( Complex elem in mas )\n",
    "        Console.Writeline( elem );\n",
    "\n",
    "Если поместить этот фрагмент вместо тела метода Main в листинге 9.5, получим следующий результат:\n",
    "\n",
    "    (0; 0) ( 1; 2) (2; 4) ( 3; 6)\n",
    "\n",
    "Стр. 214\n",
    "\n",
    "------------"
   ]
  },
  {
   "cell_type": "markdown",
   "id": "2f0ebf44",
   "metadata": {},
   "source": [
    "# Перечисления\n",
    "\n",
    "При написании программ часто возникает потребность определить несколько связанных между собой именованных констант, при этом их конкретные значения могут быть не важны. Для этого удобно воспользоваться перечисляемым типом данных, все возможные значения которого задаются списком целочислен- ных констант, например:\n",
    "\n",
    "    enum Menu {Read, Write, Append, Exit }\n",
    "    enum Радуга { Красный, Оранжевый, Желтый, Зеленый, Синий, Фиолетовый }\n",
    "    \n",
    "Для каждой константы задается ее символическое имя. По умолчанию константам присваиваются последовательные значения типа int, начиная с 0), но можно задать и собственные значения, например:\n",
    "\n",
    "    enum Nums ( two = 2, three, four, ten = 10, eleven, fifty = ten + 40 };\n",
    "\n",
    "Константам three и four присваиваются значения 3 и 4, константе eleven - 11. Имена перечисляемых констант внутри каждого перечисления должны быть уникальными, а значения могут совпадать. Преимущество перечисления перед описанием именованных констант состоит в том, что связанные константы нагляднее; кроме того, компилятор выполняет проверку типов, а интегрированная среда разработки подсказывает возможные значения констант, выводя их список."
   ]
  },
  {
   "cell_type": "markdown",
   "id": "5e8b6bca",
   "metadata": {},
   "source": [
    "Синтаксис перечисления:\n",
    "\n",
    "    [ атрибуты ] [ спецификаторы ] enum имя_перечисления [ : базовый тип ]\n",
    "        тело перечисления [ : ]\n",
    "    \n",
    "Спецификаторы перечисления имеют такой же смысл, как и для класса, причем допускаются только спецификаторы new, public, protected, internal и private. Базовый тип - это тип элементов, из которых построено перечисление. По умолчанию используется тип int, но можно задать тип и явным образом, выбрав его среди целочисленных типов (кроме char), а именно: byte, sbyte, short, ushort, int, uint, long и ulong, Необходимость в этом возникает, когда значения констант невозможно или неудобно представлять с помощью типа int.\n",
    "Тело перечисления состоит из имен констант, каждой из которых может быть присвоено значение. Если значение не указано, оно вычисляется прибавлением единицы к значению предыдущей константы. Константы по умолчанию имеют спецификатор доступа public.\n",
    "\n",
    "Стр. 215\n",
    "\n",
    "------------"
   ]
  },
  {
   "cell_type": "markdown",
   "id": "b745b6fa",
   "metadata": {},
   "source": []
  }
 ],
 "metadata": {
  "kernelspec": {
   "display_name": "Python 3 (ipykernel)",
   "language": "python",
   "name": "python3"
  },
  "language_info": {
   "codemirror_mode": {
    "name": "ipython",
    "version": 3
   },
   "file_extension": ".py",
   "mimetype": "text/x-python",
   "name": "python",
   "nbconvert_exporter": "python",
   "pygments_lexer": "ipython3",
   "version": "3.11.4"
  }
 },
 "nbformat": 4,
 "nbformat_minor": 5
}
