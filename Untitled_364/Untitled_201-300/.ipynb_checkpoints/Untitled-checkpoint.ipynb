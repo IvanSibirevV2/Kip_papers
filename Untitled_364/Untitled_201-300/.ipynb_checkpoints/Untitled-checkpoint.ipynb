{
 "cells": [
  {
   "cell_type": "markdown",
   "id": "6c54cd69",
   "metadata": {},
   "source": []
  },
  {
   "cell_type": "code",
   "execution_count": 4,
   "id": "8384c717",
   "metadata": {},
   "outputs": [
    {
     "name": "stdout",
     "output_type": "stream",
     "text": [
      "\\Untitled.ipynb : 0.014867782592773438  мегобайт  2025-02-20 12:06:01.511740\n"
     ]
    }
   ],
   "source": [
    "import os;import math;import sys;import datetime;\n",
    "var='\\\\Untitled.ipynb'\n",
    "print (var,':',os.path.getsize(os.path.abspath(os.curdir)+var)/math.pow(2, 20),' мегобайт ',datetime.datetime.now())"
   ]
  },
  {
   "cell_type": "code",
   "execution_count": 1,
   "id": "f75756bc",
   "metadata": {},
   "outputs": [
    {
     "name": "stdout",
     "output_type": "stream",
     "text": [
      "Requirement already satisfied: iplantuml in c:\\users\\sibnout2023\\anaconda3\\lib\\site-packages (0.1.1)\n",
      "Requirement already satisfied: plantweb in c:\\users\\sibnout2023\\anaconda3\\lib\\site-packages (from iplantuml) (1.3.0)\n",
      "Requirement already satisfied: docutils in c:\\users\\sibnout2023\\anaconda3\\lib\\site-packages (from plantweb->iplantuml) (0.18.1)\n",
      "Requirement already satisfied: requests in c:\\users\\sibnout2023\\anaconda3\\lib\\site-packages (from plantweb->iplantuml) (2.31.0)\n",
      "Requirement already satisfied: six in c:\\users\\sibnout2023\\anaconda3\\lib\\site-packages (from plantweb->iplantuml) (1.16.0)\n",
      "Requirement already satisfied: charset-normalizer<4,>=2 in c:\\users\\sibnout2023\\anaconda3\\lib\\site-packages (from requests->plantweb->iplantuml) (2.0.4)\n",
      "Requirement already satisfied: idna<4,>=2.5 in c:\\users\\sibnout2023\\anaconda3\\lib\\site-packages (from requests->plantweb->iplantuml) (3.4)\n",
      "Requirement already satisfied: urllib3<3,>=1.21.1 in c:\\users\\sibnout2023\\anaconda3\\lib\\site-packages (from requests->plantweb->iplantuml) (1.26.16)\n",
      "Requirement already satisfied: certifi>=2017.4.17 in c:\\users\\sibnout2023\\anaconda3\\lib\\site-packages (from requests->plantweb->iplantuml) (2023.7.22)\n",
      "Note: you may need to restart the kernel to use updated packages.\n"
     ]
    }
   ],
   "source": [
    "pip install iplantuml"
   ]
  },
  {
   "cell_type": "code",
   "execution_count": 2,
   "id": "94bd98fb",
   "metadata": {},
   "outputs": [],
   "source": [
    "import iplantuml"
   ]
  },
  {
   "cell_type": "code",
   "execution_count": 3,
   "id": "8358795e",
   "metadata": {},
   "outputs": [
    {
     "data": {
      "image/svg+xml": [
       "<svg xmlns=\"http://www.w3.org/2000/svg\" xmlns:xlink=\"http://www.w3.org/1999/xlink\" contentStyleType=\"text/css\" data-diagram-type=\"SEQUENCE\" height=\"149px\" preserveAspectRatio=\"none\" style=\"width:241px;height:149px;background:#FFFFFF;\" version=\"1.1\" viewBox=\"0 0 241 149\" width=\"241px\" zoomAndPan=\"magnify\"><defs/><g><g><title>Alice</title><rect fill=\"#FFFFFF\" fill-opacity=\"0.00000\" height=\"78.2656\" width=\"8\" x=\"24.8335\" y=\"36.2969\"/><line style=\"stroke:#181818;stroke-width:0.5;stroke-dasharray:5.0,5.0;\" x1=\"28\" x2=\"28\" y1=\"36.2969\" y2=\"114.5625\"/></g><g><title>Bob</title><rect fill=\"#FFFFFF\" fill-opacity=\"0.00000\" height=\"78.2656\" width=\"8\" x=\"211.416\" y=\"36.2969\"/><line style=\"stroke:#181818;stroke-width:0.5;stroke-dasharray:5.0,5.0;\" x1=\"214.8877\" x2=\"214.8877\" y1=\"36.2969\" y2=\"114.5625\"/></g><g><rect fill=\"#E2E2F0\" height=\"30.2969\" rx=\"2.5\" ry=\"2.5\" style=\"stroke:#181818;stroke-width:0.5;\" width=\"47.667\" x=\"5\" y=\"5\"/><text fill=\"#000000\" font-family=\"sans-serif\" font-size=\"14\" lengthAdjust=\"spacing\" textLength=\"33.667\" x=\"12\" y=\"24.9951\">Alice</text></g><g><rect fill=\"#E2E2F0\" height=\"30.2969\" rx=\"2.5\" ry=\"2.5\" style=\"stroke:#181818;stroke-width:0.5;\" width=\"47.667\" x=\"5\" y=\"113.5625\"/><text fill=\"#000000\" font-family=\"sans-serif\" font-size=\"14\" lengthAdjust=\"spacing\" textLength=\"33.667\" x=\"12\" y=\"133.5576\">Alice</text></g><g><rect fill=\"#E2E2F0\" height=\"30.2969\" rx=\"2.5\" ry=\"2.5\" style=\"stroke:#181818;stroke-width:0.5;\" width=\"41.0566\" x=\"194.8877\" y=\"5\"/><text fill=\"#000000\" font-family=\"sans-serif\" font-size=\"14\" lengthAdjust=\"spacing\" textLength=\"27.0566\" x=\"201.8877\" y=\"24.9951\">Bob</text></g><g><rect fill=\"#E2E2F0\" height=\"30.2969\" rx=\"2.5\" ry=\"2.5\" style=\"stroke:#181818;stroke-width:0.5;\" width=\"41.0566\" x=\"194.8877\" y=\"113.5625\"/><text fill=\"#000000\" font-family=\"sans-serif\" font-size=\"14\" lengthAdjust=\"spacing\" textLength=\"27.0566\" x=\"201.8877\" y=\"133.5576\">Bob</text></g><g><polygon fill=\"#181818\" points=\"203.416,63.4297,213.416,67.4297,203.416,71.4297,207.416,67.4297\" style=\"stroke:#181818;stroke-width:1;\"/><line style=\"stroke:#181818;stroke-width:1;\" x1=\"28.8335\" x2=\"209.416\" y1=\"67.4297\" y2=\"67.4297\"/><text fill=\"#000000\" font-family=\"sans-serif\" font-size=\"13\" lengthAdjust=\"spacing\" textLength=\"152.9531\" x=\"35.8335\" y=\"62.3638\">Authentication Request</text></g><g><polygon fill=\"#181818\" points=\"39.8335,92.5625,29.8335,96.5625,39.8335,100.5625,35.8335,96.5625\" style=\"stroke:#181818;stroke-width:1;\"/><line style=\"stroke:#181818;stroke-width:1;stroke-dasharray:2.0,2.0;\" x1=\"33.8335\" x2=\"214.416\" y1=\"96.5625\" y2=\"96.5625\"/><text fill=\"#000000\" font-family=\"sans-serif\" font-size=\"13\" lengthAdjust=\"spacing\" textLength=\"162.5825\" x=\"45.8335\" y=\"91.4966\">Authentication Response</text></g><!--SRC=[Syp9J4vLqBLJSCfFib9mB2t9ICqhoKnEBCdCprC8IYqiJIqkuGBAAUW2rJY256DHLLoGdrUS2W00]--></g></svg>"
      ],
      "text/plain": [
       "<IPython.core.display.SVG object>"
      ]
     },
     "execution_count": 3,
     "metadata": {},
     "output_type": "execute_result"
    }
   ],
   "source": [
    "%%plantuml\n",
    "\n",
    "@startuml\n",
    "Alice -> Bob: Authentication Request\n",
    "Bob --> Alice: Authentication Response\n",
    "@enduml"
   ]
  },
  {
   "attachments": {
    "image.png": {
     "image/png": "[encoded data removed]"
    }
   },
   "cell_type": "markdown",
   "id": "de5e58a2",
   "metadata": {},
   "source": [
    "![image.png](attachment:image.png)"
   ]
  },
  {
   "cell_type": "markdown",
   "id": "b8f990a7",
   "metadata": {},
   "source": []
  },
  {
   "cell_type": "markdown",
   "id": "aac5a8c0",
   "metadata": {},
   "source": []
  },
  {
   "cell_type": "markdown",
   "id": "16fd8f83",
   "metadata": {},
   "source": []
  },
  {
   "cell_type": "markdown",
   "id": "1b40be70",
   "metadata": {},
   "source": []
  },
  {
   "cell_type": "markdown",
   "id": "cdd49f75",
   "metadata": {},
   "source": []
  },
  {
   "cell_type": "markdown",
   "id": "b8a582cf",
   "metadata": {},
   "source": []
  },
  {
   "cell_type": "markdown",
   "id": "3ffe7e62",
   "metadata": {},
   "source": []
  },
  {
   "cell_type": "markdown",
   "id": "7a67ec00",
   "metadata": {},
   "source": []
  },
  {
   "cell_type": "markdown",
   "id": "8449fafe",
   "metadata": {},
   "source": []
  }
 ],
 "metadata": {
  "kernelspec": {
   "display_name": "Python 3 (ipykernel)",
   "language": "python",
   "name": "python3"
  },
  "language_info": {
   "codemirror_mode": {
    "name": "ipython",
    "version": 3
   },
   "file_extension": ".py",
   "mimetype": "text/x-python",
   "name": "python",
   "nbconvert_exporter": "python",
   "pygments_lexer": "ipython3",
   "version": "3.11.4"
  }
 },
 "nbformat": 4,
 "nbformat_minor": 5
}
