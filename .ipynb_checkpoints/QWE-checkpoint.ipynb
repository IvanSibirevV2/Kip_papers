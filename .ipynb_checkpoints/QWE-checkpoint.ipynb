{
 "cells": [
  {
   "cell_type": "markdown",
   "id": "c81d07b5",
   "metadata": {},
   "source": [
    "Примерные вопросы.\n"
   ]
  },
  {
   "cell_type": "markdown",
   "id": "5e2945b8",
   "metadata": {},
   "source": [
    "https://htmlpreview.github.io/?https://github.com/IvanSibirevV2/HowTo_CPP/blob/main/Тверь_2017/001_НизкийСтарт.html#/source\n",
    "\n",
    "https://htmlpreview.github.io/?https://github.com/IvanSibirevV2/Kip_papers/blob/main/QWE.html#/source"
   ]
  },
  {
   "cell_type": "markdown",
   "id": "beebb805",
   "metadata": {},
   "source": [
    "------------\n",
    "Перечислить и охарактеризовать подходы к определению операционной системы и ее функций.\n",
    "\n",
    "https://studfile.net/preview/9394821/page:3/"
   ]
  },
  {
   "cell_type": "markdown",
   "id": "e665501a",
   "metadata": {},
   "source": [
    "-------------------------------\n",
    "Дать определение понятию «процесс». Привести классификации процессов.\n",
    "\n",
    "https://studfile.net/preview/712980/page:5/"
   ]
  },
  {
   "attachments": {
    "image.png": {
     "image/png": "[encoded data removed]"
    }
   },
   "cell_type": "markdown",
   "id": "b0af636b",
   "metadata": {},
   "source": [
    "--------------------\n",
    "Выполнить планирование процессов с использованием алгоритма планирования FCFS. Вычислить среднее время ожидания и среднее время выполнения процессов. Процессы поступают в соответствии с их номерами в таблице:\n",
    "![image.png](attachment:image.png)\n",
    "\n",
    "https://www.guru99.com/ru/fcfs-scheduling.html\n",
    "\n",
    "https://intuit.ru/studies/courses/2192/31/lecture/972?page=3"
   ]
  },
  {
   "cell_type": "markdown",
   "id": "20ad7ae9",
   "metadata": {},
   "source": [
    "-----------------\n",
    "Перечислить и охарактеризовать функции операционных систем\n",
    "\n",
    "https://studfile.net/preview/434249/"
   ]
  },
  {
   "cell_type": "markdown",
   "id": "ffc099d6",
   "metadata": {},
   "source": [
    "------------------------\n",
    "Перечислить и охарактеризовать состояния процесса. Привести диаграмму переходов состояний процесса\n",
    "\n",
    "https://studfile.net/preview/16562946/page:6/"
   ]
  },
  {
   "cell_type": "markdown",
   "id": "ae67599d",
   "metadata": {},
   "source": [
    "-----------------\n",
    "Выведите всё строки ниже 14 в файле /etc/group:\n",
    "\n",
    "Можно на питоне"
   ]
  },
  {
   "cell_type": "markdown",
   "id": "78b42d62",
   "metadata": {},
   "source": [
    "---------------\n",
    "Дать определение операционной системы. Описать место операционной системы в структуре информационной системы\n",
    "\n",
    "https://studfile.net/preview/5946827/page:11/м"
   ]
  },
  {
   "attachments": {
    "image.png": {
     "image/png": "[encoded data removed]"
    }
   },
   "cell_type": "markdown",
   "id": "9feb3d91",
   "metadata": {},
   "source": [
    "-------------\n",
    "Вы пишете команду, нажимаете tab - но вместо опций вы видите список файлов. Нормальное ли это поведение. Если нет, в чём заключается проблема и как её решить\n",
    "\n",
    "CMD POWER SHEL BASH ...\n",
    "\n",
    "![image.png](attachment:image.png)\n",
    "\n",
    "https://habr.com/ru/articles/147870/"
   ]
  },
  {
   "cell_type": "markdown",
   "id": "f90e3c31",
   "metadata": {},
   "source": [
    "------------------------\n",
    "Создайте два алиаса с одинаковыми названиями в ~/.bashrc. Какой из них работает.\n",
    "\n",
    "https://habr.com/ru/companies/otus/articles/745882/\n",
    "\n",
    "http://meliorem.ru/tools/linux/sozdanie-aliasov-v-obolochke-bash/\n",
    "\n",
    "И да образ линуха поставить придется\n"
   ]
  },
  {
   "cell_type": "markdown",
   "id": "34e2adae",
   "metadata": {},
   "source": [
    "------------------\n",
    "Привести типовую структуру операционной системы. Охарактеризовать взаимодействие основных компонентов\n",
    "\n",
    "https://studfile.net/preview/5946827/page:11/"
   ]
  },
  {
   "cell_type": "markdown",
   "id": "21a132b5",
   "metadata": {},
   "source": [
    "----------------------\n",
    "Охарактеризовать понятие «планирование процессов». Перечислить и охарактеризовать алгоритмы планирования процессов в операционных системах\n",
    "\n",
    "https://studfile.net/preview/10012472/page:4/\n",
    "\n",
    "https://intuit.ru/studies/courses/941/31/lecture/972"
   ]
  },
  {
   "cell_type": "markdown",
   "id": "ab88dee0",
   "metadata": {},
   "source": [
    "----------------\n",
    "Создайте команду getlog, которая будет показывать последние 5 строк файла /var/log/kdump.log и одновременно добавлять вывод в файл mykernellog.\n",
    "\n",
    "можно на питоне"
   ]
  },
  {
   "cell_type": "markdown",
   "id": "32c34761",
   "metadata": {},
   "source": [
    "---------------\n",
    "Перечислить группы пользователей операционной системы. Описать их функции\n",
    "\n",
    "https://studfile.net/preview/424018/\n",
    "\n",
    "http://citforum.ru/operating_systems/winntadm/winntadm_05.shtml"
   ]
  },
  {
   "cell_type": "markdown",
   "id": "5c86f864",
   "metadata": {},
   "source": [
    "--------------------\n",
    "Дать определение понятиям «прерывание», «система прерываний». Перечислить и охарактеризовать классы прерываний\n",
    "\n",
    "https://studfile.net/preview/2566995/"
   ]
  },
  {
   "cell_type": "markdown",
   "id": "4733f089",
   "metadata": {},
   "source": [
    "----------------\n",
    "Создайте «команду» (алиас), которая бы сохраняла список алиасов в файле."
   ]
  },
  {
   "cell_type": "markdown",
   "id": "38abc062",
   "metadata": {},
   "source": [
    "-----------------------------\n",
    "Охарактеризовать периоды развития операционных систем\n",
    "\n",
    "https://studfile.net/preview/1910837/"
   ]
  },
  {
   "cell_type": "markdown",
   "id": "a7b163e4",
   "metadata": {},
   "source": [
    "--------------------\n",
    "Вы запускаете команду ls file, но ничего не происходит. У вас подозрения, что кто-то подменил команду ls. Как это проверить?"
   ]
  },
  {
   "attachments": {
    "image.png": {
     "image/png": "[encoded data removed]"
    }
   },
   "cell_type": "markdown",
   "id": "9102ad4a",
   "metadata": {},
   "source": [
    "----------------------\n",
    "Выполнить планирование процессов с использованием алгоритма планирования FCFS. Вычислить среднее время ожидания и среднее время выполнения процессов с учетом момента поступления процессов в систему.\n",
    "\n",
    "https://studfile.net/preview/8927153/\n",
    "\n",
    "![image.png](attachment:image.png)"
   ]
  },
  {
   "cell_type": "markdown",
   "id": "da171735",
   "metadata": {},
   "source": [
    "--------------------------------\n",
    "Привести классификацию операционных систем\n",
    "\n",
    "https://studfile.net/preview/7106230/page:14/"
   ]
  },
  {
   "cell_type": "markdown",
   "id": "6403356e",
   "metadata": {},
   "source": [
    "---------------------------\n",
    "Дать определение понятиям «управление памятью», «менеджер памяти». Перечислить функции операционной системы по управлению памятью\n",
    "\n",
    "https://studfile.net/preview/4252/page:6/\n",
    "\n",
    "https://moodle.kstu.ru/mod/page/view.php?id=57"
   ]
  },
  {
   "cell_type": "markdown",
   "id": "caa087cc",
   "metadata": {},
   "source": [
    "-----------------------\n",
    "Запишите в файл mykernel последние 10 строк файла /var/log/kdump.log"
   ]
  },
  {
   "cell_type": "markdown",
   "id": "d2e61a0a",
   "metadata": {},
   "source": [
    "------------------------\n",
    "Перечислить и охарактеризовать виды ядра операционной системы\n",
    "\n",
    "https://studfile.net/preview/7273204/page:2/"
   ]
  },
  {
   "cell_type": "markdown",
   "id": "3e8d7d5f",
   "metadata": {},
   "source": [
    "--------------------------\n",
    "Перечислить и охарактеризовать методы распределения памяти\n",
    "\n",
    "https://studfile.net/preview/3674957/page:15/"
   ]
  },
  {
   "cell_type": "markdown",
   "id": "886c62a6",
   "metadata": {},
   "source": [
    "-------------------\n",
    "Посмотрите файлы mykernel и /etc/DDD, при этом стандартный вывод направьте в файл result.log, а ошибки в файл /tmp/ERRORS\n"
   ]
  },
  {
   "cell_type": "markdown",
   "id": "27ddb732",
   "metadata": {},
   "source": [
    "-------------------"
   ]
  }
 ],
 "metadata": {
  "kernelspec": {
   "display_name": "Python 3 (ipykernel)",
   "language": "python",
   "name": "python3"
  },
  "language_info": {
   "codemirror_mode": {
    "name": "ipython",
    "version": 3
   },
   "file_extension": ".py",
   "mimetype": "text/x-python",
   "name": "python",
   "nbconvert_exporter": "python",
   "pygments_lexer": "ipython3",
   "version": "3.11.4"
  }
 },
 "nbformat": 4,
 "nbformat_minor": 5
}
