{
 "cells": [
  {
   "cell_type": "markdown",
   "id": "c81d07b5",
   "metadata": {},
   "source": [
    "Примерные вопросы.\n"
   ]
  },
  {
   "cell_type": "markdown",
   "id": "5e2945b8",
   "metadata": {},
   "source": [
    "https://htmlpreview.github.io/?https://github.com/IvanSibirevV2/HowTo_CPP/blob/main/Тверь_2017/001_НизкийСтарт.html#/source\n",
    "\n",
    "https://htmlpreview.github.io/?https://github.com/IvanSibirevV2/Kip_papers/QWE.html#/source"
   ]
  },
  {
   "cell_type": "markdown",
   "id": "beebb805",
   "metadata": {},
   "source": [
    "------------\n",
    "Перечислить и охарактеризовать подходы к определению операционной системы и ее функций.\n",
    "\n",
    "https://studfile.net/preview/9394821/page:3/"
   ]
  },
  {
   "cell_type": "markdown",
   "id": "e665501a",
   "metadata": {},
   "source": [
    "-------------------------------\n",
    "Дать определение понятию «процесс». Привести классификации процессов.\n",
    "\n",
    "https://studfile.net/preview/712980/page:5/"
   ]
  },
  {
   "attachments": {
    "image.png": {
     "image/png": "[encoded data removed]"
    }
   },
   "cell_type": "markdown",
   "id": "b0af636b",
   "metadata": {},
   "source": [
    "--------------------\n",
    "Выполнить планирование процессов с использованием алгоритма планирования FCFS. Вычислить среднее время ожидания и среднее время выполнения процессов. Процессы поступают в соответствии с их номерами в таблице:\n",
    "![image.png](attachment:image.png)\n",
    "\n",
    "https://www.guru99.com/ru/fcfs-scheduling.html\n",
    "\n",
    "https://intuit.ru/studies/courses/2192/31/lecture/972?page=3"
   ]
  },
  {
   "cell_type": "markdown",
   "id": "20ad7ae9",
   "metadata": {},
   "source": [
    "-----------------\n",
    "Перечислить и охарактеризовать функции операционных систем\n",
    "\n",
    "https://studfile.net/preview/434249/"
   ]
  },
  {
   "cell_type": "markdown",
   "id": "ffc099d6",
   "metadata": {},
   "source": [
    "------------------------\n",
    "Перечислить и охарактеризовать состояния процесса. Привести диаграмму переходов состояний процесса\n",
    "\n",
    "https://studfile.net/preview/16562946/page:6/"
   ]
  },
  {
   "cell_type": "markdown",
   "id": "ae67599d",
   "metadata": {},
   "source": [
    "-----------------\n",
    "Выведите всё строки ниже 14 в файле /etc/group:\n",
    "\n",
    "Можно на питоне"
   ]
  },
  {
   "cell_type": "markdown",
   "id": "78b42d62",
   "metadata": {},
   "source": [
    "---------------\n",
    "Дать определение операционной системы. Описать место операционной системы в структуре информационной системы\n",
    "\n",
    "https://studfile.net/preview/5946827/page:11/м"
   ]
  },
  {
   "attachments": {
    "image.png": {
     "image/png": "[encoded data removed]"
    }
   },
   "cell_type": "markdown",
   "id": "9feb3d91",
   "metadata": {},
   "source": [
    "-------------\n",
    "Вы пишете команду, нажимаете tab - но вместо опций вы видите список файлов. Нормальное ли это поведение. Если нет, в чём заключается проблема и как её решить\n",
    "\n",
    "CMD POWER SHEL BASH ...\n",
    "\n",
    "![image.png](attachment:image.png)\n",
    "\n",
    "https://habr.com/ru/articles/147870/"
   ]
  },
  {
   "cell_type": "code",
   "execution_count": null,
   "id": "bf22a133",
   "metadata": {},
   "outputs": [],
   "source": []
  }
 ],
 "metadata": {
  "kernelspec": {
   "display_name": "Python 3 (ipykernel)",
   "language": "python",
   "name": "python3"
  },
  "language_info": {
   "codemirror_mode": {
    "name": "ipython",
    "version": 3
   },
   "file_extension": ".py",
   "mimetype": "text/x-python",
   "name": "python",
   "nbconvert_exporter": "python",
   "pygments_lexer": "ipython3",
   "version": "3.11.4"
  }
 },
 "nbformat": 4,
 "nbformat_minor": 5
}
