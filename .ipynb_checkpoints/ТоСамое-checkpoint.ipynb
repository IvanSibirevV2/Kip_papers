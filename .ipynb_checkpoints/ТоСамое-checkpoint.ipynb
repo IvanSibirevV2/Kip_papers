{
 "cells": [
  {
   "cell_type": "markdown",
   "id": "c81d07b5",
   "metadata": {},
   "source": [
    "Примерные вопросы.\n"
   ]
  },
  {
   "cell_type": "markdown",
   "id": "5e2945b8",
   "metadata": {},
   "source": [
    "https://htmlpreview.github.io/?https://github.com/IvanSibirevV2/Kip_papers/QWE.html#/source"
   ]
  },
  {
   "cell_type": "markdown",
   "id": "beebb805",
   "metadata": {},
   "source": [
    "------------\n",
    "Перечислить и охарактеризовать подходы к определению операционной системы и ее функций.\n",
    "\n",
    "https://studfile.net/preview/9394821/page:3/"
   ]
  },
  {
   "cell_type": "markdown",
   "id": "e665501a",
   "metadata": {},
   "source": [
    "-------------------------------\n",
    "Дать определение понятию «процесс». Привести классификации процессов.\n",
    "\n",
    "https://studfile.net/preview/712980/page:5/"
   ]
  },
  {
   "attachments": {
    "image.png": {
     "image/png": "[encoded data removed]"
    }
   },
   "cell_type": "markdown",
   "id": "b0af636b",
   "metadata": {},
   "source": [
    "--------------------\n",
    "Выполнить планирование процессов с использованием алгоритма планирования FCFS. Вычислить среднее время ожидания и среднее время выполнения процессов. Процессы поступают в соответствии с их номерами в таблице:\n",
    "![image.png](attachment:image.png)\n",
    "\n",
    "https://www.guru99.com/ru/fcfs-scheduling.html\n",
    "\n",
    "https://intuit.ru/studies/courses/2192/31/lecture/972?page=3"
   ]
  },
  {
   "cell_type": "code",
   "execution_count": null,
   "id": "8b5c706d",
   "metadata": {},
   "outputs": [],
   "source": []
  }
 ],
 "metadata": {
  "kernelspec": {
   "display_name": "Python 3 (ipykernel)",
   "language": "python",
   "name": "python3"
  },
  "language_info": {
   "codemirror_mode": {
    "name": "ipython",
    "version": 3
   },
   "file_extension": ".py",
   "mimetype": "text/x-python",
   "name": "python",
   "nbconvert_exporter": "python",
   "pygments_lexer": "ipython3",
   "version": "3.11.4"
  }
 },
 "nbformat": 4,
 "nbformat_minor": 5
}
