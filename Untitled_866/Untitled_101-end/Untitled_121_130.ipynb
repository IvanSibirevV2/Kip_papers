{
 "cells": [
  {
   "cell_type": "code",
   "execution_count": 1,
   "id": "7394855d",
   "metadata": {
    "scrolled": true
   },
   "outputs": [
    {
     "name": "stdout",
     "output_type": "stream",
     "text": [
      "\\Untitled_121_130.ipynb : 0.038741111755371094  мегобайт  2024-08-09 21:42:34.113282\n"
     ]
    }
   ],
   "source": [
    "import os;import math;import sys;import datetime;\n",
    "var='\\\\Untitled_121_130.ipynb'\n",
    "print (var,':',os.path.getsize(os.path.abspath(os.curdir)+var)/math.pow(2, 20),' мегобайт ',datetime.datetime.now())"
   ]
  },
  {
   "cell_type": "markdown",
   "id": "a0fe1d14",
   "metadata": {},
   "source": []
  },
  {
   "cell_type": "markdown",
   "id": "4946c817",
   "metadata": {},
   "source": []
  },
  {
   "cell_type": "markdown",
   "id": "afe8a302",
   "metadata": {},
   "source": []
  },
  {
   "cell_type": "markdown",
   "id": "1047a7cf",
   "metadata": {},
   "source": []
  }
 ],
 "metadata": {
  "kernelspec": {
   "display_name": "Python 3 (ipykernel)",
   "language": "python",
   "name": "python3"
  },
  "language_info": {
   "codemirror_mode": {
    "name": "ipython",
    "version": 3
   },
   "file_extension": ".py",
   "mimetype": "text/x-python",
   "name": "python",
   "nbconvert_exporter": "python",
   "pygments_lexer": "ipython3",
   "version": "3.11.4"
  }
 },
 "nbformat": 4,
 "nbformat_minor": 5
}
