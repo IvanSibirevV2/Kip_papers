{
 "cells": [
  {
   "cell_type": "code",
   "execution_count": 2,
   "id": "04c825d9",
   "metadata": {
    "scrolled": true
   },
   "outputs": [
    {
     "name": "stdout",
     "output_type": "stream",
     "text": [
      "\\Untitled_201-210.ipynb : 19.473976135253906  мегобайт  2024-08-30 22:38:29.814472\n"
     ]
    }
   ],
   "source": [
    "import os;import math;import sys;import datetime;\n",
    "var='\\\\Untitled_201-210.ipynb'\n",
    "print (var,':',os.path.getsize(os.path.abspath(os.curdir)+var)/math.pow(2, 20),' мегобайт ',datetime.datetime.now())"
   ]
  },
  {
   "cell_type": "markdown",
   "id": "0628a088",
   "metadata": {},
   "source": [
    "\n"
   ]
  },
  {
   "cell_type": "markdown",
   "id": "1bcb345c",
   "metadata": {},
   "source": []
  },
  {
   "cell_type": "markdown",
   "id": "3603b2c8",
   "metadata": {},
   "source": []
  },
  {
   "cell_type": "markdown",
   "id": "bc7b60cd",
   "metadata": {},
   "source": []
  },
  {
   "cell_type": "markdown",
   "id": "05a1a584",
   "metadata": {},
   "source": []
  },
  {
   "cell_type": "markdown",
   "id": "089f0b6a",
   "metadata": {},
   "source": []
  }
 ],
 "metadata": {
  "kernelspec": {
   "display_name": "Python 3 (ipykernel)",
   "language": "python",
   "name": "python3"
  },
  "language_info": {
   "codemirror_mode": {
    "name": "ipython",
    "version": 3
   },
   "file_extension": ".py",
   "mimetype": "text/x-python",
   "name": "python",
   "nbconvert_exporter": "python",
   "pygments_lexer": "ipython3",
   "version": "3.11.4"
  }
 },
 "nbformat": 4,
 "nbformat_minor": 5
}
