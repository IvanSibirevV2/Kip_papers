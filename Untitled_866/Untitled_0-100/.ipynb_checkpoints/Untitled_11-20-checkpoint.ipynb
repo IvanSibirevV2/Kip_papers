{
 "cells": [
  {
   "cell_type": "code",
   "execution_count": 3,
   "id": "58166060",
   "metadata": {},
   "outputs": [
    {
     "name": "stdout",
     "output_type": "stream",
     "text": [
      "\\Untitled_11-20.ipynb : 0.049350738525390625  мегобайт  2024-07-04 09:24:57.885614\n"
     ]
    }
   ],
   "source": [
    "import os;import math;import sys;import datetime;\n",
    "var='\\\\Untitled_11-20.ipynb'\n",
    "print (var,':',os.path.getsize(os.path.abspath(os.curdir)+var)/math.pow(2, 20),' мегобайт ',datetime.datetime.now())\n",
    "#http://localhost:8888/notebooks/Untitled1.ipynb\n",
    "#print(\"http://localhost:8888/notebooks/Untitled1.ipynb\")"
   ]
  },
  {
   "cell_type": "markdown",
   "id": "470772b7",
   "metadata": {},
   "source": []
  }
 ],
 "metadata": {
  "kernelspec": {
   "display_name": "Python 3 (ipykernel)",
   "language": "python",
   "name": "python3"
  },
  "language_info": {
   "codemirror_mode": {
    "name": "ipython",
    "version": 3
   },
   "file_extension": ".py",
   "mimetype": "text/x-python",
   "name": "python",
   "nbconvert_exporter": "python",
   "pygments_lexer": "ipython3",
   "version": "3.11.4"
  }
 },
 "nbformat": 4,
 "nbformat_minor": 5
}
