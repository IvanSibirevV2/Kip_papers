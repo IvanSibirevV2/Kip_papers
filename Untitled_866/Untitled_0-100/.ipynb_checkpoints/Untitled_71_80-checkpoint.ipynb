{
 "cells": [
  {
   "cell_type": "code",
   "execution_count": 1,
   "id": "31bdceaf",
   "metadata": {},
   "outputs": [
    {
     "name": "stdout",
     "output_type": "stream",
     "text": [
      "\\Untitled_71_80.ipynb : 0.0021543502807617188  мегобайт  2024-08-01 10:03:38.341238\n"
     ]
    }
   ],
   "source": [
    "import os;import math;import sys;import datetime;\n",
    "var='\\\\Untitled_71_80.ipynb'\n",
    "print (var,':',os.path.getsize(os.path.abspath(os.curdir)+var)/math.pow(2, 20),' мегобайт ',datetime.datetime.now())"
   ]
  },
  {
   "cell_type": "markdown",
   "id": "ff5ca357",
   "metadata": {},
   "source": []
  },
  {
   "cell_type": "markdown",
   "id": "3d125bb8",
   "metadata": {},
   "source": []
  },
  {
   "cell_type": "markdown",
   "id": "acde0889",
   "metadata": {},
   "source": []
  },
  {
   "cell_type": "markdown",
   "id": "982be788",
   "metadata": {},
   "source": []
  },
  {
   "cell_type": "markdown",
   "id": "deab49be",
   "metadata": {},
   "source": []
  },
  {
   "cell_type": "markdown",
   "id": "8aa4c5c6",
   "metadata": {},
   "source": []
  },
  {
   "cell_type": "markdown",
   "id": "8c5239f6",
   "metadata": {},
   "source": []
  },
  {
   "cell_type": "markdown",
   "id": "f19ab407",
   "metadata": {},
   "source": []
  },
  {
   "cell_type": "markdown",
   "id": "45f5e880",
   "metadata": {},
   "source": []
  },
  {
   "cell_type": "markdown",
   "id": "ce0bb5aa",
   "metadata": {},
   "source": [
    "\n"
   ]
  },
  {
   "cell_type": "markdown",
   "id": "227552d5",
   "metadata": {},
   "source": []
  },
  {
   "cell_type": "markdown",
   "id": "4c4fba89",
   "metadata": {},
   "source": [
    "\n"
   ]
  },
  {
   "cell_type": "markdown",
   "id": "ac993518",
   "metadata": {},
   "source": [
    "\n"
   ]
  }
 ],
 "metadata": {
  "kernelspec": {
   "display_name": "Python 3 (ipykernel)",
   "language": "python",
   "name": "python3"
  },
  "language_info": {
   "codemirror_mode": {
    "name": "ipython",
    "version": 3
   },
   "file_extension": ".py",
   "mimetype": "text/x-python",
   "name": "python",
   "nbconvert_exporter": "python",
   "pygments_lexer": "ipython3",
   "version": "3.11.4"
  }
 },
 "nbformat": 4,
 "nbformat_minor": 5
}
