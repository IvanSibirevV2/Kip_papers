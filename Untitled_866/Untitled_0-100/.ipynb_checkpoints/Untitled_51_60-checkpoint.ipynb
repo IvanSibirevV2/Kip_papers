{
 "cells": [
  {
   "cell_type": "code",
   "execution_count": 1,
   "id": "69ec714d",
   "metadata": {
    "scrolled": true
   },
   "outputs": [
    {
     "name": "stdout",
     "output_type": "stream",
     "text": [
      "\\Untitled_51_60.ipynb : 0.037628173828125  мегобайт  2024-07-30 09:59:49.313724\n"
     ]
    }
   ],
   "source": [
    "import os;import math;import sys;import datetime;\n",
    "var='\\\\Untitled_51_60.ipynb'\n",
    "print (var,':',os.path.getsize(os.path.abspath(os.curdir)+var)/math.pow(2, 20),' мегобайт ',datetime.datetime.now())"
   ]
  },
  {
   "cell_type": "markdown",
   "id": "cbcf34d8",
   "metadata": {},
   "source": []
  },
  {
   "cell_type": "markdown",
   "id": "4667e700",
   "metadata": {},
   "source": []
  },
  {
   "cell_type": "markdown",
   "id": "0d9a55f1",
   "metadata": {},
   "source": []
  },
  {
   "cell_type": "markdown",
   "id": "0e856bc4",
   "metadata": {},
   "source": []
  },
  {
   "cell_type": "markdown",
   "id": "646a336e",
   "metadata": {},
   "source": []
  },
  {
   "cell_type": "markdown",
   "id": "7e7da133",
   "metadata": {},
   "source": []
  },
  {
   "cell_type": "markdown",
   "id": "4a359b15",
   "metadata": {},
   "source": []
  },
  {
   "cell_type": "markdown",
   "id": "1ca96def",
   "metadata": {},
   "source": []
  },
  {
   "cell_type": "markdown",
   "id": "e0911866",
   "metadata": {},
   "source": []
  },
  {
   "cell_type": "markdown",
   "id": "0f3326e3",
   "metadata": {},
   "source": []
  },
  {
   "cell_type": "markdown",
   "id": "3bbdabed",
   "metadata": {},
   "source": []
  },
  {
   "cell_type": "markdown",
   "id": "045ce50a",
   "metadata": {},
   "source": []
  },
  {
   "cell_type": "markdown",
   "id": "2f853776",
   "metadata": {},
   "source": []
  },
  {
   "cell_type": "markdown",
   "id": "b425ac10",
   "metadata": {},
   "source": []
  },
  {
   "cell_type": "markdown",
   "id": "693af050",
   "metadata": {},
   "source": []
  },
  {
   "cell_type": "markdown",
   "id": "7d7d019d",
   "metadata": {},
   "source": []
  },
  {
   "cell_type": "markdown",
   "id": "264c802f",
   "metadata": {},
   "source": []
  },
  {
   "cell_type": "markdown",
   "id": "b65914df",
   "metadata": {},
   "source": []
  },
  {
   "cell_type": "markdown",
   "id": "6f314f21",
   "metadata": {},
   "source": []
  },
  {
   "cell_type": "markdown",
   "id": "cf0ee7a1",
   "metadata": {},
   "source": []
  },
  {
   "cell_type": "markdown",
   "id": "31f38203",
   "metadata": {},
   "source": []
  },
  {
   "cell_type": "markdown",
   "id": "a802954d",
   "metadata": {},
   "source": []
  },
  {
   "cell_type": "markdown",
   "id": "9002fa99",
   "metadata": {},
   "source": []
  },
  {
   "cell_type": "markdown",
   "id": "563c1425",
   "metadata": {},
   "source": []
  },
  {
   "cell_type": "markdown",
   "id": "1678d0f3",
   "metadata": {},
   "source": []
  },
  {
   "cell_type": "markdown",
   "id": "ea43ecd0",
   "metadata": {},
   "source": []
  },
  {
   "cell_type": "markdown",
   "id": "b0bb04ac",
   "metadata": {},
   "source": []
  }
 ],
 "metadata": {
  "kernelspec": {
   "display_name": "Python 3 (ipykernel)",
   "language": "python",
   "name": "python3"
  },
  "language_info": {
   "codemirror_mode": {
    "name": "ipython",
    "version": 3
   },
   "file_extension": ".py",
   "mimetype": "text/x-python",
   "name": "python",
   "nbconvert_exporter": "python",
   "pygments_lexer": "ipython3",
   "version": "3.11.4"
  }
 },
 "nbformat": 4,
 "nbformat_minor": 5
}
