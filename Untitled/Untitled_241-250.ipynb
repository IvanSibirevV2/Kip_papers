{
 "cells": [
  {
   "cell_type": "code",
   "execution_count": 3,
   "id": "a89d9b66",
   "metadata": {},
   "outputs": [
    {
     "name": "stdout",
     "output_type": "stream",
     "text": [
      "\\Untitled.ipynb : 6.866455078125e-05  мегобайт  2024-06-17 23:59:20.676068\n"
     ]
    }
   ],
   "source": [
    "import os;import math;import sys;import datetime;\n",
    "var='\\\\Untitled.ipynb'\n",
    "print (var,':',os.path.getsize(os.path.abspath(os.curdir)+var)/math.pow(2, 20),' мегобайт ',datetime.datetime.now())\n",
    "#http://localhost:8888/notebooks/Untitled1.ipynb\n",
    "#print(\"http://localhost:8888/notebooks/Untitled1.ipynb\")"
   ]
  },
  {
   "cell_type": "markdown",
   "id": "e1561ea5",
   "metadata": {},
   "source": []
  },
  {
   "cell_type": "markdown",
   "id": "f97593b9",
   "metadata": {},
   "source": []
  },
  {
   "cell_type": "markdown",
   "id": "587bbcbb",
   "metadata": {},
   "source": []
  },
  {
   "cell_type": "markdown",
   "id": "2e7cbb4a",
   "metadata": {},
   "source": []
  },
  {
   "cell_type": "markdown",
   "id": "bd4ec058",
   "metadata": {},
   "source": []
  },
  {
   "cell_type": "markdown",
   "id": "67b71991",
   "metadata": {},
   "source": []
  },
  {
   "cell_type": "markdown",
   "id": "63366fd8",
   "metadata": {},
   "source": []
  },
  {
   "cell_type": "markdown",
   "id": "9a57e2d4",
   "metadata": {},
   "source": []
  },
  {
   "cell_type": "markdown",
   "id": "bbffeb14",
   "metadata": {},
   "source": []
  },
  {
   "cell_type": "markdown",
   "id": "f0e565e9",
   "metadata": {},
   "source": []
  },
  {
   "cell_type": "markdown",
   "id": "30924d71",
   "metadata": {},
   "source": []
  },
  {
   "cell_type": "markdown",
   "id": "1d3e565f",
   "metadata": {},
   "source": []
  },
  {
   "cell_type": "markdown",
   "id": "86483630",
   "metadata": {},
   "source": []
  },
  {
   "cell_type": "markdown",
   "id": "debf8646",
   "metadata": {},
   "source": []
  },
  {
   "cell_type": "markdown",
   "id": "97859e43",
   "metadata": {},
   "source": []
  },
  {
   "cell_type": "markdown",
   "id": "809aec6c",
   "metadata": {},
   "source": []
  },
  {
   "cell_type": "markdown",
   "id": "51032d87",
   "metadata": {},
   "source": []
  },
  {
   "cell_type": "markdown",
   "id": "9b3c53d8",
   "metadata": {},
   "source": []
  },
  {
   "cell_type": "markdown",
   "id": "89ea07b3",
   "metadata": {},
   "source": []
  },
  {
   "cell_type": "markdown",
   "id": "def94c0c",
   "metadata": {},
   "source": []
  },
  {
   "cell_type": "markdown",
   "id": "549fcb00",
   "metadata": {},
   "source": []
  },
  {
   "cell_type": "markdown",
   "id": "64a3fb9c",
   "metadata": {},
   "source": []
  },
  {
   "cell_type": "markdown",
   "id": "1ac0b8c3",
   "metadata": {},
   "source": []
  },
  {
   "cell_type": "markdown",
   "id": "5a4a64c0",
   "metadata": {},
   "source": []
  },
  {
   "cell_type": "markdown",
   "id": "49812eac",
   "metadata": {},
   "source": []
  },
  {
   "cell_type": "markdown",
   "id": "23f7665c",
   "metadata": {},
   "source": []
  },
  {
   "cell_type": "markdown",
   "id": "7a878f43",
   "metadata": {},
   "source": []
  },
  {
   "cell_type": "markdown",
   "id": "f9af4ce2",
   "metadata": {},
   "source": []
  },
  {
   "cell_type": "markdown",
   "id": "227ef1c3",
   "metadata": {},
   "source": []
  },
  {
   "cell_type": "markdown",
   "id": "be241a1a",
   "metadata": {},
   "source": []
  },
  {
   "cell_type": "markdown",
   "id": "2c72876a",
   "metadata": {},
   "source": []
  },
  {
   "cell_type": "markdown",
   "id": "bd71ace9",
   "metadata": {},
   "source": []
  },
  {
   "cell_type": "markdown",
   "id": "789db135",
   "metadata": {},
   "source": []
  },
  {
   "cell_type": "markdown",
   "id": "5210cb20",
   "metadata": {},
   "source": []
  },
  {
   "cell_type": "markdown",
   "id": "b3853baf",
   "metadata": {},
   "source": []
  },
  {
   "cell_type": "markdown",
   "id": "5091332b",
   "metadata": {},
   "source": []
  },
  {
   "cell_type": "markdown",
   "id": "516ed8a1",
   "metadata": {},
   "source": []
  },
  {
   "cell_type": "markdown",
   "id": "63c86f08",
   "metadata": {},
   "source": []
  },
  {
   "cell_type": "markdown",
   "id": "56c7db70",
   "metadata": {},
   "source": []
  },
  {
   "cell_type": "markdown",
   "id": "aa0f7051",
   "metadata": {},
   "source": []
  },
  {
   "cell_type": "markdown",
   "id": "a49ac665",
   "metadata": {},
   "source": []
  },
  {
   "cell_type": "markdown",
   "id": "cdf6400b",
   "metadata": {},
   "source": []
  }
 ],
 "metadata": {
  "kernelspec": {
   "display_name": "Python 3 (ipykernel)",
   "language": "python",
   "name": "python3"
  },
  "language_info": {
   "codemirror_mode": {
    "name": "ipython",
    "version": 3
   },
   "file_extension": ".py",
   "mimetype": "text/x-python",
   "name": "python",
   "nbconvert_exporter": "python",
   "pygments_lexer": "ipython3",
   "version": "3.11.4"
  }
 },
 "nbformat": 4,
 "nbformat_minor": 5
}
